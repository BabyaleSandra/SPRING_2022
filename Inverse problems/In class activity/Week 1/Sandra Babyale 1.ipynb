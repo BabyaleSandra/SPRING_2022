{
 "cells": [
  {
   "cell_type": "markdown",
   "id": "f48b2755",
   "metadata": {},
   "source": [
    "1 (a).\n",
    "\n",
    "$$\\begin{bmatrix} 1&t_1& -\\frac{1}{2}t_1\\\\1&t_2& -\\frac{1}{2}t_2\\\\1&t_3& -\\frac{1}{2}t_3\\end{bmatrix}\\begin{bmatrix} m_1\\\\m_2\\\\m_3\\end{bmatrix}=\\begin{bmatrix} y(t_1)\\\\y(t_2)\\\\y(t_3)\\end{bmatrix}$$"
   ]
  },
  {
   "cell_type": "markdown",
   "id": "ad295ed7",
   "metadata": {},
   "source": [
    " (b).\n",
    "\n",
    "$$\\begin{bmatrix} 1&t_1& -\\frac{1}{2}t_1\\\\1&t_2& -\\frac{1}{2}t_2\\end{bmatrix}\\begin{bmatrix} m_1\\\\m_2\\\\m_3\\end{bmatrix}=\\begin{bmatrix} y(t_1)\\\\y(t_2)\\end{bmatrix}$$"
   ]
  },
  {
   "cell_type": "markdown",
   "id": "fd01df57",
   "metadata": {},
   "source": [
    "2(a)"
   ]
  },
  {
   "cell_type": "code",
   "execution_count": 1,
   "id": "c235a7e3",
   "metadata": {},
   "outputs": [],
   "source": [
    "import numpy as np\n",
    "import matplotlib.pyplot as plt\n",
    "import sympy as sp"
   ]
  },
  {
   "cell_type": "code",
   "execution_count": 2,
   "id": "24ab4641",
   "metadata": {},
   "outputs": [],
   "source": [
    "t=np.linspace(0,3,20)\n",
    "\n",
    "mtrue = np.array([0.18,16.21,9.81])\n",
    "t=np.linspace(0,3,20)\n",
    "G = np.zeros((len(t),len(mtrue)))\n",
    "\n",
    "G[:,0]=1\n",
    "G[:,1]=t\n",
    "G[:,2]=-0.5*t**2\n",
    "#G = sp.Matrix(G)\n",
    "#display(G)"
   ]
  },
  {
   "cell_type": "markdown",
   "id": "45a33653",
   "metadata": {},
   "source": [
    "$$G=\\begin{bmatrix}1.0 & 0 & 0\\\\1.0 & 0.157894736842105 & -0.0124653739612188\\\\1.0 & 0.315789473684211 & -0.0498614958448753\\\\1.0 & 0.473684210526316 & -0.11218836565097\\\\1.0 & 0.631578947368421 & -0.199445983379501\\\\1.0 & 0.789473684210526 & -0.311634349030471\\\\1.0 & 0.947368421052632 & -0.448753462603878\\\\1.0 & 1.10526315789474 & -0.610803324099723\\\\1.0 & 1.26315789473684 & -0.797783933518005\\\\1.0 & 1.42105263157895 & -1.00969529085873\\\\1.0 & 1.57894736842105 & -1.24653739612188\\\\1.0 & 1.73684210526316 & -1.50831024930748\\\\1.0 & 1.89473684210526 & -1.79501385041551\\\\1.0 & 2.05263157894737 & -2.10664819944598\\\\1.0 & 2.21052631578947 & -2.44321329639889\\\\1.0 & 2.36842105263158 & -2.80470914127424\\\\1.0 & 2.52631578947368 & -3.19113573407202\\\\1.0 & 2.68421052631579 & -3.60249307479224\\\\1.0 & 2.84210526315789 & -4.0387811634349\\\\1.0 & 3.0 & -4.5\\end{bmatrix}$$"
   ]
  },
  {
   "cell_type": "code",
   "execution_count": 3,
   "id": "f5694eec",
   "metadata": {},
   "outputs": [],
   "source": [
    "dtrue = G@mtrue\n",
    "#dtrue = sp.Matrix(dtrue)\n",
    "#display(dtrue)"
   ]
  },
  {
   "cell_type": "markdown",
   "id": "ad379b46",
   "metadata": {},
   "source": [
    "$$d_{true}=\\begin{bmatrix}0.18\\\\2.61718836565097\\\\4.80980609418283\\\\6.75785318559557\\\\8.4613296398892\\\\9.92023545706371\\\\11.1345706371191\\\\12.1043351800554\\\\12.8295290858726\\\\13.3101523545706\\\\13.5462049861496\\\\13.5376869806094\\\\13.2845983379501\\\\12.7869390581718\\\\12.0447091412742\\\\11.0579085872576\\\\9.82653739612188\\\\8.35059556786704\\\\6.63008310249307\\\\4.665\\end{bmatrix}$$"
   ]
  },
  {
   "cell_type": "code",
   "execution_count": 4,
   "id": "4ca66ce5",
   "metadata": {},
   "outputs": [],
   "source": [
    "noise= np.random.normal(0, 2, 20)\n",
    "#noise=sp.Matrix(noise)\n",
    "\n",
    "# Noise data\n",
    "d = dtrue+noise\n",
    "#d = sp.Matrix(d)\n",
    "#display(d)\n"
   ]
  },
  {
   "cell_type": "markdown",
   "id": "2cd4f2ac",
   "metadata": {},
   "source": [
    "$$d=\\begin{bmatrix}3.45590085992102\\\\2.0109584334756\\\\5.40809514925689\\\\5.7511346893062\\\\9.31633039429946\\\\8.33121555500415\\\\13.9492900182792\\\\12.6826025016583\\\\13.1386528049876\\\\14.7551474045696\\\\14.2448263705007\\\\13.8389642401034\\\\12.297799803331\\\\10.293324112181\\\\11.3578091920486\\\\8.18636247526145\\\\11.9396240285564\\\\6.87958138509373\\\\7.87236369267527\\\\3.37764191945136\\end{bmatrix}$$"
   ]
  },
  {
   "cell_type": "code",
   "execution_count": 5,
   "id": "e2759a7b",
   "metadata": {},
   "outputs": [
    {
     "data": {
      "image/png": "[encoded data removed]",
      "text/plain": [
       "<Figure size 720x576 with 1 Axes>"
      ]
     },
     "metadata": {
      "needs_background": "light"
     },
     "output_type": "display_data"
    }
   ],
   "source": [
    "plt.figure(figsize = (10,8))\n",
    "plt.scatter(t,dtrue)\n",
    "plt.scatter(t,d)\n",
    "plt.legend(['$d_{true}$','$d$'])\n",
    "plt.title('Plots of $d_{true}$ and noise data against time')\n",
    "plt.xlabel('t')\n",
    "plt.ylabel('$d_{true}$ and $d$')\n",
    "plt.show()"
   ]
  },
  {
   "cell_type": "markdown",
   "id": "fa0ddd09",
   "metadata": {},
   "source": [
    "The noiseless data ($d_{true}$) points form a perfect quadratic curve which is so because the mathematical model is a quadratic function in t. \n",
    "This is not the same case for the noise data (d) as the observations for this case contain random normally distributed noise and the data points tend to diverge from $d_{true}$data points even though they follow the same trend.\n"
   ]
  },
  {
   "cell_type": "markdown",
   "id": "797475b0",
   "metadata": {},
   "source": [
    "2(b)"
   ]
  },
  {
   "cell_type": "code",
   "execution_count": 6,
   "id": "aab2d2c5",
   "metadata": {},
   "outputs": [],
   "source": [
    "m = np.linalg.lstsq(G,d,rcond=None)[0]\n",
    "#m =sp.Matrix(m)\n",
    "#display(m)\n"
   ]
  },
  {
   "cell_type": "markdown",
   "id": "b624ecf1",
   "metadata": {},
   "source": [
    "\n",
    "$$m=\\begin{bmatrix}-0.274818504267758\\\\16.4475512962181\\\\9.74696901138616\\end{bmatrix}$$\n",
    "\n"
   ]
  },
  {
   "cell_type": "code",
   "execution_count": 7,
   "id": "706df031",
   "metadata": {},
   "outputs": [
    {
     "data": {
      "image/png": "[encoded data removed]",
      "text/plain": [
       "<Figure size 720x576 with 1 Axes>"
      ]
     },
     "metadata": {
      "needs_background": "light"
     },
     "output_type": "display_data"
    }
   ],
   "source": [
    "y = G@m\n",
    "ytrue = G@mtrue\n",
    "\n",
    "plt.figure(figsize = (10,8))\n",
    "plt.scatter(t,ytrue)\n",
    "plt.scatter(t,y)\n",
    "plt.legend(['$m_{true}$','m'])\n",
    "plt.title('Plots of y(t) when using m and $m_{true}$')\n",
    "plt.xlabel('t')\n",
    "plt.ylabel('y(t)')\n",
    "plt.show()\n",
    "\n",
    "\n"
   ]
  },
  {
   "cell_type": "markdown",
   "id": "db0ad94b",
   "metadata": {},
   "source": [
    "The two trajectories have a similar shape but the solution for $y(t)$ using m (with noise) doesnot at any observation time fit the solution using $m_{true}$. \n",
    "It is often the case that for a solution $y(t)$ using m that is influenced by even a proportionally very small amount of noise can have little or no correspondence to that y(t) using $m_{true}$.\n",
    "Hence the trajectory using m can never fit that using $m_{true}$.\n",
    "\n"
   ]
  },
  {
   "cell_type": "code",
   "execution_count": null,
   "id": "e91b8096",
   "metadata": {},
   "outputs": [],
   "source": []
  }
 ],
 "metadata": {
  "kernelspec": {
   "display_name": "Python 3 (ipykernel)",
   "language": "python",
   "name": "python3"
  },
  "language_info": {
   "codemirror_mode": {
    "name": "ipython",
    "version": 3
   },
   "file_extension": ".py",
   "mimetype": "text/x-python",
   "name": "python",
   "nbconvert_exporter": "python",
   "pygments_lexer": "ipython3",
   "version": "3.9.7"
  }
 },
 "nbformat": 4,
 "nbformat_minor": 5
}
