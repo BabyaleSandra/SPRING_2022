{
 "cells": [
  {
   "cell_type": "code",
   "execution_count": 1,
   "id": "44492c37",
   "metadata": {},
   "outputs": [],
   "source": [
    "import sympy as sp\n",
    "import numpy as np\n",
    "import matplotlib.pyplot as plt"
   ]
  },
  {
   "cell_type": "code",
   "execution_count": 13,
   "id": "693ce99c",
   "metadata": {},
   "outputs": [
    {
     "data": {
      "text/plain": [
       "array([0.        , 0.15789474, 0.31578947, 0.47368421, 0.63157895,\n",
       "       0.78947368, 0.94736842, 1.10526316, 1.26315789, 1.42105263,\n",
       "       1.57894737, 1.73684211, 1.89473684, 2.05263158, 2.21052632,\n",
       "       2.36842105, 2.52631579, 2.68421053, 2.84210526, 3.        ])"
      ]
     },
     "execution_count": 13,
     "metadata": {},
     "output_type": "execute_result"
    }
   ],
   "source": [
    "t=np.linspace(0,3,20)\n",
    "t"
   ]
  },
  {
   "cell_type": "code",
   "execution_count": 12,
   "id": "c28e1cd6",
   "metadata": {},
   "outputs": [
    {
     "data": {
      "text/plain": [
       "array([[ 1.        ,  0.        , -0.        ],\n",
       "       [ 1.        ,  0.15789474, -0.01246537],\n",
       "       [ 1.        ,  0.31578947, -0.0498615 ],\n",
       "       [ 1.        ,  0.47368421, -0.11218837],\n",
       "       [ 1.        ,  0.63157895, -0.19944598],\n",
       "       [ 1.        ,  0.78947368, -0.31163435],\n",
       "       [ 1.        ,  0.94736842, -0.44875346],\n",
       "       [ 1.        ,  1.10526316, -0.61080332],\n",
       "       [ 1.        ,  1.26315789, -0.79778393],\n",
       "       [ 1.        ,  1.42105263, -1.00969529],\n",
       "       [ 1.        ,  1.57894737, -1.2465374 ],\n",
       "       [ 1.        ,  1.73684211, -1.50831025],\n",
       "       [ 1.        ,  1.89473684, -1.79501385],\n",
       "       [ 1.        ,  2.05263158, -2.1066482 ],\n",
       "       [ 1.        ,  2.21052632, -2.4432133 ],\n",
       "       [ 1.        ,  2.36842105, -2.80470914],\n",
       "       [ 1.        ,  2.52631579, -3.19113573],\n",
       "       [ 1.        ,  2.68421053, -3.60249307],\n",
       "       [ 1.        ,  2.84210526, -4.03878116],\n",
       "       [ 1.        ,  3.        , -4.5       ]])"
      ]
     },
     "execution_count": 12,
     "metadata": {},
     "output_type": "execute_result"
    }
   ],
   "source": [
    "m = np.array([0.18,16.21,9.81])\n",
    "t=np.linspace(0,3,20)\n",
    "G = np.zeros((len(t),len(m)))\n",
    "\n",
    "G[:,0]=1\n",
    "G[:,1]=t\n",
    "G[:,2]=-0.5*t**2\n",
    "G"
   ]
  },
  {
   "cell_type": "code",
   "execution_count": 4,
   "id": "738c04e6",
   "metadata": {},
   "outputs": [
    {
     "data": {
      "text/plain": [
       "array([ 0.18      ,  2.61718837,  4.80980609,  6.75785319,  8.46132964,\n",
       "        9.92023546, 11.13457064, 12.10433518, 12.82952909, 13.31015235,\n",
       "       13.54620499, 13.53768698, 13.28459834, 12.78693906, 12.04470914,\n",
       "       11.05790859,  9.8265374 ,  8.35059557,  6.6300831 ,  4.665     ])"
      ]
     },
     "execution_count": 4,
     "metadata": {},
     "output_type": "execute_result"
    }
   ],
   "source": [
    "dtrue = G@m\n",
    "dtrue"
   ]
  },
  {
   "cell_type": "code",
   "execution_count": 5,
   "id": "84868f50",
   "metadata": {},
   "outputs": [
    {
     "data": {
      "text/plain": [
       "array([-0.41713485,  1.51372859, -2.38679635,  0.42056747,  1.07388378,\n",
       "       -0.69362159, -0.69199289, -1.24378231,  1.60263391,  0.50994915,\n",
       "       -1.55999952,  0.55539649,  2.87014456, -3.71530073,  0.9412383 ,\n",
       "        1.81593592, -0.77993764, -0.7901326 ,  1.63738384,  0.70245221])"
      ]
     },
     "execution_count": 5,
     "metadata": {},
     "output_type": "execute_result"
    }
   ],
   "source": [
    "noise= np.random.normal(0, 2, 20)\n",
    "noise"
   ]
  },
  {
   "cell_type": "code",
   "execution_count": 6,
   "id": "b6a00fcc",
   "metadata": {},
   "outputs": [
    {
     "data": {
      "text/plain": [
       "(20,)"
      ]
     },
     "execution_count": 6,
     "metadata": {},
     "output_type": "execute_result"
    }
   ],
   "source": [
    "d = dtrue+noise\n",
    "d.shape"
   ]
  },
  {
   "cell_type": "code",
   "execution_count": 10,
   "id": "b76b0835",
   "metadata": {},
   "outputs": [
    {
     "data": {
      "image/png": "[encoded data removed]",
      "text/plain": [
       "<Figure size 720x576 with 1 Axes>"
      ]
     },
     "metadata": {
      "needs_background": "light"
     },
     "output_type": "display_data"
    }
   ],
   "source": [
    "plt.figure(figsize = (10,8))\n",
    "plt.scatter(t,dtrue)\n",
    "plt.scatter(t,noise)\n",
    "plt.legend(['dtrue','Noise data'])\n",
    "plt.title('Plots of dtrue and noise data against time')\n",
    "plt.xlabel('t')\n",
    "plt.show()"
   ]
  },
  {
   "cell_type": "code",
   "execution_count": null,
   "id": "994bdf12",
   "metadata": {},
   "outputs": [],
   "source": []
  }
 ],
 "metadata": {
  "kernelspec": {
   "display_name": "Python 3 (ipykernel)",
   "language": "python",
   "name": "python3"
  },
  "language_info": {
   "codemirror_mode": {
    "name": "ipython",
    "version": 3
   },
   "file_extension": ".py",
   "mimetype": "text/x-python",
   "name": "python",
   "nbconvert_exporter": "python",
   "pygments_lexer": "ipython3",
   "version": "3.9.7"
  }
 },
 "nbformat": 4,
 "nbformat_minor": 5
}
