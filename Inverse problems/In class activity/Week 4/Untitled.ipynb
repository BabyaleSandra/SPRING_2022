{
 "cells": [
  {
   "cell_type": "markdown",
   "id": "21ba8554",
   "metadata": {},
   "source": [
    "1."
   ]
  },
  {
   "cell_type": "markdown",
   "id": "226a29a8",
   "metadata": {},
   "source": [
    "$~~~~~~~~$ $\\mathbf{A}= \\begin{pmatrix}1 & 2 & -1\\\\0 & 1 & 0\\\\-1 & 2 & 1\\\\2 & 3 & -2\\end{pmatrix}$"
   ]
  },
  {
   "cell_type": "markdown",
   "id": "2901c113",
   "metadata": {},
   "source": [
    "(a)"
   ]
  },
  {
   "cell_type": "markdown",
   "id": "420f6bcd",
   "metadata": {},
   "source": [
    "$~~~~~~~~$ The reduced row echelon form of matrix $\\textbf{A}$ is given by:\n",
    "$$~~~$$\n",
    "$~~~~~~~~$  $\\begin{pmatrix}1 & 0 & -1\\\\0 & 1 & 0\\\\0 & 0 & 0\\\\0 & 0 & 0\\end{pmatrix}$\n",
    "    "
   ]
  },
  {
   "cell_type": "markdown",
   "id": "21fc2730",
   "metadata": {},
   "source": [
    "(b)"
   ]
  },
  {
   "cell_type": "markdown",
   "id": "6792c027",
   "metadata": {},
   "source": [
    "$~~~~~~~~$ N($\\textbf{A}$) = span $\\bigg\\{\\begin{pmatrix}1\\\\0\\\\1\\end{pmatrix}\\bigg\\}$\n",
    "$$~~~~$$\n",
    "$~~~~~~~~$ $dim N(\\textbf{A})= 1 ~~$ and $~~$ N($\\textbf{A}$)$\\in \\mathbb{R}^3$\n",
    "\n"
   ]
  },
  {
   "cell_type": "markdown",
   "id": "98f4823d",
   "metadata": {},
   "source": [
    "(c)"
   ]
  },
  {
   "cell_type": "markdown",
   "id": "8d306b96",
   "metadata": {},
   "source": [
    "$~~~~~~~~$ R($\\textbf{A}$) = span $\\bigg\\{\\begin{pmatrix}1\\\\0\\\\-1\\\\2\\end{pmatrix},\\begin{pmatrix}2\\\\1\\\\2\\\\3\\end{pmatrix}\\bigg\\}$\n",
    "$$~~~~$$\n",
    "$~~~~~~~~$ $dim R(\\textbf{A}) = 2  ~~$ and $~~$ R($\\textbf{A}$) $\\in \\mathbb{R}^4$"
   ]
  },
  {
   "cell_type": "markdown",
   "id": "7aeca137",
   "metadata": {},
   "source": [
    "(d)"
   ]
  },
  {
   "cell_type": "markdown",
   "id": "841aa850",
   "metadata": {},
   "source": [
    "$~~~~~~~~$ rank($\\textbf{A}$) = 2\n",
    "$$~$$\n",
    "$~~~~~~~~$ Since $m>n$ and $rank(\\textbf{A}) < n$ then there is a rank deffeciency.\n",
    "$$~$$\n",
    "$~~~~~~~~$ Therefore the existence of the solution depends on $\\textbf{b}$ and if there is a solution, it is not unique."
   ]
  },
  {
   "cell_type": "markdown",
   "id": "bdc74364",
   "metadata": {},
   "source": [
    "2."
   ]
  },
  {
   "cell_type": "markdown",
   "id": "c6137a20",
   "metadata": {},
   "source": [
    "(a)"
   ]
  },
  {
   "cell_type": "markdown",
   "id": "8e196b05",
   "metadata": {},
   "source": [
    "$~~~~~~~~$ For any matrix to be symmetric, it should be equal to its transpose.\n",
    "$$~~~$$\n",
    "$~~~~~~~~$ $\\Rightarrow \\textbf{A}^T\\textbf{A} = (\\textbf{A}^T\\textbf{A})^T$\n",
    "$$~~~$$\n",
    "$~~~~~~~~$ Proof:\n",
    "$$~~~$$\n",
    "$~~~~~~~~$ $(\\textbf{A}^T\\textbf{A})^T =  \\textbf{A}^T (\\textbf{A}^T)^T = \\textbf{A}^T\\textbf{A}$\n",
    "\n"
   ]
  },
  {
   "cell_type": "markdown",
   "id": "2c7712b6",
   "metadata": {},
   "source": [
    "(b)"
   ]
  },
  {
   "cell_type": "markdown",
   "id": "5f658556",
   "metadata": {},
   "source": [
    "$~~~~~~~~$ Since \n",
    "$$~~~~$$\n",
    "$~~~~~~~~$ $\\textbf{y} = \\begin{pmatrix}a_1\\\\a_2\\\\.\\\\.\\\\.\\\\a_m\\end{pmatrix} \\in \\mathbb{R}^{m\\times1}~~~~~~\\Rightarrow~~~\\textbf{y}^T = \\begin{pmatrix}a_1&a_2&.&.&.&a_m\\end{pmatrix}\\in \\mathbb{R}^{1\\times m}$\n",
    "$$~~~~~$$\n",
    "$~~~~~~~~$ $\\Rightarrow~~~\\textbf{y}^T\\textbf{y} = a_1^2+a_2^2+...+a_m^2 \\in \\mathbb{R}$\n",
    "$$~~~~~~$$\n",
    "$~~~~~~~~$ $\\therefore$ dimension of $\\textbf{y}^T\\textbf{y}$ = 1\n",
    "$$~~~~$$\n",
    "$~~~~~~~~$ $~~\\textbf{y}^T\\textbf{y}=\\sum_{i=1}^{m} a_i^2$"
   ]
  },
  {
   "cell_type": "markdown",
   "id": "02b9ae07",
   "metadata": {},
   "source": [
    "(c)"
   ]
  },
  {
   "cell_type": "code",
   "execution_count": null,
   "id": "aff31ce6",
   "metadata": {},
   "outputs": [],
   "source": [
    " We have that:\n",
    "$$~~~~~$$ \n",
    "$\\textbf{x}^T(\\textbf{A}^T\\textbf{A})\\textbf{x} = (\\textbf{A}\\textbf{x})^T\\textbf{A}\\textbf{x}$\n",
    "$$~~~~~$$\n",
    "$\\Rightarrow ~~\\textbf{x}^T(\\textbf{A}^T\\textbf{A})\\textbf{x} = \\sum_{i=1}^{m} (Ax)_i^2$ \n",
    "$$~~~~~$$\n",
    "Since $(Ax)_i^2$ for $i =1,...,m$ will always be greater or equal to zero, then $\\sum_{i=1}^{m} (Ax)_{i}^{2} \\geq 0$\n",
    "$$~~~~~$$\n",
    "$\\therefore \\textbf{x}^T(\\textbf{A}^T\\textbf{A})\\textbf{x} \\geq 0$\n",
    "    "
   ]
  },
  {
   "cell_type": "code",
   "execution_count": null,
   "id": "cbbd7ec1",
   "metadata": {},
   "outputs": [],
   "source": [
    "(d)"
   ]
  },
  {
   "cell_type": "code",
   "execution_count": null,
   "id": "ad3cbde1",
   "metadata": {},
   "outputs": [],
   "source": [
    "#= \\sum_{i=1}^{m} (Ax)_{i}^{2}\\geq 0 \n",
    "#= $\\sum_{i=1}^{m} (Ax)_{i}^{2} > 0$"
   ]
  }
 ],
 "metadata": {
  "kernelspec": {
   "display_name": "Python 3 (ipykernel)",
   "language": "python",
   "name": "python3"
  },
  "language_info": {
   "codemirror_mode": {
    "name": "ipython",
    "version": 3
   },
   "file_extension": ".py",
   "mimetype": "text/x-python",
   "name": "python",
   "nbconvert_exporter": "python",
   "pygments_lexer": "ipython3",
   "version": "3.9.7"
  }
 },
 "nbformat": 4,
 "nbformat_minor": 5
}
