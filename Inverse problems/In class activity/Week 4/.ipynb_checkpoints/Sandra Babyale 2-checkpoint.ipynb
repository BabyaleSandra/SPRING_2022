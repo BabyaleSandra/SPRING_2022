{
 "cells": [
  {
   "cell_type": "markdown",
   "id": "9c977ad5",
   "metadata": {},
   "source": [
    "1."
   ]
  },
  {
   "cell_type": "markdown",
   "id": "c6616a87",
   "metadata": {},
   "source": [
    "$~~~~~~$$\\textbf{A}= \\begin{pmatrix}1 & 2 & -1\\\\0 & 1 & 0\\\\-1 & 2 & 1\\\\2 & 3 & -2\\end{pmatrix}$"
   ]
  },
  {
   "cell_type": "markdown",
   "id": "a1db33f5",
   "metadata": {},
   "source": [
    "(a)"
   ]
  },
  {
   "cell_type": "markdown",
   "id": "8b6bfae0",
   "metadata": {},
   "source": [
    "$~~~~~~$ The reduced row echelon form of matrix $\\textbf{A}$ is given by:\n",
    "$$~~~$$\n",
    "$~~~~~~$$\\begin{pmatrix}1 & 0 & -1\\\\0 & 1 & 0\\\\0 & 0 & 0\\\\0 & 0 & 0\\end{pmatrix}$\n",
    "    "
   ]
  },
  {
   "cell_type": "markdown",
   "id": "f57b4cc4",
   "metadata": {},
   "source": [
    "(b)"
   ]
  },
  {
   "cell_type": "markdown",
   "id": "27df7161",
   "metadata": {},
   "source": [
    "$~~~~~~$ N($\\textbf{A}$) = span $\\bigg\\{\\begin{pmatrix}1\\\\0\\\\1\\end{pmatrix}\\bigg\\}$\n",
    "$$~~~~$$\n",
    "$~~~~~~$dim N($\\textbf{A}$)= 1 $~~$ and $~~$ N($\\textbf{A}$)$\\in \\mathbb{R}^3$\n"
   ]
  },
  {
   "cell_type": "markdown",
   "id": "c536897b",
   "metadata": {},
   "source": [
    "(c)"
   ]
  },
  {
   "cell_type": "markdown",
   "id": "1803e6d5",
   "metadata": {},
   "source": [
    "$~~~~~~$R($\\textbf{A}$) = span $\\bigg\\{\\begin{pmatrix}1\\\\0\\\\-1\\\\2\\end{pmatrix},\\begin{pmatrix}2\\\\1\\\\2\\\\3\\end{pmatrix}\\bigg\\}$\n",
    "$$~~~~$$\n",
    "$~~~~~~$dim R($\\textbf{A}$) = 2  $~~$ and $~~$ R($\\textbf{A}$) $\\in \\mathbb{R}^4$"
   ]
  },
  {
   "cell_type": "markdown",
   "id": "1b5a9068",
   "metadata": {},
   "source": [
    "(d)"
   ]
  },
  {
   "cell_type": "markdown",
   "id": "f8b2472a",
   "metadata": {},
   "source": [
    "$~~~~~~$ rank($\\textbf{A}$) = 2"
   ]
  },
  {
   "cell_type": "markdown",
   "id": "1c192718",
   "metadata": {},
   "source": [
    "$$~~~~$$"
   ]
  },
  {
   "cell_type": "markdown",
   "id": "fcef349c",
   "metadata": {},
   "source": [
    "2."
   ]
  },
  {
   "cell_type": "markdown",
   "id": "ed98eb72",
   "metadata": {},
   "source": [
    "(a)"
   ]
  },
  {
   "cell_type": "markdown",
   "id": "b1a2e45c",
   "metadata": {},
   "source": [
    "$~~~~~~$For any matrix to be symmetric, it should be equal to its transpose.\n",
    "$$~~~$$\n",
    "$~~~~~~$$\\Rightarrow \\textbf{A}^T\\textbf{A} = (\\textbf{A}^T\\textbf{A})^T$\n",
    "\n",
    "$~~~~~~$ Proof:\n",
    "$$~~~$$\n",
    "$~~~~~~$ $(\\textbf{A}^T\\textbf{A})^T =  \\textbf{A}^T (\\textbf{A}^T)^T = \\textbf{A}^T\\textbf{A}$\n"
   ]
  },
  {
   "cell_type": "markdown",
   "id": "7f0b980f",
   "metadata": {},
   "source": [
    "(b)"
   ]
  },
  {
   "cell_type": "markdown",
   "id": "1e206c62",
   "metadata": {},
   "source": [
    "$~~~~~~$Since \n",
    "$$~~~~$$\n",
    "$~~~~~~$$\\textbf{y} = \\begin{pmatrix}a_1\\\\a_2\\\\.\\\\.\\\\.\\\\a_m\\end{pmatrix} \\in \\mathbb{R}^{m\\times1}~~~~~~\\Rightarrow~~~\\textbf{y}^T = \\begin{pmatrix}a_1&a_2&.&.&.&a_m\\end{pmatrix}\\in \\mathbb{R}^{1\\times m}$\n",
    "$$~~~~~$$\n",
    "$~~~~~~$$\\Rightarrow~~~\\textbf{y}^T\\textbf{y} = a_1^2+a_2^2+...+a_m^2 \\in \\mathbb{R}$\n",
    "$$~~~~~~$$\n",
    "$~~~~~~$$\\therefore$ dimension of $\\textbf{y}^T\\textbf{y}$ = 1\n",
    "$$~~~~$$\n",
    "$~~~~~~$$~~~~\\textbf{y}^T\\textbf{y}=\\sum_{i=1}^{m} a_i^2$"
   ]
  },
  {
   "cell_type": "markdown",
   "id": "439326ed",
   "metadata": {},
   "source": [
    "(c)"
   ]
  },
  {
   "cell_type": "markdown",
   "id": "ba054b14",
   "metadata": {},
   "source": [
    "$~~~~~~$$\\textbf{x}^T(\\textbf{A}^T\\textbf{A})\\textbf{x} = (\\textbf{A}\\textbf{x})^T(\\textbf{A}\\textbf{x})$\n",
    "$$~~~~~$$\n",
    "$~~~~~~$$\\Rightarrow \\textbf{A}\\textbf{x}= \\textbf{y}$"
   ]
  },
  {
   "cell_type": "markdown",
   "id": "362d2344",
   "metadata": {},
   "source": [
    "(d)"
   ]
  },
  {
   "cell_type": "markdown",
   "id": "c2c7aea6",
   "metadata": {},
   "source": [
    "$~~~~~~$We have that:\n",
    "$$~~~~~$$ \n",
    "$~~~~~~$$\\textbf{x}^T(\\textbf{A}^T\\textbf{A})\\textbf{x} = (\\textbf{A}\\textbf{x})^T(\\textbf{A}\\textbf{x}) = \\sum_{i=1}^{m} (Ax)_i^2 $\n",
    "$$~~~~~$$\n",
    "$~~~~~~$Since $(Ax)_i^2$ for i =1,...,m will always be greater or equal to zero, then $\\sum_{i=1}^{m} (Ax)_i^2 \\geq 0$\n",
    "$$~~~~~$$\n",
    "$~~~~~~$$\\therefore \\textbf{x}^T(\\textbf{A}^T\\textbf{A})\\textbf{x} \\geq 0$\n",
    "    "
   ]
  },
  {
   "cell_type": "markdown",
   "id": "861dc43e",
   "metadata": {},
   "source": [
    "(e)"
   ]
  },
  {
   "cell_type": "markdown",
   "id": "1aeefce8",
   "metadata": {},
   "source": [
    "(i)"
   ]
  },
  {
   "cell_type": "markdown",
   "id": "d21e6f6c",
   "metadata": {},
   "source": [
    "$$~~~~~$$\n",
    "$~~~~~~$ Given that the $rank(\\textbf{A})=n$,\n",
    "$$~~~~~$$\n",
    "$~~~~~~$$\\Rightarrow dim R(\\textbf{A})=n$\n",
    "$$~~~~~$$\n",
    "$~~~~~$using the rank- nullity theorem we have that;\n",
    "$$~~~~~$$\n",
    "$~~~~~~$$rank(\\textbf(A)) + dim N(\\textbf{A})=n$\n",
    "$$~~~~~$$\n",
    "$~~~~~~$$\\Rightarrow dim N(\\textbf{A})=0$"
   ]
  },
  {
   "cell_type": "markdown",
   "id": "392d30d8",
   "metadata": {},
   "source": [
    "(ii)"
   ]
  },
  {
   "cell_type": "code",
   "execution_count": null,
   "id": "a966856e",
   "metadata": {},
   "outputs": [],
   "source": [
    "No, we cannot find a nonzero vector such that $\\textbf{Ax}=0$ because "
   ]
  },
  {
   "cell_type": "code",
   "execution_count": null,
   "id": "8a27c689",
   "metadata": {},
   "outputs": [],
   "source": []
  }
 ],
 "metadata": {
  "kernelspec": {
   "display_name": "Python 3 (ipykernel)",
   "language": "python",
   "name": "python3"
  },
  "language_info": {
   "codemirror_mode": {
    "name": "ipython",
    "version": 3
   },
   "file_extension": ".py",
   "mimetype": "text/x-python",
   "name": "python",
   "nbconvert_exporter": "python",
   "pygments_lexer": "ipython3",
   "version": "3.9.7"
  }
 },
 "nbformat": 4,
 "nbformat_minor": 5
}
