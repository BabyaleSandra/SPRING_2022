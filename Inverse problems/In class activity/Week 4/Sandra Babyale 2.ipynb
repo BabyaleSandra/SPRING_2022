{
 "cells": [
  {
   "cell_type": "markdown",
   "id": "4e7b7bac",
   "metadata": {},
   "source": [
    "1."
   ]
  },
  {
   "cell_type": "markdown",
   "id": "4dad5f8e",
   "metadata": {},
   "source": [
    "$~~~~~~~~$ $\\mathbf{A}= \\begin{pmatrix}1 & 2 & -1\\\\0 & 1 & 0\\\\-1 & 2 & 1\\\\2 & 3 & -2\\end{pmatrix}$"
   ]
  },
  {
   "cell_type": "markdown",
   "id": "1e96a281",
   "metadata": {},
   "source": [
    "(a)"
   ]
  },
  {
   "cell_type": "markdown",
   "id": "ce88b6ee",
   "metadata": {},
   "source": [
    "$~~~~~~~~$ The reduced row echelon form of matrix $\\textbf{A}$ is given by:\n",
    "$$~~~$$\n",
    "$~~~~~~~~$ $\\begin{pmatrix}1 & 0 & -1\\\\0 & 1 & 0\\\\0 & 0 & 0\\\\0 & 0 & 0\\end{pmatrix}$\n",
    "    "
   ]
  },
  {
   "cell_type": "markdown",
   "id": "9321b9ab",
   "metadata": {},
   "source": [
    "(b)"
   ]
  },
  {
   "cell_type": "markdown",
   "id": "be18c28a",
   "metadata": {},
   "source": [
    "$~~~~~~~~$ N($\\textbf{A}$) = span $\\bigg\\{\\begin{pmatrix}1\\\\0\\\\1\\end{pmatrix}\\bigg\\}$\n",
    "$$~~~~$$\n",
    "$~~~~~~~~$ $dim N(\\textbf{A})= 1 ~~$ and $~~$ N($\\textbf{A}$)$\\in \\mathbb{R}^3$\n"
   ]
  },
  {
   "cell_type": "markdown",
   "id": "7941dcc2",
   "metadata": {},
   "source": [
    "(c)"
   ]
  },
  {
   "cell_type": "markdown",
   "id": "fdc75ca2",
   "metadata": {},
   "source": [
    "$~~~~~~~~$ R($\\textbf{A}$) = span $\\bigg\\{\\begin{pmatrix}1\\\\0\\\\-1\\\\2\\end{pmatrix},\\begin{pmatrix}2\\\\1\\\\2\\\\3\\end{pmatrix}\\bigg\\}$\n",
    "$$~~~~$$\n",
    "$~~~~~~~~$ $dim R(\\textbf{A}) = 2  ~~$ and $~~$ R($\\textbf{A}$) $\\in \\mathbb{R}^4$"
   ]
  },
  {
   "cell_type": "markdown",
   "id": "7b3f51f3",
   "metadata": {},
   "source": [
    "(d)"
   ]
  },
  {
   "cell_type": "markdown",
   "id": "1d559d6b",
   "metadata": {},
   "source": [
    "$~~~~~~~~$ rank($\\textbf{A}$) = 2\n",
    "$$~$$\n",
    "$~~~~~~~~$ Since $m>n$ and $rank(\\textbf{A}) < n$ then there is a rank deffeciency.\n",
    "$~~~~~~~~$ Therefore the existence of the solution depends on $\\textbf{b}$ and if there is a solution, it is not unique."
   ]
  },
  {
   "cell_type": "markdown",
   "id": "6717afed",
   "metadata": {},
   "source": [
    "2."
   ]
  },
  {
   "cell_type": "markdown",
   "id": "cbd72907",
   "metadata": {},
   "source": [
    "(a)"
   ]
  },
  {
   "cell_type": "markdown",
   "id": "ec795949",
   "metadata": {},
   "source": [
    "$~~~~~~~~$ For any matrix to be symmetric, it should be equal to its transpose.\n",
    "$$~~~$$\n",
    "$~~~~~~~~$ $\\Rightarrow \\textbf{A}^T\\textbf{A} = (\\textbf{A}^T\\textbf{A})^T$\n",
    "$$~~~$$\n",
    "$~~~~~~~~$ Proof:\n",
    "$$~~~$$\n",
    "$(\\textbf{A}^T\\textbf{A})^T =  \\textbf{A}^T (\\textbf{A}^T)^T = \\textbf{A}^T\\textbf{A}$\n",
    "$~~~~~~~~$ "
   ]
  },
  {
   "cell_type": "markdown",
   "id": "098f0a72",
   "metadata": {},
   "source": [
    "(b)"
   ]
  },
  {
   "cell_type": "markdown",
   "id": "dae2c587",
   "metadata": {},
   "source": [
    "$~~~~~~~~$ Since \n",
    "$$~~~~$$\n",
    "$~~~~~~~~$ $\\textbf{y} = \\begin{pmatrix}a_1\\\\a_2\\\\.\\\\.\\\\.\\\\a_m\\end{pmatrix} \\in \\mathbb{R}^{m\\times1}~~~~~~\\Rightarrow~~~\\textbf{y}^T = \\begin{pmatrix}a_1&a_2&.&.&.&a_m\\end{pmatrix}\\in \\mathbb{R}^{1\\times m}$\n",
    "$$~~~~~$$\n",
    "$~~~~~~~~$ $\\Rightarrow~~~\\textbf{y}^T\\textbf{y} = a_1^2+a_2^2+...+a_m^2 \\in \\mathbb{R}$\n",
    "$$~~~~~~$$\n",
    "$~~~~~~~~$ $\\therefore$ dimension of $\\textbf{y}^T\\textbf{y}$ = 1\n",
    "$$~~~~$$\n",
    "$~~~~~~~~$ $~~\\textbf{y}^T\\textbf{y}=\\sum_{i=1}^{m} a_i^2$"
   ]
  },
  {
   "cell_type": "markdown",
   "id": "d906e53a",
   "metadata": {},
   "source": [
    "(c)"
   ]
  },
  {
   "cell_type": "markdown",
   "id": "e83ae76f",
   "metadata": {},
   "source": [
    "$~~~~~~~~$ $\\textbf{x}^T(\\textbf{A}^T\\textbf{A})\\textbf{x} = (\\textbf{A}\\textbf{x})^T(\\textbf{A}\\textbf{x})$\n",
    "$$~~~~~$$\n",
    "$~~~~~~~~$ $\\Rightarrow \\textbf{A}\\textbf{x}= \\textbf{y}$"
   ]
  },
  {
   "cell_type": "markdown",
   "id": "f352f272",
   "metadata": {},
   "source": [
    "(d)"
   ]
  },
  {
   "cell_type": "markdown",
   "id": "f97ebf5c",
   "metadata": {},
   "source": [
    "$~~~~~~~~$ We have that:\n",
    "$$~~~~~$$ \n",
    "$~~~~~~~~$ $\\textbf{x}^T(\\textbf{A}^T\\textbf{A})\\textbf{x} = (\\textbf{A}\\textbf{x})^T\\textbf{A}\\textbf{x}$\n",
    "$$~~~~~$$\n",
    "$~~~~~~~~$ $\\Rightarrow ~~\\textbf{x}^T(\\textbf{A}^T\\textbf{A})\\textbf{x} = \\sum_{i=1}^{m} (Ax)_i^2$ \n",
    "$$~~~~~$$\n",
    "$~~~~~~~~$ Since $(Ax)_i^2$ for $i =1,...,m$ will always be greater or equal to zero, then $\\sum_{i=1}^{m} (Ax)_{i}^{2} \\geq 0$\n",
    "$$~~~~~$$\n",
    "$~~~~~~~~$ $\\therefore \\textbf{x}^T(\\textbf{A}^T\\textbf{A})\\textbf{x} \\geq 0$\n",
    "    "
   ]
  },
  {
   "cell_type": "markdown",
   "id": "b1b90781",
   "metadata": {},
   "source": [
    "(e)"
   ]
  },
  {
   "cell_type": "markdown",
   "id": "a508c410",
   "metadata": {},
   "source": [
    "(i)"
   ]
  },
  {
   "cell_type": "markdown",
   "id": "7e4f91af",
   "metadata": {},
   "source": [
    "$~~~~~~~~$ Given that the $rank(\\textbf{A})=n$,\n",
    "$$~~~~~$$\n",
    "$~~~~~~~~$ $\\Rightarrow dim R(\\textbf{A})=n$\n",
    "$$~~~~~$$\n",
    "$~~~~~~~~$ using the rank- nullity theorem we have that;\n",
    "$$~~~~~$$\n",
    "$~~~~~~~~$ $rank(\\textbf A) + dim N(\\textbf{A})=n$\n",
    "$$~~~~~$$\n",
    "$~~~~~~~~$ $\\Rightarrow dim N(\\textbf{A})=0$"
   ]
  },
  {
   "cell_type": "markdown",
   "id": "935e72da",
   "metadata": {},
   "source": [
    "(ii)"
   ]
  },
  {
   "cell_type": "markdown",
   "id": "57c2d812",
   "metadata": {},
   "source": [
    "$~~~~~~~~$ No, we cannot find a nonzero vector such that $\\textbf{Ax}=\\mathbf 0$ because the dimension of the null space is zero meaning that there is no vector in the basis of the null space that satisfies that equation. "
   ]
  },
  {
   "cell_type": "markdown",
   "id": "96dce064",
   "metadata": {},
   "source": [
    "(iii)"
   ]
  },
  {
   "cell_type": "markdown",
   "id": "5c129bfb",
   "metadata": {},
   "source": [
    "$~~~~~~~~$ From (ii) above we see that no nonzero vector can satisify $\\mathbf {Ax} = \\mathbf 0$\n",
    "$$~~~~$$\n",
    "$~~~~~~~~$ Therefore if $\\mathbf x\\neq 0$, then $(\\mathbf {Ax})_i^2 \\neq 0$ for $i=1,2,...,m$ and therefore $\\sum_{i=1}^{m} (Ax)_i^2 \\neq 0$"
   ]
  },
  {
   "cell_type": "markdown",
   "id": "79a5b205",
   "metadata": {},
   "source": [
    "(iv)"
   ]
  },
  {
   "cell_type": "markdown",
   "id": "260f05f7",
   "metadata": {},
   "source": [
    "$~~~~~~~~$ From 2(d), we see that;\n",
    "$$~~~~~$$ \n",
    "$~~~~~~~~$ $\\textbf{x}^T(\\textbf{A}^T\\textbf{A})\\textbf{x} \\geq 0$\n",
    "$$~~~~~$$\n",
    "$~~~~~~~~$ and from 2(e)(iii) for full rank that is $dim N(\\textbf A) = 0$, we see that;\n",
    "$$~~$$\n",
    "$~~~~~~~~$ $\\sum_{i=1}^{m} (Ax)_{i}^{2}\\neq 0$ if $\\mathbf x \\neq 0$  \n",
    "$$~~$$\n",
    "$~~~~~~~~$ Therefore for $rank(\\mathbf A) = n$,\n",
    "$$~~$$\n",
    "$~~~~~~~~$ $\\textbf{x}^T(\\textbf{A}^T\\textbf{A})\\textbf{x}$ = $\\sum_{i=1}^{m} (Ax)_i^2 > 0$ if $\\mathbf x \\neq 0$\n",
    "$$~~$$\n",
    "$~~~~~~~~$ meaning that $\\mathbf {A}^T\\mathbf {A}$ is positive definite and non singular."
   ]
  },
  {
   "cell_type": "code",
   "execution_count": null,
   "id": "61438ef4",
   "metadata": {},
   "outputs": [],
   "source": []
  }
 ],
 "metadata": {
  "kernelspec": {
   "display_name": "Python 3 (ipykernel)",
   "language": "python",
   "name": "python3"
  },
  "language_info": {
   "codemirror_mode": {
    "name": "ipython",
    "version": 3
   },
   "file_extension": ".py",
   "mimetype": "text/x-python",
   "name": "python",
   "nbconvert_exporter": "python",
   "pygments_lexer": "ipython3",
   "version": "3.9.7"
  }
 },
 "nbformat": 4,
 "nbformat_minor": 5
}
