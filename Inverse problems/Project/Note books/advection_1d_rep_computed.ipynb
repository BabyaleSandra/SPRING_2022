{
 "cells": [
  {
   "cell_type": "markdown",
   "metadata": {},
   "source": [
    "<hr style=\"border-width:4px; border-style:solid; border-color:coral\"/>\n",
    "\n",
    "# Data Assimilation using the  representer method\n",
    "<hr style=\"border-width:4px; border-style:solid; border-color:coral\"/>\n",
    "\n",
    "\n",
    "The notebook solves the scalar advection equation, given by the partial differential equation\n",
    "\n",
    "\\begin{equation}\n",
    "q_t + u q_x = 0\n",
    "\\end{equation}\n",
    "\n",
    "where $u$ is a prescribed velocity field.  This equation models, for example, the transport of a tracer field in a background flow.  \n",
    "\n",
    "We solve this problem in the periodic domain $x \\in [0,1]$ over the time interval $t \\in [0,T_{final}]$.  We set the velocity field to $u=1$. \n",
    "\n",
    "Observed data values are assimilated into the calculation to improve the model to more accurately predict the observed values.\n",
    "\n",
    "In this notebook, we use exact solutions for the representers, so don't require any numerical integration.  "
   ]
  },
  {
   "cell_type": "code",
   "execution_count": 1,
   "metadata": {},
   "outputs": [
    {
     "name": "stdout",
     "output_type": "stream",
     "text": [
      "Using matplotlib backend: nbAgg\n",
      "%pylab is deprecated, use %matplotlib inline and import the required libraries.\n",
      "Populating the interactive namespace from numpy and matplotlib\n"
     ]
    }
   ],
   "source": [
    "%matplotlib notebook\n",
    "%pylab"
   ]
  },
  {
   "cell_type": "code",
   "execution_count": 2,
   "metadata": {},
   "outputs": [],
   "source": [
    "%reload_ext autoreload\n",
    "%autoreload 2"
   ]
  },
  {
   "cell_type": "markdown",
   "metadata": {},
   "source": [
    "<hr style=\"border-width:4px; border-style:solid; border-color:coral\"/>\n",
    "\n",
    "## Problem parameters"
   ]
  },
  {
   "cell_type": "code",
   "execution_count": 3,
   "metadata": {},
   "outputs": [],
   "source": [
    "# Domain [ax,bx]\n",
    "ax = 0\n",
    "bx = 1\n",
    "\n",
    "# Velocity (constant in this example)\n",
    "u = 1\n",
    "\n",
    "# Final time\n",
    "T_final = 1.0\n",
    "\n",
    "# Boundary conditions\n",
    "\n",
    "bc_choice = 'perodic'    # 'periodic', 'dirichlet', 'noflux'\n",
    "\n",
    "# Concentration profile used for initial conditions and exact solution.\n",
    "def concentration(x):\n",
    "    r = abs(x-0.25)\n",
    "    r0 = 0.25\n",
    "    return where(r < r0,exp(-160*r**2),0)\n",
    "\n",
    "# boundary conditions options \n",
    "# Boundary condition routines should pad q with two values on the left and two on the \n",
    "# right.   Values to use depend on type of boundary condition.\n",
    "\n",
    "\n",
    "def bc_zerobc(q):\n",
    "    q_ext = concatenate(([0,0], q,[0,0]))\n",
    "    return q_ext\n",
    "\n",
    "\n",
    "def bc_periodic(q):\n",
    "    q_ext = concatenate((q[-2:], q,q[:2]))\n",
    "    return q_ext\n",
    "\n",
    "\n",
    "def bc_dirichlet(q):\n",
    "    # Include two extra layers of cells on either side of q.  \n",
    "    # Example : If q is (mx) x (1), then q_ext should be (mx+4) x 1\n",
    "    \n",
    "    if (u > 0):\n",
    "        # Nothing comes in from the left;  allow flow out at the right\n",
    "        q_ext = concatenate(([0,0], q,[q[-1]]*2))\n",
    "    else:\n",
    "        # Nothing comes in from the right;  allow flow out at the left\n",
    "        q_ext = concatenate(([q[0]]*2, q,[0,0]))\n",
    "    return q_ext\n",
    "\n",
    "def bc_noflux(q):\n",
    "    if (u > 0):\n",
    "        # Match value at left and right\n",
    "        q_ext = concatenate(([q[0]]*2, q,[q[-1]]*2))\n",
    "    else:\n",
    "        # Match value at left and right\n",
    "        q_ext = concatenate(([q[0]]*2, q,[q[-1]]*2))\n",
    "    return q_ext"
   ]
  },
  {
   "cell_type": "markdown",
   "metadata": {},
   "source": [
    "### Numerical parameters\n",
    "\n",
    "User defined parameters needed for numerical evaluation. "
   ]
  },
  {
   "cell_type": "code",
   "execution_count": 4,
   "metadata": {},
   "outputs": [],
   "source": [
    "# Number of grid points on cell centered mesh\n",
    "mx = 256\n",
    "\n",
    "# CFL number, 0 < CFL < 1.  Closer to 1 is better.\n",
    "CFL = 0.9"
   ]
  },
  {
   "cell_type": "markdown",
   "metadata": {},
   "source": [
    "### Weights for the model, initial conditions and boundary conditions\n",
    "The functions defined below depend on the values, and other values, so everything is kept in the same cell. "
   ]
  },
  {
   "cell_type": "code",
   "execution_count": 5,
   "metadata": {},
   "outputs": [],
   "source": [
    "from wpa import *\n",
    "\n",
    "# weights for the model and so on.\n",
    "Cf = 0.01     # Model weights\n",
    "Ci =100.0  # Initial conditions\n",
    "Cb = 1       # Not yet used\n",
    "\n",
    "# Sharpness of the delta function (1e-3 = not very sharp; 1e-5 = sharp)\n",
    "eps = 1e-3\n",
    "\n",
    "# User specificed limiter : 'MC','superbee','vanleer','minmod'\n",
    "# Use None for no limiting\n",
    "limiter_choice = 'MC'\n",
    "\n",
    "if bc_choice == 'periodic':\n",
    "    bc_func = bc_periodic\n",
    "elif bc_choice == 'dirichlet':\n",
    "    bc_func = bc_dirichlet\n",
    "elif bc_choice == 'noflux':\n",
    "    bc_func = bc_noflux\n",
    "elif bc_choice == 'zerobc':\n",
    "    bc_func = bc_zerobc\n",
    "# Initial condition for unforced solution u_F\n",
    "def initial_condition(x):\n",
    "    return concentration(x)\n",
    "\n",
    "# Exact solution to unforced problem.\n",
    "def qexact(x,t):\n",
    "    return concentration(x-u*t)\n",
    "\n",
    "\n",
    "def delta(x):\n",
    "    return exp(-x**2/(4*eps))/sqrt(4*pi*eps)\n",
    "\n",
    "# Use Duhamel's Principle to compute the solution to the adjoint alpha_m and \n",
    "# representer r_m\n",
    "def adjoint_exact(x,t,xm,tm):\n",
    "    return where(t < tm,delta(x-xm - u*(t-tm)),0)  # Sub in x-xm, t - tm\n",
    "\n",
    "def representer_exact(x,t,xm,tm):\n",
    "    a0 = adjoint_exact(x-u*t,0,xm,tm)  # Initial condition\n",
    "    return Ci*a0 + Cf*delta(x-xm-u*(t-tm))*where(t < tm, t,tm)\n",
    "\n",
    "def Q_forcing():\n",
    "    q0 = initial_condition(xc)\n",
    "    \n",
    "    mx = len(xc)\n",
    "    M = len(tv) - 1\n",
    "    \n",
    "    F = zeros((mx,M+1))\n",
    "    Q = evolve_q(mx,ax,bx,dt,dx,q0, F, bc_func, tv, lim_choice=limiter_choice, uvel=u)\n",
    "    return Q\n",
    "    \n",
    "# Return matrix\n",
    "def adjoint(xm,tm):\n",
    "\n",
    "    # Initial conditions = 0   \n",
    "    mx = len(xc)\n",
    "    M = len(tv) - 1\n",
    "\n",
    "    q0 = zeros(xc.shape)\n",
    "    \n",
    "    # Forcing term\n",
    "    F = zeros((mx,M+1))\n",
    "    for n in range(0,M+1):\n",
    "        tau = tv[n]\n",
    "        F[:,n] = delta(xc-xm)*delta(T_final-tm-tau)\n",
    "\n",
    "    # Get alpha_tilde(x,tau) = alpha(x,T-final-t)\n",
    "    Q = evolve_q(mx,ax,bx,dt,dx, q0, F, bc_func, tv, lim_choice=limiter_choice,uvel = -u)\n",
    "    \n",
    "    adjoint = zeros((mx,M+1))\n",
    "    for n in range(0,M+1):\n",
    "        adjoint[:,n] = Q[:,M-n]\n",
    "            \n",
    "    return adjoint\n",
    "\n",
    "def representer(xm,tm):\n",
    "    \n",
    "    alpha = adjoint(xm,tm)\n",
    "    \n",
    "    M = len(tv) -1\n",
    "    mx = len(xc)\n",
    "    \n",
    "    F = zeros((mx,M+1))\n",
    "    for n in range(0,M+1):\n",
    "        t = tv[n]\n",
    "        F[:,n] = Cf*where(t <= tm, alpha[:,n],0)\n",
    "    \n",
    "    q0 = Ci*alpha[:,0]\n",
    "    Rm = evolve_q(mx,ax,bx,dt,dx,q0,F,bc_func, tv,lim_choice=limiter_choice,uvel=u)\n",
    "\n",
    "    return Rm\n",
    "\n",
    "def interpolate(Q,xm,tm):\n",
    "    \n",
    "    # Interpolate Q values in a matrix to (xm,tm) \n",
    "    mlow = int(floor(tm/dt))\n",
    "    tlow = tv[mlow]\n",
    "    ft = (tm-tlow)/dt\n",
    "    \n",
    "    jlow = int(floor((xm-ax)/dx))-1\n",
    "    xlow = xc[jlow]\n",
    "    fx = (xm-xlow)/dx    \n",
    "    \n",
    "    qlow_t = Q[:,mlow]\n",
    "    qvec = qlow_t + ft*(Q[:,mlow+1] - Q[:,mlow])\n",
    "\n",
    "    qlow_x = qvec[jlow]\n",
    "    qval = qlow_x + fx*(qvec[jlow+1] - qvec[jlow])\n",
    "\n",
    "    return qval"
   ]
  },
  {
   "cell_type": "markdown",
   "metadata": {},
   "source": [
    "<hr style=\"border-width:4px; border-style:solid; border-color:coral\"/>\n",
    "\n",
    "## Measurements and weights\n",
    "We create obseverable data triples (xm,tm,dm,winv) using a random number generator. The data values are taken to be perturbations to an exactly defined solution for the unforced scalar advection problem."
   ]
  },
  {
   "cell_type": "code",
   "execution_count": 6,
   "metadata": {},
   "outputs": [],
   "source": [
    "# Number of observables\n",
    "mdata = 6\n",
    "\n",
    "# Spatial location of data points : in [ax,bx] (uniform random locations)\n",
    "xm_data = ax + (bx-ax)*random.rand(mdata)\n",
    "\n",
    "# Time of data points :  in [0,T] (uniform random time values)\n",
    "\n",
    "# Measurements all taken at the same time.\n",
    "tm_data = T_final*array([random.rand()]*mdata)    \n",
    "\n",
    "# Choose different times for each measurement\n",
    "tm_data = T_final*random.rand(mdata)            "
   ]
  },
  {
   "cell_type": "markdown",
   "metadata": {},
   "source": [
    "Construct measured values, based on noise."
   ]
  },
  {
   "cell_type": "code",
   "execution_count": 7,
   "metadata": {},
   "outputs": [],
   "source": [
    "# Noise in the data : wnoise*randn() \n",
    "wnoise = 0.2\n",
    "\n",
    "# Measurements : Normally distributed perturbations to \"perfect\" data\n",
    "dm_data = empty(mdata)\n",
    "for j in range(0,mdata):\n",
    "    dm_data[j] = concentration(xm_data[j]-u*tm_data[j]) + wnoise*random.randn()"
   ]
  },
  {
   "cell_type": "markdown",
   "metadata": {},
   "source": [
    "Supply data weights for each data point. Trusted data is given a large weight (small inverse) and untrusted data is given a small weight (large inverse). "
   ]
  },
  {
   "cell_type": "code",
   "execution_count": 8,
   "metadata": {},
   "outputs": [],
   "source": [
    "# Weights on data (\"w\")   (??)\n",
    "wminv = 0.01*ones(mdata)     # Default : Assume data is perfect\n",
    "\n",
    "# Adjust some of the weights for imperfect data\n",
    "if mdata > 5:\n",
    "    wminv[2] = 100   # Data should not be trusted \n",
    "    wminv[3] = 10    \n",
    "    wminv[4] = 1\n",
    "    wminv[5] = 0.01  # Data is trusted"
   ]
  },
  {
   "cell_type": "markdown",
   "metadata": {},
   "source": [
    "Create list of data tuples"
   ]
  },
  {
   "cell_type": "code",
   "execution_count": 9,
   "metadata": {},
   "outputs": [],
   "source": [
    "# Create list of tuples\n",
    "data = list(zip(xm_data,tm_data,dm_data,wminv))    "
   ]
  },
  {
   "cell_type": "code",
   "execution_count": 10,
   "metadata": {},
   "outputs": [],
   "source": [
    "# Do not use\n",
    "# This will retrieve data used in the proposal figures\n",
    "# import pickle\n",
    "# pickle.dump(data, open('fig_data.dump', 'wb'))\n",
    "# fig_data = pickle.load(open('fig_data.dump', 'rb'))\n",
    "# data = fig_data\n",
    "# data"
   ]
  },
  {
   "cell_type": "markdown",
   "metadata": {},
   "source": [
    "<hr style=\"border-width:4px; border-style:solid; border-color:coral\"/>\n",
    "\n",
    "## Set up numerical mesh\n",
    "\n",
    "Define the spatial cell-centered mesh and time step size, and number of time steps."
   ]
  },
  {
   "cell_type": "code",
   "execution_count": 11,
   "metadata": {},
   "outputs": [],
   "source": [
    "# Spatial step\n",
    "dx = (bx-ax)/mx\n",
    "\n",
    "# Generate spatial meshes\n",
    "xe = linspace(ax,bx,mx+1)\n",
    "xc = xe[:-1] + dx/2\n",
    "\n",
    "# Time step\n",
    "dt_est = CFL*dx/u\n",
    "M = int(T_final/dt_est) + 1\n",
    "dt = T_final/M\n",
    "\n",
    "# Temporal mesh\n",
    "tv = linspace(0,T_final,M+1)"
   ]
  },
  {
   "cell_type": "code",
   "execution_count": 12,
   "metadata": {},
   "outputs": [],
   "source": [
    "# plt.plot(adjoint(xm,tm)[:,0])"
   ]
  },
  {
   "cell_type": "markdown",
   "metadata": {},
   "source": [
    "<hr style=\"border-width:4px; border-style:solid; border-color:coral\"/>\n",
    "\n",
    "## Compute representers and inverse solution $\\widehat{u}(x,t)$\n",
    "\n",
    "The representers are computed using numerical integration."
   ]
  },
  {
   "cell_type": "code",
   "execution_count": 13,
   "metadata": {},
   "outputs": [
    {
     "ename": "NameError",
     "evalue": "name 'bc_func' is not defined",
     "output_type": "error",
     "traceback": [
      "\u001b[0;31m---------------------------------------------------------------------------\u001b[0m",
      "\u001b[0;31mNameError\u001b[0m                                 Traceback (most recent call last)",
      "Input \u001b[0;32mIn [13]\u001b[0m, in \u001b[0;36m<cell line: 6>\u001b[0;34m()\u001b[0m\n\u001b[1;32m      9\u001b[0m tm \u001b[38;5;241m=\u001b[39m dj[\u001b[38;5;241m1\u001b[39m]\n\u001b[1;32m     10\u001b[0m dm \u001b[38;5;241m=\u001b[39m dj[\u001b[38;5;241m2\u001b[39m]\n\u001b[0;32m---> 11\u001b[0m Rm \u001b[38;5;241m=\u001b[39m \u001b[43mrepresenter\u001b[49m\u001b[43m(\u001b[49m\u001b[43mxm\u001b[49m\u001b[43m,\u001b[49m\u001b[43mtm\u001b[49m\u001b[43m)\u001b[49m\n\u001b[1;32m     12\u001b[0m rmd\u001b[38;5;241m.\u001b[39mappend(Rm)\n\u001b[1;32m     13\u001b[0m \u001b[38;5;66;03m# Compute lower triangular portion;  enforce symmtry\u001b[39;00m\n",
      "Input \u001b[0;32mIn [5]\u001b[0m, in \u001b[0;36mrepresenter\u001b[0;34m(xm, tm)\u001b[0m\n\u001b[1;32m     78\u001b[0m \u001b[38;5;28;01mdef\u001b[39;00m \u001b[38;5;21mrepresenter\u001b[39m(xm,tm):\n\u001b[0;32m---> 80\u001b[0m     alpha \u001b[38;5;241m=\u001b[39m \u001b[43madjoint\u001b[49m\u001b[43m(\u001b[49m\u001b[43mxm\u001b[49m\u001b[43m,\u001b[49m\u001b[43mtm\u001b[49m\u001b[43m)\u001b[49m\n\u001b[1;32m     82\u001b[0m     M \u001b[38;5;241m=\u001b[39m \u001b[38;5;28mlen\u001b[39m(tv) \u001b[38;5;241m-\u001b[39m\u001b[38;5;241m1\u001b[39m\n\u001b[1;32m     83\u001b[0m     mx \u001b[38;5;241m=\u001b[39m \u001b[38;5;28mlen\u001b[39m(xc)\n",
      "Input \u001b[0;32mIn [5]\u001b[0m, in \u001b[0;36madjoint\u001b[0;34m(xm, tm)\u001b[0m\n\u001b[1;32m     67\u001b[0m     F[:,n] \u001b[38;5;241m=\u001b[39m delta(xc\u001b[38;5;241m-\u001b[39mxm)\u001b[38;5;241m*\u001b[39mdelta(T_final\u001b[38;5;241m-\u001b[39mtm\u001b[38;5;241m-\u001b[39mtau)\n\u001b[1;32m     69\u001b[0m \u001b[38;5;66;03m# Get alpha_tilde(x,tau) = alpha(x,T-final-t)\u001b[39;00m\n\u001b[0;32m---> 70\u001b[0m Q \u001b[38;5;241m=\u001b[39m evolve_q(mx,ax,bx,dt,dx, q0, F, \u001b[43mbc_func\u001b[49m, tv, lim_choice\u001b[38;5;241m=\u001b[39mlimiter_choice,uvel \u001b[38;5;241m=\u001b[39m \u001b[38;5;241m-\u001b[39mu)\n\u001b[1;32m     72\u001b[0m adjoint \u001b[38;5;241m=\u001b[39m zeros((mx,M\u001b[38;5;241m+\u001b[39m\u001b[38;5;241m1\u001b[39m))\n\u001b[1;32m     73\u001b[0m \u001b[38;5;28;01mfor\u001b[39;00m n \u001b[38;5;129;01min\u001b[39;00m \u001b[38;5;28mrange\u001b[39m(\u001b[38;5;241m0\u001b[39m,M\u001b[38;5;241m+\u001b[39m\u001b[38;5;241m1\u001b[39m):\n",
      "\u001b[0;31mNameError\u001b[0m: name 'bc_func' is not defined"
     ]
    }
   ],
   "source": [
    "R = zeros((mdata,mdata))\n",
    "h = zeros(mdata)\n",
    "\n",
    "rmd = []\n",
    "# Compute R using exact solution\n",
    "for j,dj in enumerate(data):\n",
    "    # dj = data[j]\n",
    "    xm = dj[0]\n",
    "    tm = dj[1]\n",
    "    dm = dj[2]\n",
    "    Rm = representer(xm,tm)\n",
    "    rmd.append(Rm)\n",
    "    # Compute lower triangular portion;  enforce symmtry\n",
    "    for i,d in enumerate(data):\n",
    "        if i < j:\n",
    "            # continue\n",
    "            pass\n",
    "        R[i,j] = interpolate(Rm,d[0],d[1])     \n",
    "        # R[j,i] = R[i,j]  # enforce symmetry\n",
    "        \n",
    "    # Use exact solution to get Uf entries\n",
    "    uf = qexact(xm,tm)    \n",
    "    \n",
    "    # Construct right hand side    \n",
    "    h[j] = dm - uf\n",
    "\n",
    "# Create matrix of weights.  Use diagonal weighting\n",
    "wm = [w[3] for w in data]\n",
    "W_inv = diag(wm)\n",
    "    \n",
    "# Solve for beta values\n",
    "P = R + W_inv\n",
    "print(\"Pshape = \",P.shape)\n",
    "print(\"h_shape = \",h.shape)\n",
    "beta = linalg.solve(P,h)\n",
    "\n",
    "# Get forcing\n",
    "UF = Q_forcing()\n",
    "\n",
    "Uhat = UF\n",
    "for j,d in enumerate(data):       \n",
    "    # rmd = representer(d[0],d[1])    \n",
    "    Uhat += beta[j]*rmd[j]\n",
    "\n",
    "print(\"Done computing Uhat\")\n",
    "\n",
    "print(\"\\nR matrix : \")\n",
    "f = {'all' : lambda x : \"{:10.4f}\".format(x)}\n",
    "with np.printoptions(precision=6, suppress=True, formatter=f,linewidth=100):\n",
    "    print(Rm)\n",
    "    \n",
    "print(\"\\nbeta vector:\")\n",
    "f = {'all' : lambda x : \"{:12.4e}\".format(x)}\n",
    "with np.printoptions(precision=6, suppress=True, formatter=f,linewidth=100):\n",
    "    print(beta)    "
   ]
  },
  {
   "cell_type": "code",
   "execution_count": null,
   "metadata": {},
   "outputs": [],
   "source": [
    "Rm = representer(xm,tm)\n",
    "Rm[:,0]"
   ]
  },
  {
   "cell_type": "code",
   "execution_count": null,
   "metadata": {},
   "outputs": [],
   "source": [
    "W = diag(1/wminv)\n",
    "\n",
    "# From Bennet, page 22 (Exercise 1.3.3 and 1.3.4)\n",
    "print(\"From Bennet, page 23\")\n",
    "JuF = h.transpose()@W@h\n",
    "print(\"J[uF] = {:.4e}\".format(JuF))\n",
    "\n",
    "Juhat = h.transpose()@beta\n",
    "print(\"J[uhat] = {:.4e}\".format(Juhat))\n",
    "\n",
    "Jdata = beta.transpose()@W_inv@beta\n",
    "print(\"Jdata = {:.4e}\".format(Jdata))\n",
    "\n",
    "Jmod = Juhat - Jdata\n",
    "print(\"Jmodel = {:.8e}\".format(Jmod))\n",
    "\n",
    "print(\"\\nFrom Bennet, page 44\")\n",
    "T = sqrt(W)@R@sqrt(W)\n",
    "print(\"EJF = {:.8e}\".format(trace(T) + mdata))\n",
    "\n",
    "# From Bennet, page 44 (Exercise 2.3.2)\n",
    "Pinv = inv(P)\n",
    "T = sqrt(W_inv)@Pinv@sqrt(W_inv)\n",
    "print(\"EJdata = {:.8e}\".format(trace(T)))"
   ]
  },
  {
   "cell_type": "markdown",
   "metadata": {},
   "source": [
    "<hr style=\"border-width:4px; border-style:solid; border-color:coral\"/>\n",
    "\n",
    "## Plot the inverse $\\widehat{u}(x,t)$\n",
    "Plot the least squares solution (the inverse \"uhat\").   Along with the solution, we also plot the data points and show that the data points are approximately interpolated, depending on how the weights are set. "
   ]
  },
  {
   "cell_type": "code",
   "execution_count": null,
   "metadata": {},
   "outputs": [],
   "source": [
    "fig = figure(3)\n",
    "clf()\n",
    "\n",
    "# Evaluate initial conditions\n",
    "q = Uhat[:,0]\n",
    "\n",
    "# Plot initial solution and store handle\n",
    "hdl, = plot(xc,q,linewidth=2,label='Computed solution')\n",
    "htitle = title('Time : {:.4f} (xm,tm,dm,wminv)'.format(0))\n",
    "\n",
    "t = 0\n",
    "d = initial_condition(xc)\n",
    "hdl_exact, = plot(xc,d,'r--',linewidth=1,label='U_F')\n",
    "\n",
    "xlabel('x',fontsize=16)\n",
    "ylabel('q(x,0)', fontsize=16)\n",
    "\n",
    "hdl_data = [None]*mdata\n",
    "for j,d in enumerate(data):\n",
    "    xm = d[0]\n",
    "    tm = d[1]\n",
    "    dm = d[2]\n",
    "    wm = d[3]\n",
    "    str = '({:.2f},{:.2f},{:.2f},{:.2f})'.format(xm,tm,dm,wm)\n",
    "    hdl_data[j], = plot(xm,dm,'#888888',marker='*',markersize=10, \\\n",
    "                       label=str)\n",
    "\n",
    "ylim([-0.75,2.2])\n",
    "\n",
    "fig.canvas.draw()   \n",
    "\n",
    "hit_data = zeros(mdata)\n",
    "pause(0.5)\n",
    "for n in range(0,M+1):  \n",
    "    \n",
    "    t = tv[n]\n",
    "    q = Uhat[:,n]\n",
    "    hdl.set_ydata(q)\n",
    "    \n",
    "    # Update title with new time\n",
    "    htitle.set_text('Time : {:.4f} (xm,tm,dm,wminv)'.format(t))\n",
    "    \n",
    "    # Plot unforced solution u_F\n",
    "    d = qexact(xc, t)\n",
    "    # d = UF[:,n]\n",
    "    hdl_exact.set_ydata(d)\n",
    "\n",
    "    # Change the color of any data points we hit \n",
    "    for j,d in enumerate(data):\n",
    "        tm = d[1]\n",
    "        if (tm <= t and t < tm + dt):\n",
    "            hdl_data[j].set_color('r')\n",
    "            hit_data[j] = 1\n",
    "        elif hit_data[j] == 1:\n",
    "            hdl_data[j].set_color('b')\n",
    "            hit_data[j] = 2\n",
    "\n",
    "    ylim([-0.75,2.2])\n",
    "\n",
    "    # Add legend; refresh plot\n",
    "    legend(loc='upper center',ncol=2)\n",
    "    fig.canvas.draw()        \n",
    "    \n",
    "    if any(hit_data == 1):\n",
    "        # Pause when solution hits a data point\n",
    "        pause(1)\n",
    "        \n"
   ]
  },
  {
   "cell_type": "code",
   "execution_count": null,
   "metadata": {},
   "outputs": [],
   "source": []
  },
  {
   "cell_type": "code",
   "execution_count": null,
   "metadata": {},
   "outputs": [],
   "source": []
  }
 ],
 "metadata": {
  "kernelspec": {
   "display_name": "Python 3 (ipykernel)",
   "language": "python",
   "name": "python3"
  },
  "language_info": {
   "codemirror_mode": {
    "name": "ipython",
    "version": 3
   },
   "file_extension": ".py",
   "mimetype": "text/x-python",
   "name": "python",
   "nbconvert_exporter": "python",
   "pygments_lexer": "ipython3",
   "version": "3.9.12"
  }
 },
 "nbformat": 4,
 "nbformat_minor": 2
}
