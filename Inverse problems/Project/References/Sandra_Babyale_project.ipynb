{
 "cells": [
  {
   "cell_type": "code",
   "execution_count": 1,
   "id": "435a6dbc",
   "metadata": {},
   "outputs": [
    {
     "name": "stdout",
     "output_type": "stream",
     "text": [
      "Using matplotlib backend: nbAgg\n",
      "Populating the interactive namespace from numpy and matplotlib\n"
     ]
    }
   ],
   "source": [
    "%matplotlib notebook\n",
    "%pylab"
   ]
  },
  {
   "cell_type": "markdown",
   "id": "cd34e58c",
   "metadata": {},
   "source": [
    "<hr style=\"border-width:4px; border-style:solid; border-color:coral\"/>\n",
    "\n",
    "# Data Assimilation using the  representer method\n",
    "<hr style=\"border-width:4px; border-style:solid; border-color:coral\"/>\n",
    "\n",
    "\n",
    "The notebook solves the scalar advection equation, given by the partial differential equation\n",
    "\n",
    "\\begin{equation}\n",
    "u_t + c u_x = 0\n",
    "\\end{equation}\n",
    "\n",
    "where $c$ is a prescribed velocity field.  This equation models, for example, the transport of a tracer field in a background flow.  \n",
    "\n",
    "We solve this problem in the periodic domain $x \\in [0,1]$ over the time interval $t \\in [0,T_{final}]$.  We set the velocity field to $c=1$. \n",
    "\n",
    "Observed data values are assimilated into the calculation to improve the model to more accurately predict the observed values.\n",
    "\n",
    "In this notebook, we use exact solutions for the representers, so don't require any numerical integration.  "
   ]
  },
  {
   "cell_type": "code",
   "execution_count": null,
   "id": "291310ae",
   "metadata": {},
   "outputs": [],
   "source": []
  },
  {
   "cell_type": "code",
   "execution_count": null,
   "id": "d2986cb3",
   "metadata": {},
   "outputs": [],
   "source": []
  }
 ],
 "metadata": {
  "kernelspec": {
   "display_name": "Python 3 (ipykernel)",
   "language": "python",
   "name": "python3"
  },
  "language_info": {
   "codemirror_mode": {
    "name": "ipython",
    "version": 3
   },
   "file_extension": ".py",
   "mimetype": "text/x-python",
   "name": "python",
   "nbconvert_exporter": "python",
   "pygments_lexer": "ipython3",
   "version": "3.9.7"
  }
 },
 "nbformat": 4,
 "nbformat_minor": 5
}
