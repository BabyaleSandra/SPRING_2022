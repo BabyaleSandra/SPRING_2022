{
 "cells": [
  {
   "cell_type": "markdown",
   "id": "abdb1022",
   "metadata": {},
   "source": [
    "<hr style=\"border-width:4px; border-color:coral\"></hr>\n",
    "\n",
    "# Homework #9 \n",
    "\n",
    "\n",
    "<hr style=\"border-width:4px; border-color:coral\"></hr>"
   ]
  },
  {
   "cell_type": "markdown",
   "id": "db1889b9",
   "metadata": {},
   "source": [
    "## Problem #1\n",
    "\n",
    "Suppose $\\overline{f}(x)$ is a *backward stable* algorithm for computing $f(x) = e^x$.   Show that for $x \\ge 0$, we will have \n",
    "\n",
    "\\begin{equation}\n",
    "\\overline{f}(x) \\le e^x.\n",
    "\\end{equation}\n",
    "\n",
    "\n",
    "Use Theorem 15.1, which for this problem can be stated as\n",
    "\n",
    "\\begin{equation}\n",
    "\\frac{| \\overline{f}(x) - f(x)|}{| f(x) |} \\le \\kappa(x) \\frac{| \\overline{x} - x |}{| x |}\n",
    "\\end{equation}\n",
    "\n"
   ]
  },
  {
   "cell_type": "markdown",
   "id": "176f0639",
   "metadata": {},
   "source": [
    "### Solution \n",
    "If $\\overline{f}(x)$ is a *backward stable* algorithm for computing $f(x) = e^x$, then $\\overline{f}(x) = {f}(\\overline x) = e^{\\overline x}$.\n",
    "\n",
    "Also,\n",
    "\n",
    "\\begin{equation}\n",
    " \\kappa(x)  = \\frac{| f'(x) ||  x |}{| f(x) |} = |  x |\n",
    "\\end{equation}\n",
    "\n",
    "Substituting in  equation (2) above, we get;\n",
    "\\begin{equation}\n",
    "\\frac{| {f}(\\overline x) - f(x)|}{| f(x) |} \\le |  x | \\frac{| \\overline{x} - x |}{| x |}\\\\\\\\\n",
    "\\Rightarrow \\frac{|e^{\\overline x} - e^x|}{| e^x |} \\le  {| \\overline{x} - x |}\n",
    "\\end{equation}\n",
    "\n",
    "Assuming that $\\overline x = x + \\delta x$, equation (4) becomes;\n",
    "\n",
    "\\begin{equation}\n",
    "\\frac{|e^{x + \\delta x} - e^x|}{| e^x |} \\le  {| x + \\delta x - x |}\\\\\\\\\n",
    "\\frac{|e^x||e^{\\delta x} - 1|}{| e^x |} \\le  {| \\delta x |}\\\\\\\\\n",
    "\\end{equation}\n",
    "\n",
    "\\begin{equation}\n",
    "\\Rightarrow {|e^{\\delta x} - 1|} \\le  {| \\delta x |}\\\\\n",
    "\\end{equation}\n",
    "\n",
    "But the inequality above holds if and only if $\\delta x \\leq 0$. Therefore if  ${|e^{\\delta x} - 1|} \\le  {| \\delta x |}$, then $\\delta x \\leq 0$ and we have that;\n",
    "\n",
    "\\begin{equation}\n",
    "{f}(\\overline x) = e^{\\overline x} = e^{x + \\delta x} \\leq e^x\\\\\\\\\n",
    "\\therefore \\overline{f}(x) \\leq e^x ~~~~~~~~~~ for ~~ x\\geq 0  \n",
    "\\end{equation}"
   ]
  },
  {
   "cell_type": "code",
   "execution_count": null,
   "id": "08a6b6b0",
   "metadata": {},
   "outputs": [],
   "source": []
  }
 ],
 "metadata": {
  "kernelspec": {
   "display_name": "Python 3 (ipykernel)",
   "language": "python",
   "name": "python3"
  },
  "language_info": {
   "codemirror_mode": {
    "name": "ipython",
    "version": 3
   },
   "file_extension": ".py",
   "mimetype": "text/x-python",
   "name": "python",
   "nbconvert_exporter": "python",
   "pygments_lexer": "ipython3",
   "version": "3.9.7"
  }
 },
 "nbformat": 4,
 "nbformat_minor": 5
}
