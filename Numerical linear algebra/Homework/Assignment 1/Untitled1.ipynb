{
 "cells": [
  {
   "cell_type": "code",
   "execution_count": 1,
   "id": "8a469038",
   "metadata": {},
   "outputs": [
    {
     "name": "stdout",
     "output_type": "stream",
     "text": [
      "Collecting package metadata (current_repodata.json): done\n",
      "Solving environment: done\n",
      "\n",
      "## Package Plan ##\n",
      "\n",
      "  environment location: /Users/sandrababyale/opt/anaconda3\n",
      "\n",
      "  added / updated specs:\n",
      "    - cf-plot\n",
      "\n",
      "\n",
      "The following packages will be downloaded:\n",
      "\n",
      "    package                    |            build\n",
      "    ---------------------------|-----------------\n",
      "    cartopy-0.18.0             |   py39hf1ba7ce_1         1.7 MB\n",
      "    cf-plot-3.1.18             |     pyhd8ed1ab_0         161 KB  conda-forge\n",
      "    cf-python-3.12.0           |   py39h89e85a6_0         2.1 MB  conda-forge\n",
      "    cfdm-1.9.0.2               |     pyhd8ed1ab_0         270 KB  conda-forge\n",
      "    cfunits-3.3.4              |     pyhd8ed1ab_0          36 KB  conda-forge\n",
      "    expat-2.4.4                |       he49afe7_0         145 KB  conda-forge\n",
      "    geos-3.8.0                 |       hb1e8313_0         815 KB\n",
      "    netcdf-flattener-1.2.0     |     pyh9f0ad1d_0          19 KB  conda-forge\n",
      "    proj-6.2.1                 |       h773a61f_0        10.0 MB  conda-forge\n",
      "    pyshp-2.1.3                |     pyh44b312d_0          36 KB  conda-forge\n",
      "    shapely-1.7.1              |   py39h9250791_0         376 KB\n",
      "    udunits2-2.2.28            |       h06ef574_0         157 KB  conda-forge\n",
      "    ------------------------------------------------------------\n",
      "                                           Total:        15.8 MB\n",
      "\n",
      "The following NEW packages will be INSTALLED:\n",
      "\n",
      "  cartopy            pkgs/main/osx-64::cartopy-0.18.0-py39hf1ba7ce_1\n",
      "  cf-plot            conda-forge/noarch::cf-plot-3.1.18-pyhd8ed1ab_0\n",
      "  cf-python          conda-forge/osx-64::cf-python-3.12.0-py39h89e85a6_0\n",
      "  cfdm               conda-forge/noarch::cfdm-1.9.0.2-pyhd8ed1ab_0\n",
      "  cfunits            conda-forge/noarch::cfunits-3.3.4-pyhd8ed1ab_0\n",
      "  expat              conda-forge/osx-64::expat-2.4.4-he49afe7_0\n",
      "  geos               pkgs/main/osx-64::geos-3.8.0-hb1e8313_0\n",
      "  netcdf-flattener   conda-forge/noarch::netcdf-flattener-1.2.0-pyh9f0ad1d_0\n",
      "  proj               conda-forge/osx-64::proj-6.2.1-h773a61f_0\n",
      "  pyshp              conda-forge/noarch::pyshp-2.1.3-pyh44b312d_0\n",
      "  shapely            pkgs/main/osx-64::shapely-1.7.1-py39h9250791_0\n",
      "  udunits2           conda-forge/osx-64::udunits2-2.2.28-h06ef574_0\n",
      "\n",
      "The following packages will be UPDATED:\n",
      "\n",
      "  ca-certificates    anaconda::ca-certificates-2020.10.14-0 --> conda-forge::ca-certificates-2021.10.8-h033912b_0\n",
      "\n",
      "The following packages will be SUPERSEDED by a higher-priority channel:\n",
      "\n",
      "  certifi            pkgs/main::certifi-2021.10.8-py39hecd~ --> conda-forge::certifi-2021.10.8-py39h6e9494a_1\n",
      "  conda              pkgs/main::conda-4.11.0-py39hecd8cb5_0 --> conda-forge::conda-4.11.0-py39h6e9494a_0\n",
      "  openssl              pkgs/main::openssl-1.1.1m-hca72f7f_0 --> conda-forge::openssl-1.1.1l-h0d85af4_0\n",
      "\n",
      "\n",
      "\n",
      "Downloading and Extracting Packages\n",
      "shapely-1.7.1        | 376 KB    | ##################################### | 100% \n",
      "cf-python-3.12.0     | 2.1 MB    | ##################################### | 100% \n",
      "udunits2-2.2.28      | 157 KB    | ##################################### | 100% \n",
      "pyshp-2.1.3          | 36 KB     | ##################################### | 100% \n",
      "cfunits-3.3.4        | 36 KB     | ##################################### | 100% \n",
      "expat-2.4.4          | 145 KB    | ##################################### | 100% \n",
      "netcdf-flattener-1.2 | 19 KB     | ##################################### | 100% \n",
      "geos-3.8.0           | 815 KB    | ##################################### | 100% \n",
      "cf-plot-3.1.18       | 161 KB    | ##################################### | 100% \n",
      "cartopy-0.18.0       | 1.7 MB    | ##################################### | 100% \n",
      "proj-6.2.1           | 10.0 MB   | ##################################### | 100% \n",
      "cfdm-1.9.0.2         | 270 KB    | ##################################### | 100% \n",
      "Preparing transaction: done\n",
      "Verifying transaction: done\n",
      "Executing transaction: done\n",
      "\n",
      "Note: you may need to restart the kernel to use updated packages.\n"
     ]
    }
   ],
   "source": [
    "conda install -c conda-forge cf-plot"
   ]
  },
  {
   "cell_type": "code",
   "execution_count": null,
   "id": "76549e3a",
   "metadata": {},
   "outputs": [],
   "source": []
  }
 ],
 "metadata": {
  "kernelspec": {
   "display_name": "Python 3 (ipykernel)",
   "language": "python",
   "name": "python3"
  },
  "language_info": {
   "codemirror_mode": {
    "name": "ipython",
    "version": 3
   },
   "file_extension": ".py",
   "mimetype": "text/x-python",
   "name": "python",
   "nbconvert_exporter": "python",
   "pygments_lexer": "ipython3",
   "version": "3.9.7"
  }
 },
 "nbformat": 4,
 "nbformat_minor": 5
}
