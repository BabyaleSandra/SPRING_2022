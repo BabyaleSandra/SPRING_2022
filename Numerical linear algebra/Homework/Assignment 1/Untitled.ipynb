{
 "cells": [
  {
   "cell_type": "code",
   "execution_count": 23,
   "id": "416295f5",
   "metadata": {},
   "outputs": [],
   "source": [
    "import matplotlib.pyplot as plt\n",
    "import numpy as np\n",
    "import matplotlib.collections as mcoll\n",
    "\n",
    "\n",
    "def matrix_2d_effect(transfo_matrix, vectorsCol=[\"#FFD800\", \"#00CD79\"]):\n",
    "    \"\"\"\n",
    "    Modify the unit circle and basis vector by applying a matrix.\n",
    "    Visualize the effect of the matrix in 2D.\n",
    "    Parameters\n",
    "    ----------\n",
    "    transfo_matrix : array-like\n",
    "        2D matrix to apply to the unit circle.\n",
    "    vectorsCol : HEX color code\n",
    "        Color of the basis vectors\n",
    "    Returns:\n",
    "    fig : instance of matplotlib.figure.Figure\n",
    "        The figure containing modified unit circle and basis vectors.\n",
    "    \"\"\"\n",
    "    # Unit circle\n",
    "    x = np.linspace(-0.9998, 0.9998, 100000)\n",
    "    y = np.sqrt(1 - (x ** 2))\n",
    "\n",
    "    # Modified unit circle (separate negative and positive parts)\n",
    "    x1 = transfo_matrix[0, 0] * x + transfo_matrix[0, 1] * y\n",
    "    y1 = transfo_matrix[1, 0] * x + transfo_matrix[1, 1] * y\n",
    "    x1_neg = transfo_matrix[0, 0] * x - transfo_matrix[0, 1] * y\n",
    "    y1_neg = transfo_matrix[1, 0] * x - transfo_matrix[1, 1] * y\n",
    "\n",
    "    # Vectors\n",
    "    vecs = np.array([transfo_matrix[:, 0], transfo_matrix[:, 1]])\n",
    "    origin = np.array([[0, 0],[0,0]])\n",
    "\n",
    "    ax = plt.axes()\n",
    "    ax.axvline(x=0, color=\"#d6d6d6\", zorder=0)\n",
    "    ax.axhline(y=0, color=\"#d6d6d6\", zorder=0)\n",
    "    plt.quiver(*origin, vecs[:, 0], vecs[:, 1], color=['black', 'red'], scale=15)\n",
    "\n",
    "    #plotVectors(vecs, ax, cols=vectorsCol, alpha=1)\n",
    "\n",
    "    ax.plot(x1, y1, \"#F57F53\", linewidth=4, alpha=1)\n",
    "    ax.plot(x1_neg, y1_neg, \"#F57F53\", linewidth=4, alpha=1)\n",
    "    ax.axis(\"equal\")\n",
    "    return ax\n",
    "\n",
    "\n"
   ]
  },
  {
   "cell_type": "code",
   "execution_count": 24,
   "id": "a71f3cba",
   "metadata": {},
   "outputs": [
    {
     "data": {
      "text/plain": [
       "<AxesSubplot:>"
      ]
     },
     "execution_count": 24,
     "metadata": {},
     "output_type": "execute_result"
    },
    {
     "data": {
      "image/png": "[encoded data removed]",
      "text/plain": [
       "<Figure size 432x288 with 1 Axes>"
      ]
     },
     "metadata": {
      "needs_background": "light"
     },
     "output_type": "display_data"
    }
   ],
   "source": [
    "A = np.array([\n",
    "    [-2, 11],\n",
    "    [-10, 5]\n",
    "])\n",
    "\n",
    "matrix_2d_effect(A)\n",
    "# [...] Add labels"
   ]
  },
  {
   "cell_type": "code",
   "execution_count": null,
   "id": "415b8247",
   "metadata": {},
   "outputs": [],
   "source": []
  }
 ],
 "metadata": {
  "kernelspec": {
   "display_name": "Python 3 (ipykernel)",
   "language": "python",
   "name": "python3"
  },
  "language_info": {
   "codemirror_mode": {
    "name": "ipython",
    "version": 3
   },
   "file_extension": ".py",
   "mimetype": "text/x-python",
   "name": "python",
   "nbconvert_exporter": "python",
   "pygments_lexer": "ipython3",
   "version": "3.9.7"
  }
 },
 "nbformat": 4,
 "nbformat_minor": 5
}
