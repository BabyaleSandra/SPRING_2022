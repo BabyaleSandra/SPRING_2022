{
 "cells": [
  {
   "cell_type": "code",
   "execution_count": 1,
   "id": "998d515c",
   "metadata": {},
   "outputs": [],
   "source": [
    "%matplotlib notebook\n",
    "from matplotlib.pylab import *\n",
    "from numpy import *\n"
   ]
  },
  {
   "cell_type": "code",
   "execution_count": 7,
   "id": "c05087b3",
   "metadata": {},
   "outputs": [],
   "source": [
    "def QR_House(A):\n",
    "    m,n = A.shape\n",
    "\n",
    "    R = A.copy()\n",
    "    Qt = eye(m)\n",
    "    p = min([m,n])\n",
    "    for j in range(p):\n",
    "        x = R[j:m,j:j+1]\n",
    "        I = eye(m-j)    \n",
    "        s = 1 if x[0] >= 0 else -1     # sign function, with sign(0)  = 1\n",
    "        v = s*linalg.norm(x,2)*I[:,0:1] + x\n",
    "        v = v/linalg.norm(v,2)\n",
    "        F = I - 2*(v@v.T)\n",
    "        R[j:m,j:n] = F@R[j:m,j:n]\n",
    "        Qt[j:m,:] = F@Qt[j:m,:]   # Solution to Homework #6 !!!\n",
    "        \n",
    "    #Q = Qt.T\n",
    "    return Qt.T, R\n",
    "\n",
    "def f(x):\n",
    "    return 1/x"
   ]
  },
  {
   "cell_type": "code",
   "execution_count": 19,
   "id": "74907030",
   "metadata": {},
   "outputs": [
    {
     "data": {
      "text/plain": [
       "array([-0.10424289,  1.22511391,  0.00319943])"
      ]
     },
     "execution_count": 19,
     "metadata": {},
     "output_type": "execute_result"
    }
   ],
   "source": [
    "# correct\n",
    "a = 1\n",
    "b = 2\n",
    "m = 200\n",
    "\n",
    "x = linspace(a,b,m)\n",
    "A = array ([exp(x),sin(x),gamma(x)]).T\n",
    "   \n",
    "\n",
    "\n",
    "q,r = QR_House(A)\n",
    "F = f(x)\n",
    "\n",
    "c = linalg.inv(r[0:3,0:3])@q[:,0:3].T@F\n",
    "c"
   ]
  },
  {
   "cell_type": "code",
   "execution_count": 16,
   "id": "1792ccd5",
   "metadata": {},
   "outputs": [
    {
     "data": {
      "text/plain": [
       "(200, 3)"
      ]
     },
     "execution_count": 16,
     "metadata": {},
     "output_type": "execute_result"
    }
   ],
   "source": [
    "A.shape"
   ]
  },
  {
   "cell_type": "code",
   "execution_count": null,
   "id": "768c87a4",
   "metadata": {},
   "outputs": [],
   "source": []
  },
  {
   "cell_type": "code",
   "execution_count": null,
   "id": "ab3dec87",
   "metadata": {},
   "outputs": [],
   "source": []
  }
 ],
 "metadata": {
  "kernelspec": {
   "display_name": "Python 3 (ipykernel)",
   "language": "python",
   "name": "python3"
  },
  "language_info": {
   "codemirror_mode": {
    "name": "ipython",
    "version": 3
   },
   "file_extension": ".py",
   "mimetype": "text/x-python",
   "name": "python",
   "nbconvert_exporter": "python",
   "pygments_lexer": "ipython3",
   "version": "3.9.7"
  }
 },
 "nbformat": 4,
 "nbformat_minor": 5
}
