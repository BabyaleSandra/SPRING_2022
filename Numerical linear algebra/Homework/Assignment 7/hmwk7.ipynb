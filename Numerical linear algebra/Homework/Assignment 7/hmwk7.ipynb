{
 "cells": [
  {
   "cell_type": "code",
   "execution_count": 1,
   "id": "ee4a7019",
   "metadata": {},
   "outputs": [],
   "source": [
    "%matplotlib notebook\n",
    "\n",
    "from matplotlib.pylab import *\n",
    "from numpy import *\n",
    "import numpy as np"
   ]
  },
  {
   "cell_type": "markdown",
   "id": "ca94ed8f",
   "metadata": {},
   "source": [
    "<hr style=\"border-width:4px; border-color:coral\"></hr>\n",
    "\n",
    "# Homework #7\n",
    "\n",
    "\n",
    "<hr style=\"border-width:4px; border-color:coral\"></hr>\n"
   ]
  },
  {
   "cell_type": "markdown",
   "id": "d490e898",
   "metadata": {},
   "source": [
    "<hr style=\"border-width:4px; border-color:black\"></hr>\n",
    "\n",
    "## Problem #1 (TB 11.2, page \n",
    "\n",
    "<hr style=\"border-width:4px; border-color:black\"></hr>\n",
    "\n",
    "Find the best-fit coefficients $\\mathbf c = (c_0, c_1, c_2)$ so that\n",
    "\n",
    "\\begin{equation}\n",
    "g(x) = c_0 e^x + c_1 \\sin(x) + c_2 \\Gamma(x)\"\n",
    "\\end{equation}\n",
    "\n",
    "approximates the function $f(x) = 1/x$ as closely as possible.  To find $\\mathbf c$, find $\\overline{\\mathbf c}$ that minimizes the function \n",
    "\n",
    "\\begin{equation}\n",
    "\\mathbf F\\mathbf (c) = \\Vert f(\\mathbf x) - g(\\mathbf x) \\Vert_2^2\n",
    "\\end{equation}\n",
    "\n",
    "over an interval $x \\in [a,b]$.  \n",
    "\n",
    "#### Task\n",
    "\n",
    "We solve this problem by discretizing the interval $[a,b]$ using discrete nodes $\\mathbf x = \\left[x_0, x_1, \\dots x_{m-1}\\right]$.  We then solve the system of equations\n",
    "\n",
    "\\begin{equation}\n",
    "c_0 e^{x_i} + c_1 \\sin(x_i) + c_2 \\Gamma(x_i) = f(x_i), \\qquad i = 0,1,\\dots m-1\n",
    "\\end{equation}\n",
    "\n",
    "This will in general be an overdetermined system that can be expressed as the linear system\n",
    "\n",
    "\\begin{equation}\n",
    "A\\mathbf c = \\mathbf F\n",
    "\\end{equation}\n",
    "\n",
    "where $A \\in \\mathbb R^{m \\times 3}$ and $\\mathbf F \\in \\mathbb R^{m \\times 1}$.  \n",
    "\n",
    "* Solve this resulting linear system using Algorithm 11.2 in TB (page 83).  \n",
    "* Choose $m$ so that the relative norm satisfies\n",
    "\n",
    "\\begin{equation}\n",
    "\\frac{\\Vert \\mathbf f - \\mathbf g \\Vert_2}{\\Vert \\mathbf f\\Vert_2} \\le 10^{-2}\n",
    "\\end{equation}\n",
    "\n",
    "where vectors $\\mathbf f$ and $\\mathbf g$ are defined as $\\mathbf f = f(\\mathbf x)$ and $\\mathbf g = g(\\mathbf x)$.  Your value of $m$ should not be very large.   \n",
    "\n",
    "* Display the coefficients $\\mathbf c = (c_0, c_1, c_2)$ you obtain for each interval $(a,b)$. \n",
    "\n",
    "* Plot the function $f(x)$ and your approximation $g(x)$ on the same graph.   \n",
    "\n",
    "#### Hints\n",
    "\n",
    "* Use `linspace` to construct discrete points $x_i, i = 0,1,\\dots m-1$. \n",
    "\n",
    "* Use the SciPy function `scipy.special.gamma` to get the function $\\Gamma(x)$. \n",
    "\n",
    "* Use the QR function provided below. \n",
    "\n",
    "* For the interval (0,1), you can use an interval $(\\varepsilon,1)$, where $\\varepsilon \\ll 1$. \n",
    "\n",
    "* Use the notebook \"Hmwk7_exact\" to compare the coefficients you get to the exact solution computed using SymPy. "
   ]
  },
  {
   "cell_type": "code",
   "execution_count": 2,
   "id": "388c1181",
   "metadata": {},
   "outputs": [],
   "source": [
    "def display_mat(msg,A):\n",
    "    print(msg)\n",
    "    fstr = {'float' : \"{:>16.8f}\".format}\n",
    "    with printoptions(formatter=fstr):\n",
    "        display(A)\n",
    "    print(\"\")        "
   ]
  },
  {
   "cell_type": "code",
   "execution_count": 3,
   "id": "6e0b6eff",
   "metadata": {},
   "outputs": [],
   "source": [
    "# Use this QR algorithm, or you may use your own from Homework #6\n",
    "\n",
    "def QR_House(A):\n",
    "    m,n = A.shape\n",
    "\n",
    "    R = A.copy()\n",
    "    Qt = eye(m)\n",
    "    p = min([m,n])\n",
    "    for j in range(p):\n",
    "        x = R[j:m,j:j+1]\n",
    "        I = eye(m-j)    \n",
    "        s = 1 if x[0] >= 0 else -1     # sign function, with sign(0)  = 1\n",
    "        v = s*linalg.norm(x,2)*I[:,0:1] + x\n",
    "        v = v/linalg.norm(v,2)\n",
    "        F = I - 2*(v@v.T)\n",
    "        R[j:m,j:n] = F@R[j:m,j:n]\n",
    "        Qt[j:m,:] = F@Qt[j:m,:]   # Solution to Homework #6 !!!\n",
    "        \n",
    "    #Q = Qt.T\n",
    "    return Qt.T, R"
   ]
  },
  {
   "cell_type": "code",
   "execution_count": 4,
   "id": "fda7938a",
   "metadata": {},
   "outputs": [],
   "source": [
    "def f(x):\n",
    "    return 1/x"
   ]
  },
  {
   "cell_type": "markdown",
   "id": "5264f036",
   "metadata": {},
   "source": [
    "### Problem 1a\n",
    "\n",
    "<hr style=\"border-width:2px; border-color:black\"></hr>\n",
    "\n",
    "Compute the coefficients $\\mathbf c$ for the interval $(a,b)$. "
   ]
  },
  {
   "cell_type": "code",
   "execution_count": 9,
   "id": "61f1390d",
   "metadata": {},
   "outputs": [
    {
     "data": {
      "text/plain": [
       "array([-0.10428588,  1.22017657,  0.00640754])"
      ]
     },
     "execution_count": 9,
     "metadata": {},
     "output_type": "execute_result"
    }
   ],
   "source": [
    "def a1(a,b,m):\n",
    "    x = linspace(a,b,m)\n",
    "    A = array ([exp(x),sin(x),gamma(x)]).T  #Set up linear system to be solved.  Choose 'm' to get desired error\n",
    "      \n",
    "    Q,R = QR_House(A) #Compute QR decomposition of A\n",
    "    R = R[0:3,0:3] # reduced R \n",
    "    Q = Q[:,0:3]  # reduced Q\n",
    "    F = f(x)\n",
    "    \n",
    "    c = linalg.inv(R)@Q.T@F#Solve least squares problem using QR\n",
    "    return c\n",
    "\n",
    "c = a1(1,2,200)\n",
    "c"
   ]
  },
  {
   "cell_type": "code",
   "execution_count": null,
   "id": "5ad1296f",
   "metadata": {},
   "outputs": [],
   "source": []
  },
  {
   "cell_type": "code",
   "execution_count": 6,
   "id": "ba0dc89b",
   "metadata": {},
   "outputs": [
    {
     "ename": "NameError",
     "evalue": "name 'x' is not defined",
     "output_type": "error",
     "traceback": [
      "\u001b[0;31m---------------------------------------------------------------------------\u001b[0m",
      "\u001b[0;31mNameError\u001b[0m                                 Traceback (most recent call last)",
      "\u001b[0;32m/var/folders/pr/mnl3hx657cv7m7_l0wcdr7jh0000gq/T/ipykernel_50889/553858880.py\u001b[0m in \u001b[0;36m<module>\u001b[0;34m\u001b[0m\n\u001b[1;32m      8\u001b[0m \u001b[0;32mdef\u001b[0m \u001b[0mg\u001b[0m\u001b[0;34m(\u001b[0m\u001b[0mx\u001b[0m\u001b[0;34m)\u001b[0m\u001b[0;34m:\u001b[0m\u001b[0;34m\u001b[0m\u001b[0;34m\u001b[0m\u001b[0m\n\u001b[1;32m      9\u001b[0m     \u001b[0;32mreturn\u001b[0m \u001b[0mc\u001b[0m\u001b[0;34m[\u001b[0m\u001b[0;36m0\u001b[0m\u001b[0;34m]\u001b[0m\u001b[0;34m*\u001b[0m\u001b[0mexp\u001b[0m\u001b[0;34m(\u001b[0m\u001b[0mx\u001b[0m\u001b[0;34m)\u001b[0m\u001b[0;34m+\u001b[0m\u001b[0mc\u001b[0m\u001b[0;34m[\u001b[0m\u001b[0;36m1\u001b[0m\u001b[0;34m]\u001b[0m\u001b[0;34m*\u001b[0m\u001b[0msin\u001b[0m\u001b[0;34m(\u001b[0m\u001b[0mx\u001b[0m\u001b[0;34m)\u001b[0m\u001b[0;34m+\u001b[0m\u001b[0mc\u001b[0m\u001b[0;34m[\u001b[0m\u001b[0;36m2\u001b[0m\u001b[0;34m]\u001b[0m\u001b[0;34m*\u001b[0m\u001b[0mgamma\u001b[0m\u001b[0;34m(\u001b[0m\u001b[0mx\u001b[0m\u001b[0;34m)\u001b[0m\u001b[0;34m\u001b[0m\u001b[0;34m\u001b[0m\u001b[0m\n\u001b[0;32m---> 10\u001b[0;31m \u001b[0mg\u001b[0m \u001b[0;34m=\u001b[0m \u001b[0mg\u001b[0m\u001b[0;34m(\u001b[0m\u001b[0mx\u001b[0m\u001b[0;34m)\u001b[0m\u001b[0;34m\u001b[0m\u001b[0;34m\u001b[0m\u001b[0m\n\u001b[0m\u001b[1;32m     11\u001b[0m \u001b[0;34m\u001b[0m\u001b[0m\n\u001b[1;32m     12\u001b[0m \u001b[0;34m\u001b[0m\u001b[0m\n",
      "\u001b[0;31mNameError\u001b[0m: name 'x' is not defined"
     ]
    }
   ],
   "source": [
    "\n",
    "# Solve on interval (1,2)\n",
    "\n",
    "a = 1\n",
    "b = 2\n",
    "\n",
    "c = a1(a,b,200)\n",
    "\n",
    "def g(x):\n",
    "    return c[0]*exp(x)+c[1]*sin(x)+c[2]*gamma(x)\n",
    "g = g(x)\n",
    "\n",
    "\n",
    "\n",
    "figure(1)\n",
    "clf()\n",
    "\n",
    "plot(x,f,'r',label='f(x)') \n",
    "plot(x,g,'b',label='g(x)')     \n",
    "xlabel('x')\n",
    "ylabel('Approximation')\n",
    "title(str)\n",
    "\n",
    "legend()\n",
    "\n",
    "show()"
   ]
  },
  {
   "cell_type": "code",
   "execution_count": null,
   "id": "df0b258a",
   "metadata": {},
   "outputs": [],
   "source": [
    "figure(1)\n",
    "clf()\n",
    "\n",
    "# Solve on interval (1,2)\n",
    "\n",
    "a = 1\n",
    "b = 2\n",
    "x = linspace(a,b,200)\n",
    "\n",
    "\n",
    "\n",
    "c = a1(a,b,200)\n",
    "g = g(x)\n",
    "\n",
    "\n",
    "# TODO : Set up linear system to be solved.  Choose 'm' to get desired error\n",
    "\n",
    "# TODO : Compute QR decomposition of A\n",
    "\n",
    "# TODO : Solve least squares problem using QR\n",
    "\n",
    "# TODO : Plot g(x) using coefficients you found above. \n",
    "\n",
    "plot(x,f,'r',label='f(x)') \n",
    "plot(x,g,'b',label='g(x)')     # Not a good approximation!\n",
    "\n",
    "# TODO : Compute relative norm\n",
    "\n",
    "rel_norm = 0.1    # TODO : Compute relative norm here\n",
    "str = \"Norm of error : {:.2e}\".format(rel_norm)   \n",
    "xlabel('x')\n",
    "ylabel('Approximation')\n",
    "title(str)\n",
    "\n",
    "legend()\n",
    "\n",
    "show()"
   ]
  },
  {
   "cell_type": "markdown",
   "id": "98a14428",
   "metadata": {},
   "source": [
    "### Problem 1b\n",
    "\n",
    "<hr style=\"border-width:2px; border-color:black\"></hr>\n",
    "\n",
    "Compute the coefficients $\\mathbf c$ for the interval $(0,1)$. \n",
    "\n",
    "#### Question : \n",
    "\n",
    "Is there one function used to define $g(x)$ that seems to be the closest match to $f(x)$? "
   ]
  },
  {
   "cell_type": "code",
   "execution_count": null,
   "id": "72761076",
   "metadata": {},
   "outputs": [],
   "source": [
    "# Repeat the above for interval (0,1)\n",
    "\n",
    "figure(2)\n",
    "clf()\n",
    "\n",
    "# TODO : Your work goes here\n",
    "\n",
    "\n",
    "rel_norm = 0.1    # TODO : Compute relative norm here\n",
    "str = \"Norm of error : {:.2e}\".format(rel_norm)   \n",
    "xlabel('x')\n",
    "ylabel('Approximation')\n",
    "title(str)\n",
    "\n",
    "# legend()\n",
    "\n",
    "show()"
   ]
  },
  {
   "cell_type": "code",
   "execution_count": null,
   "id": "2ae64b61",
   "metadata": {},
   "outputs": [],
   "source": []
  }
 ],
 "metadata": {
  "kernelspec": {
   "display_name": "Python 3 (ipykernel)",
   "language": "python",
   "name": "python3"
  },
  "language_info": {
   "codemirror_mode": {
    "name": "ipython",
    "version": 3
   },
   "file_extension": ".py",
   "mimetype": "text/x-python",
   "name": "python",
   "nbconvert_exporter": "python",
   "pygments_lexer": "ipython3",
   "version": "3.9.7"
  }
 },
 "nbformat": 4,
 "nbformat_minor": 5
}
