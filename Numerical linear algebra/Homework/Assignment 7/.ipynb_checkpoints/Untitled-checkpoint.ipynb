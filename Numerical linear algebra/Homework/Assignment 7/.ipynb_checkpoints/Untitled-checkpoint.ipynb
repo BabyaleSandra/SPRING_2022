{
 "cells": [
  {
   "cell_type": "code",
   "execution_count": 1,
   "id": "c7ff6f5d",
   "metadata": {},
   "outputs": [],
   "source": [
    "%matplotlib notebook\n",
    "from matplotlib.pylab import *\n",
    "from numpy import *\n"
   ]
  },
  {
   "cell_type": "code",
   "execution_count": 5,
   "id": "3a2b9cda",
   "metadata": {},
   "outputs": [],
   "source": [
    "def QR_House(A):\n",
    "    m,n = A.shape\n",
    "\n",
    "    R = A.copy()\n",
    "    Q = eye(m)   # Update Q\n",
    "    for j in range(n):\n",
    "        x = R[j:m,j:j+1] \n",
    "        I = eye(m-j)     \n",
    "        s = 1 if x[0] >= 0 else -1     # sign function, with sign(0)  = 1 \n",
    "        v = s*linalg.norm(x,2)*I[:,0:1] + x \n",
    "        v = v/linalg.norm(v,2) \n",
    "        P = I - 2*(v@v.T) \n",
    "        R[j:m,j:n] = P@R[j:m,j:n]\n",
    "        Q[j:]= P@ Q[j:]\n",
    "        return Q.T,R"
   ]
  },
  {
   "cell_type": "code",
   "execution_count": 15,
   "id": "3177c8d6",
   "metadata": {},
   "outputs": [
    {
     "data": {
      "text/plain": [
       "(199,)"
      ]
     },
     "execution_count": 15,
     "metadata": {},
     "output_type": "execute_result"
    }
   ],
   "source": [
    "a = 1\n",
    "b = 2\n",
    "m = 200\n",
    "x = linspace(a,b,m-1)\n",
    "A = zeros ((m-1,3))\n",
    "\n",
    "for i in range(0,m-1):\n",
    "    A[:,1:] = exp(x[i])\n",
    "    A[:,2:] = sin (x[i])\n",
    "    A[:,3:] = gamma(x[i])\n",
    "\n",
    "\n"
   ]
  },
  {
   "cell_type": "code",
   "execution_count": null,
   "id": "2d7b6016",
   "metadata": {},
   "outputs": [],
   "source": [
    "# correct\n",
    "a = 1\n",
    "b = 2\n",
    "m = 200\n",
    "\n",
    "x = linspace(a,b,m)\n",
    "A = array ([exp(x),sin(x),gamma(x)])\n",
    "A = A.T    \n",
    "A.shape\n",
    "\n",
    "q,r = QR_House(A)\n",
    "\n",
    "def f(x):\n",
    "    return 1/x\n",
    "\n",
    "F = f(x)\n",
    "\n",
    "c = linalg.inv(r[0:3,0:3])@q[:,0:3].T@F\n",
    "c"
   ]
  }
 ],
 "metadata": {
  "kernelspec": {
   "display_name": "Python 3 (ipykernel)",
   "language": "python",
   "name": "python3"
  },
  "language_info": {
   "codemirror_mode": {
    "name": "ipython",
    "version": 3
   },
   "file_extension": ".py",
   "mimetype": "text/x-python",
   "name": "python",
   "nbconvert_exporter": "python",
   "pygments_lexer": "ipython3",
   "version": "3.9.7"
  }
 },
 "nbformat": 4,
 "nbformat_minor": 5
}
