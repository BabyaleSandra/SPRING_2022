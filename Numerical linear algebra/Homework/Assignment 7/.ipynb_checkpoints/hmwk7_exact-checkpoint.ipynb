{
 "cells": [
  {
   "cell_type": "code",
   "execution_count": 1,
   "id": "d92b9f51",
   "metadata": {},
   "outputs": [],
   "source": [
    "%matplotlib notebook\n",
    "\n",
    "from matplotlib.pylab import *\n",
    "from numpy import *"
   ]
  },
  {
   "cell_type": "markdown",
   "id": "7b8109ab",
   "metadata": {},
   "source": [
    "<hr style=\"border-width:4px; border-color:coral\"></hr>\n",
    "\n",
    "# Homework #7- Exact solution\n",
    "\n",
    "<hr style=\"border-width:4px; border-color:coral\"></hr>\n",
    "\n",
    "We can find the \"best\" minimum to the problem of fitting $g(x) = c_0 e^x + c_1 \\sin(x) + c_2 \\Gamma(x)$ to the function $f(x) = 1/x$.  We can formulate this problem as \n",
    "\n",
    "\\begin{equation}\n",
    "\\overline{\\mathbf c} = \\underset{\\mathbf c}{\\mbox{argmin}} \\; F(\\mathbf c) \n",
    "\\end{equation}\n",
    "\n",
    "where $\\mathbf c = (c_0, c_1, c_2)$ and \n",
    "\n",
    "\\begin{equation}\n",
    "F(\\mathbf c)  = \\int_a^b (f(x) - g(x))^2 \\; dx\n",
    "\\end{equation}\n",
    "\n",
    "The minimizaton problem can then be defined in terms of a vector \n",
    "\n",
    "\\begin{equation}\n",
    "\\mathbf v(x) = \n",
    "\\begin{bmatrix}e^x \\\\ \\sin(x) \\\\ \\Gamma(x)\\end{bmatrix}\n",
    "\\end{equation}\n",
    "\n",
    "Defining $g(x) = \\mathbf c^T\\mathbf v(x)$, the gradient of $F(\\mathbf c)$ can then be computed as \n",
    "\n",
    "\\begin{equation}\n",
    "\\nabla F = 2\\int_a^b (f(x) - g(x))(-\\mathbf v(x)) \\; dx\n",
    "\\end{equation}\n",
    "\n",
    "Setting the gradient equal to 0 results in a linear system for $\\mathbf c$, given by \n",
    "\n",
    "\\begin{equation}\n",
    "\\int_a^b f(x) \\mathbf v(x)\\; dx = \\int_a^b (\\mathbf c^T \\mathbf v(x))\\mathbf v(x) \\; dx\n",
    "\\end{equation}\n",
    "\n",
    "or \n",
    "\\begin{equation}\n",
    "\\left[\\int_a^b \\mathbf v(x) \\mathbf v(x)^T \\; dx\\right] \\mathbf c = \n",
    "\\int_a^b f(x) \\mathbf v(x) \\; dx\n",
    "\\end{equation}\n",
    "\n",
    "Denoting this linear system as $A \\mathbf c = \\mathbf F$, we use Sympy to solve this system for the value $\\overline{\\mathbf c}$ that minimizes $F(\\mathbf c)$.\n",
    "\n",
    "Unlike the linear least squares solution, this linear system is a **square linear system** that can be used to solve for the minimizing value $\\mathbf c$ exactly. "
   ]
  },
  {
   "cell_type": "code",
   "execution_count": 2,
   "id": "e024cf45",
   "metadata": {},
   "outputs": [],
   "source": [
    "def display_mat(msg,A):\n",
    "    print(msg)\n",
    "    display(A)\n",
    "    print(\"\")    "
   ]
  },
  {
   "cell_type": "code",
   "execution_count": 3,
   "id": "5db99101",
   "metadata": {},
   "outputs": [],
   "source": [
    "import sympy as sp\n",
    "from sympy.abc import x\n",
    "\n",
    "def coeffs_exact(a,b):\n",
    "\n",
    "    # Compute the right hand side\n",
    "    f = 1/x\n",
    "    v = sp.Matrix(3,1,[sp.exp(x), sp.sin(x),sp.gamma(x)])\n",
    "\n",
    "    # Construct matrix\n",
    "    A_sp = sp.integrate(v*v.T,(x,a,b))\n",
    "    A = A_sp.evalf()\n",
    "    display_mat(\"A = \",A)\n",
    "\n",
    "    # Right hand side\n",
    "    F_sp = sp.integrate(v*f,(x,a,b))\n",
    "    F = F_sp.evalf()\n",
    "    display_mat('Right hand side F', F)\n",
    "\n",
    "    c = A.solve(F)\n",
    "\n",
    "    return c"
   ]
  },
  {
   "cell_type": "code",
   "execution_count": 4,
   "id": "8dbafc38",
   "metadata": {},
   "outputs": [
    {
     "name": "stdout",
     "output_type": "stream",
     "text": [
      "A = \n"
     ]
    },
    {
     "data": {
      "text/latex": [
       "$\\displaystyle \\left[\\begin{matrix}23.6045469671068 & 4.48756033540233 & 4.32093065140897\\\\4.48756033540233 & 0.916524980533402 & 0.881419258147605\\\\4.32093065140897 & 0.881419258147605 & 0.852601633143775\\end{matrix}\\right]$"
      ],
      "text/plain": [
       "Matrix([\n",
       "[23.6045469671068,  4.48756033540233,  4.32093065140897],\n",
       "[4.48756033540233, 0.916524980533402, 0.881419258147605],\n",
       "[4.32093065140897, 0.881419258147605, 0.852601633143775]])"
      ]
     },
     "metadata": {},
     "output_type": "display_data"
    },
    {
     "name": "stdout",
     "output_type": "stream",
     "text": [
      "\n",
      "Right hand side F\n"
     ]
    },
    {
     "data": {
      "text/latex": [
       "$\\displaystyle \\left[\\begin{matrix}3.05911653964595\\\\0.659329906435512\\\\0.6398719692098\\end{matrix}\\right]$"
      ],
      "text/plain": [
       "Matrix([\n",
       "[ 3.05911653964595],\n",
       "[0.659329906435512],\n",
       "[  0.6398719692098]])"
      ]
     },
     "metadata": {},
     "output_type": "display_data"
    },
    {
     "name": "stdout",
     "output_type": "stream",
     "text": [
      "\n",
      "Exact coefficients c\n"
     ]
    },
    {
     "data": {
      "text/latex": [
       "$\\displaystyle \\left[\\begin{matrix}-0.107776083890808\\\\0.0092092889401981\\\\1.28717523670473\\end{matrix}\\right]$"
      ],
      "text/plain": [
       "Matrix([\n",
       "[-0.107776083890808],\n",
       "[0.0092092889401981],\n",
       "[  1.28717523670473]])"
      ]
     },
     "metadata": {},
     "output_type": "display_data"
    },
    {
     "name": "stdout",
     "output_type": "stream",
     "text": [
      "\n"
     ]
    }
   ],
   "source": [
    "a,b = (1,2)\n",
    "c = coeffs_exact(a,b)\n",
    "display_mat(\"Exact coefficients c\",c)"
   ]
  },
  {
   "cell_type": "code",
   "execution_count": 5,
   "id": "0cb5accb",
   "metadata": {},
   "outputs": [
    {
     "name": "stdout",
     "output_type": "stream",
     "text": [
      "A = \n"
     ]
    },
    {
     "data": {
      "text/latex": [
       "$\\displaystyle \\left[\\begin{matrix}3.19442803946466 & 0.909330668631145 & 10.1811318357091\\\\0.909330668631145 & 0.272675643293246 & 0.872326740866415\\\\10.1811318357091 & 0.872326740866415 & 9989.90572146396\\end{matrix}\\right]$"
      ],
      "text/plain": [
       "Matrix([\n",
       "[ 3.19442803946466, 0.909330668631145,  10.1811318357091],\n",
       "[0.909330668631145, 0.272675643293246, 0.872326740866415],\n",
       "[ 10.1811318357091, 0.872326740866415,  9989.90572146396]])"
      ]
     },
     "metadata": {},
     "output_type": "display_data"
    },
    {
     "name": "stdout",
     "output_type": "stream",
     "text": [
      "\n",
      "Right hand side F\n"
     ]
    },
    {
     "data": {
      "text/latex": [
       "$\\displaystyle \\left[\\begin{matrix}10.5281425209305\\\\0.945983070367239\\\\9994.40953294667\\end{matrix}\\right]$"
      ],
      "text/plain": [
       "Matrix([\n",
       "[ 10.5281425209305],\n",
       "[0.945983070367239],\n",
       "[ 9994.40953294667]])"
      ]
     },
     "metadata": {},
     "output_type": "display_data"
    },
    {
     "name": "stdout",
     "output_type": "stream",
     "text": [
      "\n",
      "Exact coefficients c\n"
     ]
    },
    {
     "data": {
      "text/latex": [
       "$\\displaystyle \\left[\\begin{matrix}0.627296244117895\\\\-1.82171658794785\\\\0.999970606110514\\end{matrix}\\right]$"
      ],
      "text/plain": [
       "Matrix([\n",
       "[0.627296244117895],\n",
       "[-1.82171658794785],\n",
       "[0.999970606110514]])"
      ]
     },
     "metadata": {},
     "output_type": "display_data"
    },
    {
     "name": "stdout",
     "output_type": "stream",
     "text": [
      "\n"
     ]
    }
   ],
   "source": [
    "a,b = (1e-4,1)\n",
    "c = coeffs_exact(a,b)\n",
    "display_mat(\"Exact coefficients c\",c)"
   ]
  },
  {
   "cell_type": "code",
   "execution_count": null,
   "id": "d5161658",
   "metadata": {},
   "outputs": [],
   "source": []
  }
 ],
 "metadata": {
  "kernelspec": {
   "display_name": "Python 3 (ipykernel)",
   "language": "python",
   "name": "python3"
  },
  "language_info": {
   "codemirror_mode": {
    "name": "ipython",
    "version": 3
   },
   "file_extension": ".py",
   "mimetype": "text/x-python",
   "name": "python",
   "nbconvert_exporter": "python",
   "pygments_lexer": "ipython3",
   "version": "3.9.7"
  }
 },
 "nbformat": 4,
 "nbformat_minor": 5
}
