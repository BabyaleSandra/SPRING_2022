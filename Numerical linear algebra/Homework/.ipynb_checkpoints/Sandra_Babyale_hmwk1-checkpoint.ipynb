{
 "cells": [
  {
   "cell_type": "code",
   "execution_count": 17,
   "metadata": {},
   "outputs": [],
   "source": [
    "import sympy as sp"
   ]
  },
  {
   "cell_type": "markdown",
   "metadata": {},
   "source": [
    "<hr style=\"border-width:4px; border-color:coral\"></hr>\n",
    "\n",
    "\n",
    "# Homework #1\n",
    "<hr style=\"border-width:4px; border-color:coral\"></hr>\n",
    "\n",
    "These are taken from Trefethen and Bau (TB), Lecture 1.  \n"
   ]
  },
  {
   "cell_type": "markdown",
   "metadata": {},
   "source": [
    "## Problem 1 (TB 1.1)\n",
    "<hr style=\"border-width:2px; border-color:black\"></hr>\n",
    "\n",
    "\n",
    "Exercise 1.1 (Lecture 1), Trefethen and Bau, page 9.  Define $B$ as the $4 \\times 4$ identity matrix.   "
   ]
  },
  {
   "cell_type": "code",
   "execution_count": 2,
   "metadata": {},
   "outputs": [
    {
     "data": {
      "text/latex": [
       "$\\displaystyle \\left[\\begin{matrix}1 & 0 & 0 & 0\\\\0 & 1 & 0 & 0\\\\0 & 0 & 1 & 0\\\\0 & 0 & 0 & 1\\end{matrix}\\right]$"
      ],
      "text/plain": [
       "Matrix([\n",
       "[1, 0, 0, 0],\n",
       "[0, 1, 0, 0],\n",
       "[0, 0, 1, 0],\n",
       "[0, 0, 0, 1]])"
      ]
     },
     "metadata": {},
     "output_type": "display_data"
    }
   ],
   "source": [
    "# Define B to be the 4x4 idenity matrix. \n",
    "\n",
    "B = sp.eye(4)\n",
    "display(B)"
   ]
  },
  {
   "cell_type": "markdown",
   "metadata": {},
   "source": [
    "Construct matrices $A_1$, $A_2$, $\\dots$ and $C_1$, $C_2$, $\\dots$ to carry out the following operations via matrix multiplication. \n",
    "\n",
    "1. Double column 1\n",
    "2. halve row 3\n",
    "3. add row 3 to row 1\n",
    "4. interchange columns 1 and 4\n",
    "5. subtract row 2 from each of the other rows\n",
    "6. replace column 4 by column 3\n",
    "7. delete column 1\n",
    "\n",
    "You should be able to write your resulting matrix as $\\dots A_3 A_2 A_1 B C_1 C_2 C_3 \\dots$. \n"
   ]
  },
  {
   "cell_type": "code",
   "execution_count": 3,
   "metadata": {},
   "outputs": [
    {
     "data": {
      "text/latex": [
       "$\\displaystyle \\left[\\begin{matrix}2 & 0 & 0 & 0\\\\0 & 1 & 0 & 0\\\\0 & 0 & 1 & 0\\\\0 & 0 & 0 & 1\\end{matrix}\\right]$"
      ],
      "text/plain": [
       "Matrix([\n",
       "[2, 0, 0, 0],\n",
       "[0, 1, 0, 0],\n",
       "[0, 0, 1, 0],\n",
       "[0, 0, 0, 1]])"
      ]
     },
     "metadata": {},
     "output_type": "display_data"
    }
   ],
   "source": [
    "# 1. Double column 1\n",
    "C1 = sp.eye(4)\n",
    "C1[0,0] = 2\n",
    "result = B*C1\n",
    "display(result)"
   ]
  },
  {
   "cell_type": "code",
   "execution_count": 4,
   "metadata": {},
   "outputs": [
    {
     "data": {
      "text/latex": [
       "$\\displaystyle \\left[\\begin{matrix}2 & 0 & 0 & 0\\\\0 & 1 & 0 & 0\\\\0 & 0 & 0.5 & 0\\\\0 & 0 & 0 & 1\\end{matrix}\\right]$"
      ],
      "text/plain": [
       "Matrix([\n",
       "[2, 0,   0, 0],\n",
       "[0, 1,   0, 0],\n",
       "[0, 0, 0.5, 0],\n",
       "[0, 0,   0, 1]])"
      ]
     },
     "metadata": {},
     "output_type": "display_data"
    }
   ],
   "source": [
    "# 2. halve row 3\n",
    "A1 = sp.eye(4)\n",
    "A1[2,2] = 0.5\n",
    "result = A1*B*C1\n",
    "display(result)"
   ]
  },
  {
   "cell_type": "code",
   "execution_count": 5,
   "metadata": {},
   "outputs": [
    {
     "data": {
      "text/latex": [
       "$\\displaystyle \\left[\\begin{matrix}2 & 0 & 0.5 & 0\\\\0 & 1 & 0 & 0\\\\0 & 0 & 0.5 & 0\\\\0 & 0 & 0 & 1\\end{matrix}\\right]$"
      ],
      "text/plain": [
       "Matrix([\n",
       "[2, 0, 0.5, 0],\n",
       "[0, 1,   0, 0],\n",
       "[0, 0, 0.5, 0],\n",
       "[0, 0,   0, 1]])"
      ]
     },
     "execution_count": 5,
     "metadata": {},
     "output_type": "execute_result"
    }
   ],
   "source": [
    "# 3. Replace row 1 with row 3 plus row 1\n",
    "#result[0,:]=result[2,:]+result[0,:]\n",
    "A2 = sp.eye(4)\n",
    "for i in range(4):\n",
    "    for j in range(4):\n",
    "        if j==i:\n",
    "            A2[i,j]=1\n",
    "        elif i==0 and j==2:\n",
    "            A2[i,j]=1            \n",
    "        else:\n",
    "            0\n",
    "A2\n",
    "result = A2* A1*B*C1\n",
    "result"
   ]
  },
  {
   "cell_type": "code",
   "execution_count": 22,
   "metadata": {},
   "outputs": [
    {
     "data": {
      "text/latex": [
       "$\\displaystyle \\left[\\begin{matrix}0 & 0 & 0 & 1\\\\0 & 1 & 0 & 0\\\\0 & 0 & 0.5 & 0\\\\2 & 0 & 0.5 & 0\\end{matrix}\\right]$"
      ],
      "text/plain": [
       "Matrix([\n",
       "[0, 0,   0, 1],\n",
       "[0, 1,   0, 0],\n",
       "[0, 0, 0.5, 0],\n",
       "[2, 0, 0.5, 0]])"
      ]
     },
     "execution_count": 22,
     "metadata": {},
     "output_type": "execute_result"
    }
   ],
   "source": [
    "# 4. Interchange row 1 and row 4\n",
    "A3=sp.zeros(4)\n",
    "A3[1,1]=A3[0,3]=A3[2,2]=A3[3,0]=1\n",
    "result=A3*A2*A1*B*C1\n",
    "result"
   ]
  },
  {
   "cell_type": "code",
   "execution_count": 27,
   "metadata": {},
   "outputs": [
    {
     "data": {
      "text/latex": [
       "$\\displaystyle \\left[\\begin{matrix}0 & -1 & 0 & 1\\\\0 & 1 & 0 & 0\\\\0 & -1 & 0.5 & 0\\\\2 & -1 & 0.5 & 0\\end{matrix}\\right]$"
      ],
      "text/plain": [
       "Matrix([\n",
       "[0, -1,   0, 1],\n",
       "[0,  1,   0, 0],\n",
       "[0, -1, 0.5, 0],\n",
       "[2, -1, 0.5, 0]])"
      ]
     },
     "execution_count": 27,
     "metadata": {},
     "output_type": "execute_result"
    }
   ],
   "source": [
    "# 5. Subtract row 2 from each of the other rows\n",
    "A4 = sp.zeros(4)\n",
    "A4[0,0]=A4[1,1]=A4[3,3]=A4[2,2]=1\n",
    "A4[0,1]=A4[2,1]=A4[3,1]=-1\n",
    "result = A4*A3*A2*A1*B*C1\n",
    "result"
   ]
  },
  {
   "cell_type": "code",
   "execution_count": 8,
   "metadata": {},
   "outputs": [],
   "source": [
    "# 6. replace column 4 by column 3\n"
   ]
  },
  {
   "cell_type": "code",
   "execution_count": 9,
   "metadata": {},
   "outputs": [],
   "source": [
    "# 7. delete column 1\n"
   ]
  },
  {
   "cell_type": "markdown",
   "metadata": {},
   "source": [
    "Represent the result as a product of three matrices, $ABC$. "
   ]
  },
  {
   "cell_type": "code",
   "execution_count": 10,
   "metadata": {},
   "outputs": [],
   "source": [
    "# Represent the result as ABC\n",
    "\n",
    "# A = ...A3*A2*A1\n",
    "# C = C1*C2*C3 ...\n",
    "\n",
    "# display(A*B*C)"
   ]
  },
  {
   "cell_type": "markdown",
   "metadata": {},
   "source": [
    "## Problem 2 \n",
    "<hr style=\"border-width:2px; border-color:black\"></hr>\n",
    "\n",
    "\n",
    "To check that the matrices you found above are correct, apply the result from Problem 1 to the matrix $B$ below\n",
    "\n",
    "\\begin{equation}\n",
    "B = \n",
    "\\begin{bmatrix}\n",
    "1 & -3 & 2 & 1 \\\\\n",
    "0 & 2 & -1 & 3 \\\\\n",
    "0 & 0 & 4 & 11 \\\\\n",
    "7 & -1 & 3 & -8\n",
    "\\end{bmatrix}\n",
    "\\end{equation}\n",
    "\n",
    "You result should be : \n",
    "\n",
    "\\begin{equation}\n",
    "B = \n",
    "\\begin{bmatrix}\n",
    "14 & -3 & 4 \\\\\n",
    "0 & -2 & 1 \\\\\n",
    "0 & -2 & 3 \\\\\n",
    "2 & -5 & 5 \n",
    "\\end{bmatrix}\n",
    "\\end{equation}\n",
    "\n"
   ]
  },
  {
   "cell_type": "code",
   "execution_count": 11,
   "metadata": {},
   "outputs": [
    {
     "data": {
      "text/latex": [
       "$\\displaystyle \\left[\\begin{matrix}1 & -3 & 2 & 1\\\\0 & 2 & -1 & 3\\\\0 & 0 & 4 & 11\\\\7 & -1 & 3 & -8\\end{matrix}\\right]$"
      ],
      "text/plain": [
       "Matrix([\n",
       "[1, -3,  2,  1],\n",
       "[0,  2, -1,  3],\n",
       "[0,  0,  4, 11],\n",
       "[7, -1,  3, -8]])"
      ]
     },
     "metadata": {},
     "output_type": "display_data"
    }
   ],
   "source": [
    "B1 = sp.Matrix([[1, -3, 2,1], [0, 2, -1, 3], [0,0,4,11], [7, -1, 3, -8]])\n",
    "display(B1)"
   ]
  },
  {
   "cell_type": "code",
   "execution_count": 12,
   "metadata": {},
   "outputs": [],
   "source": [
    "# result = A*B1*C\n",
    "# display(result)"
   ]
  },
  {
   "cell_type": "markdown",
   "metadata": {},
   "source": [
    "## Problem 3  (TB 1.3)\n",
    "<hr style=\"border-width:2px; border-color:black\"></hr>\n",
    "\n",
    "\n",
    "Exercise 1.3 (Lecture 1), Trefethen and Bau, page 10.\n",
    "\n",
    "Suppose $R$ is upper triangular, so that $r_{ij} = 0$, $i > j$.   Show that if $R$ is non-singular, then $R^{-1}$ is also upper triangular."
   ]
  },
  {
   "cell_type": "markdown",
   "metadata": {},
   "source": [
    "<hr style=\"border-width:2px; border-color:black\"></hr>\n",
    "\n",
    "#### Solution\n",
    "\n",
    "(use this space to answer this question).  You may also provide a demonstration.  "
   ]
  },
  {
   "cell_type": "markdown",
   "metadata": {},
   "source": [
    "## Problem 4 (TB 1.4)\n",
    "\n",
    "<hr style=\"border-width:2px; border-color:black\"></hr>\n",
    "\n",
    "Exercise 1.4 (Lecture 1), Trefethen and Bau, page 10. "
   ]
  },
  {
   "cell_type": "markdown",
   "metadata": {},
   "source": [
    "<hr style=\"border-width:2px; border-color:black\"></hr>\n",
    "\n",
    "#### Solution\n",
    "\n",
    "(use this space to answer this question).  "
   ]
  },
  {
   "cell_type": "code",
   "execution_count": null,
   "metadata": {},
   "outputs": [],
   "source": []
  }
 ],
 "metadata": {
  "kernelspec": {
   "display_name": "Python 3 (ipykernel)",
   "language": "python",
   "name": "python3"
  },
  "language_info": {
   "codemirror_mode": {
    "name": "ipython",
    "version": 3
   },
   "file_extension": ".py",
   "mimetype": "text/x-python",
   "name": "python",
   "nbconvert_exporter": "python",
   "pygments_lexer": "ipython3",
   "version": "3.9.7"
  }
 },
 "nbformat": 4,
 "nbformat_minor": 2
}
