{
 "cells": [
  {
   "cell_type": "code",
   "execution_count": 1,
   "id": "4acedc29",
   "metadata": {},
   "outputs": [],
   "source": [
    "import numpy as np\n",
    "from numpy import *\n",
    "\n",
    "from numpy.random import rand"
   ]
  },
  {
   "cell_type": "code",
   "execution_count": 9,
   "id": "e7106023",
   "metadata": {},
   "outputs": [],
   "source": [
    "\n",
    "#for i in range(1,5):\n",
    "    \n",
    "    #A = matrix_example(i)  # Should work for matrices of Types I, II, III and IV. \n",
    "\n",
    "    #Q,R = QR(A,'full')\n",
    "    #display_mat(\"A = \",A)\n",
    "    #display_mat(\"Q = \",Q)\n",
    "    #display_mat(\"R = \",R)\n",
    "    #display_mat(\"QR = \",Q@R)\n",
    "    #display_mat(\"Q^TQ = \",Q.T@Q)"
   ]
  },
  {
   "cell_type": "code",
   "execution_count": 10,
   "id": "82b5eee9",
   "metadata": {},
   "outputs": [
    {
     "name": "stdout",
     "output_type": "stream",
     "text": [
      "A1 = \n"
     ]
    },
    {
     "data": {
      "text/plain": [
       "array([[  1.00000000,   2.00000000,  -1.00000000],\n",
       "       [  3.00000000,   7.00000000,   4.00000000],\n",
       "       [  5.00000000,   6.00000000,   4.00000000]])"
      ]
     },
     "metadata": {},
     "output_type": "display_data"
    },
    {
     "name": "stdout",
     "output_type": "stream",
     "text": [
      "\n",
      "Q = \n"
     ]
    },
    {
     "data": {
      "text/plain": [
       "array([[  0.16903085,   0.16426846,  -0.97182532],\n",
       "       [  0.50709255,   0.83100515,   0.22866478],\n",
       "       [  0.84515425,  -0.53145678,   0.05716620]])"
      ]
     },
     "metadata": {},
     "output_type": "display_data"
    },
    {
     "name": "stdout",
     "output_type": "stream",
     "text": [
      "\n",
      "R = \n"
     ]
    },
    {
     "data": {
      "text/plain": [
       "array([[  5.91607978,   8.95863510,   5.23995638],\n",
       "       [  0.00000000,   2.95683228,   1.03392501],\n",
       "       [  0.00000000,   0.00000000,   2.11514922]])"
      ]
     },
     "metadata": {},
     "output_type": "display_data"
    },
    {
     "name": "stdout",
     "output_type": "stream",
     "text": [
      "\n",
      "QR = \n"
     ]
    },
    {
     "data": {
      "text/plain": [
       "array([[  1.00000000,   2.00000000,  -1.00000000],\n",
       "       [  3.00000000,   7.00000000,   4.00000000],\n",
       "       [  5.00000000,   6.00000000,   4.00000000]])"
      ]
     },
     "metadata": {},
     "output_type": "display_data"
    },
    {
     "name": "stdout",
     "output_type": "stream",
     "text": [
      "\n",
      "Q^TQ = \n"
     ]
    },
    {
     "data": {
      "text/plain": [
       "array([[  1.00000000,  -0.00000000,  -0.00000000],\n",
       "       [ -0.00000000,   1.00000000,  -0.00000000],\n",
       "       [ -0.00000000,  -0.00000000,   1.00000000]])"
      ]
     },
     "metadata": {},
     "output_type": "display_data"
    },
    {
     "name": "stdout",
     "output_type": "stream",
     "text": [
      "\n",
      "A2 = \n"
     ]
    },
    {
     "data": {
      "text/plain": [
       "array([[  1.00000000,   2.00000000],\n",
       "       [  3.00000000,   4.00000000],\n",
       "       [  5.00000000,  -1.00000000]])"
      ]
     },
     "metadata": {},
     "output_type": "display_data"
    },
    {
     "name": "stdout",
     "output_type": "stream",
     "text": [
      "\n",
      "Q = \n"
     ]
    },
    {
     "data": {
      "text/plain": [
       "array([[  0.16903085,   0.40318739,   0.89937117],\n",
       "       [  0.50709255,   0.74688811,  -0.43013404],\n",
       "       [  0.84515425,  -0.52877035,   0.07820619]])"
      ]
     },
     "metadata": {},
     "output_type": "display_data"
    },
    {
     "name": "stdout",
     "output_type": "stream",
     "text": [
      "\n",
      "R = \n"
     ]
    },
    {
     "data": {
      "text/plain": [
       "array([[  5.91607978,   1.52127766],\n",
       "       [  0.00000000,   4.32269757],\n",
       "       [  0.00000000,   0.00000000]])"
      ]
     },
     "metadata": {},
     "output_type": "display_data"
    },
    {
     "name": "stdout",
     "output_type": "stream",
     "text": [
      "\n",
      "QR = \n"
     ]
    },
    {
     "data": {
      "text/plain": [
       "array([[  1.00000000,   2.00000000],\n",
       "       [  3.00000000,   4.00000000],\n",
       "       [  5.00000000,  -1.00000000]])"
      ]
     },
     "metadata": {},
     "output_type": "display_data"
    },
    {
     "name": "stdout",
     "output_type": "stream",
     "text": [
      "\n",
      "Q^TQ = \n"
     ]
    },
    {
     "data": {
      "text/plain": [
       "array([[  1.00000000,   0.00000000,  -0.00000000],\n",
       "       [  0.00000000,   1.00000000,   0.00000000],\n",
       "       [ -0.00000000,   0.00000000,   1.00000000]])"
      ]
     },
     "metadata": {},
     "output_type": "display_data"
    },
    {
     "name": "stdout",
     "output_type": "stream",
     "text": [
      "\n"
     ]
    }
   ],
   "source": [
    "A = matrix_example(1)   \n",
    "Q,R = QR(A,'full')\n",
    "display_mat(\"A1 = \",A)\n",
    "display_mat(\"Q = \",Q)\n",
    "display_mat(\"R = \",R)\n",
    "display_mat(\"QR = \",Q@R)\n",
    "display_mat(\"Q^TQ = \",Q.T@Q)\n",
    "\n",
    "A = matrix_example(2)   \n",
    "Q,R = QR(A,'full')\n",
    "display_mat(\"A2 = \",A)\n",
    "display_mat(\"Q = \",Q)\n",
    "display_mat(\"R = \",R)\n",
    "display_mat(\"QR = \",Q@R)\n",
    "display_mat(\"Q^TQ = \",Q.T@Q)"
   ]
  },
  {
   "cell_type": "code",
   "execution_count": 11,
   "id": "19c98f0a",
   "metadata": {},
   "outputs": [
    {
     "name": "stdout",
     "output_type": "stream",
     "text": [
      "A3 = \n"
     ]
    },
    {
     "data": {
      "text/plain": [
       "array([[  1.00000000,   2.00000000,  -1.00000000,   7.00000000],\n",
       "       [  3.00000000,   7.00000000,   4.00000000,   9.00000000]])"
      ]
     },
     "metadata": {},
     "output_type": "display_data"
    },
    {
     "name": "stdout",
     "output_type": "stream",
     "text": [
      "\n",
      "Q = \n"
     ]
    },
    {
     "data": {
      "text/plain": [
       "array([[  0.31622777,  -0.94868330],\n",
       "       [  0.94868330,   0.31622777]])"
      ]
     },
     "metadata": {},
     "output_type": "display_data"
    },
    {
     "name": "stdout",
     "output_type": "stream",
     "text": [
      "\n",
      "R = \n"
     ]
    },
    {
     "data": {
      "text/plain": [
       "array([[  3.16227766,   7.27323862,   3.47850543,  10.75174404],\n",
       "       [  0.00000000,   0.31622777,   2.21359436,  -3.79473319]])"
      ]
     },
     "metadata": {},
     "output_type": "display_data"
    },
    {
     "name": "stdout",
     "output_type": "stream",
     "text": [
      "\n",
      "QR = \n"
     ]
    },
    {
     "data": {
      "text/plain": [
       "array([[  1.00000000,   2.00000000,  -1.00000000,   7.00000000],\n",
       "       [  3.00000000,   7.00000000,   4.00000000,   9.00000000]])"
      ]
     },
     "metadata": {},
     "output_type": "display_data"
    },
    {
     "name": "stdout",
     "output_type": "stream",
     "text": [
      "\n",
      "Q^TQ = \n"
     ]
    },
    {
     "data": {
      "text/plain": [
       "array([[  1.00000000,   0.00000000],\n",
       "       [  0.00000000,   1.00000000]])"
      ]
     },
     "metadata": {},
     "output_type": "display_data"
    },
    {
     "name": "stdout",
     "output_type": "stream",
     "text": [
      "\n",
      "A4 = \n"
     ]
    },
    {
     "data": {
      "text/plain": [
       "array([[  1.00000000,   3.00000000,   5.00000000],\n",
       "       [  1.00000000,   1.00000000,   1.00000000],\n",
       "       [  2.00000000,   4.00000000,   6.00000000]])"
      ]
     },
     "metadata": {},
     "output_type": "display_data"
    },
    {
     "name": "stdout",
     "output_type": "stream",
     "text": [
      "\n",
      "Q = \n"
     ]
    },
    {
     "data": {
      "text/plain": [
       "array([[  0.40824829,   0.70710678,   0.57735027],\n",
       "       [  0.40824829,  -0.70710678,   0.57735027],\n",
       "       [  0.81649658,   0.00000000,  -0.57735027]])"
      ]
     },
     "metadata": {},
     "output_type": "display_data"
    },
    {
     "name": "stdout",
     "output_type": "stream",
     "text": [
      "\n",
      "R = \n"
     ]
    },
    {
     "data": {
      "text/plain": [
       "array([[  2.44948974,   4.89897949,   7.34846923],\n",
       "       [  0.00000000,   1.41421356,   2.82842712],\n",
       "       [  0.00000000,   0.00000000,   0.00000000]])"
      ]
     },
     "metadata": {},
     "output_type": "display_data"
    },
    {
     "name": "stdout",
     "output_type": "stream",
     "text": [
      "\n",
      "QR = \n"
     ]
    },
    {
     "data": {
      "text/plain": [
       "array([[  1.00000000,   3.00000000,   5.00000000],\n",
       "       [  1.00000000,   1.00000000,   1.00000000],\n",
       "       [  2.00000000,   4.00000000,   6.00000000]])"
      ]
     },
     "metadata": {},
     "output_type": "display_data"
    },
    {
     "name": "stdout",
     "output_type": "stream",
     "text": [
      "\n",
      "Q^TQ = \n"
     ]
    },
    {
     "data": {
      "text/plain": [
       "array([[  1.00000000,   0.00000000,  -0.00000000],\n",
       "       [  0.00000000,   1.00000000,  -0.00000000],\n",
       "       [ -0.00000000,  -0.00000000,   1.00000000]])"
      ]
     },
     "metadata": {},
     "output_type": "display_data"
    },
    {
     "name": "stdout",
     "output_type": "stream",
     "text": [
      "\n"
     ]
    }
   ],
   "source": [
    "A = matrix_example(3)   \n",
    "Q,R = QR(A,'full')\n",
    "display_mat(\"A3 = \",A)\n",
    "display_mat(\"Q = \",Q)\n",
    "display_mat(\"R = \",R)\n",
    "display_mat(\"QR = \",Q@R)\n",
    "display_mat(\"Q^TQ = \",Q.T@Q)\n",
    "\n",
    "A = matrix_example(4)   \n",
    "Q,R = QR(A,'full')\n",
    "display_mat(\"A4 = \",A)\n",
    "display_mat(\"Q = \",Q)\n",
    "display_mat(\"R = \",R)\n",
    "display_mat(\"QR = \",Q@R)\n",
    "display_mat(\"Q^TQ = \",Q.T@Q)"
   ]
  },
  {
   "cell_type": "markdown",
   "id": "d1d49ca2",
   "metadata": {},
   "source": [
    "## Problem #4 : Uniqueness of the QR factorization\n",
    "\n",
    "<hr style=\"border-width:2px; border-color:black\"></hr>\n",
    "\n",
    "Compare your results above to the QR factorization routine in NumPy.  What can you say about the uniqueness of the reduced and full QR factorization?  Can you comment on the NumPy routine? \n",
    "\n",
    "\n"
   ]
  },
  {
   "cell_type": "code",
   "execution_count": 12,
   "id": "fef0cc86",
   "metadata": {},
   "outputs": [
    {
     "name": "stdout",
     "output_type": "stream",
     "text": [
      "q = \n"
     ]
    },
    {
     "data": {
      "text/plain": [
       "array([[ -0.16903085,  -0.40318739],\n",
       "       [ -0.50709255,  -0.74688811],\n",
       "       [ -0.84515425,   0.52877035]])"
      ]
     },
     "metadata": {},
     "output_type": "display_data"
    },
    {
     "name": "stdout",
     "output_type": "stream",
     "text": [
      "\n",
      "r = \n"
     ]
    },
    {
     "data": {
      "text/plain": [
       "array([[ -5.91607978,  -1.52127766],\n",
       "       [  0.00000000,  -4.32269757]])"
      ]
     },
     "metadata": {},
     "output_type": "display_data"
    },
    {
     "name": "stdout",
     "output_type": "stream",
     "text": [
      "\n",
      "q = \n"
     ]
    },
    {
     "data": {
      "text/plain": [
       "array([[ -0.40824829,   0.70710678,  -0.57735027],\n",
       "       [ -0.40824829,  -0.70710678,  -0.57735027],\n",
       "       [ -0.81649658,  -0.00000000,   0.57735027]])"
      ]
     },
     "metadata": {},
     "output_type": "display_data"
    },
    {
     "name": "stdout",
     "output_type": "stream",
     "text": [
      "\n",
      "r = \n"
     ]
    },
    {
     "data": {
      "text/plain": [
       "array([[ -2.44948974,  -4.89897949,  -7.34846923],\n",
       "       [  0.00000000,   1.41421356,   2.82842712],\n",
       "       [  0.00000000,   0.00000000,   0.00000000]])"
      ]
     },
     "metadata": {},
     "output_type": "display_data"
    },
    {
     "name": "stdout",
     "output_type": "stream",
     "text": [
      "\n"
     ]
    }
   ],
   "source": [
    "# I wonder why np.linalg.qr sometimes displays full matrices for mode = 'reduced'\n",
    "\n",
    "\n",
    "A = matrix_example(2)\n",
    "\n",
    "q,r = np.linalg.qr(A)\n",
    "\n",
    "display_mat(\"q = \",q)\n",
    "display_mat(\"r = \",r)\n",
    "A = matrix_example(4)\n",
    "\n",
    "q,r = np.linalg.qr(A)\n",
    "\n",
    "display_mat(\"q = \",q)\n",
    "display_mat(\"r = \",r)"
   ]
  },
  {
   "cell_type": "markdown",
   "id": "013d4ce7",
   "metadata": {},
   "source": [
    "Except for the difference in the signs on the entries of $Q$ and $R$, the\n",
    "QR factorization routine in NumPy gives the same results as the corresponding reduced or full QR factorization for all the types.\n",
    "\n",
    "For types I and II that is matrices with $m\\geq n$ and full column rank, both the reduced and full QR factorization will always be unique. However, for types III and IV  the reduced QR factorization is unique but the full QR factorization is not unique since we get other columns of $Q$ from the null space of $Q^T$ and also because the columns in the original matrices are not linearly independent."
   ]
  },
  {
   "cell_type": "markdown",
   "id": "a369a7c4",
   "metadata": {},
   "source": [
    "## Problem #5 \n",
    "\n",
    "<hr style=\"border-width:2px; border-color:black\"></hr>\n",
    "\n",
    "Suppose we have planes $P^{(1)}$ and $P^{(2)}$ in $\\mathbb R^3$ given by \n",
    "\n",
    "\\begin{equation}\n",
    "P^{(1)} = \\langle \\mathbf x^{(1)}, \\mathbf y^{(1)}\\rangle, \\qquad \n",
    "P^{(2)}\\langle \\mathbf x^{(2)}, \\mathbf y^{(2)}\\rangle\n",
    "\\end{equation}\n",
    "\n",
    "where $\\mathbf x^{(1)}, \\mathbf y^{(1)} \\in \\mathbb R^3$ are linearly independent and  $\\mathbf x^{(2)}, \\mathbf y^{(2)} \\in \\mathbb R^3$ are linearly independent. \n",
    "\n",
    "**(a)** How can you find $P^{(1)} \\cap P^{(2)}$ using a $QR$ decomposition?  **Hint:** Use the full $QR$ decomposition.  \n",
    "\n",
    "**(b)** Find the intersection of the planes described by the following two sets of vectors. \n",
    "\n",
    "\\begin{equation}\n",
    "\\mathbf x^{(1)} = \\begin{bmatrix} 1\\\\2\\\\-1 \\end{bmatrix}, \\qquad\n",
    "\\mathbf y^{(1)} = \\begin{bmatrix} 3\\\\0\\\\5 \\end{bmatrix}, \\qquad\n",
    "\\mathbf x^{(2)} = \\begin{bmatrix} 7\\\\-3\\\\1 \\end{bmatrix}, \\qquad\n",
    "\\mathbf y^{(2)} = \\begin{bmatrix} 0\\\\4\\\\8 \\end{bmatrix}\n",
    "\\end{equation}\n",
    "\n",
    "**(c)** Construct projections $P_1$ onto $P^{(1)}$ and $P_2$ onto $P^{(2)}$ and show that for some $\\mathbf v \\in P^{(1)} \\cap P^{(2)}$, we have $P_1 \\mathbf v = P_2 \\mathbf v = \\mathbf v$.  Verify the result by displaying \n",
    "\n",
    "\\begin{equation}\n",
    "\\Vert P_1 \\mathbf v - \\mathbf v \\Vert, \\qquad \\Vert P_2 \\mathbf v - \\mathbf v \\Vert\n",
    "\\end{equation}\n",
    "\n",
    "**Hint:** You only need to verify this numerically for one $\\mathbf v$.  Use the $QR$ decompositions to easily compute the projections.\n"
   ]
  },
  {
   "cell_type": "markdown",
   "id": "df4ade20",
   "metadata": {},
   "source": [
    "### Solution\n",
    "**(a)**\n",
    "\n",
    "\n",
    "Let $P$= $P^{(1)}$ $\\cap$ $P^{(2)}$.\n",
    "This means that $P$ is a straight line which is orthogonal to the cross products $x^{(1)}\\times y^{(1)}$ and $x^{(2)}\\times y^{(2)}$.\n",
    "\n",
    "From $QR$ decomposition, we notice that the columnns $q_j$ for $j>n$(number of columns) of matrix $Q$ are in the range(A). This means that the third column of $Q$ with respect to plane $P^{(1)}$  should be equivalent to $x^{(1)}\\times y^{(1)}$, similarly  the third column of $Q$ with respect to plane $P^{(2)}$  should be equivalent to $x^{(2)}\\times y^{(2)}$.\n",
    "The $QR$ decompositon of the two third columns from the $Q's$ with respect to two planes above results into a vector $v\\in P$ and this occupies the last column of this new Q and $v$ is orthogonal to the first two columns of new Q. \n"
   ]
  },
  {
   "cell_type": "markdown",
   "id": "fab2969f",
   "metadata": {},
   "source": [
    "**(b)**"
   ]
  },
  {
   "cell_type": "code",
   "execution_count": 13,
   "id": "cb65c7df",
   "metadata": {},
   "outputs": [
    {
     "name": "stdout",
     "output_type": "stream",
     "text": [
      "The intersection P = \n"
     ]
    },
    {
     "data": {
      "text/plain": [
       "array([[  0.57735027],\n",
       "       [  0.11547005],\n",
       "       [  0.80829038]])"
      ]
     },
     "metadata": {},
     "output_type": "display_data"
    },
    {
     "name": "stdout",
     "output_type": "stream",
     "text": [
      "\n"
     ]
    }
   ],
   "source": [
    "#\n",
    "P_1 = np.array(np.mat('1,3;2,0; -1,5'),dtype='float') #plane 1\n",
    "P_2 = np.array(np.mat('7,0;-3,4;1,8'),dtype='float') #plane 2\n",
    "\n",
    "q1,r1 = QR(P_1,'full')\n",
    "q2,r2 = QR(P_2,'full')\n",
    "\n",
    "m,n =q1.shape\n",
    "\n",
    "q13 = q1[:,n-1:n]\n",
    "q23 = q2[:,n-1:n]\n",
    "\n",
    "qo = np.column_stack([q13,q23])\n",
    "q,r = QR(qo,'full')\n",
    " # The third column of q gives the vector in the intersection of the two planes\n",
    "display_mat(\"The intersection P = \",q[:,n-1:n])"
   ]
  },
  {
   "cell_type": "markdown",
   "id": "6f5d82de",
   "metadata": {},
   "source": [
    "**(c)**"
   ]
  },
  {
   "cell_type": "code",
   "execution_count": 14,
   "id": "cd25dee2",
   "metadata": {},
   "outputs": [
    {
     "name": "stdout",
     "output_type": "stream",
     "text": [
      "Projection P_1 onto P^(1) = \n"
     ]
    },
    {
     "data": {
      "text/plain": [
       "array([[  0.50000000,   0.40000000,   0.30000000],\n",
       "       [  0.40000000,   0.68000000,  -0.24000000],\n",
       "       [  0.30000000,  -0.24000000,   0.82000000]])"
      ]
     },
     "metadata": {},
     "output_type": "display_data"
    },
    {
     "name": "stdout",
     "output_type": "stream",
     "text": [
      "\n",
      "Projection P_2 onto P^(2) = \n"
     ]
    },
    {
     "data": {
      "text/plain": [
       "array([[  0.83333333,  -0.33333333,   0.16666667],\n",
       "       [ -0.33333333,   0.33333333,   0.33333333],\n",
       "       [  0.16666667,   0.33333333,   0.83333333]])"
      ]
     },
     "metadata": {},
     "output_type": "display_data"
    },
    {
     "name": "stdout",
     "output_type": "stream",
     "text": [
      "\n",
      "v = \n"
     ]
    },
    {
     "data": {
      "text/plain": [
       "array([[  0.57735027],\n",
       "       [  0.11547005],\n",
       "       [  0.80829038]])"
      ]
     },
     "metadata": {},
     "output_type": "display_data"
    },
    {
     "name": "stdout",
     "output_type": "stream",
     "text": [
      "\n",
      "P1v = \n"
     ]
    },
    {
     "data": {
      "text/plain": [
       "array([[  0.57735027],\n",
       "       [  0.11547005],\n",
       "       [  0.80829038]])"
      ]
     },
     "metadata": {},
     "output_type": "display_data"
    },
    {
     "name": "stdout",
     "output_type": "stream",
     "text": [
      "\n",
      "P2v = \n"
     ]
    },
    {
     "data": {
      "text/plain": [
       "array([[  0.57735027],\n",
       "       [  0.11547005],\n",
       "       [  0.80829038]])"
      ]
     },
     "metadata": {},
     "output_type": "display_data"
    },
    {
     "name": "stdout",
     "output_type": "stream",
     "text": [
      "\n",
      " ‖P1v-v‖ = \n"
     ]
    },
    {
     "data": {
      "text/plain": [
       "1.0295784775289034e-15"
      ]
     },
     "metadata": {},
     "output_type": "display_data"
    },
    {
     "name": "stdout",
     "output_type": "stream",
     "text": [
      "\n",
      "‖P2v-v‖ = \n"
     ]
    },
    {
     "data": {
      "text/plain": [
       "2.8609792490763985e-16"
      ]
     },
     "metadata": {},
     "output_type": "display_data"
    },
    {
     "name": "stdout",
     "output_type": "stream",
     "text": [
      "\n"
     ]
    }
   ],
   "source": [
    "v = q[:,n-1:n]\n",
    "P1 = q1[:,0:2]@q1[:,0:2].T #Projection P1\n",
    "P2 = q2[:,0:2]@q2[:,0:2].T #Projection P2\n",
    "display_mat(\"Projection P_1 onto P^(1) = \",P1)\n",
    "display_mat(\"Projection P_2 onto P^(2) = \",P2)\n",
    "display_mat(\"v = \",v)\n",
    "display_mat(\"P1v = \",P1@v)\n",
    "display_mat(\"P2v = \",P2@v)\n",
    "display_mat(\" ‖P1v-v‖ = \",np.linalg.norm(P1@v-v))\n",
    "display_mat(\"‖P2v-v‖ = \",np.linalg.norm(P2@v-v))\n"
   ]
  },
  {
   "cell_type": "markdown",
   "id": "146b4959",
   "metadata": {},
   "source": [
    "From above, since $\\left \\Vert P_1v-v \\right \\Vert = 0$ and $\\left \\Vert P_2v-v \\right \\Vert = 0$, then $P_1v=P_2v=v$. "
   ]
  },
  {
   "cell_type": "code",
   "execution_count": null,
   "id": "6cca5798",
   "metadata": {},
   "outputs": [],
   "source": []
  }
 ],
 "metadata": {
  "kernelspec": {
   "display_name": "Python 3 (ipykernel)",
   "language": "python",
   "name": "python3"
  },
  "language_info": {
   "codemirror_mode": {
    "name": "ipython",
    "version": 3
   },
   "file_extension": ".py",
   "mimetype": "text/x-python",
   "name": "python",
   "nbconvert_exporter": "python",
   "pygments_lexer": "ipython3",
   "version": "3.9.7"
  }
 },
 "nbformat": 4,
 "nbformat_minor": 5
}
