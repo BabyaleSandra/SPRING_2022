{
 "cells": [
  {
   "cell_type": "code",
   "execution_count": 2,
   "id": "4acedc29",
   "metadata": {},
   "outputs": [],
   "source": [
    "from numpy import *"
   ]
  },
  {
   "cell_type": "markdown",
   "id": "6977e028",
   "metadata": {},
   "source": [
    "<hr style=\"border-width:4px; border-color:coral\"></hr>\n",
    "\n",
    "# Homework #5\n",
    "\n",
    "<hr style=\"border-width:4px; border-color:coral\"></hr>\n",
    "\n"
   ]
  },
  {
   "cell_type": "markdown",
   "id": "93837310",
   "metadata": {},
   "source": [
    "## Problem #1\n",
    "\n",
    "<hr style=\"border-width:2px; border-color:black\"></hr>\n",
    "\n",
    "Each matrix $A \\in \\mathbf C^{m \\times n}$ with rank $r$ can be categorized as one of four types:\n",
    "\n",
    "<table style=\"font-size:12pt\">\n",
    "    <tr>\n",
    "        <td style=\"width:75px\">Type I</td>  \n",
    "        <td style=\"width:350px\">$A$ is non-singular</td>\n",
    "        <td style=\"width:150px\">$m = n = r$</td>        \n",
    "    </tr>\n",
    "    <tr>\n",
    "        <td>Type II</td>  \n",
    "        <td>$A$ has full column rank but not full row rank</td>\n",
    "        <td>$m > n = r$</td>        \n",
    "    </tr>\n",
    "    <tr>\n",
    "        <td>Type III</td>  \n",
    "        <td>$A$ has full row rank but not full column rank</td>\n",
    "        <td>$m = r < n$</td>        \n",
    "    </tr>\n",
    "    <tr>\n",
    "        <td>Type IV</td>  \n",
    "        <td>$A$ has neither full row rank or full column rank</td>\n",
    "        <td>$m > r$ and $n > r$</td>        \n",
    "    </tr>\n",
    "</table>    \n",
    "\n",
    "**(a)** For each type matrix, determine the dimensions of $Q$ and $R$ for the **reduced** $QR$ factorization. \n",
    "Describe the structure of the matrix $R$ in terms of a square, upper triangular block and a non-zero rectangular block.  Provide the dimensions of each of the sub-blocks that appear in $R$ for each matrix type.  \n",
    "\n",
    "**(b)** Repeat the above for the **full** $QR$ factorization. Describe the structure of the matrix $R$ in terms of a square, upper triangular block, a non-zero rectangular block and one or more zero sub-blocks. Provide the dimensions of each of the sub-blocks that appear in $R$ for each matrix type.  \n",
    "\n",
    "**(c)** For the full factorization, from what space are any additional vectors needed to extend $Q$ taken?  **Hint:** Consider what $Q^T A$ has to be to properly recover $R$.  \n"
   ]
  },
  {
   "cell_type": "markdown",
   "id": "657e2748",
   "metadata": {},
   "source": [
    "#### Solution\n",
    "\n",
    "Include your solution here. "
   ]
  },
  {
   "cell_type": "markdown",
   "id": "e9e48d80",
   "metadata": {},
   "source": [
    "## Problem #2 : Reduced factorizations for all four matrix types\n",
    "\n",
    "<hr style=\"border-width:2px; border-color:black\"></hr>\n",
    "\n",
    "The Gram-Schmidt code demonstrated in class was limited to matrices $A$ of Type I or Type II only.  If the $n > m$ or the columns were linearly dependent, the code would return with an error.  The goal of this problem is to fix the Modified Gram-Schmidt code so that it can return **reduced** factorizations for all four types of matrices.  \n",
    "\n",
    "The code below includes the Modified Gram-Schmidt code (called `MGS` here) demonstrated in class, in addition to a \"wrapper\" function which we will use to actually call the MGS routine.   This wrapper function, called `QR` provides the user interface to the `MGS` code.   For this problem, you will only need to modify the `MGS` to handle Type III matrices.  \n",
    "\n",
    "Also below are two routines which can be used to select matrices of types I, II, III or IV, and to display results. \n",
    "\n",
    "#### Task \n",
    "\n",
    "**Fix** the routine MGS so that we can get rid of the two `assert` statements in the code.  The resulting code should be able to produce reduced factorizations for all four matrix types. "
   ]
  },
  {
   "cell_type": "code",
   "execution_count": null,
   "id": "124e6df4",
   "metadata": {},
   "outputs": [],
   "source": [
    "fstr = {'float' : \"{:>12.8f}\".format}\n",
    "set_printoptions(formatter=fstr)\n",
    "\n",
    "def display_mat(msg,A):\n",
    "    print(msg)\n",
    "    display(A)\n",
    "    print(\"\")"
   ]
  },
  {
   "cell_type": "markdown",
   "id": "3dc886b0",
   "metadata": {},
   "source": [
    "The following routine is used to select sample matrices of four different types. "
   ]
  },
  {
   "cell_type": "code",
   "execution_count": null,
   "id": "795f39d3",
   "metadata": {},
   "outputs": [],
   "source": [
    "def matrix_example(mat_type):\n",
    "\n",
    "    # Type I : m == n == r\n",
    "    A1 = np.array(np.mat('1,2,-1; 3,7,4; 5,6,4'),dtype='float')\n",
    "\n",
    "    # Type II : m > n=r   (full column rank)\n",
    "    A2 = np.array(np.mat('1,2; 3,4; 5,-1'),dtype='float')\n",
    "\n",
    "    # Type III : m = r < n (full row rank)\n",
    "    A3 = np.array(np.mat('1,2,-1,7; 3,7,4,9'),dtype='float')\n",
    "\n",
    "    # Type IV :  m > r and n > r\n",
    "    A4 = np.array(np.mat('1, 3, 5; 1,1,1; 2,4,6'),dtype='float')\n",
    "    \n",
    "    A_choice = (A1, A2, A3, A4)\n",
    "\n",
    "    assert mat_type > 0 and mat_type < 5, \"mat_type must be in [1,4]\"\n",
    "\n",
    "    return A_choice[mat_type-1]"
   ]
  },
  {
   "cell_type": "markdown",
   "id": "7bc3950c",
   "metadata": {},
   "source": [
    "This the Modified Gram-Schmidt (MGS) routine demonstrated in class.  It only handles reduced factorizations for Type I and Type II matrices.  Matrices of Type III and IV will return an error.   In Problem #2, you will modify the Gram-Schmidt routine below to return reduced QR factorizations for all four matrix types."
   ]
  },
  {
   "cell_type": "code",
   "execution_count": null,
   "id": "502f0dd4",
   "metadata": {},
   "outputs": [],
   "source": [
    "def MGS(A,tol=1e-12):\n",
    "    m,n = A.shape\n",
    "    assert n <= m, 'We must have n <= m'\n",
    "    R = np.zeros((n,n))\n",
    "    Q = np.zeros((m,n))\n",
    "    V = A.copy()\n",
    "    P = array([True]*n, dtype=bool)  # Hint!\n",
    "    # Loop over all columns of V. \n",
    "    for i in range(n):\n",
    "        # Assign qi to unit vector in direction vi\n",
    "        v = V[:,i:i+1]\n",
    "        R[i,i] = np.linalg.norm(v,2)\n",
    "        assert R[i,i] > tol, \"Columns are not linearly independent.\"\n",
    "        qi = v/R[i,i]\n",
    "        Q[:,i:i+1] = qi\n",
    "        # Orthogalize remaining vectors vk, k = i+1,...,n against qi\n",
    "        for j in range(i+1,n):            \n",
    "            vj = V[:,j:j+1]\n",
    "            R[i,j] = vj.T@qi\n",
    "            vj = vj - R[i,j]*qi\n",
    "            V[:,j:j+1] = vj\n",
    "\n",
    "            vjp1 = V[:,j:j+1]\n",
    "        \n",
    "    return Q,R,P"
   ]
  },
  {
   "cell_type": "markdown",
   "id": "599b89b7",
   "metadata": {},
   "source": [
    "In this assigment, you will not call Gram-Schmidt directly, but rather call the `QR` wrapper routine below.  By default, this routine will return a reduced factorization.  To get the full factorization set the mode to `full`.  In Problem #3, you will modify this code to return a full factorization for all four matrix types."
   ]
  },
  {
   "cell_type": "code",
   "execution_count": 36,
   "id": "2f8a02ef",
   "metadata": {},
   "outputs": [],
   "source": [
    "def QR(A,mode='reduced'):\n",
    "    \n",
    "    Q1,R1,P = MGS(A)\n",
    "    \n",
    "    # Extract columns and rows of Q and R using Boolean vector.\n",
    "    Q = Q1[:,P]\n",
    "    R = R1[P,:]\n",
    "    \n",
    "    if mode == 'full':\n",
    "        # Construct any remaining vectors (if needed); augment R with blocks of zeros.\n",
    "        pass\n",
    "\n",
    "    return Q,R"
   ]
  },
  {
   "cell_type": "markdown",
   "id": "9499f6b1",
   "metadata": {},
   "source": [
    "You can test out your code with the following test cases.  Your code should return the correct reduced QR factorizatoin for all four matrix types."
   ]
  },
  {
   "cell_type": "code",
   "execution_count": 42,
   "id": "93227a2e",
   "metadata": {},
   "outputs": [
    {
     "name": "stdout",
     "output_type": "stream",
     "text": [
      "A = \n"
     ]
    },
    {
     "data": {
      "text/plain": [
       "array([[  1.00000000,   2.00000000,  -1.00000000],\n",
       "       [  3.00000000,   7.00000000,   4.00000000],\n",
       "       [  5.00000000,   6.00000000,   4.00000000]])"
      ]
     },
     "metadata": {},
     "output_type": "display_data"
    },
    {
     "name": "stdout",
     "output_type": "stream",
     "text": [
      "\n",
      "Q = \n"
     ]
    },
    {
     "data": {
      "text/plain": [
       "array([[  0.16903085,   0.16426846,  -0.97182532],\n",
       "       [  0.50709255,   0.83100515,   0.22866478],\n",
       "       [  0.84515425,  -0.53145678,   0.05716620]])"
      ]
     },
     "metadata": {},
     "output_type": "display_data"
    },
    {
     "name": "stdout",
     "output_type": "stream",
     "text": [
      "\n",
      "R = \n"
     ]
    },
    {
     "data": {
      "text/plain": [
       "array([[  5.91607978,   8.95863510,   5.23995638],\n",
       "       [  0.00000000,   2.95683228,   1.03392501],\n",
       "       [  0.00000000,   0.00000000,   2.11514922]])"
      ]
     },
     "metadata": {},
     "output_type": "display_data"
    },
    {
     "name": "stdout",
     "output_type": "stream",
     "text": [
      "\n",
      "QR = \n"
     ]
    },
    {
     "data": {
      "text/plain": [
       "array([[  1.00000000,   2.00000000,  -1.00000000],\n",
       "       [  3.00000000,   7.00000000,   4.00000000],\n",
       "       [  5.00000000,   6.00000000,   4.00000000]])"
      ]
     },
     "metadata": {},
     "output_type": "display_data"
    },
    {
     "name": "stdout",
     "output_type": "stream",
     "text": [
      "\n",
      "Q^TQ = \n"
     ]
    },
    {
     "data": {
      "text/plain": [
       "array([[  1.00000000,   0.00000000,  -0.00000000],\n",
       "       [  0.00000000,   1.00000000,  -0.00000000],\n",
       "       [ -0.00000000,  -0.00000000,   1.00000000]])"
      ]
     },
     "metadata": {},
     "output_type": "display_data"
    },
    {
     "name": "stdout",
     "output_type": "stream",
     "text": [
      "\n"
     ]
    }
   ],
   "source": [
    "# Test out your code to get reduced factorizations for all four types.  \n",
    "\n",
    "A = matrix_example(1)  # Should work for matrix types 1,2,3,4\n",
    "\n",
    "display_mat(\"A = \",A)\n",
    "\n",
    "Q,R = QR(A)\n",
    "display_mat(\"Q = \",Q)\n",
    "display_mat(\"R = \",R)\n",
    "display_mat(\"QR = \",Q@R)\n",
    "display_mat(\"Q^TQ = \",Q.T@Q)"
   ]
  },
  {
   "cell_type": "markdown",
   "id": "4e470352",
   "metadata": {},
   "source": [
    "## Problem #3 : Full factorizations\n",
    "\n",
    "<hr style=\"border-width:2px; border-color:black\"></hr>\n",
    "\n",
    "Finally, we want to be able to create full $QR$ factorization.   To do this, we will need to be able to extend $Q$ with additional vectors in the space orthogonal to $\\mbox{Col}(A)$.   \n",
    "\n",
    "To get these additional vectors, we will use the following fact about random matrices\n",
    "\n",
    "<hr style=\"border-width:2px; border-color:black\"></hr>\n",
    "\n",
    "#### Random matrices\n",
    "\n",
    "Given a matrix $B \\in \\mathbb R^{m \\times n}$ whose entries are taken from a uniformly distributed random sampling, \n",
    "one of the following is true (with probability 1) \n",
    "\n",
    "* If $m < n$, $B$ will have full row rank, \n",
    "* If $m > n$, $B$ will have column row rank, or\n",
    "* If $m = n$, $B$ is nonsingular.\n",
    "\n",
    "<hr style=\"border-width:2px; border-color:black\"></hr>\n",
    "\n",
    "We can use the above fact to find vectors in the space orthogonal to $\\mbox{Col}(A)$ by orthogonalizing a random matrix $B$ against vectors $\\mathbf q_i, i = 1,2,\\dots,r$.  \n",
    "\n",
    "In NumPy, we can construct a random matrix with the following code:\n",
    "\n",
    "    from numpy.random import rand\n",
    "    B = rand(m,n)\n",
    "\n",
    "#### Task\n",
    "\n",
    "Complete the `QR` code above to return a full QR factorization for each of the four types of matrices.  **Hint:** use the random matrix idea and two passes of MGS.  "
   ]
  },
  {
   "cell_type": "code",
   "execution_count": 13,
   "id": "e7106023",
   "metadata": {},
   "outputs": [
    {
     "name": "stdout",
     "output_type": "stream",
     "text": [
      "Q = \n"
     ]
    },
    {
     "data": {
      "text/plain": [
       "array([[  0.31622777,  -0.94868330,  -0.37139068,  -0.92847669],\n",
       "       [  0.94868330,   0.31622777,  -0.92847669,   0.37139068]])"
      ]
     },
     "metadata": {},
     "output_type": "display_data"
    },
    {
     "name": "stdout",
     "output_type": "stream",
     "text": [
      "\n",
      "R = \n"
     ]
    },
    {
     "data": {
      "text/plain": [
       "array([[  3.16227766,   7.27323862,   3.47850543,  10.75174404],\n",
       "       [  0.00000000,   0.31622777,   2.21359436,  -3.79473319],\n",
       "       [  0.00000000,   0.00000000,   0.00000000,  -0.00000000],\n",
       "       [  0.00000000,   0.00000000,   0.00000000,   0.00000000]])"
      ]
     },
     "metadata": {},
     "output_type": "display_data"
    },
    {
     "name": "stdout",
     "output_type": "stream",
     "text": [
      "\n",
      "QR = \n"
     ]
    },
    {
     "data": {
      "text/plain": [
       "array([[  1.00000000,   2.00000000,  -1.00000000,   7.00000000],\n",
       "       [  3.00000000,   7.00000000,   4.00000000,   9.00000000]])"
      ]
     },
     "metadata": {},
     "output_type": "display_data"
    },
    {
     "name": "stdout",
     "output_type": "stream",
     "text": [
      "\n",
      "Q^TQ = \n"
     ]
    },
    {
     "data": {
      "text/plain": [
       "array([[  1.00000000,   0.00000000,  -0.99827437,   0.05872202],\n",
       "       [  0.00000000,   1.00000000,   0.05872202,   0.99827437],\n",
       "       [ -0.99827437,   0.05872202,   1.00000000,  -0.00000000],\n",
       "       [  0.05872202,   0.99827437,  -0.00000000,   1.00000000]])"
      ]
     },
     "metadata": {},
     "output_type": "display_data"
    },
    {
     "name": "stdout",
     "output_type": "stream",
     "text": [
      "\n"
     ]
    }
   ],
   "source": [
    "A = matrix_example(1)  # Should work for matrices of Types I, II, III and IV. \n",
    "\n",
    "Q,R = QR(A,mode='full')\n",
    "display_mat(\"Q = \",Q)\n",
    "display_mat(\"R = \",R)\n",
    "display_mat(\"QR = \",Q@R)\n",
    "display_mat(\"Q^TQ = \",Q.T@Q)"
   ]
  },
  {
   "cell_type": "markdown",
   "id": "d1d49ca2",
   "metadata": {},
   "source": [
    "## Problem #4 : Uniqueness of the QR factorization\n",
    "\n",
    "<hr style=\"border-width:2px; border-color:black\"></hr>\n",
    "\n",
    "Compare your results above to the QR factorization routine in NumPy.  What can you say about the uniqueness of the reduced and full QR factorization?  Can you comment on the NumPy routine? \n",
    "\n",
    "\n"
   ]
  },
  {
   "cell_type": "code",
   "execution_count": 41,
   "id": "fef0cc86",
   "metadata": {},
   "outputs": [
    {
     "name": "stdout",
     "output_type": "stream",
     "text": [
      "q = \n"
     ]
    },
    {
     "data": {
      "text/plain": [
       "array([[ -0.16903085,  -0.40318739],\n",
       "       [ -0.50709255,  -0.74688811],\n",
       "       [ -0.84515425,   0.52877035]])"
      ]
     },
     "metadata": {},
     "output_type": "display_data"
    },
    {
     "name": "stdout",
     "output_type": "stream",
     "text": [
      "\n",
      "r = \n"
     ]
    },
    {
     "data": {
      "text/plain": [
       "array([[ -5.91607978,  -1.52127766],\n",
       "       [  0.00000000,  -4.32269757]])"
      ]
     },
     "metadata": {},
     "output_type": "display_data"
    },
    {
     "name": "stdout",
     "output_type": "stream",
     "text": [
      "\n"
     ]
    }
   ],
   "source": [
    "A = matrix_example(1)\n",
    "\n",
    "q,r = linalg.qr(A)\n",
    "\n",
    "display_mat(\"q = \",q)\n",
    "display_mat(\"r = \",r)"
   ]
  },
  {
   "cell_type": "markdown",
   "id": "169448f6",
   "metadata": {},
   "source": [
    "## Problem #5 : TBA\n",
    "\n",
    "<hr style=\"border-width:2px; border-color:black\"></hr>\n",
    "\n",
    "Stay tuned. "
   ]
  },
  {
   "cell_type": "code",
   "execution_count": null,
   "id": "13c2c11c",
   "metadata": {},
   "outputs": [],
   "source": []
  }
 ],
 "metadata": {
  "kernelspec": {
   "display_name": "Python 3 (ipykernel)",
   "language": "python",
   "name": "python3"
  },
  "language_info": {
   "codemirror_mode": {
    "name": "ipython",
    "version": 3
   },
   "file_extension": ".py",
   "mimetype": "text/x-python",
   "name": "python",
   "nbconvert_exporter": "python",
   "pygments_lexer": "ipython3",
   "version": "3.9.7"
  }
 },
 "nbformat": 4,
 "nbformat_minor": 5
}
