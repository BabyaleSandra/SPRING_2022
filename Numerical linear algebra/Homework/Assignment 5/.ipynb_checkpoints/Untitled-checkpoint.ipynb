{
 "cells": [
  {
   "cell_type": "code",
   "execution_count": null,
   "id": "553feddd",
   "metadata": {},
   "outputs": [],
   "source": [
    "def MGS(A,tol=1e-12):\n",
    "    m,n = A.shape\n",
    "    R = np.zeros((n,n))\n",
    "    Q = np.zeros((m,n))\n",
    "    V = A.copy()\n",
    "    P = array([True]*n, dtype=bool)  # Hint!\n",
    "    # Loop over all columns of V. \n",
    "    for i in range(n):\n",
    "        # Assign qi to unit vector in direction vi\n",
    "        v = V[:,i:i+1]\n",
    "        R[i,i] = np.linalg.norm(v,2)\n",
    "        if R[i,i]>tol:\n",
    "            qi = v/R[i,i]\n",
    "            Q[:,i:i+1] = qi\n",
    "            for j in range(i+1,n):\n",
    "                vj = V[:,j:j+1]\n",
    "            R[i,j] = vj.T@qi\n",
    "            V[:,j:j+1] = vj - R[i,j]*qi\n",
    "        else:P[i] = array([False]*n, dtype=bool)\n",
    "            \n",
    "        # Orthogalize remaining vectors vj, j = i+1,...,n against qi\n",
    "                         \n",
    "            \n",
    "    return Q,R,P"
   ]
  }
 ],
 "metadata": {
  "kernelspec": {
   "display_name": "Python 3 (ipykernel)",
   "language": "python",
   "name": "python3"
  },
  "language_info": {
   "codemirror_mode": {
    "name": "ipython",
    "version": 3
   },
   "file_extension": ".py",
   "mimetype": "text/x-python",
   "name": "python",
   "nbconvert_exporter": "python",
   "pygments_lexer": "ipython3",
   "version": "3.9.7"
  }
 },
 "nbformat": 4,
 "nbformat_minor": 5
}
