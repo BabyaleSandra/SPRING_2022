{
 "cells": [
  {
   "cell_type": "code",
   "execution_count": 1,
   "id": "4acedc29",
   "metadata": {},
   "outputs": [],
   "source": [
    "import numpy as np\n",
    "from numpy import *\n",
    "\n",
    "from numpy.random import rand"
   ]
  },
  {
   "cell_type": "markdown",
   "id": "6977e028",
   "metadata": {},
   "source": [
    "<hr style=\"border-width:4px; border-color:coral\"></hr>\n",
    "\n",
    "# Homework #5\n",
    "\n",
    "<hr style=\"border-width:4px; border-color:coral\"></hr>\n",
    "\n"
   ]
  },
  {
   "cell_type": "markdown",
   "id": "93837310",
   "metadata": {},
   "source": [
    "## Problem #1\n",
    "\n",
    "<hr style=\"border-width:2px; border-color:black\"></hr>\n",
    "\n",
    "Each matrix $A \\in \\mathbf C^{m \\times n}$ with rank $r$ can be categorized as one of four types:\n",
    "\n",
    "<table style=\"font-size:12pt\">\n",
    "    <tr>\n",
    "        <td style=\"width:75px\">Type I</td>  \n",
    "        <td style=\"width:350px\">$A$ is non-singular</td>\n",
    "        <td style=\"width:150px\">$m = n = r$</td>        \n",
    "    </tr>\n",
    "    <tr>\n",
    "        <td>Type II</td>  \n",
    "        <td>$A$ has full column rank but not full row rank</td>\n",
    "        <td>$m > n = r$</td>        \n",
    "    </tr>\n",
    "    <tr>\n",
    "        <td>Type III</td>  \n",
    "        <td>$A$ has full row rank but not full column rank</td>\n",
    "        <td>$m = r < n$</td>        \n",
    "    </tr>\n",
    "    <tr>\n",
    "        <td>Type IV</td>  \n",
    "        <td>$A$ has neither full row rank or full column rank</td>\n",
    "        <td>$m > r$ and $n > r$</td>        \n",
    "    </tr>\n",
    "</table>    \n",
    "\n",
    "**(a)** For each type matrix, determine the dimensions of $Q$ and $R$ for the **reduced** $QR$ factorization. \n",
    "Describe the structure of the matrix $R$ in terms of a square, upper triangular block and a non-zero rectangular block.  Provide the dimensions of each of the sub-blocks that appear in $R$ for each matrix type.  \n",
    "\n",
    "**(b)** Repeat the above for the **full** $QR$ factorization. Describe the structure of the matrix $R$ in terms of a square, upper triangular block, a non-zero rectangular block and one or more zero sub-blocks. Provide the dimensions of each of the sub-blocks that appear in $R$ for each matrix type.  \n",
    "\n",
    "**(c)** For the full factorization, from what space are any additional vectors needed to extend $Q$ taken?  **Hint:** Consider what $Q^T A$ has to be to properly recover $R$.  \n"
   ]
  },
  {
   "cell_type": "markdown",
   "id": "657e2748",
   "metadata": {},
   "source": [
    "#### Solution\n",
    "\n",
    "**(a)**\n",
    "$$~~~~~$$\n",
    "$\\underline{\\textbf{Type I}}$\n",
    "$$~~~~~$$\n",
    "Since $m=n=r$, then $Q$ is $m\\times m$ and $R$ is also $m\\times m$.\n",
    "$$~~~~~$$\n",
    "The structure of matrix $R$ is given by;\n",
    "\n",
    "$R = \\begin{bmatrix} \\bar{R} \\end{bmatrix}$ where $\\bar{R}$ is a  $m\\times m$ square upper triangular block.\n",
    "\n",
    "$$~~~~~$$\n",
    "$\\underline{\\textbf{Type II}}$\n",
    "$$~~~~~$$\n",
    "Since $m>n=r$ $Q$ is $m\\times r$ and $R$ is $r\\times r$.\n",
    "$$~~~~~$$\n",
    "The structure of matrix $R$ is given by;\n",
    "\n",
    "$R = \\begin{bmatrix} \\bar{R} \\end{bmatrix}$ where $\\bar{R}$ is a  $r\\times r$ square upper triangular block.\n",
    "\n",
    "\n",
    "$$~~~~~$$\n",
    "$\\underline{\\textbf{Type III}}$\n",
    "$$~~~~~$$\n",
    "Since $m=r<n$, then $Q$ is $m\\times m$ and $R$ is  $m\\times n$.\n",
    "$$~~~~~$$\n",
    "The structure of matrix $R$ is given by;\n",
    "\n",
    "$R = \\begin{bmatrix} \\bar{R} & M \\end{bmatrix}$ where $\\bar{R}$ is a  $r\\times r$ square upper triangular block and $M$ is a $r\\times (n-r)$ non-zero rectangular block.\n",
    "\n",
    "$$~~~~~$$\n",
    "$\\underline{\\textbf{Type IV}}$\n",
    "$$~~~~~$$\n",
    "Since $m>r$ and $n>r$, then $Q$ is $m\\times r$ and $R$ is  $r\\times n$.\n",
    "$$~~~~~$$\n",
    "The structure of matrix $R$ is given by;\n",
    "\n",
    "$R = \\begin{bmatrix} \\bar{R}& M \\end{bmatrix}$ where $\\bar{R}$ is a  $r\\times r$ square upper triangular block and $M$ is a $r\\times (n-r)$ non-zero rectangular block.\n",
    "\n",
    "\n",
    "\n",
    "\n",
    "\n",
    "\n",
    "\n",
    "**(b)**\n",
    "$$~~~~~$$\n",
    "$\\underline{\\textbf{Type I}}$\n",
    "$$~~~~~$$\n",
    "Since $m=n=r$, then $Q$ is $m\\times m$ and $R$ is also $m\\times m$.\n",
    "$$~~~~~$$\n",
    "The structure of matrix $R$ is given by;\n",
    "$R = \\begin{bmatrix} \\bar{R} \\end{bmatrix}$ where $\\bar{R}$ is a  $m\\times m$ square upper triangular block.\n",
    "\n",
    "$$~~~~~$$\n",
    "$\\underline{\\textbf{Type II}}$\n",
    "$$~~~~~$$\n",
    "Since $m>n=r$ $Q$ is $m\\times m$ and $R$ is $m\\times r$.\n",
    "$$~~~~~$$\n",
    "The structure of matrix $R$ is given by;\n",
    "\n",
    "$R = \\begin{bmatrix} \\bar{R}\\\\ O \\end{bmatrix}$ where $\\bar{R}$ is a  $r\\times r$ square upper triangular block and $ O $ is a zero $(m-r)\\times r$ block .\n",
    "\n",
    "\n",
    "$$~~~~~$$\n",
    "$\\underline{\\textbf{Type III}}$\n",
    "$$~~~~~$$\n",
    "Since $m=r<n$, then $Q$ is $m\\times m$ and $R$ is  $m\\times n$.\n",
    "$$~~~~~$$\n",
    "The structure of matrix $R$ is given by;\n",
    "\n",
    "$R = \\begin{bmatrix} \\bar{R} & M \\end{bmatrix}$ where $\\bar{R}$ is a  $r\\times r$ square upper triangular block and $M$ is a $r\\times (n-r)$ non-zero rectangular block.\n",
    "\n",
    "\n",
    "$$~~~~~$$\n",
    "$\\underline{\\textbf{Type IV}}$\n",
    "$$~~~~~$$\n",
    "Since $m>r$ and $n>r$, then $Q$ is $m\\times m$ and $R$ is  $m\\times n$.\n",
    "$$~~~~~$$\n",
    "The structure of matrix $R$ is given by;\n",
    "\n",
    "$R = \\begin{bmatrix} \\bar{R}& M \\\\O_1&O_2\\end{bmatrix}$ where $\\bar{R}$ is a  $r\\times r$ square upper triangular block , $M$ is a $r\\times (n-r)$ non-zero rectangular block, $O_1$ is a $(m-r)\\times r$ zero sub-block and $O_2$ is a $(m-r)\\times (n-r)$ zero sub-block .\n",
    "\n",
    "$$~~~~~~$$\n",
    "**(c)**\n",
    "$$~~~~~~$$\n",
    "\n",
    "For the full factorization, if we are to properly recover $R$ that is;\n",
    "$Q^T A = R$, then any additional vectors needed to extend  $Q$ are taken from the normalized basis of the null space of $Q^T$."
   ]
  },
  {
   "cell_type": "markdown",
   "id": "e9e48d80",
   "metadata": {},
   "source": [
    "## Problem #2 : Reduced factorizations\n",
    "\n",
    "<hr style=\"border-width:2px; border-color:black\"></hr>\n",
    "\n",
    "The Gram-Schmidt code demonstrated in class was limited to matrices $A$ of Type I or Type II only.  If the $n > m$ or the columns were linearly dependent, the code would return with an error.  The goal of this problem is to fix the Modified Gram-Schmidt code so that it can return **reduced** factorizations for all four types of matrices.  \n",
    "\n",
    "The code below includes the Modified Gram-Schmidt code (called `MGS` here) demonstrated in class, in addition to a \"wrapper\" function which we will use to actually call the MGS routine.   This wrapper function, called `QR` provides the user interface to the `MGS` code.   For this problem, you will only need to modify the `MGS` to handle Type III and IV matrices.  \n",
    "\n",
    "Also below are two routines which can be used to select matrices of types I, II, III or IV, and to display results. \n",
    "\n",
    "#### Task \n",
    "\n",
    "**Fix** the routine MGS so that we can get rid of the two `assert` statements in the code.  The resulting code should be able to produce reduced factorizations for all four matrix types. "
   ]
  },
  {
   "cell_type": "code",
   "execution_count": 2,
   "id": "61ea44bd",
   "metadata": {},
   "outputs": [],
   "source": [
    "fstr = {'float' : \"{:>12.8f}\".format}\n",
    "set_printoptions(formatter=fstr)\n",
    "\n",
    "def display_mat(msg,A):\n",
    "    print(msg)\n",
    "    display(A)\n",
    "    print(\"\")"
   ]
  },
  {
   "cell_type": "markdown",
   "id": "bcf5fb5b",
   "metadata": {},
   "source": [
    "The following routine is used to select sample matrices of four different types. "
   ]
  },
  {
   "cell_type": "code",
   "execution_count": 3,
   "id": "486d124b",
   "metadata": {},
   "outputs": [],
   "source": [
    "def matrix_example(mat_type):\n",
    "\n",
    "    # Type I : m == n == r\n",
    "    A1 = np.array(np.mat('1,2,-1; 3,7,4; 5,6,4'),dtype='float')\n",
    "\n",
    "    # Type II : m > n=r   (full column rank)\n",
    "    A2 = np.array(np.mat('1,2; 3,4; 5,-1'),dtype='float')\n",
    "\n",
    "    # Type III : m = r < n (full row rank)\n",
    "    A3 = np.array(np.mat('1,2,-1,7; 3,7,4,9'),dtype='float')\n",
    "\n",
    "    # Type IV :  m > r and n > r\n",
    "    A4 = np.array(np.mat('1, 3, 5; 1,1,1; 2,4,6'),dtype='float')\n",
    "    \n",
    "    A_choice = (A1, A2, A3, A4)\n",
    "\n",
    "    assert mat_type > 0 and mat_type < 5, \"mat_type must be in [1,4]\"\n",
    "\n",
    "    return A_choice[mat_type-1]"
   ]
  },
  {
   "cell_type": "markdown",
   "id": "4add4724",
   "metadata": {},
   "source": [
    "This the Modified Gram-Schmidt (MGS) routine demonstrated in class.  It only handles reduced factorizations for Type I and Type II matrices.  Matrices of Type III and IV will return an error.   In Problem #2, you will modify the Gram-Schmidt routine below to return reduced QR factorizations for all four matrix types."
   ]
  },
  {
   "cell_type": "code",
   "execution_count": 4,
   "id": "f764c38c",
   "metadata": {
    "scrolled": true
   },
   "outputs": [],
   "source": [
    "def MGS(A,tol=1e-12):\n",
    "    m,n = A.shape\n",
    "    R = np.zeros((n,n))\n",
    "    Q = np.zeros((m,n))\n",
    "    V = A.copy()\n",
    "    P = array([True]*n, dtype=bool)  # Hint!\n",
    "    # Loop over all columns of V. \n",
    "    for i in range(n):\n",
    "        # Assign qi to unit vector in direction vi\n",
    "        v = V[:,i:i+1]\n",
    "        R[i,i] = np.linalg.norm(v,2)\n",
    "        if R[i,i]<tol:\n",
    "            P[i] = False\n",
    "            \n",
    "        elif R[i,i]==0:\n",
    "            P[i] = False\n",
    "            \n",
    "        else :\n",
    "            #P[i] = 1\n",
    "            qi = v/R[i,i]\n",
    "            Q[:,i:i+1] = qi\n",
    "            for j in range(i+1,n):\n",
    "                vj = V[:,j:j+1]\n",
    "                R[i,j] = vj.T@qi\n",
    "                V[:,j:j+1] = vj - R[i,j]*qi       \n",
    "        \n",
    "    return Q,R,P\n",
    "\n"
   ]
  },
  {
   "cell_type": "markdown",
   "id": "27fe8d61",
   "metadata": {},
   "source": [
    "In this assigment, you will not call Gram-Schmidt directly, but rather call the `QR` wrapper routine below.  By default, this routine will return a reduced factorization.  To get the full factorization set the mode to `full`.  In Problem #3, you will modify this code to return a full factorization for all four matrix types."
   ]
  },
  {
   "cell_type": "code",
   "execution_count": 5,
   "id": "2f8a02ef",
   "metadata": {},
   "outputs": [],
   "source": [
    "# \"Wrapper\" function for Gram-Schmidt code, above.\n",
    "def QR(A,mode='reduced'):\n",
    "    \n",
    "    Q1,R1,P = MGS(A)\n",
    "    Q = Q1[:,P]\n",
    "    R = R1[P,:]\n",
    "    #m,r = Q.shape\n",
    "    #r,n = R.shape\n",
    "    m,n = A.shape\n",
    "    r=(P==True).sum()\n",
    "   \n",
    "    B = rand(m,abs(m-r))\n",
    "    \n",
    "    ## Extract columns and rows of Q and R using Boolean vector.\n",
    "    if mode == 'full':\n",
    "        Q2 = np.column_stack([Q,B])\n",
    "        Q3,R3,P = MGS(Q2)\n",
    "        R0 = np.zeros((m-r,n))\n",
    "        R1 = np.row_stack((R,R0))\n",
    "        R=R1\n",
    "        Q=Q3\n",
    "    return Q,R\n",
    "    \n"
   ]
  },
  {
   "cell_type": "markdown",
   "id": "9499f6b1",
   "metadata": {},
   "source": [
    "You can test out your code with the following test cases.  Your code should return the correct reduced QR factorizatoin for all four matrix types."
   ]
  },
  {
   "cell_type": "code",
   "execution_count": 6,
   "id": "5ceb92a3",
   "metadata": {},
   "outputs": [],
   "source": [
    "#for i in range(1,5):\n",
    "    \n",
    "    #A = matrix_example(i)  # Should work for matrices of Types I, II, III and IV. \n",
    "\n",
    "    #Q,R = QR(A,)\n",
    "    #display_mat(\"A1 = \",A)\n",
    "    #display_mat(\"Q = \",Q)\n",
    "    #display_mat(\"R = \",R)\n",
    "    #display_mat(\"QR = \",Q@R)\n",
    "    #display_mat(\"Q^TQ = \",Q.T@Q)"
   ]
  },
  {
   "cell_type": "code",
   "execution_count": 7,
   "id": "93227a2e",
   "metadata": {},
   "outputs": [
    {
     "name": "stdout",
     "output_type": "stream",
     "text": [
      "A1 = \n"
     ]
    },
    {
     "data": {
      "text/plain": [
       "array([[  1.00000000,   2.00000000,  -1.00000000],\n",
       "       [  3.00000000,   7.00000000,   4.00000000],\n",
       "       [  5.00000000,   6.00000000,   4.00000000]])"
      ]
     },
     "metadata": {},
     "output_type": "display_data"
    },
    {
     "name": "stdout",
     "output_type": "stream",
     "text": [
      "\n",
      "Q = \n"
     ]
    },
    {
     "data": {
      "text/plain": [
       "array([[  0.16903085,   0.16426846,  -0.97182532],\n",
       "       [  0.50709255,   0.83100515,   0.22866478],\n",
       "       [  0.84515425,  -0.53145678,   0.05716620]])"
      ]
     },
     "metadata": {},
     "output_type": "display_data"
    },
    {
     "name": "stdout",
     "output_type": "stream",
     "text": [
      "\n",
      "R = \n"
     ]
    },
    {
     "data": {
      "text/plain": [
       "array([[  5.91607978,   8.95863510,   5.23995638],\n",
       "       [  0.00000000,   2.95683228,   1.03392501],\n",
       "       [  0.00000000,   0.00000000,   2.11514922]])"
      ]
     },
     "metadata": {},
     "output_type": "display_data"
    },
    {
     "name": "stdout",
     "output_type": "stream",
     "text": [
      "\n",
      "QR = \n"
     ]
    },
    {
     "data": {
      "text/plain": [
       "array([[  1.00000000,   2.00000000,  -1.00000000],\n",
       "       [  3.00000000,   7.00000000,   4.00000000],\n",
       "       [  5.00000000,   6.00000000,   4.00000000]])"
      ]
     },
     "metadata": {},
     "output_type": "display_data"
    },
    {
     "name": "stdout",
     "output_type": "stream",
     "text": [
      "\n",
      "Q^TQ = \n"
     ]
    },
    {
     "data": {
      "text/plain": [
       "array([[  1.00000000,  -0.00000000,  -0.00000000],\n",
       "       [ -0.00000000,   1.00000000,  -0.00000000],\n",
       "       [ -0.00000000,  -0.00000000,   1.00000000]])"
      ]
     },
     "metadata": {},
     "output_type": "display_data"
    },
    {
     "name": "stdout",
     "output_type": "stream",
     "text": [
      "\n",
      "A2 = \n"
     ]
    },
    {
     "data": {
      "text/plain": [
       "array([[  1.00000000,   2.00000000],\n",
       "       [  3.00000000,   4.00000000],\n",
       "       [  5.00000000,  -1.00000000]])"
      ]
     },
     "metadata": {},
     "output_type": "display_data"
    },
    {
     "name": "stdout",
     "output_type": "stream",
     "text": [
      "\n",
      "Q = \n"
     ]
    },
    {
     "data": {
      "text/plain": [
       "array([[  1.00000000,   0.00000000],\n",
       "       [  0.00000000,   1.00000000]])"
      ]
     },
     "metadata": {},
     "output_type": "display_data"
    },
    {
     "name": "stdout",
     "output_type": "stream",
     "text": [
      "\n",
      "R = \n"
     ]
    },
    {
     "data": {
      "text/plain": [
       "array([[  5.91607978,   1.52127766],\n",
       "       [  0.00000000,   4.32269757]])"
      ]
     },
     "metadata": {},
     "output_type": "display_data"
    },
    {
     "name": "stdout",
     "output_type": "stream",
     "text": [
      "\n",
      "QR = \n"
     ]
    },
    {
     "data": {
      "text/plain": [
       "array([[  1.00000000,   2.00000000],\n",
       "       [  3.00000000,   4.00000000],\n",
       "       [  5.00000000,  -1.00000000]])"
      ]
     },
     "metadata": {},
     "output_type": "display_data"
    },
    {
     "name": "stdout",
     "output_type": "stream",
     "text": [
      "\n",
      "Q^TQ = \n"
     ]
    },
    {
     "data": {
      "text/plain": [
       "array([[  1.00000000,   0.00000000],\n",
       "       [  0.00000000,   1.00000000]])"
      ]
     },
     "metadata": {},
     "output_type": "display_data"
    },
    {
     "name": "stdout",
     "output_type": "stream",
     "text": [
      "\n"
     ]
    }
   ],
   "source": [
    "\n",
    "#for i in range(1,5):\n",
    "A = matrix_example(1)\n",
    "Q,R = QR(A,)\n",
    "display_mat(\"A1 = \",A)\n",
    "display_mat(\"Q = \",Q)\n",
    "display_mat(\"R = \",R)\n",
    "display_mat(\"QR = \",Q@R)\n",
    "display_mat(\"Q^TQ = \",Q.T@Q)\n",
    "\n",
    "A = matrix_example(2)\n",
    "Q,R = QR(A,)\n",
    "display_mat(\"A2 = \",A)\n",
    "display_mat(\"Q = \",Q.T@Q)\n",
    "display_mat(\"R = \",R)\n",
    "display_mat(\"QR = \",Q@R)\n",
    "display_mat(\"Q^TQ = \",Q.T@Q)\n",
    "\n"
   ]
  },
  {
   "cell_type": "code",
   "execution_count": 8,
   "id": "8c5b78e0",
   "metadata": {},
   "outputs": [
    {
     "name": "stdout",
     "output_type": "stream",
     "text": [
      "A3 = \n"
     ]
    },
    {
     "data": {
      "text/plain": [
       "array([[  1.00000000,   2.00000000,  -1.00000000,   7.00000000],\n",
       "       [  3.00000000,   7.00000000,   4.00000000,   9.00000000]])"
      ]
     },
     "metadata": {},
     "output_type": "display_data"
    },
    {
     "name": "stdout",
     "output_type": "stream",
     "text": [
      "\n",
      "Q = \n"
     ]
    },
    {
     "data": {
      "text/plain": [
       "array([[  0.31622777,  -0.94868330],\n",
       "       [  0.94868330,   0.31622777]])"
      ]
     },
     "metadata": {},
     "output_type": "display_data"
    },
    {
     "name": "stdout",
     "output_type": "stream",
     "text": [
      "\n",
      "R = \n"
     ]
    },
    {
     "data": {
      "text/plain": [
       "array([[  3.16227766,   7.27323862,   3.47850543,  10.75174404],\n",
       "       [  0.00000000,   0.31622777,   2.21359436,  -3.79473319]])"
      ]
     },
     "metadata": {},
     "output_type": "display_data"
    },
    {
     "name": "stdout",
     "output_type": "stream",
     "text": [
      "\n",
      "QR = \n"
     ]
    },
    {
     "data": {
      "text/plain": [
       "array([[  1.00000000,   2.00000000,  -1.00000000,   7.00000000],\n",
       "       [  3.00000000,   7.00000000,   4.00000000,   9.00000000]])"
      ]
     },
     "metadata": {},
     "output_type": "display_data"
    },
    {
     "name": "stdout",
     "output_type": "stream",
     "text": [
      "\n",
      "Q^TQ = \n"
     ]
    },
    {
     "data": {
      "text/plain": [
       "array([[  1.00000000,   0.00000000],\n",
       "       [  0.00000000,   1.00000000]])"
      ]
     },
     "metadata": {},
     "output_type": "display_data"
    },
    {
     "name": "stdout",
     "output_type": "stream",
     "text": [
      "\n",
      "A4 = \n"
     ]
    },
    {
     "data": {
      "text/plain": [
       "array([[  1.00000000,   3.00000000,   5.00000000],\n",
       "       [  1.00000000,   1.00000000,   1.00000000],\n",
       "       [  2.00000000,   4.00000000,   6.00000000]])"
      ]
     },
     "metadata": {},
     "output_type": "display_data"
    },
    {
     "name": "stdout",
     "output_type": "stream",
     "text": [
      "\n",
      "Q = \n"
     ]
    },
    {
     "data": {
      "text/plain": [
       "array([[  0.40824829,   0.70710678],\n",
       "       [  0.40824829,  -0.70710678],\n",
       "       [  0.81649658,  -0.00000000]])"
      ]
     },
     "metadata": {},
     "output_type": "display_data"
    },
    {
     "name": "stdout",
     "output_type": "stream",
     "text": [
      "\n",
      "R = \n"
     ]
    },
    {
     "data": {
      "text/plain": [
       "array([[  2.44948974,   4.89897949,   7.34846923],\n",
       "       [  0.00000000,   1.41421356,   2.82842712]])"
      ]
     },
     "metadata": {},
     "output_type": "display_data"
    },
    {
     "name": "stdout",
     "output_type": "stream",
     "text": [
      "\n",
      "QR = \n"
     ]
    },
    {
     "data": {
      "text/plain": [
       "array([[  1.00000000,   3.00000000,   5.00000000],\n",
       "       [  1.00000000,   1.00000000,   1.00000000],\n",
       "       [  2.00000000,   4.00000000,   6.00000000]])"
      ]
     },
     "metadata": {},
     "output_type": "display_data"
    },
    {
     "name": "stdout",
     "output_type": "stream",
     "text": [
      "\n",
      "Q^TQ = \n"
     ]
    },
    {
     "data": {
      "text/plain": [
       "array([[  1.00000000,  -0.00000000],\n",
       "       [ -0.00000000,   1.00000000]])"
      ]
     },
     "metadata": {},
     "output_type": "display_data"
    },
    {
     "name": "stdout",
     "output_type": "stream",
     "text": [
      "\n"
     ]
    }
   ],
   "source": [
    "A = matrix_example(3)\n",
    "Q,R = QR(A,)\n",
    "display_mat(\"A3 = \",A)\n",
    "display_mat(\"Q = \",Q)\n",
    "display_mat(\"R = \",R)\n",
    "display_mat(\"QR = \",Q@R)\n",
    "display_mat(\"Q^TQ = \",Q.T@Q)\n",
    "\n",
    "A = matrix_example(4)\n",
    "Q,R = QR(A,)\n",
    "display_mat(\"A4 = \",A)\n",
    "display_mat(\"Q = \",Q)\n",
    "display_mat(\"R = \",R)\n",
    "display_mat(\"QR = \",Q@R)\n",
    "display_mat(\"Q^TQ = \",Q.T@Q)\n"
   ]
  },
  {
   "cell_type": "code",
   "execution_count": null,
   "id": "606b2688",
   "metadata": {},
   "outputs": [],
   "source": []
  },
  {
   "cell_type": "markdown",
   "id": "4e470352",
   "metadata": {},
   "source": [
    "## Problem #3 : Full factorizations\n",
    "\n",
    "<hr style=\"border-width:2px; border-color:black\"></hr>\n",
    "\n",
    "Finally, we want to be able to create full $QR$ factorization.   To do this, we will need to be able to extend $Q$ with additional vectors in the space orthogonal to $\\mbox{Col}(A)$.   \n",
    "\n",
    "To get these additional vectors, we will use the following fact about random matrices\n",
    "\n",
    "<hr style=\"border-width:2px; border-color:black\"></hr>\n",
    "\n",
    "#### Random matrices\n",
    "\n",
    "Given a matrix $B \\in \\mathbb R^{m \\times n}$ whose entries are taken from a uniformly distributed random sampling, $B$ will have full rank (with probability 1).\n",
    "\n",
    "<hr style=\"border-width:2px; border-color:black\"></hr>\n",
    "\n",
    "We can use the above fact to find vectors in the space orthogonal to $\\mbox{Col}(A)$ by orthogonalizing a random matrix $B$ against vectors $\\mathbf q_i, i = 1,2,\\dots,r$.  \n",
    "\n",
    "In NumPy, we can construct a random matrix with the following code:\n",
    "\n",
    "    from numpy.random import rand\n",
    "    B = rand(m,n)\n",
    "\n",
    "#### Task\n",
    "\n",
    "Complete the `QR` code above to return a full QR factorization for each of the four types of matrices.  **Hint:** use the random matrix idea and two passes of MGS.  "
   ]
  },
  {
   "cell_type": "code",
   "execution_count": 9,
   "id": "e7106023",
   "metadata": {},
   "outputs": [],
   "source": [
    "\n",
    "#for i in range(1,5):\n",
    "    \n",
    "    #A = matrix_example(i)  # Should work for matrices of Types I, II, III and IV. \n",
    "\n",
    "    #Q,R = QR(A,'full')\n",
    "    #display_mat(\"A = \",A)\n",
    "    #display_mat(\"Q = \",Q)\n",
    "    #display_mat(\"R = \",R)\n",
    "    #display_mat(\"QR = \",Q@R)\n",
    "    #display_mat(\"Q^TQ = \",Q.T@Q)"
   ]
  },
  {
   "cell_type": "code",
   "execution_count": 10,
   "id": "82b5eee9",
   "metadata": {},
   "outputs": [
    {
     "name": "stdout",
     "output_type": "stream",
     "text": [
      "A1 = \n"
     ]
    },
    {
     "data": {
      "text/plain": [
       "array([[  1.00000000,   2.00000000,  -1.00000000],\n",
       "       [  3.00000000,   7.00000000,   4.00000000],\n",
       "       [  5.00000000,   6.00000000,   4.00000000]])"
      ]
     },
     "metadata": {},
     "output_type": "display_data"
    },
    {
     "name": "stdout",
     "output_type": "stream",
     "text": [
      "\n",
      "Q = \n"
     ]
    },
    {
     "data": {
      "text/plain": [
       "array([[  0.16903085,   0.16426846,  -0.97182532],\n",
       "       [  0.50709255,   0.83100515,   0.22866478],\n",
       "       [  0.84515425,  -0.53145678,   0.05716620]])"
      ]
     },
     "metadata": {},
     "output_type": "display_data"
    },
    {
     "name": "stdout",
     "output_type": "stream",
     "text": [
      "\n",
      "R = \n"
     ]
    },
    {
     "data": {
      "text/plain": [
       "array([[  5.91607978,   8.95863510,   5.23995638],\n",
       "       [  0.00000000,   2.95683228,   1.03392501],\n",
       "       [  0.00000000,   0.00000000,   2.11514922]])"
      ]
     },
     "metadata": {},
     "output_type": "display_data"
    },
    {
     "name": "stdout",
     "output_type": "stream",
     "text": [
      "\n",
      "QR = \n"
     ]
    },
    {
     "data": {
      "text/plain": [
       "array([[  1.00000000,   2.00000000,  -1.00000000],\n",
       "       [  3.00000000,   7.00000000,   4.00000000],\n",
       "       [  5.00000000,   6.00000000,   4.00000000]])"
      ]
     },
     "metadata": {},
     "output_type": "display_data"
    },
    {
     "name": "stdout",
     "output_type": "stream",
     "text": [
      "\n",
      "Q^TQ = \n"
     ]
    },
    {
     "data": {
      "text/plain": [
       "array([[  1.00000000,  -0.00000000,  -0.00000000],\n",
       "       [ -0.00000000,   1.00000000,  -0.00000000],\n",
       "       [ -0.00000000,  -0.00000000,   1.00000000]])"
      ]
     },
     "metadata": {},
     "output_type": "display_data"
    },
    {
     "name": "stdout",
     "output_type": "stream",
     "text": [
      "\n",
      "A2 = \n"
     ]
    },
    {
     "data": {
      "text/plain": [
       "array([[  1.00000000,   2.00000000],\n",
       "       [  3.00000000,   4.00000000],\n",
       "       [  5.00000000,  -1.00000000]])"
      ]
     },
     "metadata": {},
     "output_type": "display_data"
    },
    {
     "name": "stdout",
     "output_type": "stream",
     "text": [
      "\n",
      "Q = \n"
     ]
    },
    {
     "data": {
      "text/plain": [
       "array([[  0.16903085,   0.40318739,   0.89937117],\n",
       "       [  0.50709255,   0.74688811,  -0.43013404],\n",
       "       [  0.84515425,  -0.52877035,   0.07820619]])"
      ]
     },
     "metadata": {},
     "output_type": "display_data"
    },
    {
     "name": "stdout",
     "output_type": "stream",
     "text": [
      "\n",
      "R = \n"
     ]
    },
    {
     "data": {
      "text/plain": [
       "array([[  5.91607978,   1.52127766],\n",
       "       [  0.00000000,   4.32269757],\n",
       "       [  0.00000000,   0.00000000]])"
      ]
     },
     "metadata": {},
     "output_type": "display_data"
    },
    {
     "name": "stdout",
     "output_type": "stream",
     "text": [
      "\n",
      "QR = \n"
     ]
    },
    {
     "data": {
      "text/plain": [
       "array([[  1.00000000,   2.00000000],\n",
       "       [  3.00000000,   4.00000000],\n",
       "       [  5.00000000,  -1.00000000]])"
      ]
     },
     "metadata": {},
     "output_type": "display_data"
    },
    {
     "name": "stdout",
     "output_type": "stream",
     "text": [
      "\n",
      "Q^TQ = \n"
     ]
    },
    {
     "data": {
      "text/plain": [
       "array([[  1.00000000,   0.00000000,  -0.00000000],\n",
       "       [  0.00000000,   1.00000000,   0.00000000],\n",
       "       [ -0.00000000,   0.00000000,   1.00000000]])"
      ]
     },
     "metadata": {},
     "output_type": "display_data"
    },
    {
     "name": "stdout",
     "output_type": "stream",
     "text": [
      "\n"
     ]
    }
   ],
   "source": [
    "A = matrix_example(1)   \n",
    "Q,R = QR(A,'full')\n",
    "display_mat(\"A1 = \",A)\n",
    "display_mat(\"Q = \",Q)\n",
    "display_mat(\"R = \",R)\n",
    "display_mat(\"QR = \",Q@R)\n",
    "display_mat(\"Q^TQ = \",Q.T@Q)\n",
    "\n",
    "A = matrix_example(2)   \n",
    "Q,R = QR(A,'full')\n",
    "display_mat(\"A2 = \",A)\n",
    "display_mat(\"Q = \",Q)\n",
    "display_mat(\"R = \",R)\n",
    "display_mat(\"QR = \",Q@R)\n",
    "display_mat(\"Q^TQ = \",Q.T@Q)"
   ]
  },
  {
   "cell_type": "code",
   "execution_count": 11,
   "id": "19c98f0a",
   "metadata": {},
   "outputs": [
    {
     "name": "stdout",
     "output_type": "stream",
     "text": [
      "A3 = \n"
     ]
    },
    {
     "data": {
      "text/plain": [
       "array([[  1.00000000,   2.00000000,  -1.00000000,   7.00000000],\n",
       "       [  3.00000000,   7.00000000,   4.00000000,   9.00000000]])"
      ]
     },
     "metadata": {},
     "output_type": "display_data"
    },
    {
     "name": "stdout",
     "output_type": "stream",
     "text": [
      "\n",
      "Q = \n"
     ]
    },
    {
     "data": {
      "text/plain": [
       "array([[  0.31622777,  -0.94868330],\n",
       "       [  0.94868330,   0.31622777]])"
      ]
     },
     "metadata": {},
     "output_type": "display_data"
    },
    {
     "name": "stdout",
     "output_type": "stream",
     "text": [
      "\n",
      "R = \n"
     ]
    },
    {
     "data": {
      "text/plain": [
       "array([[  3.16227766,   7.27323862,   3.47850543,  10.75174404],\n",
       "       [  0.00000000,   0.31622777,   2.21359436,  -3.79473319]])"
      ]
     },
     "metadata": {},
     "output_type": "display_data"
    },
    {
     "name": "stdout",
     "output_type": "stream",
     "text": [
      "\n",
      "QR = \n"
     ]
    },
    {
     "data": {
      "text/plain": [
       "array([[  1.00000000,   2.00000000,  -1.00000000,   7.00000000],\n",
       "       [  3.00000000,   7.00000000,   4.00000000,   9.00000000]])"
      ]
     },
     "metadata": {},
     "output_type": "display_data"
    },
    {
     "name": "stdout",
     "output_type": "stream",
     "text": [
      "\n",
      "Q^TQ = \n"
     ]
    },
    {
     "data": {
      "text/plain": [
       "array([[  1.00000000,   0.00000000],\n",
       "       [  0.00000000,   1.00000000]])"
      ]
     },
     "metadata": {},
     "output_type": "display_data"
    },
    {
     "name": "stdout",
     "output_type": "stream",
     "text": [
      "\n",
      "A4 = \n"
     ]
    },
    {
     "data": {
      "text/plain": [
       "array([[  1.00000000,   3.00000000,   5.00000000],\n",
       "       [  1.00000000,   1.00000000,   1.00000000],\n",
       "       [  2.00000000,   4.00000000,   6.00000000]])"
      ]
     },
     "metadata": {},
     "output_type": "display_data"
    },
    {
     "name": "stdout",
     "output_type": "stream",
     "text": [
      "\n",
      "Q = \n"
     ]
    },
    {
     "data": {
      "text/plain": [
       "array([[  0.40824829,   0.70710678,   0.57735027],\n",
       "       [  0.40824829,  -0.70710678,   0.57735027],\n",
       "       [  0.81649658,   0.00000000,  -0.57735027]])"
      ]
     },
     "metadata": {},
     "output_type": "display_data"
    },
    {
     "name": "stdout",
     "output_type": "stream",
     "text": [
      "\n",
      "R = \n"
     ]
    },
    {
     "data": {
      "text/plain": [
       "array([[  2.44948974,   4.89897949,   7.34846923],\n",
       "       [  0.00000000,   1.41421356,   2.82842712],\n",
       "       [  0.00000000,   0.00000000,   0.00000000]])"
      ]
     },
     "metadata": {},
     "output_type": "display_data"
    },
    {
     "name": "stdout",
     "output_type": "stream",
     "text": [
      "\n",
      "QR = \n"
     ]
    },
    {
     "data": {
      "text/plain": [
       "array([[  1.00000000,   3.00000000,   5.00000000],\n",
       "       [  1.00000000,   1.00000000,   1.00000000],\n",
       "       [  2.00000000,   4.00000000,   6.00000000]])"
      ]
     },
     "metadata": {},
     "output_type": "display_data"
    },
    {
     "name": "stdout",
     "output_type": "stream",
     "text": [
      "\n",
      "Q^TQ = \n"
     ]
    },
    {
     "data": {
      "text/plain": [
       "array([[  1.00000000,   0.00000000,  -0.00000000],\n",
       "       [  0.00000000,   1.00000000,  -0.00000000],\n",
       "       [ -0.00000000,  -0.00000000,   1.00000000]])"
      ]
     },
     "metadata": {},
     "output_type": "display_data"
    },
    {
     "name": "stdout",
     "output_type": "stream",
     "text": [
      "\n"
     ]
    }
   ],
   "source": [
    "A = matrix_example(3)   \n",
    "Q,R = QR(A,'full')\n",
    "display_mat(\"A3 = \",A)\n",
    "display_mat(\"Q = \",Q)\n",
    "display_mat(\"R = \",R)\n",
    "display_mat(\"QR = \",Q@R)\n",
    "display_mat(\"Q^TQ = \",Q.T@Q)\n",
    "\n",
    "A = matrix_example(4)   \n",
    "Q,R = QR(A,'full')\n",
    "display_mat(\"A4 = \",A)\n",
    "display_mat(\"Q = \",Q)\n",
    "display_mat(\"R = \",R)\n",
    "display_mat(\"QR = \",Q@R)\n",
    "display_mat(\"Q^TQ = \",Q.T@Q)"
   ]
  },
  {
   "cell_type": "markdown",
   "id": "d1d49ca2",
   "metadata": {},
   "source": [
    "## Problem #4 : Uniqueness of the QR factorization\n",
    "\n",
    "<hr style=\"border-width:2px; border-color:black\"></hr>\n",
    "\n",
    "Compare your results above to the QR factorization routine in NumPy.  What can you say about the uniqueness of the reduced and full QR factorization?  Can you comment on the NumPy routine? \n",
    "\n",
    "\n"
   ]
  },
  {
   "cell_type": "code",
   "execution_count": 12,
   "id": "fef0cc86",
   "metadata": {},
   "outputs": [
    {
     "name": "stdout",
     "output_type": "stream",
     "text": [
      "q = \n"
     ]
    },
    {
     "data": {
      "text/plain": [
       "array([[ -0.16903085,  -0.40318739],\n",
       "       [ -0.50709255,  -0.74688811],\n",
       "       [ -0.84515425,   0.52877035]])"
      ]
     },
     "metadata": {},
     "output_type": "display_data"
    },
    {
     "name": "stdout",
     "output_type": "stream",
     "text": [
      "\n",
      "r = \n"
     ]
    },
    {
     "data": {
      "text/plain": [
       "array([[ -5.91607978,  -1.52127766],\n",
       "       [  0.00000000,  -4.32269757]])"
      ]
     },
     "metadata": {},
     "output_type": "display_data"
    },
    {
     "name": "stdout",
     "output_type": "stream",
     "text": [
      "\n",
      "q = \n"
     ]
    },
    {
     "data": {
      "text/plain": [
       "array([[ -0.40824829,   0.70710678,  -0.57735027],\n",
       "       [ -0.40824829,  -0.70710678,  -0.57735027],\n",
       "       [ -0.81649658,  -0.00000000,   0.57735027]])"
      ]
     },
     "metadata": {},
     "output_type": "display_data"
    },
    {
     "name": "stdout",
     "output_type": "stream",
     "text": [
      "\n",
      "r = \n"
     ]
    },
    {
     "data": {
      "text/plain": [
       "array([[ -2.44948974,  -4.89897949,  -7.34846923],\n",
       "       [  0.00000000,   1.41421356,   2.82842712],\n",
       "       [  0.00000000,   0.00000000,   0.00000000]])"
      ]
     },
     "metadata": {},
     "output_type": "display_data"
    },
    {
     "name": "stdout",
     "output_type": "stream",
     "text": [
      "\n"
     ]
    }
   ],
   "source": [
    "# I wonder why np.linalg.qr sometimes displays full matrices for mode = 'reduced'\n",
    "\n",
    "\n",
    "A = matrix_example(2)\n",
    "\n",
    "q,r = np.linalg.qr(A)\n",
    "\n",
    "display_mat(\"q = \",q)\n",
    "display_mat(\"r = \",r)\n",
    "A = matrix_example(4)\n",
    "\n",
    "q,r = np.linalg.qr(A)\n",
    "\n",
    "display_mat(\"q = \",q)\n",
    "display_mat(\"r = \",r)"
   ]
  },
  {
   "cell_type": "markdown",
   "id": "013d4ce7",
   "metadata": {},
   "source": [
    "Except for the difference in the signs on the entries of $Q$ and $R$, the\n",
    "QR factorization routine in NumPy gives the same results as the corresponding reduced or full QR factorization for all the types.\n",
    "\n",
    "For types I and II that is matrices with $m\\geq n$ and full column rank, both the reduced and full QR factorization will always be unique. However, for types III and IV  the reduced QR factorization is unique but the full QR factorization is not unique since we get other columns of $Q$ from the null space of $Q^T$ and also because the columns in the original matrices are not linearly independent."
   ]
  },
  {
   "cell_type": "markdown",
   "id": "a369a7c4",
   "metadata": {},
   "source": [
    "## Problem #5 \n",
    "\n",
    "<hr style=\"border-width:2px; border-color:black\"></hr>\n",
    "\n",
    "Suppose we have planes $P^{(1)}$ and $P^{(2)}$ in $\\mathbb R^3$ given by \n",
    "\n",
    "\\begin{equation}\n",
    "P^{(1)} = \\langle \\mathbf x^{(1)}, \\mathbf y^{(1)}\\rangle, \\qquad \n",
    "P^{(2)}\\langle \\mathbf x^{(2)}, \\mathbf y^{(2)}\\rangle\n",
    "\\end{equation}\n",
    "\n",
    "where $\\mathbf x^{(1)}, \\mathbf y^{(1)} \\in \\mathbb R^3$ are linearly independent and  $\\mathbf x^{(2)}, \\mathbf y^{(2)} \\in \\mathbb R^3$ are linearly independent. \n",
    "\n",
    "**(a)** How can you find $P^{(1)} \\cap P^{(2)}$ using a $QR$ decomposition?  **Hint:** Use the full $QR$ decomposition.  \n",
    "\n",
    "**(b)** Find the intersection of the planes described by the following two sets of vectors. \n",
    "\n",
    "\\begin{equation}\n",
    "\\mathbf x^{(1)} = \\begin{bmatrix} 1\\\\2\\\\-1 \\end{bmatrix}, \\qquad\n",
    "\\mathbf y^{(1)} = \\begin{bmatrix} 3\\\\0\\\\5 \\end{bmatrix}, \\qquad\n",
    "\\mathbf x^{(2)} = \\begin{bmatrix} 7\\\\-3\\\\1 \\end{bmatrix}, \\qquad\n",
    "\\mathbf y^{(2)} = \\begin{bmatrix} 0\\\\4\\\\8 \\end{bmatrix}\n",
    "\\end{equation}\n",
    "\n",
    "**(c)** Construct projections $P_1$ onto $P^{(1)}$ and $P_2$ onto $P^{(2)}$ and show that for some $\\mathbf v \\in P^{(1)} \\cap P^{(2)}$, we have $P_1 \\mathbf v = P_2 \\mathbf v = \\mathbf v$.  Verify the result by displaying \n",
    "\n",
    "\\begin{equation}\n",
    "\\Vert P_1 \\mathbf v - \\mathbf v \\Vert, \\qquad \\Vert P_2 \\mathbf v - \\mathbf v \\Vert\n",
    "\\end{equation}\n",
    "\n",
    "**Hint:** You only need to verify this numerically for one $\\mathbf v$.  Use the $QR$ decompositions to easily compute the projections.\n"
   ]
  },
  {
   "cell_type": "markdown",
   "id": "df4ade20",
   "metadata": {},
   "source": [
    "### Solution\n",
    "**(a)**\n",
    "\n",
    "\n",
    "Let $P$= $P^{(1)}$ $\\cap$ $P^{(2)}$.\n",
    "This means that $P$ is a straight line which is orthogonal to the cross products $x^{(1)}\\times y^{(1)}$ and $x^{(2)}\\times y^{(2)}$.\n",
    "\n",
    "From $QR$ decomposition, we notice that the columnns $q_j$ for $j>n$(number of columns) of matrix $Q$ are in the range(A). This means that the third column of $Q$ with respect to plane $P^{(1)}$  should be equivalent to $x^{(1)}\\times y^{(1)}$, similarly  the third column of $Q$ with respect to plane $P^{(2)}$  should be equivalent to $x^{(2)}\\times y^{(2)}$.\n",
    "The $QR$ decompositon of the two third columns from the $Q's$ with respect to two planes above results into a vector $v\\in P$ and this occupies the last column of this new Q and $v$ is orthogonal to the first two columns of new Q. \n"
   ]
  },
  {
   "cell_type": "markdown",
   "id": "fab2969f",
   "metadata": {},
   "source": [
    "**(b)**"
   ]
  },
  {
   "cell_type": "code",
   "execution_count": 13,
   "id": "cb65c7df",
   "metadata": {},
   "outputs": [
    {
     "name": "stdout",
     "output_type": "stream",
     "text": [
      "The intersection P = \n"
     ]
    },
    {
     "data": {
      "text/plain": [
       "array([[  0.57735027],\n",
       "       [  0.11547005],\n",
       "       [  0.80829038]])"
      ]
     },
     "metadata": {},
     "output_type": "display_data"
    },
    {
     "name": "stdout",
     "output_type": "stream",
     "text": [
      "\n"
     ]
    }
   ],
   "source": [
    "#\n",
    "P_1 = np.array(np.mat('1,3;2,0; -1,5'),dtype='float') #plane 1\n",
    "P_2 = np.array(np.mat('7,0;-3,4;1,8'),dtype='float') #plane 2\n",
    "\n",
    "q1,r1 = QR(P_1,'full')\n",
    "q2,r2 = QR(P_2,'full')\n",
    "\n",
    "m,n =q1.shape\n",
    "\n",
    "q13 = q1[:,n-1:n]\n",
    "q23 = q2[:,n-1:n]\n",
    "\n",
    "qo = np.column_stack([q13,q23])\n",
    "q,r = QR(qo,'full')\n",
    " # The third column of q gives the vector in the intersection of the two planes\n",
    "display_mat(\"The intersection P = \",q[:,n-1:n])"
   ]
  },
  {
   "cell_type": "markdown",
   "id": "6f5d82de",
   "metadata": {},
   "source": [
    "**(c)**"
   ]
  },
  {
   "cell_type": "code",
   "execution_count": 14,
   "id": "cd25dee2",
   "metadata": {},
   "outputs": [
    {
     "name": "stdout",
     "output_type": "stream",
     "text": [
      "Projection P_1 onto P^(1) = \n"
     ]
    },
    {
     "data": {
      "text/plain": [
       "array([[  0.50000000,   0.40000000,   0.30000000],\n",
       "       [  0.40000000,   0.68000000,  -0.24000000],\n",
       "       [  0.30000000,  -0.24000000,   0.82000000]])"
      ]
     },
     "metadata": {},
     "output_type": "display_data"
    },
    {
     "name": "stdout",
     "output_type": "stream",
     "text": [
      "\n",
      "Projection P_2 onto P^(2) = \n"
     ]
    },
    {
     "data": {
      "text/plain": [
       "array([[  0.83333333,  -0.33333333,   0.16666667],\n",
       "       [ -0.33333333,   0.33333333,   0.33333333],\n",
       "       [  0.16666667,   0.33333333,   0.83333333]])"
      ]
     },
     "metadata": {},
     "output_type": "display_data"
    },
    {
     "name": "stdout",
     "output_type": "stream",
     "text": [
      "\n",
      "v = \n"
     ]
    },
    {
     "data": {
      "text/plain": [
       "array([[  0.57735027],\n",
       "       [  0.11547005],\n",
       "       [  0.80829038]])"
      ]
     },
     "metadata": {},
     "output_type": "display_data"
    },
    {
     "name": "stdout",
     "output_type": "stream",
     "text": [
      "\n",
      "P1v = \n"
     ]
    },
    {
     "data": {
      "text/plain": [
       "array([[  0.57735027],\n",
       "       [  0.11547005],\n",
       "       [  0.80829038]])"
      ]
     },
     "metadata": {},
     "output_type": "display_data"
    },
    {
     "name": "stdout",
     "output_type": "stream",
     "text": [
      "\n",
      "P2v = \n"
     ]
    },
    {
     "data": {
      "text/plain": [
       "array([[  0.57735027],\n",
       "       [  0.11547005],\n",
       "       [  0.80829038]])"
      ]
     },
     "metadata": {},
     "output_type": "display_data"
    },
    {
     "name": "stdout",
     "output_type": "stream",
     "text": [
      "\n",
      " ‖P1v-v‖ = \n"
     ]
    },
    {
     "data": {
      "text/plain": [
       "1.0295784775289034e-15"
      ]
     },
     "metadata": {},
     "output_type": "display_data"
    },
    {
     "name": "stdout",
     "output_type": "stream",
     "text": [
      "\n",
      "‖P2v-v‖ = \n"
     ]
    },
    {
     "data": {
      "text/plain": [
       "2.8609792490763985e-16"
      ]
     },
     "metadata": {},
     "output_type": "display_data"
    },
    {
     "name": "stdout",
     "output_type": "stream",
     "text": [
      "\n"
     ]
    }
   ],
   "source": [
    "v = q[:,n-1:n]\n",
    "P1 = q1[:,0:2]@q1[:,0:2].T #Projection P1\n",
    "P2 = q2[:,0:2]@q2[:,0:2].T #Projection P2\n",
    "display_mat(\"Projection P_1 onto P^(1) = \",P1)\n",
    "display_mat(\"Projection P_2 onto P^(2) = \",P2)\n",
    "display_mat(\"v = \",v)\n",
    "display_mat(\"P1v = \",P1@v)\n",
    "display_mat(\"P2v = \",P2@v)\n",
    "display_mat(\" ‖P1v-v‖ = \",np.linalg.norm(P1@v-v))\n",
    "display_mat(\"‖P2v-v‖ = \",np.linalg.norm(P2@v-v))\n"
   ]
  },
  {
   "cell_type": "markdown",
   "id": "146b4959",
   "metadata": {},
   "source": [
    "From above, since $\\left \\Vert P_1v-v \\right \\Vert = 0$ and $\\left \\Vert P_2v-v \\right \\Vert = 0$, then $P_1v=P_2v=v$. "
   ]
  },
  {
   "cell_type": "code",
   "execution_count": null,
   "id": "6cca5798",
   "metadata": {},
   "outputs": [],
   "source": []
  }
 ],
 "metadata": {
  "kernelspec": {
   "display_name": "Python 3 (ipykernel)",
   "language": "python",
   "name": "python3"
  },
  "language_info": {
   "codemirror_mode": {
    "name": "ipython",
    "version": 3
   },
   "file_extension": ".py",
   "mimetype": "text/x-python",
   "name": "python",
   "nbconvert_exporter": "python",
   "pygments_lexer": "ipython3",
   "version": "3.9.7"
  }
 },
 "nbformat": 4,
 "nbformat_minor": 5
}
