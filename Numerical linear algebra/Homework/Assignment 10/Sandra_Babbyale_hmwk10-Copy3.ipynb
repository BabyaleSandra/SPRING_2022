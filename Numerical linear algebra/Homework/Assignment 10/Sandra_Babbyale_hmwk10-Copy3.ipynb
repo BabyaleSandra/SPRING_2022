{
 "cells": [
  {
   "cell_type": "code",
   "execution_count": 1,
   "id": "bb1f6527",
   "metadata": {},
   "outputs": [],
   "source": [
    "%matplotlib notebook\n",
    "from numpy import *\n",
    "from matplotlib.pyplot import *\n",
    "from numpy.linalg import qr \n",
    "from scipy.linalg import hilbert"
   ]
  },
  {
   "cell_type": "code",
   "execution_count": 2,
   "id": "d0d521a7",
   "metadata": {},
   "outputs": [],
   "source": [
    "def display_mat(msg,A):\n",
    "    print(msg)\n",
    "    display(A)\n",
    "    print(\"\")\n"
   ]
  },
  {
   "cell_type": "markdown",
   "id": "fbf9c99b",
   "metadata": {},
   "source": [
    "<hr style=\"border-width:4px; border-color:coral\"></hr>\n",
    "\n",
    "# Homework 10 : Conditioning and stability of linear least squares\n",
    "\n",
    "<hr style=\"border-width:4px; border-color:coral\"></hr>\n",
    "\n",
    "The least squares problem\n",
    "\n",
    "\\begin{equation}\n",
    "A\\mathbf x = \\mathbf b\n",
    "\\end{equation}\n",
    "\n",
    "where $A \\in \\mathcal R^{m \\times n}$, $m \\ge n$ has four associated \"conditioning\" problems, described in the table in Theorem 18.1 of TB (page 131).   These are \n",
    "\n",
    "1.  Sensitivity of $\\mathbf y = A\\mathbf x$ to right hand side vector $\\mathbf b$, \n",
    "\n",
    "2.  Sensitivity of the solution $\\mathbf x$ to right hand side vector $\\mathbf b$, \n",
    "\n",
    "3.  Sensitivity of $\\mathbf y = A\\mathbf x$ to the coefficient matrix $A$, and\n",
    "\n",
    "4.  Sensitivity of the solution $\\mathbf x$ to the coefficient matrix $A$.\n",
    "\n"
   ]
  },
  {
   "cell_type": "markdown",
   "id": "62606f19",
   "metadata": {},
   "source": [
    "## Problem 1\n",
    "\n",
    "<hr style=\"border-width:4px; border-color:coral\"></hr>\n",
    "\n",
    "\n",
    "**Sensitivity of $\\mathbf y$ to a perturbation in $\\mathbf b$.**\n",
    "\n",
    "In TB Lecture 12, the relative condition number is defined as \n",
    "\n",
    "\\begin{equation}\n",
    "\\kappa = \\sup_{\\delta x}\\left(\\frac{\\Vert \\delta f \\Vert}{\\Vert f(x) \\Vert}\\bigg/ \\frac{\\Vert \\delta x \\Vert}{\\Vert x \\Vert}\\right)\n",
    "\\end{equation}\n",
    "\n",
    "#### Problem 1(a)\n",
    "\n",
    " Arguing directly from this definition, establish the condition number of $\\mathbf y$ with respect to perburbations in $\\mathbf b$ given by TB Lecture 18 \n",
    "\n",
    "\\begin{equation}\n",
    "\\kappa = \\frac{1}{\\cos \\theta}\n",
    "\\end{equation}\n",
    "\n",
    "**Hint:** The input \"$x$\" in this problem is $\\mathbf b$ and the output (or model) \"$f$\" is $\\mathbf y$.  Show geometrically that the supremum is attained with $P\\delta b = \\delta b$.  \n",
    "\n",
    "#### Problem 1(b)\n",
    "For $\\theta = \\pi/2$, the condition number is $\\infty$.  Illustrate what this means by considering the least squares problem\n",
    "\n",
    "\\begin{equation}\n",
    "\\begin{bmatrix} 2 \\\\ 1 \\end{bmatrix}\n",
    "\\begin{bmatrix} x \\end{bmatrix} = \n",
    "\\begin{bmatrix} -1 \\\\ 2 \\end{bmatrix}\n",
    "\\end{equation}\n",
    "\n",
    "Use the results in TB 11.11 and 11.12 (page 82) to determine the projection operator $P$ for this problem.  Then compute $\\mathbf y = P\\mathbf b$ and show that $P\\mathbf b = 0$.  Find a perturbation $\\delta \\mathbf b$ so that $P\\delta \\mathbf b = \\delta \\mathbf b = \\delta \\mathbf y \\ne 0$. Explain what a condition number $\\kappa=\\infty$ might mean here.  Illustrate your argument graphically. \n",
    "\n",
    "#### Problem 1(c)\n",
    "\n",
    "Now consider the problem\n",
    "\n",
    "\\begin{equation}\n",
    "\\begin{bmatrix} 2 \\\\ 1 \\end{bmatrix}\n",
    "\\begin{bmatrix} x \\end{bmatrix} = \n",
    "\\begin{bmatrix} 2 \\\\ 1 \\end{bmatrix}\n",
    "\\end{equation}\n",
    "\n",
    "For this problem, show that $\\kappa = 1$.  What is qualitatively different about this problem than the problem in which $\\kappa = \\infty$?  \n",
    "\n"
   ]
  },
  {
   "cell_type": "markdown",
   "id": "372395be",
   "metadata": {},
   "source": [
    "## Problem 2\n",
    "\n",
    "<hr style=\"border-width:4px; border-color:coral\"></hr>\n",
    "\n",
    "Problem 18.1 in TB (page 136) "
   ]
  },
  {
   "cell_type": "markdown",
   "id": "4e5ffb69",
   "metadata": {},
   "source": [
    "##### 2(a)"
   ]
  },
  {
   "cell_type": "code",
   "execution_count": 3,
   "id": "5a601696",
   "metadata": {},
   "outputs": [
    {
     "name": "stdout",
     "output_type": "stream",
     "text": [
      " A = \n"
     ]
    },
    {
     "data": {
      "text/plain": [
       "array([[1.    , 1.    ],\n",
       "       [1.    , 1.0001],\n",
       "       [1.    , 1.0001]])"
      ]
     },
     "metadata": {},
     "output_type": "display_data"
    },
    {
     "name": "stdout",
     "output_type": "stream",
     "text": [
      "\n",
      "Pseudo inverse of matrix A = \n"
     ]
    },
    {
     "data": {
      "text/plain": [
       "array([[10000.99999998, -4999.99999999, -4999.99999999],\n",
       "       [-9999.99999998,  4999.99999999,  4999.99999999]])"
      ]
     },
     "metadata": {},
     "output_type": "display_data"
    },
    {
     "name": "stdout",
     "output_type": "stream",
     "text": [
      "\n",
      "P = \n"
     ]
    },
    {
     "data": {
      "text/plain": [
       "array([[1.00000000e+00, 9.09494702e-13, 9.09494702e-13],\n",
       "       [0.00000000e+00, 5.00000000e-01, 5.00000000e-01],\n",
       "       [0.00000000e+00, 5.00000000e-01, 5.00000000e-01]])"
      ]
     },
     "metadata": {},
     "output_type": "display_data"
    },
    {
     "name": "stdout",
     "output_type": "stream",
     "text": [
      "\n"
     ]
    }
   ],
   "source": [
    "\n",
    "A=array([[1,1],[1,1.0001],[1,1.0001]])\n",
    "b=array([[2],[0.0001],[4.0001]])\n",
    "A_inv = linalg.pinv(A)\n",
    "P=A@A_inv\n",
    "\n",
    "display_mat(\" A = \",A)\n",
    "display_mat(\"Pseudo inverse of matrix A = \",A_inv)\n",
    "display_mat(\"P = \",P)"
   ]
  },
  {
   "cell_type": "markdown",
   "id": "8f41e419",
   "metadata": {},
   "source": [
    "##### 2(b)"
   ]
  },
  {
   "cell_type": "code",
   "execution_count": 4,
   "id": "4d429f81",
   "metadata": {},
   "outputs": [
    {
     "name": "stdout",
     "output_type": "stream",
     "text": [
      " x = \n"
     ]
    },
    {
     "data": {
      "text/plain": [
       "array([[1.],\n",
       "       [1.]])"
      ]
     },
     "metadata": {},
     "output_type": "display_data"
    },
    {
     "name": "stdout",
     "output_type": "stream",
     "text": [
      "\n",
      " y = \n"
     ]
    },
    {
     "data": {
      "text/plain": [
       "array([[2.    ],\n",
       "       [2.0001],\n",
       "       [2.0001]])"
      ]
     },
     "metadata": {},
     "output_type": "display_data"
    },
    {
     "name": "stdout",
     "output_type": "stream",
     "text": [
      "\n"
     ]
    }
   ],
   "source": [
    "#x1 = linalg.lstsq(A,b)\n",
    "#display_mat(\" x = \",x1[0])\n",
    "x = A_inv@b\n",
    "y = P@b\n",
    "\n",
    "display_mat(\" x = \",x)\n",
    "display_mat(\" y = \",y)"
   ]
  },
  {
   "cell_type": "markdown",
   "id": "4582ef22",
   "metadata": {},
   "source": [
    "##### 2(c)"
   ]
  },
  {
   "cell_type": "code",
   "execution_count": 5,
   "id": "56f4d00b",
   "metadata": {},
   "outputs": [
    {
     "name": "stdout",
     "output_type": "stream",
     "text": [
      " K(A) = \n"
     ]
    },
    {
     "data": {
      "text/plain": [
       "42429.235416083044"
      ]
     },
     "metadata": {},
     "output_type": "display_data"
    },
    {
     "name": "stdout",
     "output_type": "stream",
     "text": [
      "\n",
      " theta = \n"
     ]
    },
    {
     "data": {
      "text/plain": [
       "0.684702873261185"
      ]
     },
     "metadata": {},
     "output_type": "display_data"
    },
    {
     "name": "stdout",
     "output_type": "stream",
     "text": [
      "\n",
      " eta = \n"
     ]
    },
    {
     "data": {
      "text/plain": [
       "1.000000000833278"
      ]
     },
     "metadata": {},
     "output_type": "display_data"
    },
    {
     "name": "stdout",
     "output_type": "stream",
     "text": [
      "\n"
     ]
    }
   ],
   "source": [
    "k =linalg.cond(A)\n",
    "\n",
    "K = linalg.norm(A)*linalg.norm(A_inv)\n",
    "theta = arccos(linalg.norm(y)/linalg.norm(b))\n",
    "eta = (linalg.norm(A)*linalg.norm(x))/linalg.norm(y)\n",
    "\n",
    "display_mat(\" K(A) = \",k)\n",
    "display_mat(\" theta = \",theta)\n",
    "display_mat(\" eta = \",eta)"
   ]
  },
  {
   "cell_type": "markdown",
   "id": "98736f01",
   "metadata": {},
   "source": [
    "##### 2(d)"
   ]
  },
  {
   "cell_type": "code",
   "execution_count": 6,
   "id": "6ebc98c0",
   "metadata": {},
   "outputs": [
    {
     "name": "stdout",
     "output_type": "stream",
     "text": [
      " K_by = \n"
     ]
    },
    {
     "data": {
      "text/plain": [
       "1.290977236078942"
      ]
     },
     "metadata": {},
     "output_type": "display_data"
    },
    {
     "name": "stdout",
     "output_type": "stream",
     "text": [
      "\n",
      " K_bx = \n"
     ]
    },
    {
     "data": {
      "text/plain": [
       "54775.1770207547"
      ]
     },
     "metadata": {},
     "output_type": "display_data"
    },
    {
     "name": "stdout",
     "output_type": "stream",
     "text": [
      "\n",
      " K_Ay = \n"
     ]
    },
    {
     "data": {
      "text/plain": [
       "54775.17706639765"
      ]
     },
     "metadata": {},
     "output_type": "display_data"
    },
    {
     "name": "stdout",
     "output_type": "stream",
     "text": [
      "\n",
      " K_Ax = \n"
     ]
    },
    {
     "data": {
      "text/plain": [
       "1469883252.449082"
      ]
     },
     "metadata": {},
     "output_type": "display_data"
    },
    {
     "name": "stdout",
     "output_type": "stream",
     "text": [
      "\n"
     ]
    }
   ],
   "source": [
    "##d\n",
    "K_by = 1/cos(theta)\n",
    "K_bx = k/(eta*cos(theta))\n",
    "K_Ay = k/(cos(theta))\n",
    "K_Ax = k+ (((k**2) *tan(theta))/eta)\n",
    "display_mat(\" K_by = \",K_by)\n",
    "display_mat(\" K_bx = \",K_bx)\n",
    "display_mat(\" K_Ay = \",K_Ay)\n",
    "display_mat(\" K_Ax = \",K_Ax)"
   ]
  },
  {
   "cell_type": "markdown",
   "id": "2e87e8da",
   "metadata": {},
   "source": [
    "##### 2(e)"
   ]
  },
  {
   "cell_type": "code",
   "execution_count": null,
   "id": "7d1c35d7",
   "metadata": {},
   "outputs": [],
   "source": []
  },
  {
   "cell_type": "markdown",
   "id": "856c7d48",
   "metadata": {},
   "source": [
    "## Problem 3\n",
    "\n",
    "<hr style=\"border-width:4px; border-color:coral\"></hr>\n",
    "\n",
    "Show that if $(\\lambda,\\mathbf v)$ is an eigenvalue/eigenvector pair for matrix $A$, then $((\\lambda-\\mu)^{-1}, \\mathbf v)$ is an eigenvalue/eigenvector pair for the matrix $(A - \\mu I)^{-1}$. \n",
    "\n",
    "Why is this observation useful when using the power iteration to find an eigenvalue close to $\\mu$?   "
   ]
  },
  {
   "cell_type": "markdown",
   "id": "211399ea",
   "metadata": {},
   "source": [
    "##### Solution\n",
    "If $\\lambda$ is an eigenvalue  of matrix $A$ with a corresponding eigenvector $\\mathbf v$, then we have that;\n",
    "\\begin{equation}\n",
    "A \\mathbf v = \\lambda \\mathbf v\n",
    "\\end{equation}\n",
    "Subtracting $\\mu \\mathbf v$ from equation() above we obtain;\n",
    "\\begin{align}\n",
    "A \\mathbf v - \\mu \\mathbf v = \\lambda \\mathbf v - \\mu \\mathbf v\\\\\n",
    "(A-\\mu I)\\mathbf v = (\\lambda-\\mu)\\mathbf v\\\\\n",
    "%\\Rightarrow \\frac{1}{} = \\frac{}{}\n",
    "\\end{align}"
   ]
  },
  {
   "cell_type": "markdown",
   "id": "d27c7bc2",
   "metadata": {},
   "source": [
    "## Problem 4\n",
    "\n",
    "<hr style=\"border-width:4px; border-color:coral\"></hr>\n",
    "\n",
    "Exercise 29.1 (Lecture 29, TB page 223).  This is a five part problem that asks you to code an eigenvalue solver for a real, symmetric matrix using the shifted $QR$ algorithm.   Do your code in Python, using the Numpy `qr` algorithm where needed.  \n",
    "\n",
    "The basic steps are : \n",
    "\n",
    "1.  Reduce your matrix $A$ to tridiagonal form.  You may use the hessenberg code we wrote in class. \n",
    "\n",
    "2.  Implement the unshifted $QR$ code (also done in class).  Use the Numpy routine `qr`.   Your iteration should stop when the off diagonal elements are smaller (in absolute value) than  $\\tau \\approx 10^{-12}$.  \n",
    "\n",
    "3.  Find all eigenvalues of a matrix $A$ using the \"deflation\" idea described in Algorithm 28.2. \n",
    "\n",
    "4. Introduce the Wilkinson shift, described in Lecture 29.   \n",
    "\n",
    "#### Notes\n",
    "\n",
    "* Your code should work for a real, symmetrix matrix\n",
    "\n",
    "* Your code does not have to be efficient in the sense of optimizing the cost of matrix/vector multiplies and so on.  \n",
    "\n",
    "* Apply your algorithm to the Hilbert matrix `scipy.linalg.hilbert`.  The entries of the $m \\times m$ Hilbert matrix are given by \n",
    "\n",
    "\\begin{equation}\n",
    "H_{ij} = \\frac{1}{i + j - 1}, \\qquad i,j = 1,2,\\dots m\n",
    "\\end{equation}\n"
   ]
  },
  {
   "cell_type": "code",
   "execution_count": 7,
   "id": "51e5c011",
   "metadata": {},
   "outputs": [],
   "source": [
    "def display_mat(msg,A):\n",
    "    print(msg)\n",
    "    fstr = {'float' : \"{:>10.6f}\".format}\n",
    "    with printoptions(formatter=fstr):\n",
    "        display(A)\n",
    "    print(\"\")"
   ]
  },
  {
   "cell_type": "markdown",
   "id": "19b7c762",
   "metadata": {},
   "source": [
    "#### 1."
   ]
  },
  {
   "cell_type": "code",
   "execution_count": 8,
   "id": "22a4ece6",
   "metadata": {},
   "outputs": [
    {
     "ename": "SyntaxError",
     "evalue": "invalid syntax (3101149527.py, line 14)",
     "output_type": "error",
     "traceback": [
      "\u001b[0;36m  File \u001b[0;32m\"/var/folders/pr/mnl3hx657cv7m7_l0wcdr7jh0000gq/T/ipykernel_82734/3101149527.py\"\u001b[0;36m, line \u001b[0;32m14\u001b[0m\n\u001b[0;31m    assert vn>0,\u001b[0m\n\u001b[0m                ^\u001b[0m\n\u001b[0;31mSyntaxError\u001b[0m\u001b[0;31m:\u001b[0m invalid syntax\n"
     ]
    }
   ],
   "source": [
    "def hessenberg(A): \n",
    "    m,n = A.shape \n",
    "    assert m == n, \"A must be square\" \n",
    "     \n",
    "    H = A.copy() \n",
    "    Qt = eye(m) \n",
    "    for j in range(m-1): \n",
    "        x = H[j+1:,j:j+1]         \n",
    "        I = eye(m-j-1) \n",
    "        s = 1 if x[0] > 0 else -1     # sign function, with sign(0)  = 1 \n",
    "        v = s*linalg.norm(x,2)*I[:,0:1] + x \n",
    " \n",
    "        vn = linalg.norm(v,2) \n",
    "        assert vn>0,\n",
    "        v = v/vn \n",
    "        F = I - 2*(v@v.T) \n",
    "        H[j+1:,j:] = F@H[j+1:,j:] \n",
    "        H[0:,j+1:] = H[0:,j+1:]@F   # Apply F to the right side of H.  \n",
    "         \n",
    "    return H "
   ]
  },
  {
   "cell_type": "markdown",
   "id": "848fc1a7",
   "metadata": {},
   "source": [
    "#### 2."
   ]
  },
  {
   "cell_type": "code",
   "execution_count": null,
   "id": "6b96f147",
   "metadata": {},
   "outputs": [],
   "source": [
    "def unshifted_𝑄𝑅(A,kmax = 100000 ):\n",
    "            m,n = A.shape \n",
    "            Ak = A.copy() \n",
    "            e = empty(kmax) \n",
    "            Qbar = eye(m) \n",
    "            for k in range(kmax): \n",
    "                Q,R = qr(Ak)    # Decompostion of A^k \n",
    "                Ak = R@Q \n",
    "                Qbar = Qbar@Q \n",
    "                e[k] = abs(Ak[-1,-2])\n",
    "                print(\"{:5d} {:12.4e} \".format(k,Ak[-1,-2]))# Diagonal entry just below fir\n",
    "                if e[k] < 1e-12:\n",
    "                        break \n",
    "            return e,Ak"
   ]
  },
  {
   "cell_type": "markdown",
   "id": "0e971999",
   "metadata": {},
   "source": [
    "##### 3."
   ]
  },
  {
   "cell_type": "code",
   "execution_count": null,
   "id": "cea90a42",
   "metadata": {},
   "outputs": [],
   "source": [
    "## shifted  𝑄𝑅  code\n",
    "def shifted_𝑄𝑅(A,kmax = 10000 ):\n",
    "            m1,n = A.shape \n",
    "            Ak = A.copy() \n",
    "            mu = Ak[-1,-1]    # Raleigh shift   \n",
    "            #e = empty(kmax) \n",
    "            lam = zeros((m1,1))\n",
    "            for k in range(kmax):\n",
    "                m,n = Ak.shape\n",
    "                Q,R = qr(Ak - mu*eye(m) )   # Decompostion of A^k \n",
    "                Ak = R@Q + mu*eye(m) \n",
    "                mu = Ak[-1,-1] \n",
    "                     # Diagonal entry just below fir\n",
    "                if size(Ak,1)==1:\n",
    "                    lam[0] = Ak[-1,-1] \n",
    "                elif abs(Ak[-1,-2]) < 1e-12:\n",
    "                    #e[k] = abs(Ak[-1,-2])\n",
    "                    print(\"{:5d} {:12.4e} \".format(k,Ak[-1,-2]))\n",
    "                    display_mat(\"A (after QR iteration) : \",Ak)\n",
    "                    for i in range(0,m):\n",
    "                        lam[i]= Ak[-1,-1]\n",
    "                    Ak = Ak[0:m-1,0:m-1]\n",
    "                    \n",
    "            return Q,lam\n"
   ]
  },
  {
   "cell_type": "code",
   "execution_count": null,
   "id": "5d0e4db4",
   "metadata": {},
   "outputs": [],
   "source": [
    "# ## shifted  𝑄𝑅  code\n",
    "# def shifted_𝑄𝑅(A,kmax = 10000 ):\n",
    "#             m1,n = A.shape \n",
    "#             Ak = A.copy() \n",
    "#             mu = Ak[-1,-1]    # Raleigh shift   \n",
    "#             e = empty(kmax) \n",
    "#             lam = zeros((m1,1))\n",
    "#             for k in range(kmax):\n",
    "#                 m,n = Ak.shape\n",
    "                \n",
    "#                 Q,R = qr(Ak - mu*eye(m) )   # Decompostion of A^k \n",
    "#                 Ak = R@Q + mu*eye(m) \n",
    "#                 mu = Ak[-1,-1] \n",
    "#                 #Qbar = Qbar@Q \n",
    "#                      # Diagonal entry just below fir\n",
    "                \n",
    "#                 if size(Ak,1)==1:\n",
    "#                     lam[0] = Ak[-1,-1] \n",
    "                \n",
    "#                 elif abs(Ak[-1,-2]) < 1e-12:\n",
    "#                     e[k] = Ak[-1,-2]\n",
    "#                     #print(\"{:5d} {:12.4e} \".format(k,Ak[-1,-2]))\n",
    "#                     #display_mat(\"A (after QR iteration) : \",Ak)\n",
    "#                     for i in range(0,m):\n",
    "#                         lam[i]= Ak[-1,-1]\n",
    "#                     Ak = Ak[0:m-1,0:m-1]\n",
    "                    \n",
    "#             return e,lam\n"
   ]
  },
  {
   "cell_type": "markdown",
   "id": "081d9273",
   "metadata": {},
   "source": [
    "##### 4."
   ]
  },
  {
   "cell_type": "code",
   "execution_count": null,
   "id": "3be0d7c5",
   "metadata": {},
   "outputs": [],
   "source": [
    "## shifted  𝑄𝑅  code\n",
    "def Wshifted_𝑄𝑅(A,kmax = 10000 ):\n",
    "            m1,n = A.shape\n",
    "            H = hessenberg(A)\n",
    "            Ak = H.copy() \n",
    "            mu = Ak[-1,-1]    # Raleigh shift   \n",
    "            e = empty(kmax) \n",
    "            lam = zeros((m1,1))\n",
    "            for k in range(kmax):\n",
    "                m,n = Ak.shape\n",
    "                if m==1:\n",
    "                    lam[0]=Ak[0,0]\n",
    "                else:\n",
    "                    sigma = (Ak[-2,-2]-Ak[-1,-1])/2\n",
    "                    if sigma !=0:\n",
    "                        sn = sign(sigma)\n",
    "                    else:\n",
    "                        sn = -1\n",
    "                    mu = Ak[m-1,m-1] - (sn*Ak[m-2,m-1]**2/(abs(sigma) + sqrt(sigma**2+Ak[m-2,m-1]**2))) \n",
    "                    Q,R = qr(Ak - mu*eye(m) )   # Decompostion of A^k \n",
    "                    Ak = R@Q + mu*eye(m) \n",
    "                    If \n",
    "                    for i in range(0,m):\n",
    "                         lam[i]= Ak[-1,-1]\n",
    "                    Ak = Ak[0:m-1,0:m-1]\n",
    "                    \n",
    "            return lam"
   ]
  },
  {
   "cell_type": "code",
   "execution_count": null,
   "id": "444959ca",
   "metadata": {},
   "outputs": [],
   "source": []
  },
  {
   "cell_type": "code",
   "execution_count": null,
   "id": "55523103",
   "metadata": {},
   "outputs": [],
   "source": [
    "A = array(mat('3,1,0,1;1,3,1,0;0,1,3,1;1,0,1,3'),dtype='float')\n",
    "#H = hilbert(4)\n",
    "# display_mat(\"Hilbert matrix : \", H)\n",
    "H = hessenberg(A)\n",
    "#D,Q = unshifted_𝑄𝑅(H)\n",
    "display_mat(\"Hilbert matrix : \", H)"
   ]
  },
  {
   "cell_type": "code",
   "execution_count": null,
   "id": "b8dee259",
   "metadata": {},
   "outputs": [],
   "source": [
    "e,D= unshifted_𝑄𝑅(H)\n",
    "d=diag(D).reshape((size(D,1),1))\n",
    "diag(D)"
   ]
  },
  {
   "cell_type": "code",
   "execution_count": null,
   "id": "0bdd5866",
   "metadata": {},
   "outputs": [],
   "source": [
    "D0 = Wshifted_𝑄𝑅(H)\n",
    "D0"
   ]
  },
  {
   "cell_type": "code",
   "execution_count": null,
   "id": "3d1c3a62",
   "metadata": {
    "scrolled": true
   },
   "outputs": [],
   "source": [
    "e,D1 = shifted_𝑄𝑅(H)\n"
   ]
  },
  {
   "cell_type": "markdown",
   "id": "2ade2384",
   "metadata": {},
   "source": [
    "(e)"
   ]
  },
  {
   "cell_type": "code",
   "execution_count": null,
   "id": "4a9cd829",
   "metadata": {},
   "outputs": [],
   "source": []
  },
  {
   "cell_type": "code",
   "execution_count": null,
   "id": "7d978c01",
   "metadata": {},
   "outputs": [],
   "source": []
  },
  {
   "cell_type": "code",
   "execution_count": null,
   "id": "fefaf901",
   "metadata": {},
   "outputs": [],
   "source": []
  },
  {
   "cell_type": "code",
   "execution_count": null,
   "id": "4645eb40",
   "metadata": {},
   "outputs": [],
   "source": []
  }
 ],
 "metadata": {
  "kernelspec": {
   "display_name": "Python 3 (ipykernel)",
   "language": "python",
   "name": "python3"
  },
  "language_info": {
   "codemirror_mode": {
    "name": "ipython",
    "version": 3
   },
   "file_extension": ".py",
   "mimetype": "text/x-python",
   "name": "python",
   "nbconvert_exporter": "python",
   "pygments_lexer": "ipython3",
   "version": "3.9.7"
  }
 },
 "nbformat": 4,
 "nbformat_minor": 5
}
