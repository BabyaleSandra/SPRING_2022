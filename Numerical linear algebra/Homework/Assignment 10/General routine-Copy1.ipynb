{
 "cells": [
  {
   "cell_type": "code",
   "execution_count": 1,
   "id": "ae14262c",
   "metadata": {},
   "outputs": [],
   "source": [
    "%matplotlib notebook\n",
    "from numpy import *\n",
    "from matplotlib.pyplot import *\n",
    "from numpy.linalg import qr \n",
    "from scipy.linalg import hilbert\n",
    "from numpy.linalg import eig"
   ]
  },
  {
   "cell_type": "code",
   "execution_count": 2,
   "id": "ebcd32ed",
   "metadata": {},
   "outputs": [],
   "source": [
    "def display_mat(msg,A):\n",
    "    print(msg)\n",
    "    display(A)\n",
    "    print(\"\")\n"
   ]
  },
  {
   "cell_type": "code",
   "execution_count": 3,
   "id": "44e99e51",
   "metadata": {},
   "outputs": [],
   "source": [
    "def hessenberg(A): \n",
    "    m,n = A.shape \n",
    "    assert m == n, \"A must be square\" \n",
    "     \n",
    "    H = A.copy() \n",
    "    Qt = eye(m) \n",
    "    for j in range(m-1): \n",
    "        x = H[j+1:,j:j+1]         \n",
    "        I = eye(m-j-1) \n",
    "        s = 1 if x[0] > 0 else -1     # sign function, with sign(0)  = 1 \n",
    "        v = s*linalg.norm(x,2)*I[:,0:1] + x \n",
    " \n",
    "        vn = linalg.norm(v,2) \n",
    "        v = v/vn \n",
    "        F = I - 2*(v@v.T) \n",
    "        H[j+1:,j:] = F@H[j+1:,j:] \n",
    "        H[0:,j+1:] = H[0:,j+1:]@F   # Apply F to the right side of H.  \n",
    "         \n",
    "    return H "
   ]
  },
  {
   "cell_type": "code",
   "execution_count": 4,
   "id": "7d77e198",
   "metadata": {},
   "outputs": [],
   "source": [
    "def eigenvalue_QR_solver(A,mode=''):\n",
    "        H = hessenberg(A)\n",
    "        m = size(H,0)\n",
    "        Ak = H.copy() \n",
    "        mu = 0\n",
    "        kmax = 10\n",
    "        e = empty(kmax)  \n",
    "        lam = empty(m)\n",
    "        for k in range(kmax):\n",
    "            m = size(Ak,0)\n",
    "            #if mode=='unshifted':\n",
    "            mu = 0\n",
    "            Q,R = qr(Ak - mu*eye(m))   # Decompostion of A^k \n",
    "            Ak = R@Q + mu*eye(m) \n",
    "            e[k] = abs(Ak[-1,-2])     # Diagonal entry just below fir\n",
    "            if e[k] < 1e-12:\n",
    "                lam[0:m]  = diag(Ak)\n",
    "            if mode=='rayleigh shift':\n",
    "                \n",
    "        return e,lam"
   ]
  },
  {
   "cell_type": "code",
   "execution_count": 5,
   "id": "26e6f5c0",
   "metadata": {},
   "outputs": [
    {
     "data": {
      "text/plain": [
       "array([1.56705069e+00, 2.08534219e-01, 1.14074916e-02, 3.05898040e-04,\n",
       "       3.28792877e-06])"
      ]
     },
     "execution_count": 5,
     "metadata": {},
     "output_type": "execute_result"
    }
   ],
   "source": [
    "H = hilbert(5)\n",
    "# display_mat(\"Hilbert matrix : \", H)\n",
    "# H = hessenberg(H)\n",
    "e,lam= eigenvalue_QR_solver(H,mode='unshifted')\n",
    "lam"
   ]
  },
  {
   "cell_type": "code",
   "execution_count": 6,
   "id": "920e9b75",
   "metadata": {},
   "outputs": [
    {
     "name": "stdout",
     "output_type": "stream",
     "text": [
      "Eigenvalues (true) = \n"
     ]
    },
    {
     "data": {
      "text/plain": [
       "array([1.56705069e+00, 2.08534219e-01, 1.14074916e-02, 3.05898040e-04,\n",
       "       3.28792877e-06])"
      ]
     },
     "metadata": {},
     "output_type": "display_data"
    },
    {
     "name": "stdout",
     "output_type": "stream",
     "text": [
      "\n"
     ]
    }
   ],
   "source": [
    "m= size(H,0)\n",
    "eval_true,evec_true = eig(H)\n",
    "#eval_true = sort(array(eval_true).reshape(m,1),axis=0)\n",
    "display_mat(\"Eigenvalues (true) = \",eval_true)"
   ]
  },
  {
   "cell_type": "code",
   "execution_count": 8,
   "id": "33ae2cd7",
   "metadata": {},
   "outputs": [
    {
     "name": "stdout",
     "output_type": "stream",
     "text": [
      "Eigenvalues (true) = \n"
     ]
    },
    {
     "data": {
      "text/plain": [
       "2.636217041435438e-16"
      ]
     },
     "metadata": {},
     "output_type": "display_data"
    },
    {
     "name": "stdout",
     "output_type": "stream",
     "text": [
      "\n"
     ]
    }
   ],
   "source": [
    "display_mat(\"Eigenvalues (true) = \",linalg.norm(eval_true - array([lam])) )\n"
   ]
  },
  {
   "cell_type": "code",
   "execution_count": null,
   "id": "bdba436e",
   "metadata": {},
   "outputs": [],
   "source": []
  }
 ],
 "metadata": {
  "kernelspec": {
   "display_name": "Python 3 (ipykernel)",
   "language": "python",
   "name": "python3"
  },
  "language_info": {
   "codemirror_mode": {
    "name": "ipython",
    "version": 3
   },
   "file_extension": ".py",
   "mimetype": "text/x-python",
   "name": "python",
   "nbconvert_exporter": "python",
   "pygments_lexer": "ipython3",
   "version": "3.9.7"
  }
 },
 "nbformat": 4,
 "nbformat_minor": 5
}
