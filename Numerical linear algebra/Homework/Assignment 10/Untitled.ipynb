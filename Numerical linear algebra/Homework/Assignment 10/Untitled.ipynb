{
 "cells": [
  {
   "cell_type": "code",
   "execution_count": 1,
   "id": "d684837f",
   "metadata": {},
   "outputs": [],
   "source": [
    "%matplotlib notebook\n",
    "from numpy import *\n",
    "from matplotlib.pyplot import *\n",
    "from numpy.linalg import qr \n",
    "from scipy.linalg import hilbert"
   ]
  },
  {
   "cell_type": "code",
   "execution_count": null,
   "id": "362dfa0a",
   "metadata": {},
   "outputs": [],
   "source": []
  },
  {
   "cell_type": "code",
   "execution_count": null,
   "id": "c0353934",
   "metadata": {},
   "outputs": [],
   "source": []
  },
  {
   "cell_type": "code",
   "execution_count": null,
   "id": "bb579f83",
   "metadata": {},
   "outputs": [],
   "source": []
  },
  {
   "cell_type": "code",
   "execution_count": 2,
   "id": "3b22c830",
   "metadata": {},
   "outputs": [],
   "source": [
    "def hessenberg(A): \n",
    "    m,n = A.shape \n",
    "    assert m == n, \"A must be square\" \n",
    "     \n",
    "    H = A.copy() \n",
    "    Qt = eye(m) \n",
    "    for j in range(m-1): \n",
    "        x = H[j+1:,j:j+1]         \n",
    "        I = eye(m-j-1) \n",
    "        s = 1 if x[0] > 0 else -1     # sign function, with sign(0)  = 1 \n",
    "        v = s*linalg.norm(x,2)*I[:,0:1] + x \n",
    " \n",
    "        vn = linalg.norm(v,2) \n",
    "        v = v/vn \n",
    "        F = I - 2*(v@v.T) \n",
    "        H[j+1:,j:] = F@H[j+1:,j:] \n",
    "        H[0:,j+1:] = H[0:,j+1:]@F   # Apply F to the right side of H.  \n",
    "         \n",
    "    return H "
   ]
  },
  {
   "cell_type": "code",
   "execution_count": 15,
   "id": "885d8007",
   "metadata": {},
   "outputs": [],
   "source": [
    "def WilkinsonShift( a, b, c ):\n",
    "    # Calculate Wilkinson's shift for symmetric matrices: \n",
    "    δ = (a-c)/2\n",
    "    return c - sign(δ)*b^2/(abs(δ) + sqrt(δ^2+b^2))\n",
    "\n",
    "\n",
    "def QRwithShifts( A ):\n",
    "   # The QR algorithm for symmetric A with Rayleigh shifts and Hessenberg reduction. Please use eigvals() in \n",
    "   # Julia for serious applications.\n",
    "    n = size(A,1)\n",
    "    myeigs = zeros(n)\n",
    "    if ( n == 1 ):\n",
    "        myeigs[1] = A[1,1]\n",
    "    else:\n",
    "        I = eye( n )\n",
    "        # Reduction to Hessenberg form:\n",
    "        A = hessenberg( A )\n",
    "        # Let's start the shifted QR algorithm with \n",
    "        while( linalg.norm(A[n,n-1]) > 1e-10 ):\n",
    "\n",
    "            mu = WilkinsonShift( A[n-1,n-1], A[n,n], A[n-1,n] )\n",
    "            # This line should use faster Hessenberg reduction:\n",
    "            (Q,R) = qr(A - mu*I)\n",
    "            # This line needs speeding up, currently O(n^3) operations!: \n",
    "            A = R*Q + mu*I\n",
    "       \n",
    "        # Deflation and recurse:\n",
    "        myeigs = [A[n,n] , QRwithShifts( A[1:n-1, 1:n-1] )]\n",
    "   \n",
    "    return myeigs\n"
   ]
  },
  {
   "cell_type": "code",
   "execution_count": 18,
   "id": "2b85ff87",
   "metadata": {},
   "outputs": [],
   "source": [
    "H1 = hilbert(5)\n",
    "#display_mat(\"Hilbert matrix : \", H1)\n",
    "H = hessenberg(H1)\n"
   ]
  },
  {
   "cell_type": "code",
   "execution_count": null,
   "id": "971297c5",
   "metadata": {},
   "outputs": [],
   "source": []
  }
 ],
 "metadata": {
  "kernelspec": {
   "display_name": "Python 3 (ipykernel)",
   "language": "python",
   "name": "python3"
  },
  "language_info": {
   "codemirror_mode": {
    "name": "ipython",
    "version": 3
   },
   "file_extension": ".py",
   "mimetype": "text/x-python",
   "name": "python",
   "nbconvert_exporter": "python",
   "pygments_lexer": "ipython3",
   "version": "3.9.7"
  }
 },
 "nbformat": 4,
 "nbformat_minor": 5
}
