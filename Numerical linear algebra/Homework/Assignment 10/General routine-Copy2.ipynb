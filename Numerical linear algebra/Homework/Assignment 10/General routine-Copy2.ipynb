{
 "cells": [
  {
   "cell_type": "code",
   "execution_count": 1,
   "id": "cd135047",
   "metadata": {},
   "outputs": [],
   "source": [
    "%matplotlib notebook\n",
    "from numpy import *\n",
    "from matplotlib.pyplot import *\n",
    "from numpy.linalg import qr \n",
    "from scipy.linalg import hilbert\n",
    "from numpy.linalg import eig"
   ]
  },
  {
   "cell_type": "code",
   "execution_count": 2,
   "id": "97c30c3c",
   "metadata": {},
   "outputs": [],
   "source": [
    "def display_mat(msg,A):\n",
    "    print(msg)\n",
    "    display(A)\n",
    "    print(\"\")\n"
   ]
  },
  {
   "cell_type": "code",
   "execution_count": 3,
   "id": "58adee86",
   "metadata": {},
   "outputs": [],
   "source": [
    "def hessenberg(A): \n",
    "    m,n = A.shape \n",
    "    assert m == n, \"A must be square\" \n",
    "     \n",
    "    H = A.copy() \n",
    "    Qt = eye(m) \n",
    "    for j in range(m-1): \n",
    "        x = H[j+1:,j:j+1]         \n",
    "        I = eye(m-j-1) \n",
    "        s = 1 if x[0] > 0 else -1     # sign function, with sign(0)  = 1 \n",
    "        v = s*linalg.norm(x,2)*I[:,0:1] + x \n",
    " \n",
    "        vn = linalg.norm(v,2) \n",
    "        v = v/vn \n",
    "        F = I - 2*(v@v.T) \n",
    "        H[j+1:,j:] = F@H[j+1:,j:] \n",
    "        H[0:,j+1:] = H[0:,j+1:]@F   # Apply F to the right side of H.  \n",
    "         \n",
    "    return H "
   ]
  },
  {
   "cell_type": "code",
   "execution_count": 4,
   "id": "318428e2",
   "metadata": {},
   "outputs": [],
   "source": [
    "def eigenvalue_QR_solver(A,mode=''):\n",
    "        H = hessenberg(A)\n",
    "        m = size(H,0)\n",
    "        Ak = H.copy() \n",
    "        mu = 0\n",
    "        kmax = 100\n",
    "        #e = empty(kmax)  \n",
    "        lam = empty(m)\n",
    "        for k in range(kmax):\n",
    "            m = size(Ak,0)\n",
    "            mu = 0\n",
    "            Q,R = qr(Ak - mu*eye(m))   \n",
    "            Ak = R@Q + mu*eye(m) \n",
    "            if mode == 'unshifted':\n",
    "                mu=mu\n",
    "                if abs(Ak[-1,-2]) < 1e-16:\n",
    "                    #print (\"number of iterations required=\",k)\n",
    "                    #print (\"mu = \", mu)\n",
    "                    #display_mat(\"A (after QR iteration) : \",Ak)\n",
    "                    lam[0:m]  = diag(Ak)\n",
    "                    break\n",
    "            elif mode=='Rayleigh shift':\n",
    "                mu = Ak[-1,-1]\n",
    "                if size(Ak,0)==1:\n",
    "                    print(\"{:12.4e} \".format(Ak[-1,-1]))\n",
    "                    print (\"number of iterations required=\",k)\n",
    "                    lam[0] = Ak[-1,-1]\n",
    "                    break\n",
    "                elif abs(Ak[-1,-2]) < 1e-12:\n",
    "                    print (\"mu = \", mu)\n",
    "                    print (\"number of iterations required=\",k)\n",
    "                    display_mat(\"A (after QR iteration) : \",Ak)\n",
    "                    print(\"{:12.4e} \".format(Ak[-1,-2]))\n",
    "                    lam[1:m]= Ak[-1,-1]\n",
    "                    Ak = Ak[0:m-1,0:m-1]\n",
    "            elif mode=='Wilkinson shift':\n",
    "                if m==1:\n",
    "                    print(\"{:12.4e} \".format(Ak[-1,-1]))\n",
    "                    print (\"number of iterations required=\",k)\n",
    "                    lam[0]=Ak[0,0]\n",
    "                    break\n",
    "                elif m>1:\n",
    "                    sigma = (Ak[-2,-2]-Ak[-1,-1])/2\n",
    "                    if sigma !=0:\n",
    "                        sn = sign(sigma)\n",
    "                    else:\n",
    "                        sn = -1\n",
    "                    mu = Ak[m-1,m-1] - (sn*Ak[m-2,m-1]**2/(abs(sigma) + sqrt(sigma**2+Ak[m-2,m-1]**2)))\n",
    "                    if abs(Ak[-1,-2]) < 1e-12:\n",
    "                        print (\"mu = \", mu)\n",
    "                        print (\"number of iterations required=\",k)\n",
    "                        display_mat(\"A (after QR iteration) : \",Ak)\n",
    "                        print(\"{:12.4e} \".format(Ak[-1,-2]))\n",
    "                        lam[1:m]= Ak[-1,-1]\n",
    "                        Ak = Ak[0:m-1,0:m-1]\n",
    "                    \n",
    "\n",
    "        return e,lam"
   ]
  },
  {
   "cell_type": "code",
   "execution_count": 5,
   "id": "223b84ad",
   "metadata": {},
   "outputs": [
    {
     "name": "stdout",
     "output_type": "stream",
     "text": [
      "mu =  3.2879287721694922e-06\n",
      "number of iterations required= 3\n",
      "A (after QR iteration) : \n"
     ]
    },
    {
     "data": {
      "text/plain": [
       "array([[ 1.56705061e+00, -3.33938671e-04, -1.25416447e-16,\n",
       "         1.03614036e-17,  2.48852332e-18],\n",
       "       [-3.33938671e-04,  2.08534301e-01,  7.19424550e-07,\n",
       "        -3.41095845e-17, -6.69321138e-18],\n",
       "       [ 1.21636021e-25,  7.19424550e-07,  1.14074916e-02,\n",
       "         1.34448936e-09,  2.65885229e-17],\n",
       "       [ 1.00552103e-31,  1.84366861e-28,  1.34448935e-09,\n",
       "         3.05898040e-04,  5.44021080e-13],\n",
       "       [ 7.06859714e-40,  1.20029594e-36, -4.78666070e-32,\n",
       "         5.44035257e-13,  3.28792877e-06]])"
      ]
     },
     "metadata": {},
     "output_type": "display_data"
    },
    {
     "name": "stdout",
     "output_type": "stream",
     "text": [
      "\n",
      "  5.4404e-13 \n",
      "mu =  0.00030589804015119094\n",
      "number of iterations required= 5\n",
      "A (after QR iteration) : \n"
     ]
    },
    {
     "data": {
      "text/plain": [
       "array([[ 1.56705069e+00, -5.91364579e-06, -1.25398096e-16,\n",
       "         1.03696545e-17],\n",
       "       [-5.91364579e-06,  2.08534219e-01,  2.15283569e-09,\n",
       "        -3.41070086e-17],\n",
       "       [ 6.44579433e-30,  2.15283577e-09,  1.14074916e-02,\n",
       "         9.66803617e-13],\n",
       "       [ 3.83158504e-39,  3.96717755e-34,  9.66786188e-13,\n",
       "         3.05898040e-04]])"
      ]
     },
     "metadata": {},
     "output_type": "display_data"
    },
    {
     "name": "stdout",
     "output_type": "stream",
     "text": [
      "\n",
      "  9.6679e-13 \n",
      "mu =  0.01140749162341978\n",
      "number of iterations required= 8\n",
      "A (after QR iteration) : \n"
     ]
    },
    {
     "data": {
      "text/plain": [
       "array([[ 1.56705069e+00, -1.39360004e-08,  1.25397752e-16],\n",
       "       [-1.39360007e-08,  2.08534219e-01, -3.52331300e-13],\n",
       "       [-2.48655336e-36, -3.52410945e-13,  1.14074916e-02]])"
      ]
     },
     "metadata": {},
     "output_type": "display_data"
    },
    {
     "name": "stdout",
     "output_type": "stream",
     "text": [
      "\n",
      " -3.5241e-13 \n",
      "mu =  0.2085342186110134\n",
      "number of iterations required= 13\n",
      "A (after QR iteration) : \n"
     ]
    },
    {
     "data": {
      "text/plain": [
       "array([[1.56705069e+00, 5.81339111e-13],\n",
       "       [5.81580153e-13, 2.08534219e-01]])"
      ]
     },
     "metadata": {},
     "output_type": "display_data"
    },
    {
     "name": "stdout",
     "output_type": "stream",
     "text": [
      "\n",
      "  5.8158e-13 \n",
      "  1.5671e+00 \n",
      "number of iterations required= 14\n"
     ]
    },
    {
     "data": {
      "text/plain": [
       "array([1.56705069e+00, 2.08534219e-01, 1.14074916e-02, 3.05898040e-04,\n",
       "       3.28792877e-06])"
      ]
     },
     "execution_count": 5,
     "metadata": {},
     "output_type": "execute_result"
    }
   ],
   "source": [
    "H = hilbert(5)\n",
    "# display_mat(\"Hilbert matrix : \", H)\n",
    "# H = hessenberg(H)\n",
    "e,lam= eigenvalue_QR_solver(H,mode='Rayleigh shift')\n",
    "lam"
   ]
  },
  {
   "cell_type": "code",
   "execution_count": 6,
   "id": "48a44e49",
   "metadata": {},
   "outputs": [
    {
     "name": "stdout",
     "output_type": "stream",
     "text": [
      "mu =  3.287929664468005e-06\n",
      "mu =  3.2879287721695655e-06\n",
      "mu =  3.287928772169491e-06\n",
      "mu =  3.2879287721694914e-06\n",
      "mu =  3.2879287721694914e-06\n",
      "number of iterations required= 3\n",
      "A (after QR iteration) : \n"
     ]
    },
    {
     "data": {
      "text/plain": [
       "array([[ 1.56705061e+00, -3.33938671e-04, -1.25416447e-16,\n",
       "         1.03614036e-17,  2.48852332e-18],\n",
       "       [-3.33938671e-04,  2.08534301e-01,  7.19424550e-07,\n",
       "        -3.41095845e-17, -6.69321138e-18],\n",
       "       [ 1.21636021e-25,  7.19424550e-07,  1.14074916e-02,\n",
       "         1.34448936e-09,  2.65885229e-17],\n",
       "       [ 1.00552103e-31,  1.84366861e-28,  1.34448935e-09,\n",
       "         3.05898040e-04,  5.44021080e-13],\n",
       "       [ 7.06859714e-40,  1.20029594e-36, -4.78666070e-32,\n",
       "         5.44035257e-13,  3.28792877e-06]])"
      ]
     },
     "metadata": {},
     "output_type": "display_data"
    },
    {
     "name": "stdout",
     "output_type": "stream",
     "text": [
      "\n",
      "  5.4404e-13 \n",
      "mu =  0.00030589804015119094\n",
      "mu =  0.00030589804015119094\n",
      "mu =  0.00030589804015119094\n",
      "number of iterations required= 5\n",
      "A (after QR iteration) : \n"
     ]
    },
    {
     "data": {
      "text/plain": [
       "array([[ 1.56705069e+00, -5.91364579e-06, -1.25398096e-16,\n",
       "         1.03696545e-17],\n",
       "       [-5.91364579e-06,  2.08534219e-01,  2.15283569e-09,\n",
       "        -3.41070086e-17],\n",
       "       [ 6.44579433e-30,  2.15283577e-09,  1.14074916e-02,\n",
       "         9.66803617e-13],\n",
       "       [ 3.83158504e-39,  3.96717755e-34,  9.66786188e-13,\n",
       "         3.05898040e-04]])"
      ]
     },
     "metadata": {},
     "output_type": "display_data"
    },
    {
     "name": "stdout",
     "output_type": "stream",
     "text": [
      "\n",
      "  9.6679e-13 \n",
      "mu =  0.01140749162341978\n",
      "mu =  0.01140749162341978\n",
      "mu =  0.01140749162341978\n",
      "mu =  0.01140749162341978\n",
      "number of iterations required= 8\n",
      "A (after QR iteration) : \n"
     ]
    },
    {
     "data": {
      "text/plain": [
       "array([[ 1.56705069e+00, -1.39360004e-08,  1.25397752e-16],\n",
       "       [-1.39360007e-08,  2.08534219e-01, -3.52331300e-13],\n",
       "       [-2.48655336e-36, -3.52410945e-13,  1.14074916e-02]])"
      ]
     },
     "metadata": {},
     "output_type": "display_data"
    },
    {
     "name": "stdout",
     "output_type": "stream",
     "text": [
      "\n",
      " -3.5241e-13 \n",
      "mu =  0.2085342186110134\n",
      "mu =  0.2085342186110134\n",
      "mu =  0.2085342186110134\n",
      "mu =  0.2085342186110134\n",
      "mu =  0.2085342186110134\n",
      "mu =  0.2085342186110134\n",
      "number of iterations required= 13\n",
      "A (after QR iteration) : \n"
     ]
    },
    {
     "data": {
      "text/plain": [
       "array([[1.56705069e+00, 5.81339111e-13],\n",
       "       [5.81580153e-13, 2.08534219e-01]])"
      ]
     },
     "metadata": {},
     "output_type": "display_data"
    },
    {
     "name": "stdout",
     "output_type": "stream",
     "text": [
      "\n",
      "  5.8158e-13 \n",
      "  1.5671e+00 \n",
      "number of iterations required= 14\n"
     ]
    },
    {
     "data": {
      "text/plain": [
       "array([1.56705069e+00, 2.08534219e-01, 1.14074916e-02, 3.05898040e-04,\n",
       "       3.28792877e-06])"
      ]
     },
     "execution_count": 6,
     "metadata": {},
     "output_type": "execute_result"
    }
   ],
   "source": [
    "e,lam= eigenvalue_QR_solver(H,mode='Wilkinson shift')\n",
    "lam"
   ]
  },
  {
   "cell_type": "code",
   "execution_count": 7,
   "id": "25a0cc7e",
   "metadata": {},
   "outputs": [
    {
     "name": "stdout",
     "output_type": "stream",
     "text": [
      "Eigenvalues (true) = \n"
     ]
    },
    {
     "data": {
      "text/plain": [
       "array([1.56705069e+00, 2.08534219e-01, 1.14074916e-02, 3.05898040e-04,\n",
       "       3.28792877e-06])"
      ]
     },
     "metadata": {},
     "output_type": "display_data"
    },
    {
     "name": "stdout",
     "output_type": "stream",
     "text": [
      "\n"
     ]
    }
   ],
   "source": [
    "m= size(H,0)\n",
    "eval_true,evec_true = eig(H)\n",
    "#eval_true = sort(array(eval_true).reshape(m,1),axis=0)\n",
    "display_mat(\"Eigenvalues (true) = \",eval_true)"
   ]
  },
  {
   "cell_type": "code",
   "execution_count": 8,
   "id": "4a418204",
   "metadata": {},
   "outputs": [
    {
     "name": "stdout",
     "output_type": "stream",
     "text": [
      "Eigenvalues (true) = \n"
     ]
    },
    {
     "data": {
      "text/plain": [
       "2.6362167143027525e-16"
      ]
     },
     "metadata": {},
     "output_type": "display_data"
    },
    {
     "name": "stdout",
     "output_type": "stream",
     "text": [
      "\n"
     ]
    }
   ],
   "source": [
    "display_mat(\"Eigenvalues (true) = \",linalg.norm(eval_true - array([lam])) )\n"
   ]
  },
  {
   "cell_type": "code",
   "execution_count": null,
   "id": "3a186447",
   "metadata": {},
   "outputs": [],
   "source": []
  }
 ],
 "metadata": {
  "kernelspec": {
   "display_name": "Python 3 (ipykernel)",
   "language": "python",
   "name": "python3"
  },
  "language_info": {
   "codemirror_mode": {
    "name": "ipython",
    "version": 3
   },
   "file_extension": ".py",
   "mimetype": "text/x-python",
   "name": "python",
   "nbconvert_exporter": "python",
   "pygments_lexer": "ipython3",
   "version": "3.9.7"
  }
 },
 "nbformat": 4,
 "nbformat_minor": 5
}
