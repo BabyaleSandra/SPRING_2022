{
 "cells": [
  {
   "cell_type": "code",
   "execution_count": 1,
   "id": "bb1f6527",
   "metadata": {},
   "outputs": [],
   "source": [
    "%matplotlib notebook\n",
    "from numpy import *\n",
    "from matplotlib.pyplot import *\n",
    "from numpy.linalg import qr \n",
    "from scipy.linalg import hilbert\n",
    "from numpy.linalg import eig"
   ]
  },
  {
   "cell_type": "code",
   "execution_count": 2,
   "id": "77a6230a",
   "metadata": {},
   "outputs": [],
   "source": [
    "def display_mat(msg,A):\n",
    "    print(msg)\n",
    "    display(A)\n",
    "    print(\"\")\n"
   ]
  },
  {
   "cell_type": "markdown",
   "id": "fbf9c99b",
   "metadata": {},
   "source": [
    "<hr style=\"border-width:4px; border-color:coral\"></hr>\n",
    "\n",
    "# Homework 10 : Conditioning and stability of linear least squares\n",
    "\n",
    "<hr style=\"border-width:4px; border-color:coral\"></hr>\n",
    "\n",
    "The least squares problem\n",
    "\n",
    "\\begin{equation}\n",
    "A\\mathbf x = \\mathbf b\n",
    "\\end{equation}\n",
    "\n",
    "where $A \\in \\mathcal R^{m \\times n}$, $m \\ge n$ has four associated \"conditioning\" problems, described in the table in Theorem 18.1 of TB (page 131).   These are \n",
    "\n",
    "1.  Sensitivity of $\\mathbf y = A\\mathbf x$ to right hand side vector $\\mathbf b$, \n",
    "\n",
    "2.  Sensitivity of the solution $\\mathbf x$ to right hand side vector $\\mathbf b$, \n",
    "\n",
    "3.  Sensitivity of $\\mathbf y = A\\mathbf x$ to the coefficient matrix $A$, and\n",
    "\n",
    "4.  Sensitivity of the solution $\\mathbf x$ to the coefficient matrix $A$.\n",
    "\n"
   ]
  },
  {
   "cell_type": "markdown",
   "id": "62606f19",
   "metadata": {},
   "source": [
    "## Problem 1\n",
    "\n",
    "<hr style=\"border-width:4px; border-color:coral\"></hr>\n",
    "\n",
    "\n",
    "**Sensitivity of $\\mathbf y$ to a perturbation in $\\mathbf b$.**\n",
    "\n",
    "In TB Lecture 12, the relative condition number is defined as \n",
    "\n",
    "\\begin{equation}\n",
    "\\kappa = \\sup_{\\delta x}\\left(\\frac{\\Vert \\delta f \\Vert}{\\Vert f(x) \\Vert}\\bigg/ \\frac{\\Vert \\delta x \\Vert}{\\Vert x \\Vert}\\right)\n",
    "\\end{equation}\n",
    "\n",
    "#### Problem 1(a)\n",
    "\n",
    " Arguing directly from this definition, establish the condition number of $\\mathbf y$ with respect to perburbations in $\\mathbf b$ given by TB Lecture 18 \n",
    "\n",
    "\\begin{equation}\n",
    "\\kappa = \\frac{1}{\\cos \\theta}\n",
    "\\end{equation}\n",
    "\n",
    "**Hint:** The input \"$x$\" in this problem is $\\mathbf b$ and the output (or model) \"$f$\" is $\\mathbf y$.  Show geometrically that the supremum is attained with $P\\delta b = \\delta b$.  \n",
    "\n",
    "#### Problem 1(b)\n",
    "For $\\theta = \\pi/2$, the condition number is $\\infty$.  Illustrate what this means by considering the least squares problem\n",
    "\n",
    "\\begin{equation}\n",
    "\\begin{bmatrix} 2 \\\\ 1 \\end{bmatrix}\n",
    "\\begin{bmatrix} x \\end{bmatrix} = \n",
    "\\begin{bmatrix} -1 \\\\ 2 \\end{bmatrix}\n",
    "\\end{equation}\n",
    "\n",
    "Use the results in TB 11.11 and 11.12 (page 82) to determine the projection operator $P$ for this problem.  Then compute $\\mathbf y = P\\mathbf b$ and show that $P\\mathbf b = 0$.  Find a perturbation $\\delta \\mathbf b$ so that $P\\delta \\mathbf b = \\delta \\mathbf b = \\delta \\mathbf y \\ne 0$. Explain what a condition number $\\kappa=\\infty$ might mean here.  Illustrate your argument graphically. \n",
    "\n",
    "#### Problem 1(c)\n",
    "\n",
    "Now consider the problem\n",
    "\n",
    "\\begin{equation}\n",
    "\\begin{bmatrix} 2 \\\\ 1 \\end{bmatrix}\n",
    "\\begin{bmatrix} x \\end{bmatrix} = \n",
    "\\begin{bmatrix} 2 \\\\ 1 \\end{bmatrix}\n",
    "\\end{equation}\n",
    "\n",
    "For this problem, show that $\\kappa = 1$.  What is qualitatively different about this problem than the problem in which $\\kappa = \\infty$?  \n",
    "\n"
   ]
  },
  {
   "cell_type": "code",
   "execution_count": 3,
   "id": "c3407ae5",
   "metadata": {},
   "outputs": [
    {
     "data": {
      "text/plain": [
       "array([[0.8, 0.4],\n",
       "       [0.4, 0.2]])"
      ]
     },
     "execution_count": 3,
     "metadata": {},
     "output_type": "execute_result"
    }
   ],
   "source": [
    "A1=array([[2,1]]).T\n",
    "Ad = linalg.inv( (A1.T@A1))@A1.T\n",
    "b=array([[-1,2]]).T\n",
    "P=A1@Ad\n",
    "P@b\n",
    "A1.T@A1\n",
    "P"
   ]
  },
  {
   "cell_type": "markdown",
   "id": "372395be",
   "metadata": {},
   "source": [
    "## Problem 2\n",
    "\n",
    "<hr style=\"border-width:4px; border-color:coral\"></hr>\n",
    "\n",
    "Problem 18.1 in TB (page 136) "
   ]
  },
  {
   "cell_type": "markdown",
   "id": "4e5ffb69",
   "metadata": {},
   "source": [
    "##### 2(a)"
   ]
  },
  {
   "cell_type": "code",
   "execution_count": 4,
   "id": "5a601696",
   "metadata": {},
   "outputs": [
    {
     "name": "stdout",
     "output_type": "stream",
     "text": [
      " A = \n"
     ]
    },
    {
     "data": {
      "text/plain": [
       "array([[1.    , 1.    ],\n",
       "       [1.    , 1.0001],\n",
       "       [1.    , 1.0001]])"
      ]
     },
     "metadata": {},
     "output_type": "display_data"
    },
    {
     "name": "stdout",
     "output_type": "stream",
     "text": [
      "\n",
      "Pseudo inverse of matrix A = \n"
     ]
    },
    {
     "data": {
      "text/plain": [
       "array([[10000.99999998, -4999.99999999, -4999.99999999],\n",
       "       [-9999.99999998,  4999.99999999,  4999.99999999]])"
      ]
     },
     "metadata": {},
     "output_type": "display_data"
    },
    {
     "name": "stdout",
     "output_type": "stream",
     "text": [
      "\n",
      "P = \n"
     ]
    },
    {
     "data": {
      "text/plain": [
       "array([[1.00000000e+00, 9.09494702e-13, 9.09494702e-13],\n",
       "       [0.00000000e+00, 5.00000000e-01, 5.00000000e-01],\n",
       "       [0.00000000e+00, 5.00000000e-01, 5.00000000e-01]])"
      ]
     },
     "metadata": {},
     "output_type": "display_data"
    },
    {
     "name": "stdout",
     "output_type": "stream",
     "text": [
      "\n"
     ]
    }
   ],
   "source": [
    "\n",
    "A=array([[1,1],[1,1.0001],[1,1.0001]])\n",
    "b=array([[2],[0.0001],[4.0001]])\n",
    "A_inv = linalg.pinv(A)\n",
    "P=A@A_inv\n",
    "\n",
    "display_mat(\" A = \",A)\n",
    "display_mat(\"Pseudo inverse of matrix A = \",A_inv)\n",
    "display_mat(\"P = \",P)"
   ]
  },
  {
   "cell_type": "markdown",
   "id": "f444500f",
   "metadata": {},
   "source": [
    "##### 2(b)"
   ]
  },
  {
   "cell_type": "code",
   "execution_count": 5,
   "id": "4d429f81",
   "metadata": {},
   "outputs": [
    {
     "name": "stdout",
     "output_type": "stream",
     "text": [
      " x = \n"
     ]
    },
    {
     "data": {
      "text/plain": [
       "array([[1.],\n",
       "       [1.]])"
      ]
     },
     "metadata": {},
     "output_type": "display_data"
    },
    {
     "name": "stdout",
     "output_type": "stream",
     "text": [
      "\n",
      " y = \n"
     ]
    },
    {
     "data": {
      "text/plain": [
       "array([[2.    ],\n",
       "       [2.0001],\n",
       "       [2.0001]])"
      ]
     },
     "metadata": {},
     "output_type": "display_data"
    },
    {
     "name": "stdout",
     "output_type": "stream",
     "text": [
      "\n"
     ]
    }
   ],
   "source": [
    "#x1 = linalg.lstsq(A,b)\n",
    "#display_mat(\" x = \",x1[0])\n",
    "x = A_inv@b\n",
    "y = P@b\n",
    "\n",
    "display_mat(\" x = \",x)\n",
    "display_mat(\" y = \",y)"
   ]
  },
  {
   "cell_type": "markdown",
   "id": "376eb06b",
   "metadata": {},
   "source": [
    "##### 2(c)"
   ]
  },
  {
   "cell_type": "code",
   "execution_count": 6,
   "id": "0d7680d8",
   "metadata": {},
   "outputs": [
    {
     "name": "stdout",
     "output_type": "stream",
     "text": [
      " K(A) = \n"
     ]
    },
    {
     "data": {
      "text/plain": [
       "42429.235416083044"
      ]
     },
     "metadata": {},
     "output_type": "display_data"
    },
    {
     "name": "stdout",
     "output_type": "stream",
     "text": [
      "\n",
      " theta = \n"
     ]
    },
    {
     "data": {
      "text/plain": [
       "0.684702873261185"
      ]
     },
     "metadata": {},
     "output_type": "display_data"
    },
    {
     "name": "stdout",
     "output_type": "stream",
     "text": [
      "\n",
      " eta = \n"
     ]
    },
    {
     "data": {
      "text/plain": [
       "1.000000000833278"
      ]
     },
     "metadata": {},
     "output_type": "display_data"
    },
    {
     "name": "stdout",
     "output_type": "stream",
     "text": [
      "\n"
     ]
    }
   ],
   "source": [
    "k =linalg.cond(A)\n",
    "\n",
    "K = linalg.norm(A)*linalg.norm(A_inv)\n",
    "theta = arccos(linalg.norm(y)/linalg.norm(b))\n",
    "eta = (linalg.norm(A)*linalg.norm(x))/linalg.norm(y)\n",
    "\n",
    "display_mat(\" K(A) = \",k)\n",
    "display_mat(\" theta = \",theta)\n",
    "display_mat(\" eta = \",eta)"
   ]
  },
  {
   "cell_type": "markdown",
   "id": "256ad7ba",
   "metadata": {},
   "source": [
    "##### 2(d)"
   ]
  },
  {
   "cell_type": "code",
   "execution_count": 7,
   "id": "6ebc98c0",
   "metadata": {},
   "outputs": [
    {
     "name": "stdout",
     "output_type": "stream",
     "text": [
      " K_by = \n"
     ]
    },
    {
     "data": {
      "text/plain": [
       "1.290977236078942"
      ]
     },
     "metadata": {},
     "output_type": "display_data"
    },
    {
     "name": "stdout",
     "output_type": "stream",
     "text": [
      "\n",
      " K_bx = \n"
     ]
    },
    {
     "data": {
      "text/plain": [
       "54775.1770207547"
      ]
     },
     "metadata": {},
     "output_type": "display_data"
    },
    {
     "name": "stdout",
     "output_type": "stream",
     "text": [
      "\n",
      " K_Ay = \n"
     ]
    },
    {
     "data": {
      "text/plain": [
       "54775.17706639765"
      ]
     },
     "metadata": {},
     "output_type": "display_data"
    },
    {
     "name": "stdout",
     "output_type": "stream",
     "text": [
      "\n",
      " K_Ax = \n"
     ]
    },
    {
     "data": {
      "text/plain": [
       "1469883252.449082"
      ]
     },
     "metadata": {},
     "output_type": "display_data"
    },
    {
     "name": "stdout",
     "output_type": "stream",
     "text": [
      "\n"
     ]
    }
   ],
   "source": [
    "##d\n",
    "K_by = 1/cos(theta)\n",
    "K_bx = k/(eta*cos(theta))\n",
    "K_Ay = k/(cos(theta))\n",
    "K_Ax = k+ (((k**2) *tan(theta))/eta)\n",
    "display_mat(\" K_by = \",K_by)\n",
    "display_mat(\" K_bx = \",K_bx)\n",
    "display_mat(\" K_Ay = \",K_Ay)\n",
    "display_mat(\" K_Ax = \",K_Ax)"
   ]
  },
  {
   "cell_type": "markdown",
   "id": "611d4bb7",
   "metadata": {},
   "source": [
    "##### 2(e)"
   ]
  },
  {
   "cell_type": "code",
   "execution_count": null,
   "id": "7da5ec9b",
   "metadata": {},
   "outputs": [],
   "source": []
  },
  {
   "cell_type": "markdown",
   "id": "856c7d48",
   "metadata": {},
   "source": [
    "## Problem 3\n",
    "\n",
    "<hr style=\"border-width:4px; border-color:coral\"></hr>\n",
    "\n",
    "Show that if $(\\lambda,\\mathbf v)$ is an eigenvalue/eigenvector pair for matrix $A$, then $((\\lambda-\\mu)^{-1}, \\mathbf v)$ is an eigenvalue/eigenvector pair for the matrix $(A - \\mu I)^{-1}$. \n",
    "\n",
    "Why is this observation useful when using the power iteration to find an eigenvalue close to $\\mu$?   "
   ]
  },
  {
   "cell_type": "markdown",
   "id": "fe467fd1",
   "metadata": {},
   "source": [
    "##### Solution\n",
    "If $\\lambda$ is an eigenvalue  of matrix $A$ with a corresponding eigenvector $\\mathbf v$, then we have that;\n",
    "\n",
    "\\begin{equation}\n",
    "A \\mathbf v = \\lambda \\mathbf v\n",
    "\\end{equation}\n",
    "\n",
    "Subtracting $\\mu \\mathbf v$ from equation() above we obtain;\n",
    "\n",
    "\\begin{align}\n",
    "A \\mathbf v - \\mu \\mathbf v = \\lambda \\mathbf v - \\mu \\mathbf v\\\\\n",
    "(A-\\mu I)\\mathbf v = (\\lambda-\\mu)\\mathbf v\\\\\n",
    "%\\Rightarrow \\frac{1}{} = \\frac{}{}\n",
    "\\end{align}\n",
    "\n",
    "Since $\\mu \\in \\mathbb{R}$ is not an eigenvalue of $A$, then $A-\\mu I$ is invertible and therefore the above equation becomes;\n",
    "\n",
    "\\begin{align}\n",
    "(A-\\mu I)^{-1}\\mathbf v = (\\lambda-\\mu)^{-1}\\mathbf v\n",
    "\\end{align}\n",
    "\n",
    "From the above matrix we can conclude that $((\\lambda-\\mu)^{-1}, \\mathbf v)$ is eigenvalue/eigenvector pair for the matrix $(A - \\mu I)^{-1}$.\n",
    "\n",
    "???????\n",
    "Why is this observation useful when using the power iteration to find an eigenvalue close to $\\mu$? "
   ]
  },
  {
   "cell_type": "markdown",
   "id": "d27c7bc2",
   "metadata": {},
   "source": [
    "## Problem 4\n",
    "\n",
    "<hr style=\"border-width:4px; border-color:coral\"></hr>\n",
    "\n",
    "Exercise 29.1 (Lecture 29, TB page 223).  This is a five part problem that asks you to code an eigenvalue solver for a real, symmetric matrix using the shifted $QR$ algorithm.   Do your code in Python, using the Numpy `qr` algorithm where needed.  \n",
    "\n",
    "The basic steps are : \n",
    "\n",
    "1.  Reduce your matrix $A$ to tridiagonal form.  You may use the hessenberg code we wrote in class. \n",
    "\n",
    "2.  Implement the unshifted $QR$ code (also done in class).  Use the Numpy routine `qr`.   Your iteration should stop when the off diagonal elements are smaller (in absolute value) than  $\\tau \\approx 10^{-12}$.  \n",
    "\n",
    "3.  Find all eigenvalues of a matrix $A$ using the \"deflation\" idea described in Algorithm 28.2. \n",
    "\n",
    "4. Introduce the Wilkinson shift, described in Lecture 29.   \n",
    "\n",
    "#### Notes\n",
    "\n",
    "* Your code should work for a real, symmetrix matrix\n",
    "\n",
    "* Your code does not have to be efficient in the sense of optimizing the cost of matrix/vector multiplies and so on.  \n",
    "\n",
    "* Apply your algorithm to the Hilbert matrix `scipy.linalg.hilbert`.  The entries of the $m \\times m$ Hilbert matrix are given by \n",
    "\n",
    "\\begin{equation}\n",
    "H_{ij} = \\frac{1}{i + j - 1}, \\qquad i,j = 1,2,\\dots m\n",
    "\\end{equation}\n"
   ]
  },
  {
   "cell_type": "code",
   "execution_count": 8,
   "id": "51e5c011",
   "metadata": {},
   "outputs": [],
   "source": [
    "def display_mat(msg,A):\n",
    "    print(msg)\n",
    "    fstr = {'float' : \"{:>10.8f}\".format}\n",
    "    with printoptions(formatter=fstr):\n",
    "        display(A)\n",
    "    print(\"\")"
   ]
  },
  {
   "cell_type": "code",
   "execution_count": 9,
   "id": "c8f49d01",
   "metadata": {},
   "outputs": [],
   "source": [
    "def hessenberg(A): \n",
    "    m,n = A.shape \n",
    "    assert m == n, \"A must be square\" \n",
    "     \n",
    "    H = A.copy() \n",
    "    Qt = eye(m) \n",
    "    for j in range(m-1): \n",
    "        x = H[j+1:,j:j+1]         \n",
    "        I = eye(m-j-1) \n",
    "        s = 1 if x[0] > 0 else -1     # sign function, with sign(0)  = 1 \n",
    "        v = s*linalg.norm(x,2)*I[:,0:1] + x \n",
    " \n",
    "        vn = linalg.norm(v,2)\n",
    "        if vn!=0:\n",
    "            v = v/vn \n",
    "            F = I - 2*(v@v.T) \n",
    "            H[j+1:,j:] = F@H[j+1:,j:] \n",
    "            H[0:,j+1:] = H[0:,j+1:]@F   # Apply F to the right side of H.  \n",
    "            break\n",
    "\n",
    "    return H "
   ]
  },
  {
   "cell_type": "code",
   "execution_count": 10,
   "id": "9ec1bc4e",
   "metadata": {},
   "outputs": [],
   "source": [
    "def eigenvalue_QR_solver(A,kmax,method=''):\n",
    "        H = hessenberg(A)\n",
    "        m = size(H,0)\n",
    "        Ak = H.copy() \n",
    "        mu = 0\n",
    "        e = zeros((kmax,1)) \n",
    "        lam = zeros((m,1))\n",
    "        for k in range(kmax):\n",
    "            m = size(Ak,0)\n",
    "            mu = 0\n",
    "            Q,R = qr(Ak - mu*eye(m))   \n",
    "            Ak = R@Q + mu*eye(m) \n",
    "            #e[1:k] = abs(Ak[-1,-2]) \n",
    "            if method == 'unshifted':\n",
    "                mu=mu\n",
    "                if abs(Ak[-1,-2]) < 1e-16:\n",
    "                    print (\"number of iterations required=\",k+1)\n",
    "                    lam[0:m]  = array([diag(Ak)]).T\n",
    "                    break\n",
    "            elif method =='Rayleigh shift':\n",
    "                mu = Ak[-1,-1]\n",
    "                if m==1:\n",
    "                    e[0] = abs(Ak[-1,-1])\n",
    "                    lam[0] = Ak[-1,-1]\n",
    "                    print (\"number of iterations required to find the eigenvalue below=\",k+1)\n",
    "                    print(\"eigenvalue = {:12.4e} \\n\".format(Ak[-1,-1]))\n",
    "                    break\n",
    "\n",
    "                else:\n",
    "                    e[1:k] = abs(Ak[-1,-2]) \n",
    "                    if  abs(Ak[-1,-2]) < 1e-12:\n",
    "                        print (\"number of iterations required to find the eigenvalue below=\",k+1)\n",
    "                        print(\"eigenvalue = {:12.4e} \\n\".format(Ak[-1,-1]))\n",
    "                        lam[1:m]= Ak[-1,-1]\n",
    "                        Ak = Ak[0:m-1,0:m-1]\n",
    "            elif method=='Wilkinson shift':\n",
    "                if m==1:\n",
    "                    print (\"number of iterations required to find the eigenvalue below=\",k+1)\n",
    "                    print(\"eigenvalue = {:12.4e} \\n\".format(Ak[-1,-1]))\n",
    "                    lam[0]=Ak[0,0]\n",
    "                    break\n",
    "                else:\n",
    "                    sigma = (Ak[-2,-2]-Ak[-1,-1])/2\n",
    "                    if sigma !=0:\n",
    "                        sn = sign(sigma)\n",
    "                    else:\n",
    "                        sn = -1\n",
    "                    mu = Ak[m-1,m-1] - (sn*Ak[m-2,m-1]**2/(abs(sigma) + sqrt(sigma**2+Ak[m-2,m-1]**2)))\n",
    "                    if abs(Ak[-1,-2]) < 1e-12:\n",
    "                        print (\"number of iterations required to find the eigenvalue below=\",k+1)\n",
    "                        print(\"eigenvalue = {:12.4e} \\n\".format(Ak[-1,-1]))\n",
    "                        lam[1:m]= Ak[-1,-1]\n",
    "                        Ak = Ak[0:m-1,0:m-1]\n",
    "\n",
    "\n",
    "        return e,sort(lam)[::-1]"
   ]
  },
  {
   "cell_type": "code",
   "execution_count": 11,
   "id": "d30443b1",
   "metadata": {},
   "outputs": [],
   "source": [
    "H = hilbert(4)"
   ]
  },
  {
   "cell_type": "code",
   "execution_count": 12,
   "id": "7c58df75",
   "metadata": {},
   "outputs": [
    {
     "data": {
      "text/plain": [
       "array([[9.67023040e-05],\n",
       "       [6.73827361e-03],\n",
       "       [1.69141220e-01],\n",
       "       [1.50021428e+00]])"
      ]
     },
     "execution_count": 12,
     "metadata": {},
     "output_type": "execute_result"
    }
   ],
   "source": [
    "# TRUE EIGENVALUES\n",
    "eval_true1,evec_true = eig(H)\n",
    "eval_true1 = sort(array(eval_true1).reshape(size(H,0),1),axis=0)\n",
    "eval_true1 = sort(eval_true1)\n",
    "eval_true1"
   ]
  },
  {
   "cell_type": "code",
   "execution_count": 13,
   "id": "9ee8048e",
   "metadata": {},
   "outputs": [
    {
     "name": "stdout",
     "output_type": "stream",
     "text": [
      "number of iterations required= 8\n",
      "Eigenvalues = \n"
     ]
    },
    {
     "data": {
      "text/plain": [
       "array([[0.00009670],\n",
       "       [0.00673827],\n",
       "       [0.16914122],\n",
       "       [1.50021428]])"
      ]
     },
     "metadata": {},
     "output_type": "display_data"
    },
    {
     "name": "stdout",
     "output_type": "stream",
     "text": [
      "\n",
      "Error = \n"
     ]
    },
    {
     "data": {
      "text/plain": [
       "8.329327586204261e-16"
      ]
     },
     "metadata": {},
     "output_type": "display_data"
    },
    {
     "name": "stdout",
     "output_type": "stream",
     "text": [
      "\n"
     ]
    }
   ],
   "source": [
    "# USING UNSHIFTED QR\n",
    "e1,lam1= eigenvalue_QR_solver(H,kmax= 20,method='unshifted')\n",
    "#lam1 = sort(lam1)[::-1]\n",
    "display_mat(\"Eigenvalues = \",lam1) \n",
    "display_mat(\"Error = \",linalg.norm(eval_true1 - lam1)) \n"
   ]
  },
  {
   "cell_type": "code",
   "execution_count": 14,
   "id": "21c0b44d",
   "metadata": {},
   "outputs": [
    {
     "name": "stdout",
     "output_type": "stream",
     "text": [
      "number of iterations required to find the eigenvalue below= 6\n",
      "eigenvalue =   9.6702e-05 \n",
      "\n",
      "number of iterations required to find the eigenvalue below= 8\n",
      "eigenvalue =   6.7383e-03 \n",
      "\n",
      "number of iterations required to find the eigenvalue below= 13\n",
      "eigenvalue =   1.6914e-01 \n",
      "\n",
      "number of iterations required to find the eigenvalue below= 14\n",
      "eigenvalue =   1.5002e+00 \n",
      "\n",
      "Eigenvalues = \n"
     ]
    },
    {
     "data": {
      "text/plain": [
       "array([[0.00009670],\n",
       "       [0.00673827],\n",
       "       [0.16914122],\n",
       "       [1.50021428]])"
      ]
     },
     "metadata": {},
     "output_type": "display_data"
    },
    {
     "name": "stdout",
     "output_type": "stream",
     "text": [
      "\n",
      "Error = \n"
     ]
    },
    {
     "data": {
      "text/plain": [
       "2.2303812898233666e-16"
      ]
     },
     "metadata": {},
     "output_type": "display_data"
    },
    {
     "name": "stdout",
     "output_type": "stream",
     "text": [
      "\n"
     ]
    }
   ],
   "source": [
    "#USING RAYLEIGH SHIFT\n",
    "e2,lam2= eigenvalue_QR_solver(H,kmax= 20,method='Rayleigh shift')\n",
    "#lam2 = sort(lam2)[::-1]\n",
    "display_mat(\"Eigenvalues = \",lam2) \n",
    "display_mat(\"Error = \",linalg.norm(eval_true1 - lam2)) \n"
   ]
  },
  {
   "cell_type": "code",
   "execution_count": 15,
   "id": "d72dd588",
   "metadata": {},
   "outputs": [
    {
     "name": "stdout",
     "output_type": "stream",
     "text": [
      "number of iterations required to find the eigenvalue below= 6\n",
      "eigenvalue =   9.6702e-05 \n",
      "\n",
      "number of iterations required to find the eigenvalue below= 8\n",
      "eigenvalue =   6.7383e-03 \n",
      "\n",
      "number of iterations required to find the eigenvalue below= 13\n",
      "eigenvalue =   1.6914e-01 \n",
      "\n",
      "number of iterations required to find the eigenvalue below= 14\n",
      "eigenvalue =   1.5002e+00 \n",
      "\n",
      "Eigenvalues = \n"
     ]
    },
    {
     "data": {
      "text/plain": [
       "array([[0.00009670],\n",
       "       [0.00673827],\n",
       "       [0.16914122],\n",
       "       [1.50021428]])"
      ]
     },
     "metadata": {},
     "output_type": "display_data"
    },
    {
     "name": "stdout",
     "output_type": "stream",
     "text": [
      "\n",
      "Error = \n"
     ]
    },
    {
     "data": {
      "text/plain": [
       "2.2303812898233666e-16"
      ]
     },
     "metadata": {},
     "output_type": "display_data"
    },
    {
     "name": "stdout",
     "output_type": "stream",
     "text": [
      "\n"
     ]
    }
   ],
   "source": [
    "# USING WILKINSON SHIFT\n",
    "\n",
    "e3,lam3= eigenvalue_QR_solver(H,kmax= 20,method='Wilkinson shift')\n",
    "#lam3 = sort(lam3)[::-1]\n",
    "display_mat(\"Eigenvalues = \",lam3) \n",
    "display_mat(\"Error = \",linalg.norm(eval_true1 - lam3)) "
   ]
  },
  {
   "cell_type": "markdown",
   "id": "a4343504",
   "metadata": {},
   "source": [
    "## Part (e)"
   ]
  },
  {
   "cell_type": "code",
   "execution_count": 16,
   "id": "d00d73cf",
   "metadata": {},
   "outputs": [],
   "source": [
    "a = arange(15,0,-1)\n",
    "A = diag(a) + ones((15,15))"
   ]
  },
  {
   "cell_type": "code",
   "execution_count": 17,
   "id": "e3db6647",
   "metadata": {},
   "outputs": [
    {
     "data": {
      "text/plain": [
       "array([[ 1.21465537],\n",
       "       [ 2.25695098],\n",
       "       [ 3.28777559],\n",
       "       [ 4.31431185],\n",
       "       [ 5.33895988],\n",
       "       [ 6.36294449],\n",
       "       [ 7.38709275],\n",
       "       [ 8.41211207],\n",
       "       [ 9.43874576],\n",
       "       [10.46792166],\n",
       "       [11.50098302],\n",
       "       [12.54018637],\n",
       "       [13.59013196],\n",
       "       [14.664097  ],\n",
       "       [24.22313127]])"
      ]
     },
     "execution_count": 17,
     "metadata": {},
     "output_type": "execute_result"
    }
   ],
   "source": [
    "# TRUE EIGENVALUES\n",
    "eval_true,evec_true = eig(A)\n",
    "eval_true = sort(array(eval_true).reshape(size(A,0),1),axis=0)\n",
    "eval_true = sort(eval_true)\n",
    "eval_true"
   ]
  },
  {
   "cell_type": "code",
   "execution_count": 18,
   "id": "cc023a7c",
   "metadata": {},
   "outputs": [
    {
     "name": "stdout",
     "output_type": "stream",
     "text": [
      "number of iterations required= 57\n",
      "Eigenvalues = \n"
     ]
    },
    {
     "data": {
      "text/plain": [
       "array([[1.21465537],\n",
       "       [2.25695098],\n",
       "       [3.28777559],\n",
       "       [4.31431185],\n",
       "       [5.33895988],\n",
       "       [6.36294449],\n",
       "       [7.38709279],\n",
       "       [8.41211231],\n",
       "       [9.43874674],\n",
       "       [10.46792496],\n",
       "       [11.50099406],\n",
       "       [12.54029197],\n",
       "       [13.59002593],\n",
       "       [14.66408181],\n",
       "       [24.22313127]])"
      ]
     },
     "metadata": {},
     "output_type": "display_data"
    },
    {
     "name": "stdout",
     "output_type": "stream",
     "text": [
      "\n",
      "Error = \n"
     ]
    },
    {
     "data": {
      "text/plain": [
       "0.0001508570555763974"
      ]
     },
     "metadata": {},
     "output_type": "display_data"
    },
    {
     "name": "stdout",
     "output_type": "stream",
     "text": [
      "\n"
     ]
    }
   ],
   "source": [
    "# USING UNSHIFTED QR\n",
    "e11,lam11= eigenvalue_QR_solver(A,kmax=1000,method='unshifted')\n",
    "#lam1 = sort(lam1)[::-1]\n",
    "display_mat(\"Eigenvalues = \",lam11) \n",
    "display_mat(\"Error = \",linalg.norm(eval_true - lam11)) \n"
   ]
  },
  {
   "cell_type": "code",
   "execution_count": 19,
   "id": "d1550740",
   "metadata": {},
   "outputs": [
    {
     "name": "stdout",
     "output_type": "stream",
     "text": [
      "number of iterations required to find the eigenvalue below= 42\n",
      "eigenvalue =   1.2147e+00 \n",
      "\n",
      "number of iterations required to find the eigenvalue below= 70\n",
      "eigenvalue =   2.2570e+00 \n",
      "\n",
      "number of iterations required to find the eigenvalue below= 97\n",
      "eigenvalue =   3.2878e+00 \n",
      "\n",
      "number of iterations required to find the eigenvalue below= 124\n",
      "eigenvalue =   4.3143e+00 \n",
      "\n",
      "number of iterations required to find the eigenvalue below= 151\n",
      "eigenvalue =   5.3390e+00 \n",
      "\n",
      "number of iterations required to find the eigenvalue below= 178\n",
      "eigenvalue =   6.3629e+00 \n",
      "\n",
      "number of iterations required to find the eigenvalue below= 205\n",
      "eigenvalue =   7.3871e+00 \n",
      "\n",
      "number of iterations required to find the eigenvalue below= 232\n",
      "eigenvalue =   8.4121e+00 \n",
      "\n",
      "number of iterations required to find the eigenvalue below= 259\n",
      "eigenvalue =   9.4387e+00 \n",
      "\n",
      "number of iterations required to find the eigenvalue below= 286\n",
      "eigenvalue =   1.0468e+01 \n",
      "\n",
      "number of iterations required to find the eigenvalue below= 313\n",
      "eigenvalue =   1.1501e+01 \n",
      "\n",
      "number of iterations required to find the eigenvalue below= 345\n",
      "eigenvalue =   1.2540e+01 \n",
      "\n",
      "number of iterations required to find the eigenvalue below= 348\n",
      "eigenvalue =   1.3590e+01 \n",
      "\n",
      "number of iterations required to find the eigenvalue below= 349\n",
      "eigenvalue =   1.4664e+01 \n",
      "\n",
      "number of iterations required to find the eigenvalue below= 350\n",
      "eigenvalue =   2.4223e+01 \n",
      "\n",
      "Eigenvalues = \n"
     ]
    },
    {
     "data": {
      "text/plain": [
       "array([[1.21465537],\n",
       "       [2.25695098],\n",
       "       [3.28777559],\n",
       "       [4.31431185],\n",
       "       [5.33895988],\n",
       "       [6.36294449],\n",
       "       [7.38709275],\n",
       "       [8.41211207],\n",
       "       [9.43874576],\n",
       "       [10.46792166],\n",
       "       [11.50098302],\n",
       "       [12.54018637],\n",
       "       [13.59013196],\n",
       "       [14.66409700],\n",
       "       [24.22313127]])"
      ]
     },
     "metadata": {},
     "output_type": "display_data"
    },
    {
     "name": "stdout",
     "output_type": "stream",
     "text": [
      "\n",
      "Error = \n"
     ]
    },
    {
     "data": {
      "text/plain": [
       "7.965709004822976e-14"
      ]
     },
     "metadata": {},
     "output_type": "display_data"
    },
    {
     "name": "stdout",
     "output_type": "stream",
     "text": [
      "\n"
     ]
    }
   ],
   "source": [
    "#USING RAYLEIGH SHIFT\n",
    "e22,lam22= eigenvalue_QR_solver(A,kmax=1000,method='Rayleigh shift')\n",
    "#lam2 = sort(lam2)[::-1]\n",
    "display_mat(\"Eigenvalues = \",lam22) \n",
    "display_mat(\"Error = \",linalg.norm(eval_true - lam22)) \n"
   ]
  },
  {
   "cell_type": "code",
   "execution_count": 20,
   "id": "12e2e8f8",
   "metadata": {},
   "outputs": [
    {
     "name": "stdout",
     "output_type": "stream",
     "text": [
      "number of iterations required to find the eigenvalue below= 42\n",
      "eigenvalue =   1.2147e+00 \n",
      "\n",
      "number of iterations required to find the eigenvalue below= 70\n",
      "eigenvalue =   2.2570e+00 \n",
      "\n",
      "number of iterations required to find the eigenvalue below= 97\n",
      "eigenvalue =   3.2878e+00 \n",
      "\n",
      "number of iterations required to find the eigenvalue below= 124\n",
      "eigenvalue =   4.3143e+00 \n",
      "\n",
      "number of iterations required to find the eigenvalue below= 151\n",
      "eigenvalue =   5.3390e+00 \n",
      "\n",
      "number of iterations required to find the eigenvalue below= 178\n",
      "eigenvalue =   6.3629e+00 \n",
      "\n",
      "number of iterations required to find the eigenvalue below= 205\n",
      "eigenvalue =   7.3871e+00 \n",
      "\n",
      "number of iterations required to find the eigenvalue below= 232\n",
      "eigenvalue =   8.4121e+00 \n",
      "\n",
      "number of iterations required to find the eigenvalue below= 259\n",
      "eigenvalue =   9.4387e+00 \n",
      "\n",
      "number of iterations required to find the eigenvalue below= 286\n",
      "eigenvalue =   1.0468e+01 \n",
      "\n",
      "number of iterations required to find the eigenvalue below= 313\n",
      "eigenvalue =   1.1501e+01 \n",
      "\n",
      "number of iterations required to find the eigenvalue below= 345\n",
      "eigenvalue =   1.2540e+01 \n",
      "\n",
      "number of iterations required to find the eigenvalue below= 348\n",
      "eigenvalue =   1.3590e+01 \n",
      "\n",
      "number of iterations required to find the eigenvalue below= 349\n",
      "eigenvalue =   1.4664e+01 \n",
      "\n",
      "number of iterations required to find the eigenvalue below= 350\n",
      "eigenvalue =   2.4223e+01 \n",
      "\n",
      "Eigenvalues = \n"
     ]
    },
    {
     "data": {
      "text/plain": [
       "array([[1.21465537],\n",
       "       [2.25695098],\n",
       "       [3.28777559],\n",
       "       [4.31431185],\n",
       "       [5.33895988],\n",
       "       [6.36294449],\n",
       "       [7.38709275],\n",
       "       [8.41211207],\n",
       "       [9.43874576],\n",
       "       [10.46792166],\n",
       "       [11.50098302],\n",
       "       [12.54018637],\n",
       "       [13.59013196],\n",
       "       [14.66409700],\n",
       "       [24.22313127]])"
      ]
     },
     "metadata": {},
     "output_type": "display_data"
    },
    {
     "name": "stdout",
     "output_type": "stream",
     "text": [
      "\n",
      "Error = \n"
     ]
    },
    {
     "data": {
      "text/plain": [
       "7.965709004822976e-14"
      ]
     },
     "metadata": {},
     "output_type": "display_data"
    },
    {
     "name": "stdout",
     "output_type": "stream",
     "text": [
      "\n"
     ]
    }
   ],
   "source": [
    "# USING WILKINSON SHIFT\n",
    "\n",
    "e33,lam33= eigenvalue_QR_solver(A,kmax=1000,method='Wilkinson shift')\n",
    "#lam3 = sort(lam3)[::-1]\n",
    "display_mat(\"Eigenvalues = \",lam33) \n",
    "display_mat(\"Error = \",linalg.norm(eval_true - lam33)) "
   ]
  }
 ],
 "metadata": {
  "kernelspec": {
   "display_name": "Python 3 (ipykernel)",
   "language": "python",
   "name": "python3"
  },
  "language_info": {
   "codemirror_mode": {
    "name": "ipython",
    "version": 3
   },
   "file_extension": ".py",
   "mimetype": "text/x-python",
   "name": "python",
   "nbconvert_exporter": "python",
   "pygments_lexer": "ipython3",
   "version": "3.9.7"
  }
 },
 "nbformat": 4,
 "nbformat_minor": 5
}
