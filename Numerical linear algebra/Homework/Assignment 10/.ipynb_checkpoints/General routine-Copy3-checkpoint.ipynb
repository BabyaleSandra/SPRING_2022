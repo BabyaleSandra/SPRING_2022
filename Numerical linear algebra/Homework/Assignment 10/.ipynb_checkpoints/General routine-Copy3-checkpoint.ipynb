{
 "cells": [
  {
   "cell_type": "code",
   "execution_count": 1,
   "id": "98af9aa0",
   "metadata": {},
   "outputs": [],
   "source": [
    "%matplotlib notebook\n",
    "from numpy import *\n",
    "from matplotlib.pyplot import *\n",
    "from numpy.linalg import qr \n",
    "from scipy.linalg import hilbert\n",
    "from numpy.linalg import eig"
   ]
  },
  {
   "cell_type": "code",
   "execution_count": 2,
   "id": "9f00152f",
   "metadata": {},
   "outputs": [],
   "source": [
    "def display_mat(msg,A):\n",
    "    print(msg)\n",
    "    display(A)\n",
    "    print(\"\")\n"
   ]
  },
  {
   "cell_type": "code",
   "execution_count": 3,
   "id": "405f51f3",
   "metadata": {},
   "outputs": [],
   "source": [
    "def hessenberg(A): \n",
    "    m,n = A.shape \n",
    "    assert m == n, \"A must be square\" \n",
    "     \n",
    "    H = A.copy() \n",
    "    Qt = eye(m) \n",
    "    for j in range(m-1): \n",
    "        x = H[j+1:,j:j+1]         \n",
    "        I = eye(m-j-1) \n",
    "        s = 1 if x[0] > 0 else -1     # sign function, with sign(0)  = 1 \n",
    "        v = s*linalg.norm(x,2)*I[:,0:1] + x \n",
    " \n",
    "        vn = linalg.norm(v,2)\n",
    "        if vn!=0:\n",
    "            v = v/vn \n",
    "            F = I - 2*(v@v.T) \n",
    "            H[j+1:,j:] = F@H[j+1:,j:] \n",
    "            H[0:,j+1:] = H[0:,j+1:]@F   # Apply F to the right side of H.  \n",
    "            break\n",
    "\n",
    "    return H "
   ]
  },
  {
   "cell_type": "code",
   "execution_count": 4,
   "id": "c4841a50",
   "metadata": {},
   "outputs": [],
   "source": [
    "def eigenvalue_QR_solver(A,kmax,method=''):\n",
    "        H = hessenberg(A)\n",
    "        m = size(H,0)\n",
    "        Ak = H.copy() \n",
    "        mu = 0\n",
    "        e = zeros((kmax,1)) \n",
    "        lam = zeros((m,1))\n",
    "        for k in range(kmax):\n",
    "            m = size(Ak,0)\n",
    "            mu = 0\n",
    "            Q,R = qr(Ak - mu*eye(m))   \n",
    "            Ak = R@Q + mu*eye(m) \n",
    "            if method == 'unshifted':\n",
    "                mu=mu\n",
    "                if abs(Ak[-1,-2]) < 1e-16:\n",
    "                    print (\"number of iterations required=\",k+1)\n",
    "                    lam[0:m]  = array([diag(Ak)]).T\n",
    "                    break\n",
    "            elif method =='Rayleigh shift':\n",
    "                mu = Ak[-1,-1]\n",
    "                if m==1:\n",
    "                    lam[0] = Ak[-1,-1]\n",
    "                    e[0] = abs(Ak[-1,-1])\n",
    "                    print (\"number of iterations required to find the eigenvalue below=\",k+1)\n",
    "                    print(\"eigenvalue = {:12.4e} \\n\".format(Ak[-1,-1]))\n",
    "                    break\n",
    "\n",
    "                else:\n",
    "                    e[1:k] = abs(Ak[-1,-2]) \n",
    "                    if  abs(Ak[-1,-2]) < 1e-12:\n",
    "                        print (\"number of iterations required to find the eigenvalue below=\",k+1)\n",
    "                        print(\"eigenvalue = {:12.4e} \\n\".format(Ak[-1,-1]))\n",
    "                        lam[1:m]= Ak[-1,-1]\n",
    "                        Ak = Ak[0:m-1,0:m-1]\n",
    "            elif method=='Wilkinson shift':\n",
    "                if m==1:\n",
    "                    print (\"number of iterations required to find the eigenvalue below=\",k+1)\n",
    "                    print(\"eigenvalue = {:12.4e} \\n\".format(Ak[-1,-1]))\n",
    "                    lam[0]=Ak[0,0]\n",
    "                    break\n",
    "                else:\n",
    "                    sigma = (Ak[-2,-2]-Ak[-1,-1])/2\n",
    "                    if sigma !=0:\n",
    "                        sn = sign(sigma)\n",
    "                    else:\n",
    "                        sn = -1\n",
    "                    mu = Ak[m-1,m-1] - (sn*Ak[m-2,m-1]**2/(abs(sigma) + sqrt(sigma**2+Ak[m-2,m-1]**2)))\n",
    "                    if abs(Ak[-1,-2]) < 1e-12:\n",
    "                        print (\"number of iterations required to find the eigenvalue below=\",k+1)\n",
    "                        print(\"eigenvalue = {:12.4e} \\n\".format(Ak[-1,-1]))\n",
    "                        lam[1:m]= Ak[-1,-1]\n",
    "                        Ak = Ak[0:m-1,0:m-1]\n",
    "\n",
    "\n",
    "        return e,sort(lam)[::-1]"
   ]
  },
  {
   "cell_type": "code",
   "execution_count": 5,
   "id": "1c60cb41",
   "metadata": {},
   "outputs": [],
   "source": [
    "H = hilbert(4)"
   ]
  },
  {
   "cell_type": "code",
   "execution_count": 6,
   "id": "d49e8354",
   "metadata": {},
   "outputs": [
    {
     "data": {
      "text/plain": [
       "array([[9.67023040e-05],\n",
       "       [6.73827361e-03],\n",
       "       [1.69141220e-01],\n",
       "       [1.50021428e+00]])"
      ]
     },
     "execution_count": 6,
     "metadata": {},
     "output_type": "execute_result"
    }
   ],
   "source": [
    "# TRUE EIGENVALUES\n",
    "eval_true1,evec_true = eig(H)\n",
    "eval_true1 = sort(array(eval_true1).reshape(size(H,0),1),axis=0)\n",
    "eval_true1 = sort(eval_true1)\n",
    "eval_true1"
   ]
  },
  {
   "cell_type": "code",
   "execution_count": 7,
   "id": "1b145e5d",
   "metadata": {},
   "outputs": [
    {
     "name": "stdout",
     "output_type": "stream",
     "text": [
      "number of iterations required= 8\n",
      "Eigenvalues = \n"
     ]
    },
    {
     "data": {
      "text/plain": [
       "array([[9.67023040e-05],\n",
       "       [6.73827361e-03],\n",
       "       [1.69141220e-01],\n",
       "       [1.50021428e+00]])"
      ]
     },
     "metadata": {},
     "output_type": "display_data"
    },
    {
     "name": "stdout",
     "output_type": "stream",
     "text": [
      "\n",
      "Error = \n"
     ]
    },
    {
     "data": {
      "text/plain": [
       "8.329327586204261e-16"
      ]
     },
     "metadata": {},
     "output_type": "display_data"
    },
    {
     "name": "stdout",
     "output_type": "stream",
     "text": [
      "\n"
     ]
    }
   ],
   "source": [
    "# USING UNSHIFTED QR\n",
    "e1,lam1= eigenvalue_QR_solver(H,kmax= 20,method='unshifted')\n",
    "#lam1 = sort(lam1)[::-1]\n",
    "display_mat(\"Eigenvalues = \",lam1) \n",
    "display_mat(\"Error = \",linalg.norm(eval_true1 - lam1)) \n"
   ]
  },
  {
   "cell_type": "code",
   "execution_count": 8,
   "id": "28bedc3f",
   "metadata": {},
   "outputs": [
    {
     "name": "stdout",
     "output_type": "stream",
     "text": [
      "number of iterations required to find the eigenvalue below= 6\n",
      "eigenvalue =   9.6702e-05 \n",
      "\n",
      "number of iterations required to find the eigenvalue below= 8\n",
      "eigenvalue =   6.7383e-03 \n",
      "\n",
      "number of iterations required to find the eigenvalue below= 13\n",
      "eigenvalue =   1.6914e-01 \n",
      "\n",
      "number of iterations required to find the eigenvalue below= 14\n",
      "eigenvalue =   1.5002e+00 \n",
      "\n",
      "Eigenvalues = \n"
     ]
    },
    {
     "data": {
      "text/plain": [
       "array([[9.67023040e-05],\n",
       "       [6.73827361e-03],\n",
       "       [1.69141220e-01],\n",
       "       [1.50021428e+00]])"
      ]
     },
     "metadata": {},
     "output_type": "display_data"
    },
    {
     "name": "stdout",
     "output_type": "stream",
     "text": [
      "\n",
      "Error = \n"
     ]
    },
    {
     "data": {
      "text/plain": [
       "2.2303812898233666e-16"
      ]
     },
     "metadata": {},
     "output_type": "display_data"
    },
    {
     "name": "stdout",
     "output_type": "stream",
     "text": [
      "\n"
     ]
    },
    {
     "data": {
      "text/plain": [
       "array([[1.50021428e+00],\n",
       "       [4.64914282e-13],\n",
       "       [4.64914282e-13],\n",
       "       [4.64914282e-13],\n",
       "       [4.64914282e-13],\n",
       "       [4.64914282e-13],\n",
       "       [4.64914282e-13],\n",
       "       [4.64914282e-13],\n",
       "       [4.64914282e-13],\n",
       "       [4.64914282e-13],\n",
       "       [4.64914282e-13],\n",
       "       [4.64914282e-13],\n",
       "       [0.00000000e+00],\n",
       "       [0.00000000e+00],\n",
       "       [0.00000000e+00],\n",
       "       [0.00000000e+00],\n",
       "       [0.00000000e+00],\n",
       "       [0.00000000e+00],\n",
       "       [0.00000000e+00],\n",
       "       [0.00000000e+00]])"
      ]
     },
     "execution_count": 8,
     "metadata": {},
     "output_type": "execute_result"
    }
   ],
   "source": [
    "#USING RAYLEIGH SHIFT\n",
    "e2,lam2= eigenvalue_QR_solver(H,kmax= 20,method='Rayleigh shift')\n",
    "#lam2 = sort(lam2)[::-1]\n",
    "display_mat(\"Eigenvalues = \",lam2) \n",
    "display_mat(\"Error = \",linalg.norm(eval_true1 - lam2)) \n",
    "e2"
   ]
  },
  {
   "cell_type": "code",
   "execution_count": null,
   "id": "d6ee9923",
   "metadata": {},
   "outputs": [],
   "source": []
  },
  {
   "cell_type": "code",
   "execution_count": 9,
   "id": "ea95037b",
   "metadata": {},
   "outputs": [
    {
     "name": "stdout",
     "output_type": "stream",
     "text": [
      "number of iterations required to find the eigenvalue below= 6\n",
      "eigenvalue =   9.6702e-05 \n",
      "\n",
      "number of iterations required to find the eigenvalue below= 8\n",
      "eigenvalue =   6.7383e-03 \n",
      "\n",
      "number of iterations required to find the eigenvalue below= 13\n",
      "eigenvalue =   1.6914e-01 \n",
      "\n",
      "number of iterations required to find the eigenvalue below= 14\n",
      "eigenvalue =   1.5002e+00 \n",
      "\n",
      "Eigenvalues = \n"
     ]
    },
    {
     "data": {
      "text/plain": [
       "array([[9.67023040e-05],\n",
       "       [6.73827361e-03],\n",
       "       [1.69141220e-01],\n",
       "       [1.50021428e+00]])"
      ]
     },
     "metadata": {},
     "output_type": "display_data"
    },
    {
     "name": "stdout",
     "output_type": "stream",
     "text": [
      "\n",
      "Error = \n"
     ]
    },
    {
     "data": {
      "text/plain": [
       "2.2303812898233666e-16"
      ]
     },
     "metadata": {},
     "output_type": "display_data"
    },
    {
     "name": "stdout",
     "output_type": "stream",
     "text": [
      "\n"
     ]
    }
   ],
   "source": [
    "# USING WILKINSON SHIFT\n",
    "\n",
    "e3,lam3= eigenvalue_QR_solver(H,kmax= 20,method='Wilkinson shift')\n",
    "#lam3 = sort(lam3)[::-1]\n",
    "display_mat(\"Eigenvalues = \",lam3) \n",
    "display_mat(\"Error = \",linalg.norm(eval_true1 - lam3)) "
   ]
  },
  {
   "cell_type": "code",
   "execution_count": null,
   "id": "dda3867b",
   "metadata": {},
   "outputs": [],
   "source": []
  },
  {
   "cell_type": "markdown",
   "id": "db6e8925",
   "metadata": {},
   "source": [
    "## Part (e)"
   ]
  },
  {
   "cell_type": "code",
   "execution_count": 10,
   "id": "d769caa1",
   "metadata": {},
   "outputs": [],
   "source": [
    "a = arange(15,0,-1)\n",
    "A = diag(a) + ones((15,15))"
   ]
  },
  {
   "cell_type": "code",
   "execution_count": 11,
   "id": "55f737cd",
   "metadata": {},
   "outputs": [
    {
     "data": {
      "text/plain": [
       "array([[ 1.21465537],\n",
       "       [ 2.25695098],\n",
       "       [ 3.28777559],\n",
       "       [ 4.31431185],\n",
       "       [ 5.33895988],\n",
       "       [ 6.36294449],\n",
       "       [ 7.38709275],\n",
       "       [ 8.41211207],\n",
       "       [ 9.43874576],\n",
       "       [10.46792166],\n",
       "       [11.50098302],\n",
       "       [12.54018637],\n",
       "       [13.59013196],\n",
       "       [14.664097  ],\n",
       "       [24.22313127]])"
      ]
     },
     "execution_count": 11,
     "metadata": {},
     "output_type": "execute_result"
    }
   ],
   "source": [
    "# TRUE EIGENVALUES\n",
    "eval_true,evec_true = eig(A)\n",
    "eval_true = sort(array(eval_true).reshape(size(A,0),1),axis=0)\n",
    "eval_true = sort(eval_true)\n",
    "eval_true"
   ]
  },
  {
   "cell_type": "code",
   "execution_count": 12,
   "id": "dcd047bf",
   "metadata": {},
   "outputs": [
    {
     "name": "stdout",
     "output_type": "stream",
     "text": [
      "number of iterations required= 57\n",
      "Eigenvalues = \n"
     ]
    },
    {
     "data": {
      "text/plain": [
       "array([[ 1.21465537],\n",
       "       [ 2.25695098],\n",
       "       [ 3.28777559],\n",
       "       [ 4.31431185],\n",
       "       [ 5.33895988],\n",
       "       [ 6.36294449],\n",
       "       [ 7.38709279],\n",
       "       [ 8.41211231],\n",
       "       [ 9.43874674],\n",
       "       [10.46792496],\n",
       "       [11.50099406],\n",
       "       [12.54029197],\n",
       "       [13.59002593],\n",
       "       [14.66408181],\n",
       "       [24.22313127]])"
      ]
     },
     "metadata": {},
     "output_type": "display_data"
    },
    {
     "name": "stdout",
     "output_type": "stream",
     "text": [
      "\n",
      "Error = \n"
     ]
    },
    {
     "data": {
      "text/plain": [
       "0.0001508570555763974"
      ]
     },
     "metadata": {},
     "output_type": "display_data"
    },
    {
     "name": "stdout",
     "output_type": "stream",
     "text": [
      "\n"
     ]
    }
   ],
   "source": [
    "# USING UNSHIFTED QR\n",
    "e11,lam11= eigenvalue_QR_solver(A,kmax=1000,method='unshifted')\n",
    "#lam1 = sort(lam1)[::-1]\n",
    "display_mat(\"Eigenvalues = \",lam11) \n",
    "display_mat(\"Error = \",linalg.norm(eval_true - lam11)) \n"
   ]
  },
  {
   "cell_type": "code",
   "execution_count": 13,
   "id": "4a2d102a",
   "metadata": {},
   "outputs": [
    {
     "name": "stdout",
     "output_type": "stream",
     "text": [
      "number of iterations required to find the eigenvalue below= 42\n",
      "eigenvalue =   1.2147e+00 \n",
      "\n",
      "number of iterations required to find the eigenvalue below= 70\n",
      "eigenvalue =   2.2570e+00 \n",
      "\n",
      "number of iterations required to find the eigenvalue below= 97\n",
      "eigenvalue =   3.2878e+00 \n",
      "\n",
      "number of iterations required to find the eigenvalue below= 124\n",
      "eigenvalue =   4.3143e+00 \n",
      "\n",
      "number of iterations required to find the eigenvalue below= 151\n",
      "eigenvalue =   5.3390e+00 \n",
      "\n",
      "number of iterations required to find the eigenvalue below= 178\n",
      "eigenvalue =   6.3629e+00 \n",
      "\n",
      "number of iterations required to find the eigenvalue below= 205\n",
      "eigenvalue =   7.3871e+00 \n",
      "\n",
      "number of iterations required to find the eigenvalue below= 232\n",
      "eigenvalue =   8.4121e+00 \n",
      "\n",
      "number of iterations required to find the eigenvalue below= 259\n",
      "eigenvalue =   9.4387e+00 \n",
      "\n",
      "number of iterations required to find the eigenvalue below= 286\n",
      "eigenvalue =   1.0468e+01 \n",
      "\n",
      "number of iterations required to find the eigenvalue below= 313\n",
      "eigenvalue =   1.1501e+01 \n",
      "\n",
      "number of iterations required to find the eigenvalue below= 345\n",
      "eigenvalue =   1.2540e+01 \n",
      "\n",
      "number of iterations required to find the eigenvalue below= 348\n",
      "eigenvalue =   1.3590e+01 \n",
      "\n",
      "number of iterations required to find the eigenvalue below= 349\n",
      "eigenvalue =   1.4664e+01 \n",
      "\n",
      "number of iterations required to find the eigenvalue below= 350\n",
      "eigenvalue =   2.4223e+01 \n",
      "\n",
      "Eigenvalues = \n"
     ]
    },
    {
     "data": {
      "text/plain": [
       "array([[ 1.21465537],\n",
       "       [ 2.25695098],\n",
       "       [ 3.28777559],\n",
       "       [ 4.31431185],\n",
       "       [ 5.33895988],\n",
       "       [ 6.36294449],\n",
       "       [ 7.38709275],\n",
       "       [ 8.41211207],\n",
       "       [ 9.43874576],\n",
       "       [10.46792166],\n",
       "       [11.50098302],\n",
       "       [12.54018637],\n",
       "       [13.59013196],\n",
       "       [14.664097  ],\n",
       "       [24.22313127]])"
      ]
     },
     "metadata": {},
     "output_type": "display_data"
    },
    {
     "name": "stdout",
     "output_type": "stream",
     "text": [
      "\n",
      "Error = \n"
     ]
    },
    {
     "data": {
      "text/plain": [
       "7.965709004822976e-14"
      ]
     },
     "metadata": {},
     "output_type": "display_data"
    },
    {
     "name": "stdout",
     "output_type": "stream",
     "text": [
      "\n"
     ]
    }
   ],
   "source": [
    "#USING RAYLEIGH SHIFT\n",
    "e22,lam22= eigenvalue_QR_solver(A,kmax=1000,method='Rayleigh shift')\n",
    "#lam2 = sort(lam2)[::-1]\n",
    "display_mat(\"Eigenvalues = \",lam22) \n",
    "display_mat(\"Error = \",linalg.norm(eval_true - lam22)) \n"
   ]
  },
  {
   "cell_type": "code",
   "execution_count": 14,
   "id": "cf61550c",
   "metadata": {},
   "outputs": [
    {
     "name": "stdout",
     "output_type": "stream",
     "text": [
      "number of iterations required to find the eigenvalue below= 42\n",
      "eigenvalue =   1.2147e+00 \n",
      "\n",
      "number of iterations required to find the eigenvalue below= 70\n",
      "eigenvalue =   2.2570e+00 \n",
      "\n",
      "number of iterations required to find the eigenvalue below= 97\n",
      "eigenvalue =   3.2878e+00 \n",
      "\n",
      "number of iterations required to find the eigenvalue below= 124\n",
      "eigenvalue =   4.3143e+00 \n",
      "\n",
      "number of iterations required to find the eigenvalue below= 151\n",
      "eigenvalue =   5.3390e+00 \n",
      "\n",
      "number of iterations required to find the eigenvalue below= 178\n",
      "eigenvalue =   6.3629e+00 \n",
      "\n",
      "number of iterations required to find the eigenvalue below= 205\n",
      "eigenvalue =   7.3871e+00 \n",
      "\n",
      "number of iterations required to find the eigenvalue below= 232\n",
      "eigenvalue =   8.4121e+00 \n",
      "\n",
      "number of iterations required to find the eigenvalue below= 259\n",
      "eigenvalue =   9.4387e+00 \n",
      "\n",
      "number of iterations required to find the eigenvalue below= 286\n",
      "eigenvalue =   1.0468e+01 \n",
      "\n",
      "number of iterations required to find the eigenvalue below= 313\n",
      "eigenvalue =   1.1501e+01 \n",
      "\n",
      "number of iterations required to find the eigenvalue below= 345\n",
      "eigenvalue =   1.2540e+01 \n",
      "\n",
      "number of iterations required to find the eigenvalue below= 348\n",
      "eigenvalue =   1.3590e+01 \n",
      "\n",
      "number of iterations required to find the eigenvalue below= 349\n",
      "eigenvalue =   1.4664e+01 \n",
      "\n",
      "number of iterations required to find the eigenvalue below= 350\n",
      "eigenvalue =   2.4223e+01 \n",
      "\n",
      "Eigenvalues = \n"
     ]
    },
    {
     "data": {
      "text/plain": [
       "array([[ 1.21465537],\n",
       "       [ 2.25695098],\n",
       "       [ 3.28777559],\n",
       "       [ 4.31431185],\n",
       "       [ 5.33895988],\n",
       "       [ 6.36294449],\n",
       "       [ 7.38709275],\n",
       "       [ 8.41211207],\n",
       "       [ 9.43874576],\n",
       "       [10.46792166],\n",
       "       [11.50098302],\n",
       "       [12.54018637],\n",
       "       [13.59013196],\n",
       "       [14.664097  ],\n",
       "       [24.22313127]])"
      ]
     },
     "metadata": {},
     "output_type": "display_data"
    },
    {
     "name": "stdout",
     "output_type": "stream",
     "text": [
      "\n",
      "Error = \n"
     ]
    },
    {
     "data": {
      "text/plain": [
       "7.965709004822976e-14"
      ]
     },
     "metadata": {},
     "output_type": "display_data"
    },
    {
     "name": "stdout",
     "output_type": "stream",
     "text": [
      "\n"
     ]
    }
   ],
   "source": [
    "# USING WILKINSON SHIFT\n",
    "\n",
    "e33,lam33= eigenvalue_QR_solver(A,kmax=1000,method='Wilkinson shift')\n",
    "#lam3 = sort(lam3)[::-1]\n",
    "display_mat(\"Eigenvalues = \",lam33) \n",
    "display_mat(\"Error = \",linalg.norm(eval_true - lam33)) "
   ]
  },
  {
   "cell_type": "code",
   "execution_count": null,
   "id": "c7d4044a",
   "metadata": {},
   "outputs": [],
   "source": []
  },
  {
   "cell_type": "code",
   "execution_count": null,
   "id": "a8ad8b52",
   "metadata": {},
   "outputs": [],
   "source": []
  }
 ],
 "metadata": {
  "kernelspec": {
   "display_name": "Python 3 (ipykernel)",
   "language": "python",
   "name": "python3"
  },
  "language_info": {
   "codemirror_mode": {
    "name": "ipython",
    "version": 3
   },
   "file_extension": ".py",
   "mimetype": "text/x-python",
   "name": "python",
   "nbconvert_exporter": "python",
   "pygments_lexer": "ipython3",
   "version": "3.9.7"
  }
 },
 "nbformat": 4,
 "nbformat_minor": 5
}
