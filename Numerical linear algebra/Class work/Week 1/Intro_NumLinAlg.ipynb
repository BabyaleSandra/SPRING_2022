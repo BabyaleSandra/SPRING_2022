{
 "cells": [
  {
   "cell_type": "code",
   "execution_count": 1,
   "metadata": {
    "slideshow": {
     "slide_type": "skip"
    }
   },
   "outputs": [
    {
     "name": "stdout",
     "output_type": "stream",
     "text": [
      "Using matplotlib backend: nbAgg\n",
      "Populating the interactive namespace from numpy and matplotlib\n"
     ]
    }
   ],
   "source": [
    "%matplotlib #notebook\n",
    "%pylab"
   ]
  },
  {
   "cell_type": "markdown",
   "metadata": {
    "slideshow": {
     "slide_type": "slide"
    }
   },
   "source": [
    "<hr style=\"border-width:4px; border-color:coral\"></hr>\n",
    "\n",
    "# Welcome to Numerical Linear Algebra (Math/Comput 566)\n",
    "<hr style=\"border-width:4px; border-color:coral\"></hr>\n",
    "\n",
    "The **goals** for this course are to learn numerical methods for handling large linear systems of equations.  \n",
    "\n",
    "\n",
    "### Solving linear systems of equations\n",
    "Linear systems arise in virtually all computational models.  A typical linear system is expressed in matrix form as \n",
    "\n",
    "\\begin{equation}\n",
    "A\\mathbf x = \\mathbf b\n",
    "\\end{equation}\n",
    "\n",
    "* Discretization of elliptic problems\n",
    "\n",
    "* Linear regression\n",
    "\n",
    "* Solving non-linear systems of equations using root-finding methods\n",
    "\n",
    "\n",
    "### Matrix decompositions\n",
    "\n",
    "A related, more general problem, is the *matrix decomposition* problem in which we seek to factor matrices as products of other matrices. Some of you may be familar with the $LU$ factorization in which a square, invertible matrix $A$ is factored as the product of a lower triangular matrix $L$ and an upper triangular matrix $U$.  This is used in solving linear systems using Gaussian elimination.  \n",
    "\n",
    "Matrix decompositions include\n",
    "\n",
    "* The $LU$ factorization, based on Gaussian Elimination. \n",
    "\n",
    "* Eigenvalue decomposition $A = R\\Lambda R^{-1}$ for square, *diagonalizable* matrices, \n",
    "\n",
    "* The $QR$ decomposition $A = QR$ for solving rectangular systems,\n",
    "\n",
    "* The Singular Value Decompostion (SVD) $A=U\\Sigma V^T$ for general matrices\n",
    "\n",
    "* Other decompositions : Schur decomposition, polar decomposition\n",
    "\n",
    "These decompositions will enable us to solve both square and non\n",
    "\n",
    "\n",
    "Applications for the above are quite numerous, and arise all the time in science and engineering.   While this is not the focus of this class, we will mention applications along the way. \n"
   ]
  },
  {
   "cell_type": "markdown",
   "metadata": {
    "slideshow": {
     "slide_type": "slide"
    }
   },
   "source": [
    "<hr style=\"border-width:4px; border-color:coral\"></hr>\n",
    "\n",
    "## Textbook (required and suggested)\n",
    "<hr style=\"border-width:4px; border-color:coral\"></hr>\n",
    "\n",
    "This course requires the textbook by Trefethen and Bau \n",
    "\n",
    "* **(Required)** N. Trefethen and D. Bau, \"Numerical Linear Algebra\", SIAM (1997). \n",
    "\n",
    "\n",
    "* **(Highly recommended)** G. H. Golub and C. F. Van Loan, \"Matrix Computations\", 3rd Edition, John Hopkins U. Press (1996). \n",
    "\n",
    "The text by Trefethen and Bau is organized around a series of 40 lectures, which we will generally follow in order. \n",
    "\n",
    "The second is a reference manual that is an essential companion text for anyone who plans to engage in computational mathematics. "
   ]
  },
  {
   "cell_type": "markdown",
   "metadata": {
    "slideshow": {
     "slide_type": "slide"
    }
   },
   "source": [
    "<hr style=\"border-width:4px; border-color:coral\"></hr>\n",
    "\n",
    "## Course details\n",
    "<hr style=\"border-width:4px; border-color:coral\"></hr>\n",
    "\n",
    "\n",
    "* **Canvas**. Assignments, announcements, lecture material and discussion forums and quizzes\n",
    "\n",
    "    * See Canvas site for syllabus. \n",
    "    \n",
    "* **Homework and Exams**  I will aim for weekly assignments, generally due on Friday (with a grace period through the weekend).  We will have one or two \"quizzes\" (done online, outside of class, to test your knowledge.  The final exam is to be determined.  If there is interest, we may do projects in class. \n",
    "\n",
    "* **Office hours**. By appt. only. \n",
    "\n",
    "I am mostly concerned that each of you leave with course knowing more than you did when you started.  With this in mind, we will grade homework in class when possible.  \n",
    "\n"
   ]
  },
  {
   "cell_type": "markdown",
   "metadata": {
    "slideshow": {
     "slide_type": "slide"
    }
   },
   "source": [
    "<hr style=\"border-width:2px; border-color:black\"></hr>\n",
    "\n",
    "### How much programming does this course involve?\n",
    "\n",
    "<hr style=\"border-width:2px; border-color:black\"></hr>\n",
    "\n",
    "Every assignment will have a mix of programming assignments (done in Python - more on this), and pencil-paper problems.  \n",
    "\n",
    "* We will use **Jupyter Notebooks** for doing most of our programming work.  \n",
    "\n",
    "\n",
    "* Pre-requisites for this course is some **programming experience** and an introductory numerical methods course in which you will hopefully have been exposed to programming in Matlab or Python.  (More on Python vs. Matlab and Jupyter notebooks coming.)\n",
    "\n",
    "\n",
    "* **Paper/pencil work** will be submitted electronically.   I would  prefer Latex (and this would be a great skill for most of you to use), but won't insist on it, especially for problems that might be more lengthy.  \n",
    "\n",
    "\n",
    "* You will need access to a **laptop** or **desktop** you can use for computations.  You will be asked to download *Anaconda Python*, an open source package containing all the available Python libraries we will need. See notebook \"Intro_Jupyter\" for a brief intro to Jupyter notebooks and instructions on how to install ntoebooks on your laptop.\n"
   ]
  },
  {
   "cell_type": "markdown",
   "metadata": {
    "slideshow": {
     "slide_type": "slide"
    }
   },
   "source": [
    "<hr style=\"border-width:4px; border-color:coral\"></hr>\n",
    "\n",
    "## COVID\n",
    "<hr style=\"border-width:4px; border-color:coral\"></hr>\n",
    "\n",
    "\n",
    "* I will be recording Zoom lectures while in class and making the recordings available on Panopto, through Canvas. \n",
    "\n",
    "\n",
    "* All students attending in person must wear a mask\n",
    "\n",
    "\n",
    "* If you have not already done so, please get your booster shot! \n",
    "\n",
    "While I understand that everyone's risk tolerances are different, I do encourage you to come to class in person if you feel safe to do so.  According to official statistics, there have been no documented cases of virus transmission in classrooms.  \n"
   ]
  },
  {
   "cell_type": "markdown",
   "metadata": {
    "slideshow": {
     "slide_type": "skip"
    }
   },
   "source": [
    "<hr style=\"border-width:4px; border-color:coral\"></hr>\n",
    "\n",
    "## Course outline\n",
    "\n",
    "<hr style=\"border-width:4px; border-color:coral\"></hr>\n",
    "\n",
    "We will generally follow the course text book. \n"
   ]
  },
  {
   "cell_type": "code",
   "execution_count": null,
   "metadata": {},
   "outputs": [],
   "source": []
  }
 ],
 "metadata": {
  "celltoolbar": "Slideshow",
  "kernelspec": {
   "display_name": "Python 3",
   "language": "python",
   "name": "python3"
  },
  "language_info": {
   "codemirror_mode": {
    "name": "ipython",
    "version": 3
   },
   "file_extension": ".py",
   "mimetype": "text/x-python",
   "name": "python",
   "nbconvert_exporter": "python",
   "pygments_lexer": "ipython3",
   "version": "3.7.4"
  }
 },
 "nbformat": 4,
 "nbformat_minor": 2
}
