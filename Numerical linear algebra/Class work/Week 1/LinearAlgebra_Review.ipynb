{
 "cells": [
  {
   "cell_type": "code",
   "execution_count": 1,
   "metadata": {
    "slideshow": {
     "slide_type": "slide"
    }
   },
   "outputs": [],
   "source": [
    "import sympy as sp\n",
    "import numpy as np"
   ]
  },
  {
   "cell_type": "markdown",
   "metadata": {
    "slideshow": {
     "slide_type": "slide"
    }
   },
   "source": [
    "<hr style=\"border-width:4px; border-color:coral\"></hr>\n",
    " \n",
    "# Linear Algebra Review\n",
    " \n",
    "<hr style=\"border-width:4px; border-color:coral\"></hr>\n",
    " \n",
    "Below is a brief review of some ideas from linear algebra, demonstrated using SymPy. \n",
    " \n",
    "For the first few assignments, we will use the SymPy Matrix module and associated routines.  A symbolic matrix is unlike a numerical matrix in that no precision is lost in representing fractions that cannot be exactly represented in IEEE arithmetic.  \n",
    "\n",
    "Here are links to SymPy and its linear algebra capabilities. \n",
    "\n",
    "\n",
    " * [Documentation](https://docs.sympy.org/latest/index.html) for Sympy. \n",
    "\n",
    "\n",
    " * [Matrices](https://docs.sympy.org/latest/tutorial/matrices.html) and linear algebra in Sympy. \n",
    " \n"
   ]
  },
  {
   "cell_type": "markdown",
   "metadata": {
    "slideshow": {
     "slide_type": "slide"
    }
   },
   "source": [
    "<hr style=\"border-width:4px; border-color:coral\"></hr>\n",
    "\n",
    "## Creating Matrices in SymPy\n",
    "\n",
    "<hr style=\"border-width:4px; border-color:coral\"></hr>\n",
    "\n",
    "\n",
    "There at least three ways to create a symbolic SymPy matrix.  \n",
    "\n",
    "1.  Use double brackets to create an \"array of arrays\" (very similar to the way we create arrays in NumPy).  In this approach, each row is listed in a separate array, and the final matrix is than a \"list\" of rows. \n",
    "\n",
    "\n",
    "2.  Use the Numpy `mat` method.  This allows us to specify matrix entries using a notation very similar to that used in Matlab, where rows are separated by semi-colons \";\". **Note:** This has more limited functionality, since we can only input numbers, not variables or keywords (e.g. `pi`). \n",
    "\n",
    "\n",
    "3.  Specify dimensions of the matrix, along with linear array of data.  The matrix will then be filled, row-wise with the data.  "
   ]
  },
  {
   "cell_type": "markdown",
   "metadata": {
    "slideshow": {
     "slide_type": "fragment"
    }
   },
   "source": [
    "#### Example : Creating a Matrix from Python list of rows\n",
    "\n",
    "Create the matrix below, using Python lists\n",
    "\n",
    "\\begin{equation}\n",
    "A = \\begin{bmatrix}\n",
    "1 & 2 & 3 \\\\\n",
    "4 & 5 & 6 \\\\\n",
    "7 & 8 & 9\n",
    "\\end{bmatrix}\n",
    "\\end{equation}"
   ]
  },
  {
   "cell_type": "code",
   "execution_count": 2,
   "metadata": {
    "slideshow": {
     "slide_type": "fragment"
    }
   },
   "outputs": [
    {
     "name": "stdout",
     "output_type": "stream",
     "text": [
      "Creating a matrix from a list of lists\n"
     ]
    },
    {
     "data": {
      "text/latex": [
       "$\\displaystyle \\left[\\begin{matrix}1 & 2 & 3\\\\4 & 5 & 6\\\\7 & 8 & 9\\end{matrix}\\right]$"
      ],
      "text/plain": [
       "Matrix([\n",
       "[1, 2, 3],\n",
       "[4, 5, 6],\n",
       "[7, 8, 9]])"
      ]
     },
     "metadata": {},
     "output_type": "display_data"
    },
    {
     "name": "stdout",
     "output_type": "stream",
     "text": [
      "\n"
     ]
    }
   ],
   "source": [
    "# Method 1 : Use Python lists\n",
    "print(\"Creating a matrix from a list of lists\") \n",
    "row_list = [[1,2,3],[4,5,6],[7,8,9]]    # A Python \"list\" of \"lists\"\n",
    "A = sp.Matrix(row_list)\n",
    "display(A)\n",
    "print(\"\")"
   ]
  },
  {
   "cell_type": "markdown",
   "metadata": {
    "slideshow": {
     "slide_type": "fragment"
    }
   },
   "source": [
    "The advantage of this approach is that we can include virtually any symbolic or numeric value as matrix entries. For example, we can create the matrix below \n",
    "\n",
    "\\begin{equation}\n",
    "A = \\begin{bmatrix}\n",
    "\\pi & 0 & 0 \\\\\n",
    "a & \\pi e & 0 \\\\\n",
    "b & 0 & e\n",
    "\\end{bmatrix}\n",
    "\\end{equation}"
   ]
  },
  {
   "cell_type": "code",
   "execution_count": 3,
   "metadata": {
    "slideshow": {
     "slide_type": "fragment"
    }
   },
   "outputs": [
    {
     "data": {
      "text/latex": [
       "$\\displaystyle \\left[\\begin{matrix}\\pi & 0 & 0\\\\a & e \\pi & 0\\\\b & 0 & e\\end{matrix}\\right]$"
      ],
      "text/plain": [
       "Matrix([\n",
       "[pi,    0, 0],\n",
       "[ a, E*pi, 0],\n",
       "[ b,    0, E]])"
      ]
     },
     "metadata": {},
     "output_type": "display_data"
    }
   ],
   "source": [
    "a,b = sp.symbols('a b')\n",
    "A = sp.Matrix([[sp.pi, 0,0],[a,sp.pi*sp.exp(1),0],[b,0,sp.exp(1)]])\n",
    "display(A)"
   ]
  },
  {
   "cell_type": "markdown",
   "metadata": {
    "slideshow": {
     "slide_type": "fragment"
    }
   },
   "source": [
    "To see that $\\pi$ and $e$ have the expected values, we can evaluate the entries numerically, using the `evalf` method. "
   ]
  },
  {
   "cell_type": "code",
   "execution_count": 4,
   "metadata": {
    "slideshow": {
     "slide_type": "fragment"
    }
   },
   "outputs": [
    {
     "data": {
      "text/latex": [
       "$\\displaystyle \\left[\\begin{matrix}3.14159265358979 & 0 & 0\\\\a & 8.53973422267357 & 0\\\\b & 0 & 2.71828182845905\\end{matrix}\\right]$"
      ],
      "text/plain": [
       "Matrix([\n",
       "[3.14159265358979,                0,                0],\n",
       "[               a, 8.53973422267357,                0],\n",
       "[               b,                0, 2.71828182845905]])"
      ]
     },
     "execution_count": 4,
     "metadata": {},
     "output_type": "execute_result"
    }
   ],
   "source": [
    "A.evalf()"
   ]
  },
  {
   "cell_type": "markdown",
   "metadata": {
    "slideshow": {
     "slide_type": "fragment"
    }
   },
   "source": [
    "We can also supply values for $a$ and $b$ using the SymPy `subs` method. "
   ]
  },
  {
   "cell_type": "code",
   "execution_count": 5,
   "metadata": {
    "slideshow": {
     "slide_type": "fragment"
    }
   },
   "outputs": [
    {
     "data": {
      "text/latex": [
       "$\\displaystyle \\left[\\begin{matrix}\\pi & 0 & 0\\\\2 & e \\pi & 0\\\\-1 & 0 & e\\end{matrix}\\right]$"
      ],
      "text/plain": [
       "Matrix([\n",
       "[pi,    0, 0],\n",
       "[ 2, E*pi, 0],\n",
       "[-1,    0, E]])"
      ]
     },
     "execution_count": 5,
     "metadata": {},
     "output_type": "execute_result"
    }
   ],
   "source": [
    "A.subs(a,2).subs(b,-1)"
   ]
  },
  {
   "cell_type": "markdown",
   "metadata": {
    "slideshow": {
     "slide_type": "slide"
    }
   },
   "source": [
    "#### Example : Creating a matrix using Matlab-like syntax\n",
    "\n",
    "In the second approach, we use a simplified, Matlab like syntax to create matrices.  "
   ]
  },
  {
   "cell_type": "code",
   "execution_count": 6,
   "metadata": {
    "slideshow": {
     "slide_type": "fragment"
    }
   },
   "outputs": [
    {
     "name": "stdout",
     "output_type": "stream",
     "text": [
      "Creating a  matrix from the NumPy.mat method\n"
     ]
    },
    {
     "data": {
      "text/latex": [
       "$\\displaystyle \\left[\\begin{matrix}1 & 2 & 3\\\\4 & 5 & 6\\\\7 & 8 & 9\\end{matrix}\\right]$"
      ],
      "text/plain": [
       "Matrix([\n",
       "[1, 2, 3],\n",
       "[4, 5, 6],\n",
       "[7, 8, 9]])"
      ]
     },
     "metadata": {},
     "output_type": "display_data"
    }
   ],
   "source": [
    "# Method 2 : Creating a Matrix using Matlab-like string\n",
    "print(\"Creating a  matrix from the NumPy.mat method\")\n",
    "mat_str = np.mat(\"1,2,3; 4,5,6; 7,8,9\")    # NumPy \"mat\" function\n",
    "A = sp.Matrix(mat_str)\n",
    "display(A)"
   ]
  },
  {
   "cell_type": "markdown",
   "metadata": {
    "slideshow": {
     "slide_type": "fragment"
    }
   },
   "source": [
    "If we use the NumPy `mat` method, we can include variables as follows. "
   ]
  },
  {
   "cell_type": "code",
   "execution_count": 7,
   "metadata": {
    "slideshow": {
     "slide_type": "fragment"
    }
   },
   "outputs": [
    {
     "data": {
      "text/latex": [
       "$\\displaystyle \\left[\\begin{matrix}1 & 0 & 0\\\\0 & 2 & 0\\\\0 & 0 & 3\\end{matrix}\\right]$"
      ],
      "text/plain": [
       "Matrix([\n",
       "[1, 0, 0],\n",
       "[0, 2, 0],\n",
       "[0, 0, 3]])"
      ]
     },
     "metadata": {},
     "output_type": "display_data"
    }
   ],
   "source": [
    "x,y,z = (1,2,3)\n",
    "mat_str = np.mat(f'{x},0,0; 0,{y},0; 0,0,{z}')\n",
    "A = sp.Matrix(mat_str)\n",
    "display(A)"
   ]
  },
  {
   "cell_type": "markdown",
   "metadata": {
    "slideshow": {
     "slide_type": "fragment"
    }
   },
   "source": [
    "Alternatively, we can use a more general format statement. "
   ]
  },
  {
   "cell_type": "code",
   "execution_count": 8,
   "metadata": {
    "slideshow": {
     "slide_type": "fragment"
    }
   },
   "outputs": [
    {
     "data": {
      "text/latex": [
       "$\\displaystyle \\left[\\begin{matrix}3.1416 & 0.0 & 0.0\\\\0.0 & 8.5397 & 0.0\\\\0.0 & 0.0 & 2.7183\\end{matrix}\\right]$"
      ],
      "text/plain": [
       "Matrix([\n",
       "[3.1416,    0.0,    0.0],\n",
       "[   0.0, 8.5397,    0.0],\n",
       "[   0.0,    0.0, 2.7183]])"
      ]
     },
     "metadata": {},
     "output_type": "display_data"
    }
   ],
   "source": [
    "x,y,z = (np.pi, np.exp(1)*np.pi, np.exp(1) )\n",
    "mat_str = np.mat(f'{x:.4f},0,0; 0,{y:.4f},0; 0,0,{z:.4f}')\n",
    "A = sp.Matrix(mat_str)\n",
    "display(A)"
   ]
  },
  {
   "cell_type": "markdown",
   "metadata": {
    "slideshow": {
     "slide_type": "fragment"
    }
   },
   "source": [
    "Unlike the first \"list-of-list\" approach, this approach does not allow us to include symbolic keywords such as $\\pi$ or $e$.  "
   ]
  },
  {
   "cell_type": "markdown",
   "metadata": {},
   "source": [
    "#### Example : Specify dimensions and linear data\n",
    "\n",
    "This approach is useful if you know the dimensions of the matrix, and you can supply the data in a linear array. This is particularly useful for create vectors. "
   ]
  },
  {
   "cell_type": "code",
   "execution_count": 9,
   "metadata": {},
   "outputs": [
    {
     "data": {
      "text/latex": [
       "$\\displaystyle \\left[\\begin{matrix}1\\\\2\\\\3\\\\4\\\\5\\end{matrix}\\right]$"
      ],
      "text/plain": [
       "Matrix([\n",
       "[1],\n",
       "[2],\n",
       "[3],\n",
       "[4],\n",
       "[5]])"
      ]
     },
     "metadata": {},
     "output_type": "display_data"
    }
   ],
   "source": [
    "# Method 3 : Use linear array of data\n",
    "V = sp.Matrix(5,1,[1,2,3,4,5])\n",
    "display(V)"
   ]
  },
  {
   "cell_type": "markdown",
   "metadata": {},
   "source": [
    "We can also populate an empty vector or matrix with symbolic entries using the following format"
   ]
  },
  {
   "cell_type": "code",
   "execution_count": 10,
   "metadata": {},
   "outputs": [
    {
     "data": {
      "text/latex": [
       "$\\displaystyle \\left[\\begin{matrix}v_{1}\\\\v_{2}\\\\v_{3}\\\\v_{4}\\\\v_{5}\\\\v_{6}\\\\v_{7}\\\\v_{8}\\\\v_{9}\\\\v_{10}\\end{matrix}\\right]$"
      ],
      "text/plain": [
       "Matrix([\n",
       "[ v_1],\n",
       "[ v_2],\n",
       "[ v_3],\n",
       "[ v_4],\n",
       "[ v_5],\n",
       "[ v_6],\n",
       "[ v_7],\n",
       "[ v_8],\n",
       "[ v_9],\n",
       "[v_10]])"
      ]
     },
     "metadata": {},
     "output_type": "display_data"
    }
   ],
   "source": [
    "N = 10\n",
    "V = sp.Matrix(N, 1, lambda i,j:sp.Symbol(f'v_{i+1}'))\n",
    "display(V)"
   ]
  },
  {
   "cell_type": "markdown",
   "metadata": {},
   "source": [
    "We can then substitute values in for individual entries"
   ]
  },
  {
   "cell_type": "code",
   "execution_count": 11,
   "metadata": {},
   "outputs": [
    {
     "data": {
      "text/latex": [
       "$\\displaystyle \\left[\\begin{matrix}1\\\\2\\\\3\\\\v_{4}\\\\v_{5}\\\\v_{6}\\\\v_{7}\\\\v_{8}\\\\v_{9}\\\\v_{10}\\end{matrix}\\right]$"
      ],
      "text/plain": [
       "Matrix([\n",
       "[   1],\n",
       "[   2],\n",
       "[   3],\n",
       "[ v_4],\n",
       "[ v_5],\n",
       "[ v_6],\n",
       "[ v_7],\n",
       "[ v_8],\n",
       "[ v_9],\n",
       "[v_10]])"
      ]
     },
     "execution_count": 11,
     "metadata": {},
     "output_type": "execute_result"
    }
   ],
   "source": [
    "V.subs([(V[0],1), (V[1],2), (V[2],3)])"
   ]
  },
  {
   "cell_type": "code",
   "execution_count": null,
   "metadata": {},
   "outputs": [],
   "source": []
  },
  {
   "cell_type": "code",
   "execution_count": 12,
   "metadata": {},
   "outputs": [
    {
     "data": {
      "text/latex": [
       "$\\displaystyle \\left[\\begin{matrix}1\\\\2\\\\3\\\\4\\\\5\\\\6\\\\7\\\\8\\\\9\\\\10\\end{matrix}\\right]$"
      ],
      "text/plain": [
       "Matrix([\n",
       "[ 1],\n",
       "[ 2],\n",
       "[ 3],\n",
       "[ 4],\n",
       "[ 5],\n",
       "[ 6],\n",
       "[ 7],\n",
       "[ 8],\n",
       "[ 9],\n",
       "[10]])"
      ]
     },
     "execution_count": 12,
     "metadata": {},
     "output_type": "execute_result"
    }
   ],
   "source": [
    "# or substitue all values at once using \"zip\" to create a list of tuples\n",
    "z = list(zip(V,range(1,N+1)))  # Create list of tuples : [(v_1,1),(v_2,2),(v_3,3), (v_4,4), ...]\n",
    "V.subs(z)"
   ]
  },
  {
   "cell_type": "markdown",
   "metadata": {},
   "source": [
    "A symbolic matrix can be created in the same way. "
   ]
  },
  {
   "cell_type": "code",
   "execution_count": 13,
   "metadata": {},
   "outputs": [
    {
     "data": {
      "text/latex": [
       "$\\displaystyle \\left[\\begin{matrix}m_{11} & m_{12} & m_{13} & m_{14} & m_{15}\\\\m_{21} & m_{22} & m_{23} & m_{24} & m_{25}\\\\m_{31} & m_{32} & m_{33} & m_{34} & m_{35}\\end{matrix}\\right]$"
      ],
      "text/plain": [
       "Matrix([\n",
       "[m_11, m_12, m_13, m_14, m_15],\n",
       "[m_21, m_22, m_23, m_24, m_25],\n",
       "[m_31, m_32, m_33, m_34, m_35]])"
      ]
     },
     "metadata": {},
     "output_type": "display_data"
    }
   ],
   "source": [
    "M = sp.Matrix(3, 5, lambda i,j:sp.var(f'm_{i+1}{j+1}'))\n",
    "display(M)"
   ]
  },
  {
   "cell_type": "code",
   "execution_count": 14,
   "metadata": {},
   "outputs": [
    {
     "data": {
      "text/latex": [
       "$\\displaystyle \\left[\\begin{matrix}1 & 2 & 3 & 4 & 5\\\\6 & 7 & 8 & 9 & 10\\\\11 & 12 & 13 & 14 & 15\\end{matrix}\\right]$"
      ],
      "text/plain": [
       "Matrix([\n",
       "[ 1,  2,  3,  4,  5],\n",
       "[ 6,  7,  8,  9, 10],\n",
       "[11, 12, 13, 14, 15]])"
      ]
     },
     "execution_count": 14,
     "metadata": {},
     "output_type": "execute_result"
    }
   ],
   "source": [
    "M.subs(list(zip(M[:],range(1,16))))"
   ]
  },
  {
   "cell_type": "code",
   "execution_count": 55,
   "metadata": {},
   "outputs": [
    {
     "data": {
      "text/latex": [
       "$\\displaystyle \\left[\\begin{matrix}1 & m_{12} & m_{13} & m_{14} & m_{15}\\\\m_{21} & 2 & m_{23} & m_{24} & m_{25}\\\\m_{31} & m_{32} & 3 & m_{34} & m_{35}\\end{matrix}\\right]$"
      ],
      "text/plain": [
       "Matrix([\n",
       "[   1, m_12, m_13, m_14, m_15],\n",
       "[m_21,    2, m_23, m_24, m_25],\n",
       "[m_31, m_32,    3, m_34, m_35]])"
      ]
     },
     "execution_count": 55,
     "metadata": {},
     "output_type": "execute_result"
    }
   ],
   "source": [
    "# Substitute a few values using symbolic representation of the entries\n",
    "M.subs([(m_11,1),(m_22,2),(m_33,3)])"
   ]
  },
  {
   "cell_type": "code",
   "execution_count": 53,
   "metadata": {},
   "outputs": [
    {
     "data": {
      "text/latex": [
       "$\\displaystyle \\left[\\begin{matrix}-1 & m_{12} & m_{13} & m_{14} & m_{15}\\\\m_{21} & -2 & m_{23} & m_{24} & m_{25}\\\\m_{31} & m_{32} & -3 & m_{34} & m_{35}\\end{matrix}\\right]$"
      ],
      "text/plain": [
       "Matrix([\n",
       "[  -1, m_12, m_13, m_14, m_15],\n",
       "[m_21,   -2, m_23, m_24, m_25],\n",
       "[m_31, m_32,   -3, m_34, m_35]])"
      ]
     },
     "execution_count": 53,
     "metadata": {},
     "output_type": "execute_result"
    }
   ],
   "source": [
    "# Index into M directly\n",
    "M.subs([(M[0,0],-1),(M[1,1],-2),(M[2,2],-3)])\n"
   ]
  },
  {
   "cell_type": "markdown",
   "metadata": {},
   "source": [
    "<hr style=\"border-width:4px; border-color:coral\"></hr>\n",
    "\n",
    "## Matrix manipulation\n",
    "<hr style=\"border-width:4px; border-color:coral\"></hr>\n",
    "\n",
    "We can extract rows, columns and submatrices from matrices, among other type manipulations."
   ]
  },
  {
   "cell_type": "code",
   "execution_count": 17,
   "metadata": {},
   "outputs": [
    {
     "name": "stdout",
     "output_type": "stream",
     "text": [
      "A = \n"
     ]
    },
    {
     "data": {
      "text/latex": [
       "$\\displaystyle \\left[\\begin{matrix}1 & 2 & 3 & 3 & 1\\\\-1 & 0 & 1 & 4 & 5\\\\4 & 5 & 0 & -2 & 1\\\\-1 & 0 & 1 & 3 & 4\\\\2 & 2 & 5 & 6 & 7\\end{matrix}\\right]$"
      ],
      "text/plain": [
       "Matrix([\n",
       "[ 1, 2, 3,  3, 1],\n",
       "[-1, 0, 1,  4, 5],\n",
       "[ 4, 5, 0, -2, 1],\n",
       "[-1, 0, 1,  3, 4],\n",
       "[ 2, 2, 5,  6, 7]])"
      ]
     },
     "metadata": {},
     "output_type": "display_data"
    }
   ],
   "source": [
    "A = sp.Matrix([[1,2,3,3,1],[-1,0,1,4,5],[4,5,0,-2,1],[-1,0,1,3,4],[2,2,5,6,7]])\n",
    "print(\"A = \")\n",
    "display(A)"
   ]
  },
  {
   "cell_type": "code",
   "execution_count": 18,
   "metadata": {},
   "outputs": [
    {
     "name": "stdout",
     "output_type": "stream",
     "text": [
      "Column 1 of A\n"
     ]
    },
    {
     "data": {
      "text/latex": [
       "$\\displaystyle \\left[\\begin{matrix}1\\\\-1\\\\4\\\\-1\\\\2\\end{matrix}\\right]$"
      ],
      "text/plain": [
       "Matrix([\n",
       "[ 1],\n",
       "[-1],\n",
       "[ 4],\n",
       "[-1],\n",
       "[ 2]])"
      ]
     },
     "metadata": {},
     "output_type": "display_data"
    },
    {
     "name": "stdout",
     "output_type": "stream",
     "text": [
      "\n",
      "Column shape : \n",
      "(5, 1)\n"
     ]
    }
   ],
   "source": [
    "# Extracting first column of A\n",
    "\n",
    "col1 = A[:,0]\n",
    "print(\"Column 1 of A\")\n",
    "display(col1)\n",
    "print(\"\")\n",
    "\n",
    "print(\"Column shape : \")\n",
    "print(col1.shape)\n",
    "\n"
   ]
  },
  {
   "cell_type": "code",
   "execution_count": 19,
   "metadata": {},
   "outputs": [
    {
     "name": "stdout",
     "output_type": "stream",
     "text": [
      "Row 2 of A\n"
     ]
    },
    {
     "data": {
      "text/latex": [
       "$\\displaystyle \\left[\\begin{matrix}-1 & 0 & 1 & 4 & 5\\end{matrix}\\right]$"
      ],
      "text/plain": [
       "Matrix([[-1, 0, 1, 4, 5]])"
      ]
     },
     "metadata": {},
     "output_type": "display_data"
    },
    {
     "name": "stdout",
     "output_type": "stream",
     "text": [
      "\n",
      "Row shape : \n",
      "(1, 5)\n"
     ]
    }
   ],
   "source": [
    "# Extracting row 2 of A\n",
    "\n",
    "row2 = A[1,:]\n",
    "print(\"Row 2 of A\")\n",
    "display(row2)\n",
    "print(\"\")\n",
    "\n",
    "print(\"Row shape : \")\n",
    "print(row2.shape)\n"
   ]
  },
  {
   "cell_type": "code",
   "execution_count": 20,
   "metadata": {},
   "outputs": [
    {
     "data": {
      "text/latex": [
       "$\\displaystyle \\left[\\begin{matrix}1 & 2\\\\-1 & 0\\end{matrix}\\right]$"
      ],
      "text/plain": [
       "Matrix([\n",
       "[ 1, 2],\n",
       "[-1, 0]])"
      ]
     },
     "metadata": {},
     "output_type": "display_data"
    }
   ],
   "source": [
    "# Extract submatrices\n",
    "\n",
    "A1 = A[0:2,0:2]\n",
    "display(A1)"
   ]
  },
  {
   "cell_type": "code",
   "execution_count": 21,
   "metadata": {},
   "outputs": [
    {
     "data": {
      "text/latex": [
       "$\\displaystyle \\left[\\begin{matrix}-1 & 0 & 1 & 4 & 5\\\\4 & 5 & 0 & -2 & 1\\\\-1 & 0 & 1 & 3 & 4\\\\2 & 2 & 5 & 6 & 7\\end{matrix}\\right]$"
      ],
      "text/plain": [
       "Matrix([\n",
       "[-1, 0, 1,  4, 5],\n",
       "[ 4, 5, 0, -2, 1],\n",
       "[-1, 0, 1,  3, 4],\n",
       "[ 2, 2, 5,  6, 7]])"
      ]
     },
     "metadata": {},
     "output_type": "display_data"
    },
    {
     "data": {
      "text/latex": [
       "$\\displaystyle \\left[\\begin{matrix}-1 & 1 & 4 & 5\\\\4 & 0 & -2 & 1\\\\-1 & 1 & 3 & 4\\\\2 & 5 & 6 & 7\\end{matrix}\\right]$"
      ],
      "text/plain": [
       "Matrix([\n",
       "[-1, 1,  4, 5],\n",
       "[ 4, 0, -2, 1],\n",
       "[-1, 1,  3, 4],\n",
       "[ 2, 5,  6, 7]])"
      ]
     },
     "metadata": {},
     "output_type": "display_data"
    }
   ],
   "source": [
    "# Delete rows or columns of A.  This will modify the original matrix. \n",
    "\n",
    "A2 = A\n",
    "A2.row_del(0)\n",
    "display(A2)\n",
    "\n",
    "A2.col_del(1)\n",
    "display(A2)"
   ]
  },
  {
   "cell_type": "markdown",
   "metadata": {},
   "source": [
    "<hr style=\"border-width:4px; border-color:coral\"></hr>\n",
    "\n",
    "## Matrix algebra\n",
    "\n",
    "<hr style=\"border-width:4px; border-color:coral\"></hr>\n",
    "\n",
    "Eventually, we will make extensive use of matrix algebra.  At a very elementary level, we need to add more detailed understanding of what matrix-vector and matrix-matrix products mean.  "
   ]
  },
  {
   "cell_type": "code",
   "execution_count": 22,
   "metadata": {},
   "outputs": [
    {
     "name": "stdout",
     "output_type": "stream",
     "text": [
      "A = \n"
     ]
    },
    {
     "data": {
      "text/latex": [
       "$\\displaystyle \\left[\\begin{matrix}1 & 2 & 3 & 3 & 1\\\\-1 & 0 & 1 & 4 & 5\\\\4 & 5 & 0 & -2 & 1\\\\-1 & 0 & 1 & 3 & 4\\\\2 & 2 & 5 & 6 & 7\\end{matrix}\\right]$"
      ],
      "text/plain": [
       "Matrix([\n",
       "[ 1, 2, 3,  3, 1],\n",
       "[-1, 0, 1,  4, 5],\n",
       "[ 4, 5, 0, -2, 1],\n",
       "[-1, 0, 1,  3, 4],\n",
       "[ 2, 2, 5,  6, 7]])"
      ]
     },
     "metadata": {},
     "output_type": "display_data"
    },
    {
     "name": "stdout",
     "output_type": "stream",
     "text": [
      "v = \n"
     ]
    },
    {
     "data": {
      "text/latex": [
       "$\\displaystyle \\left[\\begin{matrix}1\\\\1\\\\1\\\\1\\\\1\\end{matrix}\\right]$"
      ],
      "text/plain": [
       "Matrix([\n",
       "[1],\n",
       "[1],\n",
       "[1],\n",
       "[1],\n",
       "[1]])"
      ]
     },
     "metadata": {},
     "output_type": "display_data"
    }
   ],
   "source": [
    "A = sp.Matrix([[1,2,3,3,1],[-1,0,1,4,5],[4,5,0,-2,1],[-1,0,1,3,4],[2,2,5,6,7]])\n",
    "print(\"A = \")\n",
    "display(A)\n",
    "\n",
    "v = sp.Matrix(5,1,[1,1,1,1,1])   # Indicate the size of the matrix in first two arguments\n",
    "print(\"v = \")\n",
    "display(v)"
   ]
  },
  {
   "cell_type": "code",
   "execution_count": 23,
   "metadata": {},
   "outputs": [
    {
     "name": "stdout",
     "output_type": "stream",
     "text": [
      "Av = \n"
     ]
    },
    {
     "data": {
      "text/latex": [
       "$\\displaystyle \\left[\\begin{matrix}10\\\\9\\\\8\\\\7\\\\22\\end{matrix}\\right]$"
      ],
      "text/plain": [
       "Matrix([\n",
       "[10],\n",
       "[ 9],\n",
       "[ 8],\n",
       "[ 7],\n",
       "[22]])"
      ]
     },
     "metadata": {},
     "output_type": "display_data"
    }
   ],
   "source": [
    "# Matrix-vector product\n",
    "\n",
    "print(\"Av = \")\n",
    "display(A*v)"
   ]
  },
  {
   "cell_type": "code",
   "execution_count": 24,
   "metadata": {},
   "outputs": [
    {
     "name": "stdout",
     "output_type": "stream",
     "text": [
      "v'*v = \n"
     ]
    },
    {
     "data": {
      "text/latex": [
       "$\\displaystyle \\left[\\begin{matrix}5\\end{matrix}\\right]$"
      ],
      "text/plain": [
       "Matrix([[5]])"
      ]
     },
     "metadata": {},
     "output_type": "display_data"
    }
   ],
   "source": [
    "# Inner product\n",
    "print(\"v'*v = \")\n",
    "display(v.T*v)    # Use T to get transpose"
   ]
  },
  {
   "cell_type": "code",
   "execution_count": 25,
   "metadata": {},
   "outputs": [
    {
     "name": "stdout",
     "output_type": "stream",
     "text": [
      "v*v'\n"
     ]
    },
    {
     "data": {
      "text/latex": [
       "$\\displaystyle \\left[\\begin{matrix}1 & 1 & 1 & 1 & 1\\\\1 & 1 & 1 & 1 & 1\\\\1 & 1 & 1 & 1 & 1\\\\1 & 1 & 1 & 1 & 1\\\\1 & 1 & 1 & 1 & 1\\end{matrix}\\right]$"
      ],
      "text/plain": [
       "Matrix([\n",
       "[1, 1, 1, 1, 1],\n",
       "[1, 1, 1, 1, 1],\n",
       "[1, 1, 1, 1, 1],\n",
       "[1, 1, 1, 1, 1],\n",
       "[1, 1, 1, 1, 1]])"
      ]
     },
     "metadata": {},
     "output_type": "display_data"
    }
   ],
   "source": [
    "# Outer product\n",
    "print(\"v*v'\")\n",
    "display(v*v.T)"
   ]
  },
  {
   "cell_type": "markdown",
   "metadata": {},
   "source": [
    "<hr style=\"border-width=2px; border-color:black\"></hr>\n",
    "\n",
    "### Matrix-vector product as linear combination of columns\n",
    "\n",
    "We are all used to the mechanics of multiplying a matrix by a vector to get a vector.  If we multiply an $m \\times n$ matrix by a $n \\times 1$ vector $\\mathbf x$, each entry in the result can be expressed as a dot product of a row of the matrix with the $\\mathbf x$. \n",
    "\n",
    "\\begin{equation}\n",
    "(A\\mathbf x)_i = \\mbox{Row}_i(A) \\cdot \\mathbf x = \\sum_{j=1}^n a_{ij}x_j, \\qquad i = 1,2,3,\\dots m\n",
    "\\end{equation}\n",
    "\n",
    "A more useful way to think of matrix-vector multiplication, however, is to view the resulting product as a particular linear combination of *columns* of $A$, where the coefficients of the linear combination are just the entries of the vector $\\mathbf x$.  \n",
    "\n",
    "<center>\n",
    "<img width=600px src=\"./images/linalg_review_01.png\"></img>    \n",
    "</center>    "
   ]
  },
  {
   "cell_type": "markdown",
   "metadata": {},
   "source": [
    "\n",
    "#### Example\n",
    "\n",
    "Given the matrix $A$ above, choose a vector $\\mathbf x$ so that $A\\mathbf x$ is equal to the first column of $A$. "
   ]
  },
  {
   "cell_type": "code",
   "execution_count": 26,
   "metadata": {},
   "outputs": [
    {
     "data": {
      "text/latex": [
       "$\\displaystyle \\left[\\begin{matrix}1 & 3 & 5 & -1\\\\0 & 0 & 1 & 2\\\\1 & 5 & 6 & 7\\\\1 & 3 & -2 & -5\\end{matrix}\\right]$"
      ],
      "text/plain": [
       "Matrix([\n",
       "[1, 3,  5, -1],\n",
       "[0, 0,  1,  2],\n",
       "[1, 5,  6,  7],\n",
       "[1, 3, -2, -5]])"
      ]
     },
     "metadata": {},
     "output_type": "display_data"
    },
    {
     "name": "stdout",
     "output_type": "stream",
     "text": [
      "\n"
     ]
    },
    {
     "data": {
      "text/latex": [
       "$\\displaystyle \\left[\\begin{matrix}1\\\\0\\\\1\\\\1\\end{matrix}\\right]$"
      ],
      "text/plain": [
       "Matrix([\n",
       "[1],\n",
       "[0],\n",
       "[1],\n",
       "[1]])"
      ]
     },
     "metadata": {},
     "output_type": "display_data"
    }
   ],
   "source": [
    "A = sp.Matrix([[1,3,5,-1],[0,0,1,2],[1,5,6,7],[1,3,-2,-5]])\n",
    "display(A)  \n",
    "print(\"\")\n",
    "\n",
    "x = sp.Matrix(4,1,[1,0,0,0])\n",
    "display(A*x)"
   ]
  },
  {
   "cell_type": "markdown",
   "metadata": {},
   "source": [
    "#### Example\n",
    "\n",
    "Design a vector $\\mathbf x$ so that the result of $A\\mathbf x$ is column 3 of $A$ minus column 1 of $A$.   "
   ]
  },
  {
   "cell_type": "code",
   "execution_count": 27,
   "metadata": {},
   "outputs": [
    {
     "data": {
      "text/latex": [
       "$\\displaystyle \\left[\\begin{matrix}4\\\\1\\\\5\\\\-3\\end{matrix}\\right]$"
      ],
      "text/plain": [
       "Matrix([\n",
       "[ 4],\n",
       "[ 1],\n",
       "[ 5],\n",
       "[-3]])"
      ]
     },
     "metadata": {},
     "output_type": "display_data"
    }
   ],
   "source": [
    "x = sp.Matrix(4,1,[-1,0,1,0])\n",
    "display(A*x)"
   ]
  },
  {
   "cell_type": "markdown",
   "metadata": {},
   "source": [
    "<hr style=\"border-width=2px; border-color:black\"></hr>\n",
    "\n",
    "### Vector-Matrix product as linear combination of rows\n",
    "\n",
    "If we multiply $A$ on the left by the transpose of an $m \\times 1$ column vector $\\mathbf x$, the result is a row vector with entries\n",
    "\n",
    "\\begin{equation}\n",
    "(\\mathbf x^T A\\mathbf)_j = \\mbox{Column}_j(A) \\cdot \\mathbf x = \\sum_{i=1}^m a_{ij}x_i, \\qquad j = 1,2,3,\\dots n\n",
    "\\end{equation}\n",
    "\n",
    "We can view the resulting product as a particular linear combination of *rows* of $A$, where the coefficients of the linear combination are just the entries of the vector $\\mathbf x$.  \n",
    "\n",
    "<center>\n",
    "<img width=600px src=\"./images/linalg_review_02.png\"></img>    \n",
    "</center>    "
   ]
  },
  {
   "cell_type": "markdown",
   "metadata": {},
   "source": [
    "#### Example\n",
    "\n",
    "Design an $m \\times 1$ vector $\\mathbf x$ so that the result of $\\mathbf x^T A$ is the sum of the rows of $A$. "
   ]
  },
  {
   "cell_type": "code",
   "execution_count": 28,
   "metadata": {},
   "outputs": [
    {
     "data": {
      "text/latex": [
       "$\\displaystyle \\left[\\begin{matrix}3 & 11 & 10 & 3\\end{matrix}\\right]$"
      ],
      "text/plain": [
       "Matrix([[3, 11, 10, 3]])"
      ]
     },
     "metadata": {},
     "output_type": "display_data"
    }
   ],
   "source": [
    "x = sp.Matrix(4,1,[1,1,1,1])\n",
    "display(x.T*A)"
   ]
  },
  {
   "cell_type": "markdown",
   "metadata": {},
   "source": [
    "#### Example\n",
    "\n",
    "Design an $m \\times 1$ vector $\\mathbf x$ so that \n",
    "\n",
    "\\begin{equation}\n",
    "\\mathbf x^T A  = \n",
    "\\mbox{Row}_3(A) - \\alpha \\mbox{Row}_1(A), \n",
    "\\end{equation}\n",
    "\n",
    "where $\\alpha$ is chosen so that the resulting row vector has a zero in the second entry. "
   ]
  },
  {
   "cell_type": "code",
   "execution_count": 29,
   "metadata": {},
   "outputs": [
    {
     "data": {
      "text/latex": [
       "$\\displaystyle \\left[\\begin{matrix}- \\frac{2}{3} & 0 & - \\frac{7}{3} & \\frac{26}{3}\\end{matrix}\\right]$"
      ],
      "text/plain": [
       "Matrix([[-2/3, 0, -7/3, 26/3]])"
      ]
     },
     "metadata": {},
     "output_type": "display_data"
    }
   ],
   "source": [
    "x = sp.Matrix(4,1,[-sp.Rational(5,3),0,1,0])\n",
    "display(x.T*A)"
   ]
  },
  {
   "cell_type": "markdown",
   "metadata": {},
   "source": [
    "### Matrix-Matrix products\n",
    "\n",
    "A matrix-matrix product $AB$ can be viewed *either* as matrix whose columns are linear combinations of the columns of $A$, or a matrix whose rows are a linear combination of the rows of $B$.   \n",
    "\n",
    "With this insight, we can design matrices $B$ so that products $AB$ or $BA$ have desired effects on the matrix $A$.  "
   ]
  },
  {
   "cell_type": "markdown",
   "metadata": {},
   "source": [
    "#### Example\n",
    "\n",
    "Using matrix $A$ from above, design a matrix $B$ so that the second column of $AB$ is twice the column of $A$, with other columns remaining the same. "
   ]
  },
  {
   "cell_type": "code",
   "execution_count": 30,
   "metadata": {},
   "outputs": [
    {
     "data": {
      "text/latex": [
       "$\\displaystyle \\left[\\begin{matrix}1 & 6 & 5 & -1\\\\0 & 0 & 1 & 2\\\\1 & 10 & 6 & 7\\\\1 & 6 & -2 & -5\\end{matrix}\\right]$"
      ],
      "text/plain": [
       "Matrix([\n",
       "[1,  6,  5, -1],\n",
       "[0,  0,  1,  2],\n",
       "[1, 10,  6,  7],\n",
       "[1,  6, -2, -5]])"
      ]
     },
     "metadata": {},
     "output_type": "display_data"
    }
   ],
   "source": [
    "B = sp.eye(4)\n",
    "B[1,1] = 2\n",
    "display(A*B)"
   ]
  },
  {
   "cell_type": "markdown",
   "metadata": {},
   "source": [
    "#### Example\n",
    "\n",
    "Design a matrix $B$ that swaps rows 1 and 3 of $A$. "
   ]
  },
  {
   "cell_type": "code",
   "execution_count": 31,
   "metadata": {},
   "outputs": [
    {
     "data": {
      "text/latex": [
       "$\\displaystyle \\left[\\begin{matrix}1 & 5 & 6 & 7\\\\0 & 0 & 1 & 2\\\\1 & 3 & 5 & -1\\\\1 & 3 & -2 & -5\\end{matrix}\\right]$"
      ],
      "text/plain": [
       "Matrix([\n",
       "[1, 5,  6,  7],\n",
       "[0, 0,  1,  2],\n",
       "[1, 3,  5, -1],\n",
       "[1, 3, -2, -5]])"
      ]
     },
     "metadata": {},
     "output_type": "display_data"
    }
   ],
   "source": [
    "# A permutation matrix that swaps row 1 and 3\n",
    "B = sp.Matrix([[0,0,1,0],[0,1,0,0],[1,0,0,0],[0,0,0,1]])\n",
    "display(B*A)"
   ]
  },
  {
   "cell_type": "markdown",
   "metadata": {},
   "source": [
    "#### Example : Gaussian elimination\n",
    "\n",
    "Carry out the following steps on matrix $A$ above to create matrices $E_1$, $E_2$ and $E_3$ so that $E_3 E_2 E_1 A$ is upper triangular\n",
    "\n",
    "1. Design a matrix $E_1$ that zeros out all entries below the first entry in column 1.  Set the result to $U$. \n",
    "\n",
    "2. Design a matrix $E_2$ that swaps rows 2 and 3 of $U$.  Set the result to $U$. \n",
    "\n",
    "3. Design a matrix $E_3$ that zeros out entry $U_{43}$ of $U$. "
   ]
  },
  {
   "cell_type": "code",
   "execution_count": 32,
   "metadata": {},
   "outputs": [
    {
     "data": {
      "text/latex": [
       "$\\displaystyle \\left[\\begin{matrix}1 & 3 & 5 & -1\\\\0 & 0 & 1 & 2\\\\1 & 5 & 6 & 7\\\\1 & 3 & -2 & -5\\end{matrix}\\right]$"
      ],
      "text/plain": [
       "Matrix([\n",
       "[1, 3,  5, -1],\n",
       "[0, 0,  1,  2],\n",
       "[1, 5,  6,  7],\n",
       "[1, 3, -2, -5]])"
      ]
     },
     "metadata": {},
     "output_type": "display_data"
    },
    {
     "name": "stdout",
     "output_type": "stream",
     "text": [
      "\n"
     ]
    }
   ],
   "source": [
    "A = sp.Matrix([[1,3,5,-1],[0,0,1,2],[1,5,6,7],[1,3,-2,-5]])\n",
    "display(A)  \n",
    "print(\"\")"
   ]
  },
  {
   "cell_type": "code",
   "execution_count": 33,
   "metadata": {},
   "outputs": [
    {
     "data": {
      "text/latex": [
       "$\\displaystyle \\left[\\begin{matrix}1 & 3 & 5 & -1\\\\0 & 0 & 1 & 2\\\\0 & 2 & 1 & 8\\\\0 & 0 & -7 & -4\\end{matrix}\\right]$"
      ],
      "text/plain": [
       "Matrix([\n",
       "[1, 3,  5, -1],\n",
       "[0, 0,  1,  2],\n",
       "[0, 2,  1,  8],\n",
       "[0, 0, -7, -4]])"
      ]
     },
     "metadata": {},
     "output_type": "display_data"
    }
   ],
   "source": [
    "# 1. Design a matrix $E1$ that zeros out all entries below the first entry in column 1. \n",
    "E1 = sp.eye(4)\n",
    "E1[2,0] = -1\n",
    "E1[3,0] = -1\n",
    "U = E1*A\n",
    "display(U)"
   ]
  },
  {
   "cell_type": "code",
   "execution_count": 34,
   "metadata": {},
   "outputs": [
    {
     "data": {
      "text/latex": [
       "$\\displaystyle \\left[\\begin{matrix}1 & 3 & 5 & -1\\\\0 & 2 & 1 & 8\\\\0 & 0 & 1 & 2\\\\0 & 0 & -7 & -4\\end{matrix}\\right]$"
      ],
      "text/plain": [
       "Matrix([\n",
       "[1, 3,  5, -1],\n",
       "[0, 2,  1,  8],\n",
       "[0, 0,  1,  2],\n",
       "[0, 0, -7, -4]])"
      ]
     },
     "metadata": {},
     "output_type": "display_data"
    }
   ],
   "source": [
    "# 2. Design a second matrix $E2$ that swaps rows 2 and 3 of the result above. \n",
    "\n",
    "E2 = sp.Matrix([[1,0,0,0],[0,0,1,0],[0,1,0,0],[0,0,0,1]])\n",
    "U = E2*U\n",
    "display(U)"
   ]
  },
  {
   "cell_type": "code",
   "execution_count": 35,
   "metadata": {},
   "outputs": [
    {
     "data": {
      "text/latex": [
       "$\\displaystyle \\left[\\begin{matrix}1 & 3 & 5 & -1\\\\0 & 2 & 1 & 8\\\\0 & 0 & 1 & 2\\\\0 & 0 & 0 & 10\\end{matrix}\\right]$"
      ],
      "text/plain": [
       "Matrix([\n",
       "[1, 3, 5, -1],\n",
       "[0, 2, 1,  8],\n",
       "[0, 0, 1,  2],\n",
       "[0, 0, 0, 10]])"
      ]
     },
     "metadata": {},
     "output_type": "display_data"
    }
   ],
   "source": [
    "# 3. Design a matrix $E$ that zeros out entry $U_{43}$ of $U$.\n",
    "E3 = sp.eye(4)\n",
    "E3[3,2] = 7\n",
    "U = E3*U\n",
    "display(U)"
   ]
  },
  {
   "cell_type": "markdown",
   "metadata": {},
   "source": [
    "The above steps are essentially what we need to decompose the matrix $A$ into a product $LU$.  The upper triangular matrix we constructed above the the $U$ and the product $E_3 E_2 E_1 = L^{-1}$.   We can obtain $L$ symbolically to get a version of $U$ with rows swapped. "
   ]
  },
  {
   "cell_type": "code",
   "execution_count": 36,
   "metadata": {},
   "outputs": [
    {
     "data": {
      "text/latex": [
       "$\\displaystyle \\left[\\begin{matrix}1 & 0 & 0 & 0\\\\0 & 0 & 1 & 0\\\\1 & 1 & 0 & 0\\\\1 & 0 & -7 & 1\\end{matrix}\\right]$"
      ],
      "text/plain": [
       "Matrix([\n",
       "[1, 0,  0, 0],\n",
       "[0, 0,  1, 0],\n",
       "[1, 1,  0, 0],\n",
       "[1, 0, -7, 1]])"
      ]
     },
     "metadata": {},
     "output_type": "display_data"
    }
   ],
   "source": [
    "Linv = E3*E2*E1\n",
    "L1 = Linv.inv()\n",
    "display(L1)"
   ]
  },
  {
   "cell_type": "markdown",
   "metadata": {},
   "source": [
    "To get a true lower triangular matrix, we multiply $L$ by a permutation matrix (which is this case is just $E_2$). If we then assign $L = PL_1$ to this permuted matrix, we can write\n",
    "\n",
    "\\begin{equation}\n",
    "PA = LU\n",
    "\\end{equation}"
   ]
  },
  {
   "cell_type": "code",
   "execution_count": 37,
   "metadata": {},
   "outputs": [
    {
     "data": {
      "text/latex": [
       "$\\displaystyle \\left[\\begin{matrix}1 & 0 & 0 & 0\\\\1 & 1 & 0 & 0\\\\0 & 0 & 1 & 0\\\\1 & 0 & -7 & 1\\end{matrix}\\right]$"
      ],
      "text/plain": [
       "Matrix([\n",
       "[1, 0,  0, 0],\n",
       "[1, 1,  0, 0],\n",
       "[0, 0,  1, 0],\n",
       "[1, 0, -7, 1]])"
      ]
     },
     "metadata": {},
     "output_type": "display_data"
    }
   ],
   "source": [
    "P = sp.Matrix([[1,0,0,0],[0,0,1,0],[0,1,0,0],[0,0,0,1]])\n",
    "L = P*L1\n",
    "display(L)"
   ]
  },
  {
   "cell_type": "markdown",
   "metadata": {},
   "source": [
    "To verify that we get the correct result, let's multiply out  $LU$. "
   ]
  },
  {
   "cell_type": "code",
   "execution_count": 38,
   "metadata": {},
   "outputs": [
    {
     "data": {
      "text/latex": [
       "$\\displaystyle \\left[\\begin{matrix}1 & 3 & 5 & -1\\\\0 & 0 & 1 & 2\\\\1 & 5 & 6 & 7\\\\1 & 3 & -2 & -5\\end{matrix}\\right]$"
      ],
      "text/plain": [
       "Matrix([\n",
       "[1, 3,  5, -1],\n",
       "[0, 0,  1,  2],\n",
       "[1, 5,  6,  7],\n",
       "[1, 3, -2, -5]])"
      ]
     },
     "metadata": {},
     "output_type": "display_data"
    },
    {
     "data": {
      "text/latex": [
       "$\\displaystyle \\left[\\begin{matrix}1 & 3 & 5 & -1\\\\0 & 0 & 1 & 2\\\\1 & 5 & 6 & 7\\\\1 & 3 & -2 & -5\\end{matrix}\\right]$"
      ],
      "text/plain": [
       "Matrix([\n",
       "[1, 3,  5, -1],\n",
       "[0, 0,  1,  2],\n",
       "[1, 5,  6,  7],\n",
       "[1, 3, -2, -5]])"
      ]
     },
     "metadata": {},
     "output_type": "display_data"
    }
   ],
   "source": [
    "display(P*L*U)\n",
    "display(A)"
   ]
  },
  {
   "cell_type": "markdown",
   "metadata": {},
   "source": [
    "<hr style=\"border-width:2px; border-color:black\"></hr>\n",
    "\n",
    "### Example : LU Decomposition\n",
    "\n",
    "Many of you may have already seen the $LU$ decomposition.  Below, we demonstrate how we can construct a simple version of $LU$ (without rows swaps or partial pivoting).  Later in the course, we will investigate Gaussian Elimination in more detail.\n",
    "\n",
    "By appling elementary row operations to a matrix $A$,  we can compute the $LU$ decomposition $A$.  For this decomposition, $L$ is a lower triangular matrix, and $U$ is an upper triangular matrix. The pivots appear on the diagonal of $U$. \n",
    "\n",
    "The code below demonstrates the SymPy method `elementary_row_op` to apply elementary row operations to a matrix."
   ]
  },
  {
   "cell_type": "code",
   "execution_count": 39,
   "metadata": {},
   "outputs": [],
   "source": [
    "# Symbolic LU Decomposition\n",
    "\n",
    "def LU_decomp(A):\n",
    "    m,n = A.shape\n",
    "    print(\"m = \", m)\n",
    "    assert m == n, \"LU_decomp : m != n\"\n",
    "    U = A\n",
    "    L = sp.eye(m)\n",
    "\n",
    "    for prow in range(m-1):\n",
    "        p = U[prow,prow]\n",
    "        for row in range(prow+1,m):        \n",
    "            alpha = -U[row,prow]/p\n",
    "            L[row,prow] = -alpha\n",
    "            U = U.elementary_row_op(op='n->n+km',row=row, row1= row, row2 = prow, k=alpha)\n",
    "            print(\"U (Zeroing out entry {:d}{:d})\".format(row+1,prow+1))\n",
    "            display(U)\n",
    "\n",
    "            print(\"L (Set entry {:d}{:d})\".format(row+1,prow+1))\n",
    "            display(L)\n",
    "            print(\"\")\n",
    "        print(\"\")\n",
    "        \n",
    "    return L, U"
   ]
  },
  {
   "cell_type": "code",
   "execution_count": 40,
   "metadata": {},
   "outputs": [
    {
     "name": "stdout",
     "output_type": "stream",
     "text": [
      "A = \n"
     ]
    },
    {
     "data": {
      "text/latex": [
       "$\\displaystyle \\left[\\begin{matrix}1 & 3 & 5 & -1\\\\1 & 5 & 6 & 7\\\\0 & 0 & 1 & 2\\\\1 & 3 & -2 & -5\\end{matrix}\\right]$"
      ],
      "text/plain": [
       "Matrix([\n",
       "[1, 3,  5, -1],\n",
       "[1, 5,  6,  7],\n",
       "[0, 0,  1,  2],\n",
       "[1, 3, -2, -5]])"
      ]
     },
     "metadata": {},
     "output_type": "display_data"
    },
    {
     "name": "stdout",
     "output_type": "stream",
     "text": [
      "\n",
      "m =  4\n",
      "U (Zeroing out entry 21)\n"
     ]
    },
    {
     "data": {
      "text/latex": [
       "$\\displaystyle \\left[\\begin{matrix}1 & 3 & 5 & -1\\\\0 & 2 & 1 & 8\\\\0 & 0 & 1 & 2\\\\1 & 3 & -2 & -5\\end{matrix}\\right]$"
      ],
      "text/plain": [
       "Matrix([\n",
       "[1, 3,  5, -1],\n",
       "[0, 2,  1,  8],\n",
       "[0, 0,  1,  2],\n",
       "[1, 3, -2, -5]])"
      ]
     },
     "metadata": {},
     "output_type": "display_data"
    },
    {
     "name": "stdout",
     "output_type": "stream",
     "text": [
      "L (Set entry 21)\n"
     ]
    },
    {
     "data": {
      "text/latex": [
       "$\\displaystyle \\left[\\begin{matrix}1 & 0 & 0 & 0\\\\1 & 1 & 0 & 0\\\\0 & 0 & 1 & 0\\\\0 & 0 & 0 & 1\\end{matrix}\\right]$"
      ],
      "text/plain": [
       "Matrix([\n",
       "[1, 0, 0, 0],\n",
       "[1, 1, 0, 0],\n",
       "[0, 0, 1, 0],\n",
       "[0, 0, 0, 1]])"
      ]
     },
     "metadata": {},
     "output_type": "display_data"
    },
    {
     "name": "stdout",
     "output_type": "stream",
     "text": [
      "\n",
      "U (Zeroing out entry 31)\n"
     ]
    },
    {
     "data": {
      "text/latex": [
       "$\\displaystyle \\left[\\begin{matrix}1 & 3 & 5 & -1\\\\0 & 2 & 1 & 8\\\\0 & 0 & 1 & 2\\\\1 & 3 & -2 & -5\\end{matrix}\\right]$"
      ],
      "text/plain": [
       "Matrix([\n",
       "[1, 3,  5, -1],\n",
       "[0, 2,  1,  8],\n",
       "[0, 0,  1,  2],\n",
       "[1, 3, -2, -5]])"
      ]
     },
     "metadata": {},
     "output_type": "display_data"
    },
    {
     "name": "stdout",
     "output_type": "stream",
     "text": [
      "L (Set entry 31)\n"
     ]
    },
    {
     "data": {
      "text/latex": [
       "$\\displaystyle \\left[\\begin{matrix}1 & 0 & 0 & 0\\\\1 & 1 & 0 & 0\\\\0 & 0 & 1 & 0\\\\0 & 0 & 0 & 1\\end{matrix}\\right]$"
      ],
      "text/plain": [
       "Matrix([\n",
       "[1, 0, 0, 0],\n",
       "[1, 1, 0, 0],\n",
       "[0, 0, 1, 0],\n",
       "[0, 0, 0, 1]])"
      ]
     },
     "metadata": {},
     "output_type": "display_data"
    },
    {
     "name": "stdout",
     "output_type": "stream",
     "text": [
      "\n",
      "U (Zeroing out entry 41)\n"
     ]
    },
    {
     "data": {
      "text/latex": [
       "$\\displaystyle \\left[\\begin{matrix}1 & 3 & 5 & -1\\\\0 & 2 & 1 & 8\\\\0 & 0 & 1 & 2\\\\0 & 0 & -7 & -4\\end{matrix}\\right]$"
      ],
      "text/plain": [
       "Matrix([\n",
       "[1, 3,  5, -1],\n",
       "[0, 2,  1,  8],\n",
       "[0, 0,  1,  2],\n",
       "[0, 0, -7, -4]])"
      ]
     },
     "metadata": {},
     "output_type": "display_data"
    },
    {
     "name": "stdout",
     "output_type": "stream",
     "text": [
      "L (Set entry 41)\n"
     ]
    },
    {
     "data": {
      "text/latex": [
       "$\\displaystyle \\left[\\begin{matrix}1 & 0 & 0 & 0\\\\1 & 1 & 0 & 0\\\\0 & 0 & 1 & 0\\\\1 & 0 & 0 & 1\\end{matrix}\\right]$"
      ],
      "text/plain": [
       "Matrix([\n",
       "[1, 0, 0, 0],\n",
       "[1, 1, 0, 0],\n",
       "[0, 0, 1, 0],\n",
       "[1, 0, 0, 1]])"
      ]
     },
     "metadata": {},
     "output_type": "display_data"
    },
    {
     "name": "stdout",
     "output_type": "stream",
     "text": [
      "\n",
      "\n",
      "U (Zeroing out entry 32)\n"
     ]
    },
    {
     "data": {
      "text/latex": [
       "$\\displaystyle \\left[\\begin{matrix}1 & 3 & 5 & -1\\\\0 & 2 & 1 & 8\\\\0 & 0 & 1 & 2\\\\0 & 0 & -7 & -4\\end{matrix}\\right]$"
      ],
      "text/plain": [
       "Matrix([\n",
       "[1, 3,  5, -1],\n",
       "[0, 2,  1,  8],\n",
       "[0, 0,  1,  2],\n",
       "[0, 0, -7, -4]])"
      ]
     },
     "metadata": {},
     "output_type": "display_data"
    },
    {
     "name": "stdout",
     "output_type": "stream",
     "text": [
      "L (Set entry 32)\n"
     ]
    },
    {
     "data": {
      "text/latex": [
       "$\\displaystyle \\left[\\begin{matrix}1 & 0 & 0 & 0\\\\1 & 1 & 0 & 0\\\\0 & 0 & 1 & 0\\\\1 & 0 & 0 & 1\\end{matrix}\\right]$"
      ],
      "text/plain": [
       "Matrix([\n",
       "[1, 0, 0, 0],\n",
       "[1, 1, 0, 0],\n",
       "[0, 0, 1, 0],\n",
       "[1, 0, 0, 1]])"
      ]
     },
     "metadata": {},
     "output_type": "display_data"
    },
    {
     "name": "stdout",
     "output_type": "stream",
     "text": [
      "\n",
      "U (Zeroing out entry 42)\n"
     ]
    },
    {
     "data": {
      "text/latex": [
       "$\\displaystyle \\left[\\begin{matrix}1 & 3 & 5 & -1\\\\0 & 2 & 1 & 8\\\\0 & 0 & 1 & 2\\\\0 & 0 & -7 & -4\\end{matrix}\\right]$"
      ],
      "text/plain": [
       "Matrix([\n",
       "[1, 3,  5, -1],\n",
       "[0, 2,  1,  8],\n",
       "[0, 0,  1,  2],\n",
       "[0, 0, -7, -4]])"
      ]
     },
     "metadata": {},
     "output_type": "display_data"
    },
    {
     "name": "stdout",
     "output_type": "stream",
     "text": [
      "L (Set entry 42)\n"
     ]
    },
    {
     "data": {
      "text/latex": [
       "$\\displaystyle \\left[\\begin{matrix}1 & 0 & 0 & 0\\\\1 & 1 & 0 & 0\\\\0 & 0 & 1 & 0\\\\1 & 0 & 0 & 1\\end{matrix}\\right]$"
      ],
      "text/plain": [
       "Matrix([\n",
       "[1, 0, 0, 0],\n",
       "[1, 1, 0, 0],\n",
       "[0, 0, 1, 0],\n",
       "[1, 0, 0, 1]])"
      ]
     },
     "metadata": {},
     "output_type": "display_data"
    },
    {
     "name": "stdout",
     "output_type": "stream",
     "text": [
      "\n",
      "\n",
      "U (Zeroing out entry 43)\n"
     ]
    },
    {
     "data": {
      "text/latex": [
       "$\\displaystyle \\left[\\begin{matrix}1 & 3 & 5 & -1\\\\0 & 2 & 1 & 8\\\\0 & 0 & 1 & 2\\\\0 & 0 & 0 & 10\\end{matrix}\\right]$"
      ],
      "text/plain": [
       "Matrix([\n",
       "[1, 3, 5, -1],\n",
       "[0, 2, 1,  8],\n",
       "[0, 0, 1,  2],\n",
       "[0, 0, 0, 10]])"
      ]
     },
     "metadata": {},
     "output_type": "display_data"
    },
    {
     "name": "stdout",
     "output_type": "stream",
     "text": [
      "L (Set entry 43)\n"
     ]
    },
    {
     "data": {
      "text/latex": [
       "$\\displaystyle \\left[\\begin{matrix}1 & 0 & 0 & 0\\\\1 & 1 & 0 & 0\\\\0 & 0 & 1 & 0\\\\1 & 0 & -7 & 1\\end{matrix}\\right]$"
      ],
      "text/plain": [
       "Matrix([\n",
       "[1, 0,  0, 0],\n",
       "[1, 1,  0, 0],\n",
       "[0, 0,  1, 0],\n",
       "[1, 0, -7, 1]])"
      ]
     },
     "metadata": {},
     "output_type": "display_data"
    },
    {
     "name": "stdout",
     "output_type": "stream",
     "text": [
      "\n",
      "\n",
      "\n",
      "L = \n"
     ]
    },
    {
     "data": {
      "text/latex": [
       "$\\displaystyle \\left[\\begin{matrix}1 & 0 & 0 & 0\\\\1 & 1 & 0 & 0\\\\0 & 0 & 1 & 0\\\\1 & 0 & -7 & 1\\end{matrix}\\right]$"
      ],
      "text/plain": [
       "Matrix([\n",
       "[1, 0,  0, 0],\n",
       "[1, 1,  0, 0],\n",
       "[0, 0,  1, 0],\n",
       "[1, 0, -7, 1]])"
      ]
     },
     "metadata": {},
     "output_type": "display_data"
    },
    {
     "name": "stdout",
     "output_type": "stream",
     "text": [
      "\n",
      "U = \n"
     ]
    },
    {
     "data": {
      "text/latex": [
       "$\\displaystyle \\left[\\begin{matrix}1 & 3 & 5 & -1\\\\0 & 2 & 1 & 8\\\\0 & 0 & 1 & 2\\\\0 & 0 & 0 & 10\\end{matrix}\\right]$"
      ],
      "text/plain": [
       "Matrix([\n",
       "[1, 3, 5, -1],\n",
       "[0, 2, 1,  8],\n",
       "[0, 0, 1,  2],\n",
       "[0, 0, 0, 10]])"
      ]
     },
     "metadata": {},
     "output_type": "display_data"
    },
    {
     "name": "stdout",
     "output_type": "stream",
     "text": [
      "\n",
      "LU = \n"
     ]
    },
    {
     "data": {
      "text/latex": [
       "$\\displaystyle \\left[\\begin{matrix}1 & 3 & 5 & -1\\\\1 & 5 & 6 & 7\\\\0 & 0 & 1 & 2\\\\1 & 3 & -2 & -5\\end{matrix}\\right]$"
      ],
      "text/plain": [
       "Matrix([\n",
       "[1, 3,  5, -1],\n",
       "[1, 5,  6,  7],\n",
       "[0, 0,  1,  2],\n",
       "[1, 3, -2, -5]])"
      ]
     },
     "metadata": {},
     "output_type": "display_data"
    }
   ],
   "source": [
    "# A = sp.Matrix([[3,2,-1],[4,5,5],[7,8,9]])\n",
    "# A = sp.Matrix([[1,2,3,3,1],[-1,0,1,4,5],[4,5,0,-2,1],[-1,0,1,3,4],[2,2,5,6,7]])\n",
    "\n",
    "A1 = sp.Matrix([[1,3,5,-1],[0,0,1,2],[1,5,6,7],[1,3,-2,-5]])\n",
    "P = sp.Matrix([[1,0,0,0],[0,0,1,0],[0,1,0,0],[0,0,0,1]])\n",
    "A = P*A1   # This avoids using a row swap\n",
    "\n",
    "print(\"A = \")\n",
    "display(A)\n",
    "print(\"\")\n",
    "\n",
    "L,U = LU_decomp(A)\n",
    "\n",
    "print(\"\")    \n",
    "print(\"L = \")\n",
    "display(L)\n",
    "print(\"\")\n",
    "\n",
    "print(\"U = \")\n",
    "display(U)\n",
    "print(\"\")\n",
    "    \n",
    "print(\"LU = \")\n",
    "display(L*U)\n",
    "        "
   ]
  },
  {
   "cell_type": "markdown",
   "metadata": {},
   "source": []
  },
  {
   "cell_type": "markdown",
   "metadata": {
    "slideshow": {
     "slide_type": "slide"
    }
   },
   "source": [
    "<hr style=\"border-width:4px; border-color:coral\"></hr>\n",
    "\n",
    "## Reduced row echelon form\n",
    "\n",
    "<hr style=\"border-width:4px; border-color:coral\"></hr>\n"
   ]
  },
  {
   "cell_type": "code",
   "execution_count": 41,
   "metadata": {
    "slideshow": {
     "slide_type": "fragment"
    }
   },
   "outputs": [
    {
     "data": {
      "text/latex": [
       "$\\displaystyle \\left[\\begin{matrix}1 & 2 & 3\\\\4 & 5 & 6\\\\7 & 8 & 9\\end{matrix}\\right]$"
      ],
      "text/plain": [
       "Matrix([\n",
       "[1, 2, 3],\n",
       "[4, 5, 6],\n",
       "[7, 8, 9]])"
      ]
     },
     "metadata": {},
     "output_type": "display_data"
    }
   ],
   "source": [
    "A = sp.Matrix(3,3,range(1,10))\n",
    "display(A)"
   ]
  },
  {
   "cell_type": "code",
   "execution_count": 42,
   "metadata": {
    "slideshow": {
     "slide_type": "fragment"
    }
   },
   "outputs": [
    {
     "name": "stdout",
     "output_type": "stream",
     "text": [
      "Row reduced matrix R is \n"
     ]
    },
    {
     "data": {
      "text/latex": [
       "$\\displaystyle \\left[\\begin{matrix}1 & 0 & -1\\\\0 & 1 & 2\\\\0 & 0 & 0\\end{matrix}\\right]$"
      ],
      "text/plain": [
       "Matrix([\n",
       "[1, 0, -1],\n",
       "[0, 1,  2],\n",
       "[0, 0,  0]])"
      ]
     },
     "metadata": {},
     "output_type": "display_data"
    },
    {
     "name": "stdout",
     "output_type": "stream",
     "text": [
      "\n",
      "Pivot columns are : \n"
     ]
    },
    {
     "data": {
      "text/plain": [
       "(0, 1)"
      ]
     },
     "metadata": {},
     "output_type": "display_data"
    }
   ],
   "source": [
    "R = A.rref()\n",
    "print(\"Row reduced matrix R is \")\n",
    "display(R[0])\n",
    "print(\"\")\n",
    "\n",
    "print(\"Pivot columns are : \")\n",
    "display(R[1])"
   ]
  },
  {
   "cell_type": "markdown",
   "metadata": {},
   "source": [
    "The reduced row echelon form of a matrix formed as an outer product will have only one non-zero row.  This shows us that the outer product matrix is a *rank 1* matrix.  We discuss rank below."
   ]
  },
  {
   "cell_type": "code",
   "execution_count": 43,
   "metadata": {},
   "outputs": [
    {
     "name": "stdout",
     "output_type": "stream",
     "text": [
      "Reduced row echelon form\n",
      "\n",
      "R = \n"
     ]
    },
    {
     "data": {
      "text/latex": [
       "$\\displaystyle \\left[\\begin{matrix}1 & 1 & 1 & 1 & 1\\\\0 & 0 & 0 & 0 & 0\\\\0 & 0 & 0 & 0 & 0\\\\0 & 0 & 0 & 0 & 0\\\\0 & 0 & 0 & 0 & 0\\end{matrix}\\right]$"
      ],
      "text/plain": [
       "Matrix([\n",
       "[1, 1, 1, 1, 1],\n",
       "[0, 0, 0, 0, 0],\n",
       "[0, 0, 0, 0, 0],\n",
       "[0, 0, 0, 0, 0],\n",
       "[0, 0, 0, 0, 0]])"
      ]
     },
     "metadata": {},
     "output_type": "display_data"
    },
    {
     "name": "stdout",
     "output_type": "stream",
     "text": [
      "pivots\n"
     ]
    },
    {
     "data": {
      "text/plain": [
       "(0,)"
      ]
     },
     "metadata": {},
     "output_type": "display_data"
    }
   ],
   "source": [
    "# RRef of outer product\n",
    "print(\"Reduced row echelon form\")\n",
    "R = (v*v.T).rref()\n",
    "\n",
    "print(\"\")\n",
    "print(\"R = \")\n",
    "display(R[0])\n",
    "\n",
    "print(\"pivots\")\n",
    "display(R[1])"
   ]
  },
  {
   "cell_type": "markdown",
   "metadata": {
    "slideshow": {
     "slide_type": "slide"
    }
   },
   "source": [
    "<hr style=\"border-width:4px; border-color:coral\"></hr>\n",
    "\n",
    "## Rank and nullspace\n",
    "\n",
    "<hr style=\"border-width:4px; border-color:coral\"></hr>\n",
    "\n",
    "Closely related to the row-reduced echelon form are the rank and null space of a matrix.  The *rank* of a matrix $A$ is the number of pivot variables.  "
   ]
  },
  {
   "cell_type": "code",
   "execution_count": 44,
   "metadata": {
    "slideshow": {
     "slide_type": "fragment"
    }
   },
   "outputs": [
    {
     "name": "stdout",
     "output_type": "stream",
     "text": [
      "Rank of A : 2\n"
     ]
    }
   ],
   "source": [
    "A = sp.Matrix(np.mat('1,2,3; 4,5,6; 7,8,9'))\n",
    "print(\"Rank of A : {:d}\".format(A.rank()))"
   ]
  },
  {
   "cell_type": "markdown",
   "metadata": {
    "slideshow": {
     "slide_type": "fragment"
    }
   },
   "source": [
    "The *nullspace* $\\mathcal{N}(A)$  associated with a matrix $A$ is the space spanned by all vectors $\\mathbf x$ satisfying $A\\mathbf x = \\mathbf 0$.  The SymPy nullspace method returns a basis for the nullspace. \n",
    "\n",
    "**Recall** A *basis* for a subspace $S$ is a minimal set of vectors needed to span the entire space.  The dimension of the space is the number of vectors in the space."
   ]
  },
  {
   "cell_type": "code",
   "execution_count": 45,
   "metadata": {
    "slideshow": {
     "slide_type": "fragment"
    }
   },
   "outputs": [
    {
     "data": {
      "text/latex": [
       "$\\displaystyle \\left[\\begin{matrix}1\\\\-2\\\\1\\end{matrix}\\right]$"
      ],
      "text/plain": [
       "Matrix([\n",
       "[ 1],\n",
       "[-2],\n",
       "[ 1]])"
      ]
     },
     "metadata": {},
     "output_type": "display_data"
    }
   ],
   "source": [
    "N = A.nullspace()  # List of basis vectors\n",
    "display(N[0])"
   ]
  },
  {
   "cell_type": "code",
   "execution_count": 46,
   "metadata": {
    "slideshow": {
     "slide_type": "fragment"
    }
   },
   "outputs": [
    {
     "data": {
      "text/latex": [
       "$\\displaystyle \\left[\\begin{matrix}0\\\\0\\\\0\\end{matrix}\\right]$"
      ],
      "text/plain": [
       "Matrix([\n",
       "[0],\n",
       "[0],\n",
       "[0]])"
      ]
     },
     "execution_count": 46,
     "metadata": {},
     "output_type": "execute_result"
    }
   ],
   "source": [
    "# Verify the nullspace vector satisfies Ax = 0\n",
    "x = N[0]\n",
    "A*x"
   ]
  },
  {
   "cell_type": "markdown",
   "metadata": {
    "slideshow": {
     "slide_type": "slide"
    }
   },
   "source": [
    "<hr style=\"border-width:2px; border-color:black\"></hr>\n",
    "\n",
    "##  Rank-Nullity Theorem\n",
    "\n",
    "\n",
    "According to the Rank-Nullity Theorem, the rank of an $m \\times n$ matrix $A$ plus the dimension of the nullspace $\\mathcal{N}(A)$ of $A$ is equal to $n$. \n",
    "\n",
    "\\begin{equation}\n",
    "\\mbox{rank}(A) + \\dim(\\mathcal{N}(A)) = n, \\qquad A \\in \\mathcal R^{m \\times n}\n",
    "\\end{equation}"
   ]
  },
  {
   "cell_type": "markdown",
   "metadata": {
    "slideshow": {
     "slide_type": "fragment"
    }
   },
   "source": [
    "We can demonstrate the Rank-nullity theorem on a $3 \\times 5$ matrix.  "
   ]
  },
  {
   "cell_type": "code",
   "execution_count": 47,
   "metadata": {
    "slideshow": {
     "slide_type": "fragment"
    }
   },
   "outputs": [
    {
     "name": "stdout",
     "output_type": "stream",
     "text": [
      "A = \n"
     ]
    },
    {
     "data": {
      "text/latex": [
       "$\\displaystyle \\left[\\begin{matrix}1 & 2 & 3 & 3 & 1\\\\-1 & 0 & 1 & 4 & 5\\\\4 & 5 & 0 & -2 & 1\\end{matrix}\\right]$"
      ],
      "text/plain": [
       "Matrix([\n",
       "[ 1, 2, 3,  3, 1],\n",
       "[-1, 0, 1,  4, 5],\n",
       "[ 4, 5, 0, -2, 1]])"
      ]
     },
     "metadata": {},
     "output_type": "display_data"
    }
   ],
   "source": [
    "A = sp.Matrix([[1,2,3,3,1],[-1,0,1,4,5],[4,5,0,-2,1]])\n",
    "print(\"A = \")\n",
    "display(A)"
   ]
  },
  {
   "cell_type": "code",
   "execution_count": 48,
   "metadata": {
    "slideshow": {
     "slide_type": "fragment"
    }
   },
   "outputs": [
    {
     "name": "stdout",
     "output_type": "stream",
     "text": [
      "rank(A)   : 3\n",
      "Dim(N(A)) : 2\n",
      "n         : 5\n"
     ]
    }
   ],
   "source": [
    "m,n = A.shape  # Get the dimensions of A\n",
    "\n",
    "print(\"rank(A)   : {:d}\".format(A.rank()))\n",
    "N = A.nullspace()\n",
    "print(\"Dim(N(A)) : {:d}\".format(len(N)))\n",
    "print(\"n         : {:d}\".format(n))\n"
   ]
  },
  {
   "cell_type": "markdown",
   "metadata": {
    "slideshow": {
     "slide_type": "fragment"
    }
   },
   "source": [
    "Note that the reduced row echelon form also reveals the rank and nullspace. "
   ]
  },
  {
   "cell_type": "code",
   "execution_count": 49,
   "metadata": {
    "slideshow": {
     "slide_type": "fragment"
    }
   },
   "outputs": [
    {
     "name": "stdout",
     "output_type": "stream",
     "text": [
      "Reduced row echelon form\n",
      "R = \n"
     ]
    },
    {
     "data": {
      "text/latex": [
       "$\\displaystyle \\left[\\begin{matrix}1 & 0 & 0 & - \\frac{41}{12} & -6\\\\0 & 1 & 0 & \\frac{7}{3} & 5\\\\0 & 0 & 1 & \\frac{7}{12} & -1\\end{matrix}\\right]$"
      ],
      "text/plain": [
       "Matrix([\n",
       "[1, 0, 0, -41/12, -6],\n",
       "[0, 1, 0,    7/3,  5],\n",
       "[0, 0, 1,   7/12, -1]])"
      ]
     },
     "metadata": {},
     "output_type": "display_data"
    },
    {
     "name": "stdout",
     "output_type": "stream",
     "text": [
      "\n",
      "Nullspace basis vectors\n"
     ]
    },
    {
     "data": {
      "text/latex": [
       "$\\displaystyle \\left[\\begin{matrix}\\frac{41}{12}\\\\- \\frac{7}{3}\\\\- \\frac{7}{12}\\\\1\\\\0\\end{matrix}\\right]$"
      ],
      "text/plain": [
       "Matrix([\n",
       "[41/12],\n",
       "[ -7/3],\n",
       "[-7/12],\n",
       "[    1],\n",
       "[    0]])"
      ]
     },
     "metadata": {},
     "output_type": "display_data"
    },
    {
     "data": {
      "text/latex": [
       "$\\displaystyle \\left[\\begin{matrix}6\\\\-5\\\\1\\\\0\\\\1\\end{matrix}\\right]$"
      ],
      "text/plain": [
       "Matrix([\n",
       "[ 6],\n",
       "[-5],\n",
       "[ 1],\n",
       "[ 0],\n",
       "[ 1]])"
      ]
     },
     "metadata": {},
     "output_type": "display_data"
    }
   ],
   "source": [
    "print(\"Reduced row echelon form\")\n",
    "print(\"R = \")\n",
    "R,pivots = A.rref()\n",
    "display(R)\n",
    "print(\"\")\n",
    "\n",
    "print(\"Nullspace basis vectors\")\n",
    "N = A.nullspace()\n",
    "display(N[0])\n",
    "display(N[1])"
   ]
  },
  {
   "cell_type": "markdown",
   "metadata": {
    "slideshow": {
     "slide_type": "fragment"
    }
   },
   "source": [
    "The first three columns of $R$ are the pivot positions and the remaining two columns correspond to free-variables.  The basis vectors in the nullspace of $A$ can be obtained directly from the free-variable columns. The Rank-Nullity theorem follows directly from the fact that the $m$ columns of $R$ must either be pivot columns or free-variable columns.  The number of pivot colummns is the rank, while the number of free-variable columns is the dimension of the nullspace."
   ]
  }
 ],
 "metadata": {
  "celltoolbar": "Slideshow",
  "kernelspec": {
   "display_name": "Python 3",
   "language": "python",
   "name": "python3"
  },
  "language_info": {
   "codemirror_mode": {
    "name": "ipython",
    "version": 3
   },
   "file_extension": ".py",
   "mimetype": "text/x-python",
   "name": "python",
   "nbconvert_exporter": "python",
   "pygments_lexer": "ipython3",
   "version": "3.7.4"
  }
 },
 "nbformat": 4,
 "nbformat_minor": 2
}
