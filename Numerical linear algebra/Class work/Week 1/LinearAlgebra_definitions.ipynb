{
 "cells": [
  {
   "cell_type": "code",
   "execution_count": 3,
   "metadata": {},
   "outputs": [],
   "source": [
    "import sympy as sp"
   ]
  },
  {
   "cell_type": "markdown",
   "metadata": {},
   "source": [
    "<hr style=\"border-width:4px; border-color:coral\"></hr>\n",
    "\n",
    "## Definitions from Linear Algebra\n",
    "\n",
    "<hr style=\"border-width:4px; border-color:coral\"></hr>\n",
    "\n",
    "\n",
    "Below are common definitions used in linear algebra.  Please fill these in with your own definitions. \n",
    "\n",
    "You can find these in introductory linear algebra textbooks. "
   ]
  },
  {
   "cell_type": "markdown",
   "metadata": {},
   "source": [
    "<hr style=\"border-width:2px; border-color:black\"></hr>\n",
    "\n",
    "### Linear combination\n",
    "\n",
    "If $\\{\\mathbf v_1, \\mathbf v_2, \\dots , \\mathbf v_n\\}$ are vectors, and $c_1$, $c_2$, $c_3$, $\\dots$ are scalars, then \n",
    "\n",
    "\\begin{equation}\n",
    "c_1 \\mathbf v_1 + c_2 \\mathbf v_2 + \\mathbf v_3 + \\dots + c_n \\mathbf v_n\n",
    "\\end{equation}\n",
    "\n",
    "is a *linear combination* of $\\{\\mathbf v_1, \\mathbf v_2, \\dots , \\mathbf v_n\\}$.  Note that it is possible for scalars to be negative or 0. "
   ]
  },
  {
   "cell_type": "markdown",
   "metadata": {},
   "source": [
    "<hr style=\"border-width:2px; border-color:black\"></hr>\n",
    "\n",
    "### Subspace\n",
    "\n",
    "A subspace of a vector space is a set of vectors that satisfies two requirements.  If $\\mathbf v$ and $\\mathbf w$ are in the space, than\n",
    "\n",
    "1. $\\mathbf v + \\mathbf w$ is in the subspace\n",
    "\n",
    "2. $c\\mathbf v$ is in the subspace"
   ]
  },
  {
   "cell_type": "markdown",
   "metadata": {},
   "source": [
    "<hr style=\"border-width:2px; border-color:black\"></hr>\n",
    "\n",
    "### Linear independence\n",
    "\n",
    "A set of vectors $\\{\\mathbf v_1, \\mathbf v_2, \\mathbf v_3, \\dots, \\mathbf v_n\\}$ are *linearly independent* if \n",
    "\n",
    "\\begin{equation}\n",
    "c_1 \\mathbf v_1 + c_2 \\mathbf v_2 + \\mathbf v_3 + \\dots + c_n \\mathbf v_n = 0\n",
    "\\end{equation}\n",
    "\n",
    "if and only if $c_1 = c_2 = \\dots c_n = 0$. \n"
   ]
  },
  {
   "cell_type": "markdown",
   "metadata": {},
   "source": [
    "<hr style=\"border-width:2px; border-color:black\"></hr>\n",
    "\n",
    "### Column space\n",
    "\n",
    "(add definition)"
   ]
  },
  {
   "cell_type": "markdown",
   "metadata": {},
   "source": [
    "<hr style=\"border-width:2px; border-color:black\"></hr>\n",
    "\n",
    "### Row space\n",
    "\n",
    "(add definition)"
   ]
  },
  {
   "cell_type": "markdown",
   "metadata": {},
   "source": [
    "<hr style=\"border-width:2px; border-color:black\"></hr>\n",
    "\n",
    "### Null space\n",
    "\n",
    "(add definition)"
   ]
  },
  {
   "cell_type": "markdown",
   "metadata": {},
   "source": [
    "<hr style=\"border-width:2px; border-color:black\"></hr>\n",
    "\n",
    "### Span\n",
    "\n",
    "(add definition)"
   ]
  },
  {
   "cell_type": "markdown",
   "metadata": {},
   "source": [
    "<hr style=\"border-width:2px; border-color:black\"></hr>\n",
    "\n",
    "### Rank\n",
    "\n",
    "(add definition)"
   ]
  },
  {
   "cell_type": "markdown",
   "metadata": {},
   "source": [
    "<hr style=\"border-width:4px; border-color:coral\"></hr>\n",
    "\n",
    "## A Unifying Theorem\n",
    "\n",
    "<hr style=\"border-width:4px; border-color:coral\"></hr>\n",
    "\n",
    "Let $S = \\{\\mathbf a_1, \\mathbf a_2, \\dots , \\mathbf a_n\\}$ be a set of vectors in $\\mathcal R^n$ and let\n",
    "$A = [\\mathbf a_1, \\mathbf a_2, \\dots , \\mathbf a_n]$. Then the following are equivalent:\n",
    "\n",
    "1.  $A^{-1}$ exists. \n",
    "\n",
    "2.  $\\mathcal N(A) = \\{\\mathbf 0\\}$. \n",
    "\n",
    "3.  $\\det(A) \\ne 0$\n",
    "\n",
    "4.  Column space is all of  $\\mathcal R^n$. \n",
    "\n",
    "5.  The only solution to $A\\mathbf x = 0$ is $\\mathbf x = 0$.  \n",
    "\n",
    "6.  Columns are  linearly independent ...\n",
    "\n",
    "7. Rows are ...\n",
    "\n",
    "8. Something about eigenvalues\n",
    "\n",
    "9. \n",
    "\n",
    "10. \n",
    "\n",
    "\n",
    "\n"
   ]
  },
  {
   "cell_type": "markdown",
   "metadata": {},
   "source": [
    "<hr style=\"border-width:4px; border-color:coral\"></hr>\n",
    "\n",
    "## Practice problems\n",
    "\n",
    "<hr style=\"border-width:4px; border-color:coral\"></hr>\n",
    "\n",
    "Try the following review problems.  You may do these all in SymPy. "
   ]
  },
  {
   "cell_type": "markdown",
   "metadata": {},
   "source": [
    "<hr style=\"border-width:2px; border-color:black\"></hr>\n",
    "\n",
    "## Problem 1\n",
    "\n",
    "For this problem, refer to matrix $A$, given by \n",
    "\n",
    "\\begin{equation}\n",
    "A = \\begin{bmatrix}\n",
    "1 & 0 & -4 & -3 \\\\\n",
    "-2 & 1 & 13 & 5 \\\\\n",
    "0 & 1 & 5 & -1\n",
    "\\end{bmatrix}\n",
    "\\end{equation}\n",
    "\n",
    "1. Find a basis for the column space of $A$. \n",
    "\n",
    "2. Find a basis for the row space of $A$\n",
    "\n",
    "3. Find a basis for the nullspace of $A$. \n",
    "\n",
    "4. Verify that the Rank-Nullity Theorem holds.\n",
    "\n",
    "**Hint:** Each of these questions can be answered by first finding the reduced row echelon form of the matrix $A$.  "
   ]
  },
  {
   "cell_type": "code",
   "execution_count": 4,
   "metadata": {},
   "outputs": [
    {
     "data": {
      "text/latex": [
       "$\\displaystyle \\left[\\begin{matrix}1 & 0 & -4 & -3\\\\-2 & 1 & 13 & 5\\\\0 & 1 & 5 & -1\\end{matrix}\\right]$"
      ],
      "text/plain": [
       "Matrix([\n",
       "[ 1, 0, -4, -3],\n",
       "[-2, 1, 13,  5],\n",
       "[ 0, 1,  5, -1]])"
      ]
     },
     "metadata": {},
     "output_type": "display_data"
    }
   ],
   "source": [
    "A = sp.Matrix(3,4,[1,0,-4,-3,-2,1,13,5,0,1,5, -1])\n",
    "display(A)"
   ]
  },
  {
   "cell_type": "code",
   "execution_count": null,
   "metadata": {},
   "outputs": [],
   "source": [
    "# Problem 1\n"
   ]
  },
  {
   "cell_type": "code",
   "execution_count": null,
   "metadata": {},
   "outputs": [],
   "source": [
    "# Problem 2\n"
   ]
  },
  {
   "cell_type": "code",
   "execution_count": null,
   "metadata": {},
   "outputs": [],
   "source": [
    "# Problem 3\n"
   ]
  },
  {
   "cell_type": "code",
   "execution_count": 5,
   "metadata": {},
   "outputs": [],
   "source": [
    "# Problem 4\n"
   ]
  },
  {
   "cell_type": "markdown",
   "metadata": {},
   "source": [
    "<hr style=\"border-width:2px; border-color:black\"></hr>\n",
    "\n",
    "## Problem 2\n",
    "\n",
    "For this problem, refer to the following set of vectors\n",
    "\n",
    "\\begin{equation}\n",
    "S = \\left\\{\n",
    "\\begin{bmatrix}\n",
    "1 \\\\ 8 \\\\ 3 \\\\ 3\n",
    "\\end{bmatrix}, \n",
    "\\begin{bmatrix}\n",
    "4 \\\\ -2 \\\\ 5 \\\\ -5\n",
    "\\end{bmatrix},\n",
    "\\begin{bmatrix}\n",
    "-1 \\\\ 2 \\\\ 0 \\\\ 1\n",
    "\\end{bmatrix} \n",
    "\\right\\}\n",
    "\\end{equation}\n",
    "\n",
    "\n",
    "1. Determine if the set of vectors is *linear independent*\n",
    "\n",
    "2. What is a basis for this set of vectors? \n",
    "\n",
    "3. Do these vectors span all of $\\mathcal R^4$ ?  Why or why not? \n",
    "\n",
    "4.  If the set does not span $\\mathcal R^4$, what vector(s) do we need to add to the set to span all of $\\mathcal R^4$? \n",
    "\n",
    "5. Which of the following vectors are in the span of $S$?  For any vectors that are in the span of $S$, describe the particular linear combination of vectors from $S$ that produces that vector. \n",
    "\n",
    "\\begin{equation}\n",
    "\\mathbf u_1 = \\begin{bmatrix}\n",
    "29 \\\\ 42 \\\\ 46 \\\\ -6\n",
    "\\end{bmatrix}, \\qquad\n",
    "\\mathbf u_2 = \\begin{bmatrix}\n",
    "15 \\\\ 19 \\\\ 80 \\\\ 26\n",
    "\\end{bmatrix}, \\qquad\n",
    "\\mathbf u_3 = \\begin{bmatrix}\n",
    "43 \\\\ 65 \\\\ 12 \\\\ -38\n",
    "\\end{bmatrix}\n",
    "\\end{equation}\n",
    "\n",
    "#### Hint\n",
    "\n",
    "You should be able to do each of these problems using only the SymPy method `rref()`.  "
   ]
  },
  {
   "cell_type": "code",
   "execution_count": null,
   "metadata": {},
   "outputs": [],
   "source": [
    "# Problem 1"
   ]
  },
  {
   "cell_type": "code",
   "execution_count": null,
   "metadata": {},
   "outputs": [],
   "source": [
    "# Problem 2"
   ]
  },
  {
   "cell_type": "code",
   "execution_count": null,
   "metadata": {},
   "outputs": [],
   "source": [
    "# Problem 3"
   ]
  },
  {
   "cell_type": "code",
   "execution_count": null,
   "metadata": {},
   "outputs": [],
   "source": [
    "# Problem 4"
   ]
  },
  {
   "cell_type": "code",
   "execution_count": null,
   "metadata": {},
   "outputs": [],
   "source": [
    "# Problem 5"
   ]
  }
 ],
 "metadata": {
  "kernelspec": {
   "display_name": "Python 3 (ipykernel)",
   "language": "python",
   "name": "python3"
  },
  "language_info": {
   "codemirror_mode": {
    "name": "ipython",
    "version": 3
   },
   "file_extension": ".py",
   "mimetype": "text/x-python",
   "name": "python",
   "nbconvert_exporter": "python",
   "pygments_lexer": "ipython3",
   "version": "3.9.7"
  }
 },
 "nbformat": 4,
 "nbformat_minor": 2
}
