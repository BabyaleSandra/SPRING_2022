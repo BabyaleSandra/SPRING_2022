{
 "cells": [
  {
   "cell_type": "code",
   "execution_count": 1,
   "metadata": {
    "slideshow": {
     "slide_type": "skip"
    }
   },
   "outputs": [
    {
     "name": "stdout",
     "output_type": "stream",
     "text": [
      "Using matplotlib backend: nbAgg\n",
      "Populating the interactive namespace from numpy and matplotlib\n"
     ]
    }
   ],
   "source": [
    "%matplotlib notebook\n",
    "%pylab\n",
    "\n",
    "import sympy as sp"
   ]
  },
  {
   "cell_type": "markdown",
   "metadata": {
    "slideshow": {
     "slide_type": "slide"
    }
   },
   "source": [
    "<hr style=\"border-width:4px; border-color:coral\"></hr>\n",
    "\n",
    "#  Vector and Matrix Norms\n",
    "\n",
    "<hr style=\"border-width:4px; border-color:coral\"></hr>\n",
    "\n",
    "This material is taken mainly from TB, Lecture 2. \n"
   ]
  },
  {
   "cell_type": "markdown",
   "metadata": {
    "slideshow": {
     "slide_type": "slide"
    }
   },
   "source": [
    "<hr style=\"border-width:4px; border-color:coral\"></hr>\n",
    "\n",
    "##   Definition of a norm\n",
    "\n",
    "<hr style=\"border-width:4px; border-color:coral\"></hr>\n",
    "\n",
    "A *norm* is a function $\\Vert \\cdot \\Vert$ that maps a vector in $\\mathbb C^m$ to $\\mathbb R$.   We are familar with the norm that takes the Euclidean length of a vector. "
   ]
  },
  {
   "cell_type": "markdown",
   "metadata": {
    "slideshow": {
     "slide_type": "fragment"
    }
   },
   "source": [
    "### Properties of a norm\n",
    "\n",
    "<hr style=\"border-width:2px; border-color:black\"></hr>\n",
    "\n",
    "**(a)** $\\Vert \\mathbf x \\Vert \\ge 0$ and $\\Vert \\mathbf x \\Vert = 0$ iff $\\mathbf x = 0$. \n",
    "\n",
    "**(b)** $\\Vert \\mathbf x + \\mathbf y\\Vert \\le \\Vert \\mathbf x \\Vert + \\Vert \\mathbf y \\Vert$ (Triangle inequality)\n",
    "\n",
    "**(c)** $\\Vert c \\mathbf x \\Vert = |c|\\Vert \\mathbf x \\Vert$"
   ]
  },
  {
   "cell_type": "markdown",
   "metadata": {
    "slideshow": {
     "slide_type": "slide"
    }
   },
   "source": [
    "### Vector p-norms\n",
    "\n",
    "<hr style=\"border-width:2px; border-color:black\"></hr>\n",
    "\n",
    "The most useful norms are the \"p-norms\", defined as \n",
    "\n",
    "\\begin{equation}\n",
    "\\Vert \\mathbf x \\Vert_p = \\left(\\sum_{i=1}^m |x_i|^p \\right)^{1/p}, \\qquad 1 \\le p < \\infty\n",
    "\\end{equation}\n",
    "\n",
    "The 2-norm is the usual Euclidean norm.  \n",
    "\n",
    "Another norm, which can be defined as the limit as $p \\to \\infty$ is the \"inf-norm\", defined as \n",
    "\n",
    "\n",
    "\\begin{equation}\n",
    "\\Vert \\mathbf x \\Vert_\\infty = \\max_{1 \\le i \\le m} |x_i|\n",
    "\\end{equation}"
   ]
  },
  {
   "cell_type": "markdown",
   "metadata": {
    "slideshow": {
     "slide_type": "fragment"
    }
   },
   "source": [
    "#### Question\n",
    "\n",
    "\n",
    "In $\\mathbb R^2$, we can describe regions satisfying $\\Vert \\mathbf x \\Vert_p \\le 1$ for various choices of $p$. In the following, identify the value of $p$ used to describe the region. \n",
    "\n",
    "<center>\n",
    "<img width=800px src=\"./images/norm_01.png\"></img>    \n",
    "</center>"
   ]
  },
  {
   "cell_type": "markdown",
   "metadata": {
    "slideshow": {
     "slide_type": "fragment"
    }
   },
   "source": [
    "Clockwise, from the top : \n",
    "\n",
    "(1) $p = \\infty$\n",
    "\n",
    "(2) $p = 2$\n",
    "\n",
    "(3) $1 \\le p \\le \\infty$\n",
    "\n",
    "(4) $p = 1$"
   ]
  },
  {
   "cell_type": "markdown",
   "metadata": {
    "slideshow": {
     "slide_type": "fragment"
    }
   },
   "source": [
    "<center>\n",
    "<img width=800px src=\"./images/norm_02.png\"></img>\n",
    "</center>"
   ]
  },
  {
   "cell_type": "markdown",
   "metadata": {
    "slideshow": {
     "slide_type": "slide"
    }
   },
   "source": [
    "### Induced matrix norms\n",
    "\n",
    "<hr style=\"border-width:2px; border-color:black\"></hr>\n",
    "\n",
    "One useful class of norms are the *induced matrix norms*, sometimes call \"operator norms*.  These are norms that are described in terms of how much a matrix \"stretches\" a vector, relative to the length of the vector.  \n",
    "\n",
    "The induced matrix norm is described in two equivalent ways. \n",
    "\n",
    "\\begin{equation}\n",
    "\\Vert A \\Vert_p = \\max_{\\mathbf x \\mathbb \\in R^n} \\frac{\\Vert A \\mathbf x \\Vert_p}{\\Vert \\mathbf x \\Vert_p}\n",
    "\\end{equation}\n",
    "\n",
    "or equivalently\n",
    "\n",
    "\\begin{equation}\n",
    "\\Vert A \\Vert_p = \\max_{\\Vert \\mathbf x \\Vert_p = 1} \\Vert A \\mathbf x \\Vert_p\n",
    "\\end{equation}\n",
    "\n",
    "#### Question\n",
    "\n",
    "Why are these two definitions equivalent?  \n",
    "\n",
    "\\begin{equation}\n",
    "\\Vert A \\Vert_p = \\max_{\\mathbf x \\mathbb \\in R^n} \\frac{\\Vert A \\mathbf x \\Vert_p}{\\Vert \\mathbf x \\Vert_p}\n",
    "= \\max_{\\mathbf x \\mathbb \\in R^n} \\left\\Vert A\\left(\\frac{\\mathbf x}{\\Vert \\mathbf x \\Vert} \\right) \\right\\Vert\n",
    "= \\max_{\\Vert \\mathbf y \\Vert = 1} \\Vert A \\mathbf y\\Vert \n",
    "\\end{equation}\n",
    "\n",
    "since \n",
    "\n",
    "\\begin{equation}\n",
    "\\left\\Vert \\frac{\\mathbf x}{\\Vert \\mathbf x \\Vert} \\right \\Vert = \n",
    "\\frac{1}{\\Vert \\mathbf x \\Vert} \\Vert \\mathbf x \\Vert  = 1\n",
    "\\end{equation}\n"
   ]
  },
  {
   "cell_type": "markdown",
   "metadata": {
    "slideshow": {
     "slide_type": "fragment"
    }
   },
   "source": [
    "### Examples of induced matrix norms\n",
    "\n",
    "<hr style=\"border-width:2px; border-color:black\"></hr>\n",
    "\n",
    "Below are example of two useful matrix norms."
   ]
  },
  {
   "cell_type": "markdown",
   "metadata": {
    "slideshow": {
     "slide_type": "fragment"
    }
   },
   "source": [
    "**The Matrix 1-norm**\n",
    "\n",
    "The matrix 1-norm is the \"maximum column sum\", defined as\n",
    "\n",
    "\\begin{equation}\n",
    "\\Vert A \\Vert_1 = \\max_{1 \\le j \\le n} \\sum_{i=1}^m |a_{ij}|\n",
    "\\end{equation}\n",
    "\n",
    "\"Sum up the absolute values of the entries in each column; take the largest resulting value\""
   ]
  },
  {
   "cell_type": "markdown",
   "metadata": {
    "slideshow": {
     "slide_type": "fragment"
    }
   },
   "source": [
    "**The Matrix $\\infty$-norm**\n",
    "\n",
    "The matrix inf-norm is the \"maximum row sum\", defined as\n",
    "\n",
    "\\begin{equation}\n",
    "\\Vert A \\Vert_\\infty = \\max_{1 \\le i \\le m} \\sum_{j=1}^n |a_{ij}|\n",
    "\\end{equation}\n",
    "\n",
    "\"Sum up the absolute value of the entries in each row; take the largest resulting value\"\n",
    "\n",
    "**Useful mnemonic** : A \"1\" looks like a column, and the $\\infty$ symbol looks like a row.  (:-))"
   ]
  },
  {
   "cell_type": "markdown",
   "metadata": {
    "slideshow": {
     "slide_type": "slide"
    }
   },
   "source": [
    "<hr style=\"border-width:4px; border-color:coral\"></hr>\n",
    "\n",
    "## Cauchy-Schwarz inequality\n",
    "\n",
    "<hr style=\"border-width:4px; border-color:coral\"></hr>\n",
    "\n",
    "The *Cauchy-Schwarz* inequality states that\n",
    "\n",
    "\\begin{equation}\n",
    "|\\mathbf x^* \\mathbf y| \\le \\Vert \\mathbf x \\Vert_2 \\Vert \\mathbf y \\Vert_2\n",
    "\\end{equation}\n",
    "\n",
    "\n",
    "The *Cauchy-Schwarz* inequality is a special case of the more general *Holder Inequality*.  "
   ]
  },
  {
   "cell_type": "markdown",
   "metadata": {
    "slideshow": {
     "slide_type": "slide"
    }
   },
   "source": [
    "#### Question\n",
    "\n",
    "How can we derive this? \n",
    "\n",
    "#### Answer\n",
    "\n",
    "Use the definition of the inner product\n",
    "\n",
    "\\begin{equation}\n",
    "\\mathbf x^* \\mathbf y  = \\Vert \\mathbf x \\Vert_2 \\Vert \\mathbf y \\Vert_2 \\cos \\theta\n",
    "\\end{equation}\n",
    "\n",
    "Since $|\\cos \\theta| \\le 1$, the result follows immediately."
   ]
  },
  {
   "cell_type": "markdown",
   "metadata": {
    "slideshow": {
     "slide_type": "slide"
    }
   },
   "source": [
    "<hr style=\"border-width:4px; border-color:coral\"></hr>\n",
    "\n",
    "## Bounds on product $\\Vert A \\Vert \\Vert B \\Vert$\n",
    "\n",
    "<hr style=\"border-width:4px; border-color:coral\"></hr>\n",
    "\n",
    "We have \n",
    "\n",
    "\\begin{equation}\n",
    "\\Vert A B \\mathbf x \\Vert \\le \\Vert A \\Vert \\Vert B \\mathbf x\\Vert \\le \\Vert A \\Vert \\Vert B \\Vert \\Vert \\mathbf x\\Vert\n",
    "\\end{equation}\n",
    "\n",
    "From the above, we can conclude that \n",
    "\n",
    "\\begin{equation}\n",
    "\\Vert A B \\Vert \\le \\Vert A \\Vert \\Vert B \\Vert\n",
    "\\end{equation}"
   ]
  },
  {
   "cell_type": "markdown",
   "metadata": {
    "slideshow": {
     "slide_type": "slide"
    }
   },
   "source": [
    "#### Question \n",
    "\n",
    "Fill in details of each step above.  Use definition of the induced matrix norm.\n",
    "\n",
    "#### Answer\n",
    "\n",
    "From the definition of the matrix norm, we have \n",
    "\n",
    "\\begin{equation}\n",
    "\\Vert A \\Vert \\ge \\frac{\\Vert A \\mathbf x\\Vert}{\\Vert \\mathbf x \\Vert}\n",
    "\\end{equation}\n",
    "\n",
    "from which it follows that $\\Vert A \\mathbf x\\Vert \\le \\Vert A \\Vert \\Vert \\mathbf x \\Vert$. \n",
    "\n",
    "Applying this idea twice, it follows that\n",
    "\n",
    "\\begin{equation}\n",
    "\\Vert A B \\mathbf x \\Vert \\le \\Vert A \\Vert \\Vert B \\mathbf x\\Vert \\le \\Vert A \\Vert \\Vert B \\Vert \\Vert \\mathbf x\\Vert.\n",
    "\\end{equation}\n",
    "\n",
    "Dividing through by $\\Vert \\mathbf x \\Vert$, we get \n",
    "\n",
    "\\begin{equation}\n",
    "\\frac{\\Vert A B \\mathbf x \\Vert}{\\Vert \\mathbf x \\Vert} \\le \\frac{\\Vert A \\Vert \\Vert B \\Vert \\Vert \\mathbf x \\Vert}{\\Vert \\mathbf x \\Vert} = \\Vert A \\Vert \\Vert B \\Vert\n",
    "\\end{equation}\n",
    "\n",
    "Since this holds for all $\\mathbf x$, we must have \n",
    "\n",
    "\\begin{equation}\n",
    "\\max_{\\mathbf x} \\frac{\\Vert A B \\mathbf x\\Vert}{\\Vert \\mathbf x \\Vert} \\le \\Vert A \\Vert \\Vert B \\Vert\n",
    "\\end{equation}\n",
    "\n",
    "But the left hand side is just the norm $\\Vert AB \\Vert$, so that \n",
    "\n",
    "\\begin{equation}\n",
    "\\Vert AB \\Vert \\le \\Vert A \\Vert \\Vert B \\Vert\n",
    "\\end{equation}\n",
    "\n"
   ]
  },
  {
   "cell_type": "markdown",
   "metadata": {},
   "source": [
    "<hr style=\"border-width:2px; border-color:black\"></hr>\n",
    "\n",
    "#### Homework : Vector and Matrix norms\n",
    "\n",
    "1.  TB, Lecture 3, Exercise 3.2 (page 24).  \n"
   ]
  },
  {
   "cell_type": "code",
   "execution_count": null,
   "metadata": {},
   "outputs": [],
   "source": []
  }
 ],
 "metadata": {
  "celltoolbar": "Slideshow",
  "kernelspec": {
   "display_name": "Python 3",
   "language": "python",
   "name": "python3"
  },
  "language_info": {
   "codemirror_mode": {
    "name": "ipython",
    "version": 3
   },
   "file_extension": ".py",
   "mimetype": "text/x-python",
   "name": "python",
   "nbconvert_exporter": "python",
   "pygments_lexer": "ipython3",
   "version": "3.7.4"
  }
 },
 "nbformat": 4,
 "nbformat_minor": 2
}
