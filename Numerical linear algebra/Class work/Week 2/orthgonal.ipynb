{
 "cells": [
  {
   "cell_type": "code",
   "execution_count": 2,
   "metadata": {
    "slideshow": {
     "slide_type": "skip"
    }
   },
   "outputs": [],
   "source": [
    "import sympy as sp"
   ]
  },
  {
   "cell_type": "markdown",
   "metadata": {
    "slideshow": {
     "slide_type": "slide"
    }
   },
   "source": [
    "<hr style=\"border-width:4px; border-color:coral\"></hr>\n",
    "\n",
    "# Orthogonal vectors and unitary matrices \n",
    "\n",
    "<hr style=\"border-width:4px; border-color:coral\"></hr>\n",
    "\n",
    "Unitary matrix decompositions will play a crucial role in numerial linear algebra.  In this notebook, we will explore some of the basic properties relating to the orthogonality and unitary matrices. \n",
    "\n",
    "We start with a discussion of the matrix *transpose* (for real values matrices) and the *adjoint* (for complex values matrices). "
   ]
  },
  {
   "cell_type": "markdown",
   "metadata": {
    "slideshow": {
     "slide_type": "slide"
    }
   },
   "source": [
    "<hr style=\"border-width:2px; border-color:black\"></hr>\n",
    "\n",
    "###  Matrix transpose\n",
    "\n",
    "For matrices with entries in $\\mathbb R$ (e.g. real entries), the matrix transpose converts rows to columns.  The transpose of an  $m \\times n$ matrix is a $n \\times m$ matrix.  \n",
    "\n",
    "The matrix transpose is indicated using a superscript $T$ and is indicaed as $A^T$.  \n",
    "\n",
    "A square matrix for which $A = A^T$ is *symmetric*. "
   ]
  },
  {
   "cell_type": "code",
   "execution_count": 2,
   "metadata": {
    "slideshow": {
     "slide_type": "fragment"
    }
   },
   "outputs": [
    {
     "name": "stdout",
     "output_type": "stream",
     "text": [
      "A\n"
     ]
    },
    {
     "data": {
      "text/latex": [
       "$\\displaystyle \\left[\\begin{matrix}a_{11} & a_{12} & a_{13} & a_{14}\\\\a_{21} & a_{22} & a_{23} & a_{24}\\end{matrix}\\right]$"
      ],
      "text/plain": [
       "Matrix([\n",
       "[a_11, a_12, a_13, a_14],\n",
       "[a_21, a_22, a_23, a_24]])"
      ]
     },
     "metadata": {},
     "output_type": "display_data"
    },
    {
     "name": "stdout",
     "output_type": "stream",
     "text": [
      "\n",
      "A^T (\"A transpose\")\n"
     ]
    },
    {
     "data": {
      "text/latex": [
       "$\\displaystyle \\left[\\begin{matrix}a_{11} & a_{21}\\\\a_{12} & a_{22}\\\\a_{13} & a_{23}\\\\a_{14} & a_{24}\\end{matrix}\\right]$"
      ],
      "text/plain": [
       "Matrix([\n",
       "[a_11, a_21],\n",
       "[a_12, a_22],\n",
       "[a_13, a_23],\n",
       "[a_14, a_24]])"
      ]
     },
     "metadata": {},
     "output_type": "display_data"
    }
   ],
   "source": [
    "A = sp.Matrix(2, 4, lambda i,j:sp.var(f'a_{i+1}{j+1}'))\n",
    "print(\"A\")\n",
    "display(A)\n",
    "print(\"\")\n",
    " \n",
    "print('A^T (\"A transpose\")')\n",
    "display(A.T)"
   ]
  },
  {
   "cell_type": "markdown",
   "metadata": {
    "slideshow": {
     "slide_type": "fragment"
    }
   },
   "source": [
    "<hr style=\"border-width:2px; border-color:black\"></hr>\n",
    "\n",
    "###  Matrix adjoint\n",
    "\n",
    "If a matrix has entries in $\\mathbb C$ (e.g. complex entries) a second related idea is the *Hermitian conjugate* or the *adjoint*. In this case,  not only are rows and columns switched, but complex entries are conjugated.\n",
    "\n",
    "Recall that the *complex conjugate* of a complex number $z = x + iy$ is given by $\\overline{z} = x - iy$.   For real $z \\in \\mathbb R$, $\\overline{z} = z$.  \n",
    "\n",
    "The symbol that is used is a superscript $*$ and is indicated $A^*$.   \n",
    "\n",
    "A square matrix for which $A = A^*$ is *Hermitian*. "
   ]
  },
  {
   "cell_type": "code",
   "execution_count": 3,
   "metadata": {
    "slideshow": {
     "slide_type": "fragment"
    }
   },
   "outputs": [
    {
     "name": "stdout",
     "output_type": "stream",
     "text": [
      "A\n"
     ]
    },
    {
     "data": {
      "text/latex": [
       "$\\displaystyle \\left[\\begin{matrix}a_{11} & a_{12} & a_{13} & a_{14}\\\\a_{21} & a_{22} & a_{23} & a_{24}\\end{matrix}\\right]$"
      ],
      "text/plain": [
       "Matrix([\n",
       "[a_11, a_12, a_13, a_14],\n",
       "[a_21, a_22, a_23, a_24]])"
      ]
     },
     "metadata": {},
     "output_type": "display_data"
    },
    {
     "name": "stdout",
     "output_type": "stream",
     "text": [
      "\n",
      "A.adjoint()\n"
     ]
    },
    {
     "data": {
      "text/latex": [
       "$\\displaystyle \\left[\\begin{matrix}\\overline{a_{11}} & \\overline{a_{21}}\\\\\\overline{a_{12}} & \\overline{a_{22}}\\\\\\overline{a_{13}} & \\overline{a_{23}}\\\\\\overline{a_{14}} & \\overline{a_{24}}\\end{matrix}\\right]$"
      ],
      "text/plain": [
       "Matrix([\n",
       "[conjugate(a_11), conjugate(a_21)],\n",
       "[conjugate(a_12), conjugate(a_22)],\n",
       "[conjugate(a_13), conjugate(a_23)],\n",
       "[conjugate(a_14), conjugate(a_24)]])"
      ]
     },
     "metadata": {},
     "output_type": "display_data"
    }
   ],
   "source": [
    "A = sp.Matrix(2, 4, lambda i,j:sp.var(f'a_{i+1}{j+1}'))\n",
    "print(\"A\")\n",
    "display(A)\n",
    "print(\"\")\n",
    " \n",
    "print('A.adjoint()') \n",
    "display(A.adjoint()) \n"
   ]
  },
  {
   "cell_type": "markdown",
   "metadata": {
    "slideshow": {
     "slide_type": "slide"
    }
   },
   "source": [
    "#### Example : Adjoint"
   ]
  },
  {
   "cell_type": "code",
   "execution_count": 4,
   "metadata": {
    "slideshow": {
     "slide_type": "fragment"
    }
   },
   "outputs": [
    {
     "data": {
      "text/latex": [
       "$\\displaystyle \\left[\\begin{matrix}1 + i\\\\2 + i\\\\3 + i\\end{matrix}\\right]$"
      ],
      "text/plain": [
       "Matrix([\n",
       "[1 + I],\n",
       "[2 + I],\n",
       "[3 + I]])"
      ]
     },
     "metadata": {},
     "output_type": "display_data"
    },
    {
     "name": "stdout",
     "output_type": "stream",
     "text": [
      "\n",
      "A.adjoint()\n"
     ]
    },
    {
     "data": {
      "text/latex": [
       "$\\displaystyle \\left[\\begin{matrix}1 - i & 2 - i & 3 - i\\end{matrix}\\right]$"
      ],
      "text/plain": [
       "Matrix([[1 - I, 2 - I, 3 - I]])"
      ]
     },
     "metadata": {},
     "output_type": "display_data"
    }
   ],
   "source": [
    "I = sp.I\n",
    "z = sp.symbols(\"z\")\n",
    "z = 1 + 2*I\n",
    "\n",
    "A = sp.Matrix(3,1,[1 + I, 2 + I, 3 + I])\n",
    "display(A)\n",
    "print(\"\")\n",
    "\n",
    "print('A.adjoint()')\n",
    "display(A.adjoint())"
   ]
  },
  {
   "cell_type": "markdown",
   "metadata": {
    "slideshow": {
     "slide_type": "fragment"
    }
   },
   "source": [
    "In this course, we will working mainly with matrices with real entries, but to stick with the textbook notation, we will use $A^*$.  Also, Golub and Van Loan also makes use the more general \"adjoint\" notation.  \n",
    "\n",
    "We will use terminology \"transpose\" for matrices with real entries and \"adjoint\" for matrices with complex entries.\n",
    "\n",
    "Fill in the properties of the transpose and adjoint below.  "
   ]
  },
  {
   "cell_type": "markdown",
   "metadata": {
    "slideshow": {
     "slide_type": "slide"
    }
   },
   "source": [
    "#### Review : Properties of the transpose and adjoint\n",
    "\n",
    "Below is a review of the rules for manipulating the matrix transpose and the adjoint.  "
   ]
  },
  {
   "cell_type": "markdown",
   "metadata": {
    "slideshow": {
     "slide_type": "slide"
    }
   },
   "source": [
    "**Real matrices** \n",
    "\n",
    "In the following, assume that $A, B \\in \\mathbb R^{m \\times m}$."
   ]
  },
  {
   "cell_type": "markdown",
   "metadata": {
    "slideshow": {
     "slide_type": "fragment"
    }
   },
   "source": [
    "1. $(A^T)^T = A$"
   ]
  },
  {
   "cell_type": "markdown",
   "metadata": {
    "slideshow": {
     "slide_type": "fragment"
    }
   },
   "source": [
    "2.  $(AB)^T = B^T A^T$. "
   ]
  },
  {
   "cell_type": "markdown",
   "metadata": {
    "slideshow": {
     "slide_type": "fragment"
    }
   },
   "source": [
    "3. $(A + B)^T = A^T + B^T$. "
   ]
  },
  {
   "cell_type": "markdown",
   "metadata": {
    "slideshow": {
     "slide_type": "fragment"
    }
   },
   "source": [
    "4. $(A^{-1})^T = (A^{T})^{-1}$"
   ]
  },
  {
   "cell_type": "markdown",
   "metadata": {
    "slideshow": {
     "slide_type": "fragment"
    }
   },
   "source": [
    "5.  For $x \\in \\mathbb R$, $x^T = x$. "
   ]
  },
  {
   "cell_type": "markdown",
   "metadata": {
    "slideshow": {
     "slide_type": "fragment"
    }
   },
   "source": [
    "6. For $c \\in \\mathbb R$, $(cA)^T = c A^T$"
   ]
  },
  {
   "cell_type": "markdown",
   "metadata": {
    "slideshow": {
     "slide_type": "fragment"
    }
   },
   "source": [
    "7.  For $\\mathbf x \\in \\mathbb R^{m \\times 1}$,   $(A \\mathbf x)^T = x^T A^T$"
   ]
  },
  {
   "cell_type": "markdown",
   "metadata": {
    "slideshow": {
     "slide_type": "fragment"
    }
   },
   "source": [
    "8.  For $\\mathbf x \\in \\mathbb R^{m \\times 1}$, $(\\mathbf x^T A \\mathbf x)^T = \\mathbf x^T A^T \\mathbf x  =? \\mathbf x^T A \\mathbf x$"
   ]
  },
  {
   "cell_type": "markdown",
   "metadata": {
    "slideshow": {
     "slide_type": "slide"
    }
   },
   "source": [
    "**Complex matrices**\n",
    "\n",
    "In the following, assume that $A, B \\in \\mathbb C^{m \\times m}$ "
   ]
  },
  {
   "cell_type": "markdown",
   "metadata": {
    "slideshow": {
     "slide_type": "fragment"
    }
   },
   "source": [
    "1. $A^* = \\bar{A}^T$"
   ]
  },
  {
   "cell_type": "markdown",
   "metadata": {
    "slideshow": {
     "slide_type": "fragment"
    }
   },
   "source": [
    "2. $(A^*)^* = A$"
   ]
  },
  {
   "cell_type": "markdown",
   "metadata": {
    "slideshow": {
     "slide_type": "fragment"
    }
   },
   "source": [
    "3. $(AB)^*= B^* A^*$. "
   ]
  },
  {
   "cell_type": "markdown",
   "metadata": {
    "slideshow": {
     "slide_type": "fragment"
    }
   },
   "source": [
    "4. $(A + B)^* = \\dots$. "
   ]
  },
  {
   "cell_type": "markdown",
   "metadata": {
    "slideshow": {
     "slide_type": "fragment"
    }
   },
   "source": [
    "5. $(A^{-1})^* = \\dots$ "
   ]
  },
  {
   "cell_type": "markdown",
   "metadata": {
    "slideshow": {
     "slide_type": "fragment"
    }
   },
   "source": [
    "6.  For $x \\in \\mathbb C$, $x^* = \\overline{x}$. "
   ]
  },
  {
   "cell_type": "markdown",
   "metadata": {
    "slideshow": {
     "slide_type": "fragment"
    }
   },
   "source": [
    "7. For $c \\in \\mathbb C$, $(cA)^* = \\bar{c} A^*$"
   ]
  },
  {
   "cell_type": "markdown",
   "metadata": {
    "slideshow": {
     "slide_type": "slide"
    }
   },
   "source": [
    "8.  For $\\mathbf x \\in \\mathbb C^{m \\times 1}$,  $(A \\mathbf x)^* = \\dots$"
   ]
  },
  {
   "cell_type": "markdown",
   "metadata": {
    "slideshow": {
     "slide_type": "slide"
    }
   },
   "source": [
    "9.  For $\\mathbf x \\in \\mathbb C^{m \\times 1}$, $(\\mathbf x^* A \\mathbf x)^* = \\dots$"
   ]
  },
  {
   "cell_type": "markdown",
   "metadata": {
    "slideshow": {
     "slide_type": "slide"
    }
   },
   "source": [
    "<hr style=\"border-width:4px; border-color:coral\"></hr>\n",
    "\n",
    "## Inner product and orthogonality\n",
    "\n",
    "<hr style=\"border-width:4px; border-color:coral\"></hr>\n",
    "\n",
    "The inner product of two vectors $\\mathbf x, \\mathbf y \\in \\mathbb C^{m \\times 1}$is expressed using the adjoint as \n",
    "\n",
    "\\begin{equation}\n",
    "\\mathbf x^* \\mathbf y = \\sum_{i=1}^{m} x_i y_i\n",
    "\\end{equation}\n",
    "\n",
    "As a generalization of the Pythagorean Theorem, we can express the length or \"Euclidean norm\" of a vector using the inner product. \n",
    "\n",
    "\\begin{equation}\n",
    "\\Vert \\mathbf x\\Vert =  \\sqrt{\\mathbf x^* \\mathbf x} = \\sum_{i=1}^m |x_i|^2\n",
    "\\end{equation}\n",
    "\n",
    "For vectors $\\mathbf a, \\mathbf b \\in \\mathbb R^2$, we are familar with the definition of a dot product as \n",
    "\n",
    "\\begin{equation}\n",
    "\\mathbf a \\cdot \\mathbf b = ab \\cos(\\theta)\n",
    "\\end{equation}\n",
    "\n",
    "where $a = \\Vert \\mathbf a \\Vert$ and $b = \\Vert \\mathbf b \\Vert$, and $\\theta$ is the angle between $\\mathbf a$ and $\\mathbf b$.   If $\\theta = \\pi/2$, then the two vectors are at right angles to each other.  "
   ]
  },
  {
   "cell_type": "markdown",
   "metadata": {
    "slideshow": {
     "slide_type": "slide"
    }
   },
   "source": [
    "#### Orthogonal vectors \n",
    "\n",
    "This idea can be generalized to vectors in $\\mathbb R^m$.  While it is difficult to picture vectors in $\\mathbb R^m$ at \"right angles\" to each other, we can nonetheless use the inner product to define \n",
    "\n",
    "\\begin{equation}\n",
    "\\cos \\theta = \\frac{\\mathbf x^* \\mathbf y}{\\Vert \\mathbf x \\Vert \\Vert \\mathbf y \\Vert}\n",
    "\\end{equation}\n",
    "\n",
    "where now, $\\theta$ is the *angle* between vectors in $\\mathbb R^m$.  Vectors for which $\\mathbf x^* \\mathbf y = 0$ are said to be *orthogonal*.  \n",
    "\n",
    "* A set of vectors is said to *orthogonal* if all vectors are pairwise orthogonal.  \n",
    "\n",
    "* A set of vectors is said to be *orthonormal* if the set is orthogonal, and in addition, each vector has length 1, e.g. $\\Vert \\mathbf x \\Vert = 1$ for each vector $\\mathbf x$ in the set."
   ]
  },
  {
   "cell_type": "markdown",
   "metadata": {
    "slideshow": {
     "slide_type": "fragment"
    }
   },
   "source": [
    "\n",
    "### Theorem\n",
    "\n",
    "Vectors in an orthogonal set $S$ are linearly independent. \n",
    "\n",
    "### Proof\n",
    "\n",
    "Let $S = \\{\\mathbf u_1, \\mathbf u_2, \\dots \\mathbf u_n\\}$. We need to show that if\n",
    "\n",
    "\\begin{equation}\n",
    "c_1 \\mathbf u_1 + c_2 \\mathbf u_2 + \\dots + c_n\\mathbf u_n = 0, \n",
    "\\end{equation}\n",
    "\n",
    "then $c_1 = c_2 = \\dots = c_n = 0$.  Since $S$ is an orthogonal set, we have $\\mathbf u_i^* \\mathbf u_j = 0$, for $i \\ne j$.  From this, we can conclude that \n",
    "\n",
    "\n",
    "\\begin{equation}\n",
    "\\mathbf u_i^*\\left(c_1 \\mathbf u_1 + c_2 \\mathbf u_2 + \\dots + c_n\\mathbf u_n\\right) =  c_i \\mathbf u_i^* \\mathbf u_i =  c_i \\Vert \\mathbf u_i \\Vert^2 = 0, \\qquad i = 1,2,\\dots n.\n",
    "\\end{equation}\n",
    "\n",
    "By assumption, $\\Vert \\mathbf u_i\\Vert \\ne 0$, so we must have $c_i = 0$, for $i = 1,2,\\dots, n$. $\\blacksquare$"
   ]
  },
  {
   "cell_type": "markdown",
   "metadata": {
    "slideshow": {
     "slide_type": "slide"
    }
   },
   "source": [
    "<hr style=\"border-width:2px; border-color:black\"></hr>\n",
    "\n",
    "### Decomposing vectors in an orthonormal basis\n",
    "\n",
    "Suppose we have an orthonormal set of vectors $S = \\{ \\mathbf q_i\\}_{i=1}^n$, where $\\mathbf q_i \\in \\mathbf C^m$.   Under what condtions can we express an arbitrary vector $\\mathbf v$ in terms of vectors $\\mathbf q_i$? "
   ]
  },
  {
   "cell_type": "markdown",
   "metadata": {
    "slideshow": {
     "slide_type": "fragment"
    }
   },
   "source": [
    "#### Case 1 : $n = m$\n",
    "\n",
    "In this case, the vectors in $S$ form a basis for $\\mathbb C^m$, so we can write \n",
    "\n",
    "\\begin{equation}\n",
    "\\mathbf v = c_1 \\mathbf q_1 + c_2 \\mathbf q_2 + \\dots + c_m \\mathbf q_m\n",
    "\\end{equation}\n",
    "\n",
    "for scalars $c_i \\in \\mathbb C$.  "
   ]
  },
  {
   "cell_type": "markdown",
   "metadata": {
    "slideshow": {
     "slide_type": "fragment"
    }
   },
   "source": [
    "#### Case 2 : $n < m$\n",
    "\n",
    "In this case, we can only express $\\mathbf v$ in terms of vectors in $S$ if $\\mathbf v$ is in the span of $S$.  More generally, we have \n",
    "\n",
    "\\begin{equation}\n",
    "\\mathbf v = c_1 \\mathbf q_1 + c_2 \\mathbf q_2 + \\dots + c_n \\mathbf q_n + \\mathbf r\n",
    "\\end{equation}\n",
    "\n",
    "where $\\mathbf r$ is orthogonal to vectors in $S$.  "
   ]
  },
  {
   "cell_type": "markdown",
   "metadata": {
    "slideshow": {
     "slide_type": "fragment"
    }
   },
   "source": [
    "#### Components of $\\mathbf v$ in $Q$\n",
    "\n",
    "Because the vectors in $S$ form an orthonormal set,  it is especially easy to compute the coefficients $c_i$.  \n",
    "\n",
    "We have\n",
    "\n",
    "\\begin{equation}\n",
    "\\mathbf q_i^* \\mathbf v = \\sum_{k=1}^{n} c_k \\mathbf q_i^* \\mathbf q_k = c_i\n",
    "\\end{equation}\n",
    "\n",
    "#### Question \n",
    "\n",
    "Why the above is true?"
   ]
  },
  {
   "cell_type": "markdown",
   "metadata": {
    "slideshow": {
     "slide_type": "fragment"
    }
   },
   "source": [
    "If $n = m$, we have \n",
    "\n",
    "\\begin{equation}\n",
    "\\mathbf v = \\sum_{k=1}^{n} (\\mathbf q_k^* \\mathbf v) \\mathbf q_k\n",
    "\\end{equation}\n",
    "\n",
    "If $n < m$, then \n",
    "\n",
    "\\begin{equation}\n",
    "\\mathbf v = \\sum_{k=1}^{n} (\\mathbf q_k^* \\mathbf v) \\mathbf q_k + \\mathbf r = Q\\mathbf c + \\mathbf r\n",
    "\\end{equation}\n",
    "\n",
    "where $Q \\in \\mathbb C^{m \\times n}$ is a matrix whose columns are the vectors in $S$ and $\\mathbf c$ is a vector whose components are the coeffiients $c_i$.   The vector $Q\\mathbf c = \\mathbf v - \\mathbf r$ can be thought of as a *projection* of $\\mathbf v$ onto the subspace spanned by vectors in $Q$. \n",
    "\n",
    "<br>\n",
    "\n",
    "<center>\n",
    "<img width=600px src=\"./images/ortho_01.png\"></img>   \n",
    "<center>"
   ]
  },
  {
   "cell_type": "markdown",
   "metadata": {
    "slideshow": {
     "slide_type": "slide"
    }
   },
   "source": [
    "<hr style=\"border-width:4px; border-color:coral\"></hr>\n",
    "\n",
    "## Unitary matrices\n",
    "\n",
    "<hr style=\"border-width:4px; border-color:coral\"></hr>\n",
    "\n",
    "Suppose $S$ is an orthonormal set of $m$ vectors in $\\mathbb C^{m \\times 1}$.  The square matrix $Q$ whose columns are the vectors in $S$ is called a *unitary* matrix.  If the entries of $Q$ are all real, we say that $Q$ is an *orthogonal* matrix.\n",
    "\n",
    "#### Inverse of a unitary matrix\n",
    "\n",
    "* Are all unitary matrices non-singular?  Yes\n",
    "\n",
    "* What is the inverse of a unitary matrix? The inverse of a unitary matrix is just its adjoing, e.g. $Q^{-1} = Q^*$. \n",
    "\n",
    "#### Multiplication by a unitary matrix.  \n",
    "\n",
    "*  Show that if $Q$ is unitary, then $\\Vert Q \\mathbf x \\Vert = \\Vert \\mathbf x \\Vert$. \n",
    "\n",
    "\\begin{equation}\n",
    "\\Vert Q \\mathbf x \\Vert^2 = (Q \\mathbf x)^*(Q \\mathbf x) =  \\mathbf x^* Q^*Q \\mathbf x = \\mathbf x^* \\mathbf x = \\Vert \\mathbf x\\Vert^2\n",
    "\\end{equation}\n",
    "\n",
    "Since the norm is non-negative, we conclude $\\Vert Q \\mathbf x\\Vert = \\Vert \\mathbf x \\Vert$. $\\blacksquare$"
   ]
  },
  {
   "cell_type": "markdown",
   "metadata": {
    "slideshow": {
     "slide_type": "fragment"
    }
   },
   "source": [
    "<hr style=\"border-width:2px; border-color:black\"></hr>\n",
    "\n",
    "#### Homework : Unitary matrices\n",
    "\n",
    "1.  TB, Lecture 2, Exercises 2.1-2.6 (pages 15-16).  \n",
    "\n"
   ]
  },
  {
   "cell_type": "code",
   "execution_count": null,
   "metadata": {},
   "outputs": [],
   "source": []
  }
 ],
 "metadata": {
  "celltoolbar": "Slideshow",
  "kernelspec": {
   "display_name": "Python 3",
   "language": "python",
   "name": "python3"
  },
  "language_info": {
   "codemirror_mode": {
    "name": "ipython",
    "version": 3
   },
   "file_extension": ".py",
   "mimetype": "text/x-python",
   "name": "python",
   "nbconvert_exporter": "python",
   "pygments_lexer": "ipython3",
   "version": "3.7.4"
  }
 },
 "nbformat": 4,
 "nbformat_minor": 2
}
