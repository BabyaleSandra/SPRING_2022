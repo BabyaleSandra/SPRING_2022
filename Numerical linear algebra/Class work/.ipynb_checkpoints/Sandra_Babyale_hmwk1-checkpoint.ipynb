{
 "cells": [
  {
   "cell_type": "code",
   "execution_count": 1,
   "metadata": {},
   "outputs": [],
   "source": [
    "import sympy as sp"
   ]
  },
  {
   "cell_type": "markdown",
   "metadata": {},
   "source": [
    "<hr style=\"border-width:4px; border-color:coral\"></hr>\n",
    "\n",
    "\n",
    "# Homework #1\n",
    "<hr style=\"border-width:4px; border-color:coral\"></hr>\n",
    "\n",
    "These are taken from Trefethen and Bau (TB), Lecture 1.  \n"
   ]
  },
  {
   "cell_type": "markdown",
   "metadata": {},
   "source": [
    "## Problem 1 (TB 1.1)\n",
    "<hr style=\"border-width:2px; border-color:black\"></hr>\n",
    "\n",
    "\n",
    "Exercise 1.1 (Lecture 1), Trefethen and Bau, page 9.  Define $B$ as the $4 \\times 4$ identity matrix.   "
   ]
  },
  {
   "cell_type": "code",
   "execution_count": 2,
   "metadata": {},
   "outputs": [
    {
     "data": {
      "text/latex": [
       "$\\displaystyle \\left[\\begin{matrix}1 & 0 & 0 & 0\\\\0 & 1 & 0 & 0\\\\0 & 0 & 1 & 0\\\\0 & 0 & 0 & 1\\end{matrix}\\right]$"
      ],
      "text/plain": [
       "Matrix([\n",
       "[1, 0, 0, 0],\n",
       "[0, 1, 0, 0],\n",
       "[0, 0, 1, 0],\n",
       "[0, 0, 0, 1]])"
      ]
     },
     "metadata": {},
     "output_type": "display_data"
    }
   ],
   "source": [
    "# Define B to be the 4x4 idenity matrix. \n",
    "\n",
    "B = sp.eye(4)\n",
    "display(B)"
   ]
  },
  {
   "cell_type": "markdown",
   "metadata": {},
   "source": [
    "Construct matrices $A_1$, $A_2$, $\\dots$ and $C_1$, $C_2$, $\\dots$ to carry out the following operations via matrix multiplication. \n",
    "\n",
    "1. Double column 1\n",
    "2. halve row 3\n",
    "3. add row 3 to row 1\n",
    "4. interchange rows 1 and 4\n",
    "5. subtract row 2 from each of the other rows\n",
    "6. replace column 4 by column 3\n",
    "7. delete column 1\n",
    "\n",
    "You should be able to write your resulting matrix as $\\dots A_3 A_2 A_1 B C_1 C_2 C_3 \\dots$. \n"
   ]
  },
  {
   "cell_type": "code",
   "execution_count": 3,
   "metadata": {},
   "outputs": [
    {
     "data": {
      "text/latex": [
       "$\\displaystyle \\left[\\begin{matrix}2 & 0 & 0 & 0\\\\0 & 1 & 0 & 0\\\\0 & 0 & 1 & 0\\\\0 & 0 & 0 & 1\\end{matrix}\\right]$"
      ],
      "text/plain": [
       "Matrix([\n",
       "[2, 0, 0, 0],\n",
       "[0, 1, 0, 0],\n",
       "[0, 0, 1, 0],\n",
       "[0, 0, 0, 1]])"
      ]
     },
     "metadata": {},
     "output_type": "display_data"
    }
   ],
   "source": [
    "# 1. Double column 1\n",
    "C1 = sp.eye(4)\n",
    "C1[0,0] = 2\n",
    "result = B*C1\n",
    "display(result)"
   ]
  },
  {
   "cell_type": "code",
   "execution_count": 4,
   "metadata": {},
   "outputs": [
    {
     "data": {
      "text/latex": [
       "$\\displaystyle \\left[\\begin{matrix}2 & 0 & 0 & 0\\\\0 & 1 & 0 & 0\\\\0 & 0 & \\frac{1}{2} & 0\\\\0 & 0 & 0 & 1\\end{matrix}\\right]$"
      ],
      "text/plain": [
       "Matrix([\n",
       "[2, 0,   0, 0],\n",
       "[0, 1,   0, 0],\n",
       "[0, 0, 1/2, 0],\n",
       "[0, 0,   0, 1]])"
      ]
     },
     "metadata": {},
     "output_type": "display_data"
    }
   ],
   "source": [
    "# 2. halve row 3\n",
    "A1 = sp.eye(4)\n",
    "A1[2,2] = sp.Rational(1,2)\n",
    "result = A1*B*C1\n",
    "display(result)"
   ]
  },
  {
   "cell_type": "code",
   "execution_count": 5,
   "metadata": {},
   "outputs": [
    {
     "data": {
      "text/latex": [
       "$\\displaystyle \\left[\\begin{matrix}2 & 0 & \\frac{1}{2} & 0\\\\0 & 1 & 0 & 0\\\\0 & 0 & \\frac{1}{2} & 0\\\\0 & 0 & 0 & 1\\end{matrix}\\right]$"
      ],
      "text/plain": [
       "Matrix([\n",
       "[2, 0, 1/2, 0],\n",
       "[0, 1,   0, 0],\n",
       "[0, 0, 1/2, 0],\n",
       "[0, 0,   0, 1]])"
      ]
     },
     "execution_count": 5,
     "metadata": {},
     "output_type": "execute_result"
    }
   ],
   "source": [
    "# 3. Replace row 1 with row 3 plus row 1\n",
    "A2 = sp.eye(4)\n",
    "for i in range(4):\n",
    "    for j in range(4):\n",
    "        if j==i:\n",
    "            A2[i,j]=1\n",
    "        elif i==0 and j==2:\n",
    "            A2[i,j]=1            \n",
    "        else:\n",
    "            0\n",
    "A2\n",
    "result = A2* A1*B*C1\n",
    "result"
   ]
  },
  {
   "cell_type": "code",
   "execution_count": 6,
   "metadata": {},
   "outputs": [
    {
     "data": {
      "text/latex": [
       "$\\displaystyle \\left[\\begin{matrix}0 & 0 & 0 & 1\\\\0 & 1 & 0 & 0\\\\0 & 0 & \\frac{1}{2} & 0\\\\2 & 0 & \\frac{1}{2} & 0\\end{matrix}\\right]$"
      ],
      "text/plain": [
       "Matrix([\n",
       "[0, 0,   0, 1],\n",
       "[0, 1,   0, 0],\n",
       "[0, 0, 1/2, 0],\n",
       "[2, 0, 1/2, 0]])"
      ]
     },
     "execution_count": 6,
     "metadata": {},
     "output_type": "execute_result"
    }
   ],
   "source": [
    "# 4. Interchange row 1 and row 4\n",
    "A3=sp.zeros(4)\n",
    "A3[1,1]=A3[0,3]=A3[2,2]=A3[3,0]=1\n",
    "result=A3*A2*A1*B*C1\n",
    "result"
   ]
  },
  {
   "cell_type": "code",
   "execution_count": 7,
   "metadata": {},
   "outputs": [
    {
     "data": {
      "text/latex": [
       "$\\displaystyle \\left[\\begin{matrix}0 & -1 & 0 & 1\\\\0 & 1 & 0 & 0\\\\0 & -1 & \\frac{1}{2} & 0\\\\2 & -1 & \\frac{1}{2} & 0\\end{matrix}\\right]$"
      ],
      "text/plain": [
       "Matrix([\n",
       "[0, -1,   0, 1],\n",
       "[0,  1,   0, 0],\n",
       "[0, -1, 1/2, 0],\n",
       "[2, -1, 1/2, 0]])"
      ]
     },
     "execution_count": 7,
     "metadata": {},
     "output_type": "execute_result"
    }
   ],
   "source": [
    "# 5. Subtract row 2 from each of the other rows\n",
    "A4 = sp.zeros(4)\n",
    "A4[0,0]=A4[1,1]=A4[3,3]=A4[2,2]=1\n",
    "A4[0,1]=A4[2,1]=A4[3,1]=-1\n",
    "result = A4*A3*A2*A1*B*C1\n",
    "result"
   ]
  },
  {
   "cell_type": "code",
   "execution_count": 8,
   "metadata": {},
   "outputs": [
    {
     "data": {
      "text/latex": [
       "$\\displaystyle \\left[\\begin{matrix}0 & -1 & 0 & 0\\\\0 & 1 & 0 & 0\\\\0 & -1 & \\frac{1}{2} & \\frac{1}{2}\\\\2 & -1 & \\frac{1}{2} & \\frac{1}{2}\\end{matrix}\\right]$"
      ],
      "text/plain": [
       "Matrix([\n",
       "[0, -1,   0,   0],\n",
       "[0,  1,   0,   0],\n",
       "[0, -1, 1/2, 1/2],\n",
       "[2, -1, 1/2, 1/2]])"
      ]
     },
     "execution_count": 8,
     "metadata": {},
     "output_type": "execute_result"
    }
   ],
   "source": [
    "# 6. replace column 4 by column 3\n",
    "C2 = sp.eye(4)\n",
    "C2[3,3]=0\n",
    "C2[2,3]=1\n",
    "result = A4*A3*A2*A1*B*C1*C2\n",
    "result"
   ]
  },
  {
   "cell_type": "code",
   "execution_count": 9,
   "metadata": {},
   "outputs": [
    {
     "data": {
      "text/latex": [
       "$\\displaystyle \\left[\\begin{matrix}-1 & 0 & 0\\\\1 & 0 & 0\\\\-1 & \\frac{1}{2} & \\frac{1}{2}\\\\-1 & \\frac{1}{2} & \\frac{1}{2}\\end{matrix}\\right]$"
      ],
      "text/plain": [
       "Matrix([\n",
       "[-1,   0,   0],\n",
       "[ 1,   0,   0],\n",
       "[-1, 1/2, 1/2],\n",
       "[-1, 1/2, 1/2]])"
      ]
     },
     "execution_count": 9,
     "metadata": {},
     "output_type": "execute_result"
    }
   ],
   "source": [
    "# 7. delete column 1\n",
    "C3 = sp.Matrix(4,3,[0,0,0,1,0,0,0,1,0,0,0, 1])\n",
    "result = A4*A3*A2*A1*B*C1*C2*C3\n",
    "result"
   ]
  },
  {
   "cell_type": "markdown",
   "metadata": {},
   "source": [
    "Represent the result as a product of three matrices, $ABC$. "
   ]
  },
  {
   "cell_type": "code",
   "execution_count": 10,
   "metadata": {},
   "outputs": [
    {
     "data": {
      "text/latex": [
       "$\\displaystyle \\left[\\begin{matrix}-1 & 0 & 0\\\\1 & 0 & 0\\\\-1 & \\frac{1}{2} & \\frac{1}{2}\\\\-1 & \\frac{1}{2} & \\frac{1}{2}\\end{matrix}\\right]$"
      ],
      "text/plain": [
       "Matrix([\n",
       "[-1,   0,   0],\n",
       "[ 1,   0,   0],\n",
       "[-1, 1/2, 1/2],\n",
       "[-1, 1/2, 1/2]])"
      ]
     },
     "metadata": {},
     "output_type": "display_data"
    }
   ],
   "source": [
    "# Represent the result as ABC\n",
    "\n",
    "A = A4*A3*A2*A1\n",
    "\n",
    "\n",
    "C = C1*C2*C3 \n",
    "\n",
    "display(A*B*C)"
   ]
  },
  {
   "cell_type": "markdown",
   "metadata": {},
   "source": [
    "## Problem 2 \n",
    "<hr style=\"border-width:2px; border-color:black\"></hr>\n",
    "\n",
    "\n",
    "To check that the matrices you found above are correct, apply the result from Problem 1 to the matrix $B$ below\n",
    "\n",
    "\\begin{equation}\n",
    "B = \n",
    "\\begin{bmatrix}\n",
    "1 & -3 & 2 & 1 \\\\\n",
    "0 & 2 & -1 & 3 \\\\\n",
    "0 & 0 & 4 & 11 \\\\\n",
    "7 & -1 & 3 & -8\n",
    "\\end{bmatrix}\n",
    "\\end{equation}\n",
    "\n",
    "You result should be : \n",
    "\n",
    "\\begin{equation}\n",
    "A B C = \n",
    "\\begin{bmatrix}\n",
    "-3 & 4 & 4 \\\\\n",
    "2 & -1 & -1 \\\\\n",
    "-2 & 3 & 3 \\\\\n",
    "-5 & 5 & 5 \n",
    "\\end{bmatrix}\n",
    "\\end{equation}\n",
    "\n"
   ]
  },
  {
   "cell_type": "code",
   "execution_count": 11,
   "metadata": {},
   "outputs": [
    {
     "data": {
      "text/latex": [
       "$\\displaystyle \\left[\\begin{matrix}1 & -3 & 2 & 1\\\\0 & 2 & -1 & 3\\\\0 & 0 & 4 & 11\\\\7 & -1 & 3 & -8\\end{matrix}\\right]$"
      ],
      "text/plain": [
       "Matrix([\n",
       "[1, -3,  2,  1],\n",
       "[0,  2, -1,  3],\n",
       "[0,  0,  4, 11],\n",
       "[7, -1,  3, -8]])"
      ]
     },
     "metadata": {},
     "output_type": "display_data"
    }
   ],
   "source": [
    "B1 = sp.Matrix([[1, -3, 2,1], [0, 2, -1, 3], [0,0,4,11], [7, -1, 3, -8]])\n",
    "display(B1)"
   ]
  },
  {
   "cell_type": "code",
   "execution_count": 12,
   "metadata": {},
   "outputs": [
    {
     "data": {
      "text/latex": [
       "$\\displaystyle \\left[\\begin{matrix}-3 & 4 & 4\\\\2 & -1 & -1\\\\-2 & 3 & 3\\\\-5 & 5 & 5\\end{matrix}\\right]$"
      ],
      "text/plain": [
       "Matrix([\n",
       "[-3,  4,  4],\n",
       "[ 2, -1, -1],\n",
       "[-2,  3,  3],\n",
       "[-5,  5,  5]])"
      ]
     },
     "metadata": {},
     "output_type": "display_data"
    }
   ],
   "source": [
    "result = A*B1*C\n",
    "display(result)"
   ]
  },
  {
   "cell_type": "markdown",
   "metadata": {},
   "source": [
    "## Problem 3  (TB 1.3)\n",
    "<hr style=\"border-width:2px; border-color:black\"></hr>\n",
    "\n",
    "\n",
    "Exercise 1.3 (Lecture 1), Trefethen and Bau, page 10.\n",
    "\n",
    "We say that a square or rectangular matrix $R$ with entries $r_{ij}$ is *upper-triangular* if $r_{ij} = 0$ for $i  > j$.  By considering what space is spanned by the first columns of $R$, show that if $R$ is a non-singular $m \\times m$ matrix, then $R^{-1}$ is also upper-triangular.  \n",
    "\n",
    "**Hint:** Let $\\mathbf e_j$ be the $j^{th}$ column of the $m \\times m$ identity matrix. Show that if $R \\mathbf c = \\mathbf e_j$, $\\mathbf c$ is the $j^{th}$ column of $R^{-1}$.  From this, what must the entries of $\\mathbf c$ look like? "
   ]
  },
  {
   "cell_type": "markdown",
   "metadata": {},
   "source": [
    "<hr style=\"border-width:2px; border-color:black\"></hr>\n",
    "\n",
    "#### Solution\n"
   ]
  },
  {
   "cell_type": "markdown",
   "metadata": {},
   "source": [
    "If matrix $\\mathbf R$ with entries $r_{ij}$ is considered to be a non-singular upper triangular $m\\times m$ matrix, this means that\n",
    "$\\mathbf R$ is invertible and $\\mathbf R^{-1}$ with entries say $a_{ij}$ exits.\n",
    "$$~~~$$\n",
    "$\\Rightarrow$  det $\\mathbf R$ =$\\prod_{i=1}^{m}  r_{ii} \\neq 0 ~~~~~$ thus $r_{ii} \\neq 0$ for $i=1,..,m$.\n",
    "\n",
    "$$~~~$$\n",
    "Since we know that $\\mathbf R. \\mathbf R^{-1} = \\mathbf I$ where $\\mathbf I$ is an $m\\times m$  identity matrix, $\\mathbf R^{-1}$ will be shown to be an upper triangular matrix by induction. \n",
    "\n",
    "Considering the first entrie of the $m^{th}$ row of the matrix $\\mathbf I$, we have that;\n",
    "\n",
    "$$\\mathbf I_{m1} = \\sum_{j=1}^{m}  r_{mj}a_{j1} =r_{mm}a_{m1}=0 $$\n",
    "but since matrix $\\mathbf R$ is non singular and invertible, then  $r_{mm}\\neq 0$ and $r_{mj}= 0$ for $j<m$ , $\\Rightarrow  a_{m1}=0 $\n",
    " \n",
    "similarly considering the first entrie of the $({m-1})^{th}$ row of the matrix $\\mathbf I$, we have that;\n",
    "$$\\Rightarrow \\mathbf I_{(m-1)1} = \\sum_{j=1}^{m}  r_{(m-1)j}a_{j1} =r_{(m-1)(m-1)}a_{(m-1)1}=0 $$\n",
    "but $r_{(m-1)(m-1)}\\neq 0$ and $r_{(m-1)j}= 0$ for $j<(m-1)$ , $\\Rightarrow  a_{(m-1)1}=0 $\n",
    "$$~~~$$\n",
    "$\\therefore$ by induction, it follows that;$~~~~$ $a_{p,1}=0$ for $1<p\\leq m$.\n",
    "\n",
    "$$~~~$$\n",
    "$$~~~$$\n",
    "Considering the second entrie of the $m^{th}$ row of the matrix $\\mathbf I$, we have that;\n",
    "\n",
    "$$\\mathbf I_{m2} = \\sum_{j=1}^{m}  r_{mj}a_{j2} =r_{mm}a_{m2}=0 $$\n",
    "but  $r_{mm}\\neq 0$ and $r_{mj}= 0$ for $j<m$ , $\\Rightarrow  a_{m2}=0  $\n",
    "$$~~~$$\n",
    "similarly considering the second entrie of the $({m-1})^{th}$ row of the matrix $\\mathbf I$, we have that;\n",
    "$$\\Rightarrow \\mathbf I_{(m-1)2} = \\sum_{j=1}^{m}  r_{(m-1)j}a_{j2} =r_{(m-1)(m-1)}a_{(m-1)2}=0 $$\n",
    "but $r_{(m-1)(m-1)}\\neq 0$ and $r_{(m-1)j}= 0$ for $j<(m-1)$ , $\\Rightarrow  a_{(m-1)2}=0 $\n",
    "$$~~~$$\n",
    "$\\therefore$ by induction, it follows that;$~~~~$ $a_{p,2}=0$ for $2<p\\leq m$.\n",
    "$$~~~$$\n",
    "$\\underline{\\textbf {In general, for q<m}}$\n",
    "\n",
    "$$\\mathbf I_{mq} = \\sum_{j=1}^{m}  r_{mj}a_{jq} =r_{mm}a_{mq}=0 $$\n",
    "but  $r_{mm}\\neq 0$ and $r_{mj}= 0$ for $j<m$ , $\\Rightarrow  a_{mq}=0  $\n",
    "$$~~~$$\n",
    "similarly  \n",
    "$$\\Rightarrow \\mathbf I_{(m-1)q} = \\sum_{j=1}^{m}  r_{(m-1)j}a_{jq} =r_{(m-1)(m-1)}a_{(m-1)q}=0 $$\n",
    "but $r_{(m-1)(m-1)}\\neq 0$ and $r_{(m-1)j}= 0$ for $j<(m-1)$ , $\\Rightarrow  a_{(m-1)q}=0 $\n",
    "$$~~~$$\n",
    "$\\therefore$ by induction, it follows that;$~~~~$ $a_{p,q}=0$ for $q<p\\leq m$.\n",
    "$$~~~$$\n",
    "Therefore since $a_{p,q}=0~~\\forall p>q$, we then conclude that $\\mathbf R^{-1}$ is an upper triangular matrix. "
   ]
  },
  {
   "cell_type": "markdown",
   "metadata": {},
   "source": [
    "## Problem 4 (TB 1.4)\n",
    "\n",
    "<hr style=\"border-width:2px; border-color:black\"></hr>\n",
    "\n",
    "Exercise 1.4 (Lecture 1), Trefethen and Bau, page 10. \n",
    "\n",
    "Let $f_1, f_2, \\dots, f_8$ be a set of functions defined on the interval $[1,8]$ with the property that for any numbers $d_1, d_2, \\dots, d_8$, there exists a set of coefficients $c_1, c_2, \\dots, c_8$ such that for \n",
    "\n",
    "\\begin{equation}\n",
    "\\sum_{j=1}^{8} c_j f_j(i) = d_i, \\qquad i = 1,2,\\dots, 8\n",
    "\\end{equation}\n",
    "\n",
    "**(a)** Show by appealing to the theorems of this lecture that $d_1, d_2, \\dots d_8$ determine $c_1, c_2, \\dots c_8$ uniquely. \n",
    "\n",
    "**(b)** Let $A$ be an $8 \\times 8$ matrix representing the linear mapping from data $d_1, d_2, \\dots, d_8$ to coefficients $c_1, c_2, \\dots, c_8$.   What is the $i,j$ entry of $A^{-1}$? \n",
    "\n",
    "**Hint:** Think of $f_j(i)$ as entries $f_{ij}$ in an $8 \\times 8$ matrix $F$. "
   ]
  },
  {
   "cell_type": "markdown",
   "metadata": {},
   "source": [
    "<hr style=\"border-width:2px; border-color:black\"></hr>\n",
    "\n",
    "#### Solution\n",
    "\n",
    " "
   ]
  },
  {
   "cell_type": "markdown",
   "metadata": {},
   "source": [
    "$\\textbf {(a)}$\n",
    "$$~~~~~~$$\n",
    "The equation in the question above can be written in matrix form $\\mathbf {Fc} = \\mathbf d$ as shown below:\n",
    "\n",
    "\n",
    "\\begin{equation}\n",
    "    \\begin{pmatrix}\n",
    "f_1(1)&f_2(1)&\\cdots&f_8(1) \\\\\n",
    "f_1(2)&f_2(2)&\\cdots&f_8(2) \\\\\n",
    "\\vdots&\\vdots&\\vdots&\\vdots \\\\\n",
    "f_1(8)&f_2(8)&\\cdots&f_8(8)\n",
    "\\end{pmatrix}\n",
    "    \\cdot\n",
    "    \\begin{pmatrix} c_1 \\\\ c_2 \\\\ \\vdots \\\\ c_8 \\end{pmatrix}\n",
    "    =\\begin{pmatrix} d_1 \\\\ d_2 \\\\ \\vdots \\\\ d_8 \\end{pmatrix} \n",
    "\\end{equation}\n",
    "\n",
    "We shall show that $d_1,d_2,...d_8$ determine $c_1,c_2,...c_8$ by contradiction.\n",
    "Suppose there are two distinct solutions $\\mathbf c_1$ and $\\mathbf c_2$ for the same $\\mathbf d$, then we have;\n",
    "$$~~~~~~$$\n",
    "$\\mathbf {Fc_1} = \\mathbf d$ , $\\mathbf {Fc_2} = \\mathbf d$\n",
    "$$~~~~~~$$\n",
    "$\\mathbf {Fc_1} - \\mathbf {Fc_2}$ = $\\mathbf {F(c_1-c_2) = 0}$\n",
    "\n",
    "But since $\\mathbf c_1$ and $\\mathbf c_2$ are distinct, then $\\mathbf {c_1-c_2 \\neq 0}$ which implies that\n",
    "$N(\\mathbf A)\\neq \\mathbf \\{0\\}$ thus $dim N(\\mathbf A)>0 $.\n",
    "$$~~~~~~$$\n",
    "If $N(\\mathbf A)\\neq \\mathbf \\{0\\}$, this means that there is a non-zero vector $\\mathbf d$ for which there is no solution to $\\mathbf {Fc} = \\mathbf d$ that is there is no vector $\\mathbf c$ which satisfies the above matrix equation.\n",
    "$$~~~~~~$$\n",
    "Since $m\\times m$ matrix $\\mathbf F$ can map no two distinct vectors say $\\mathbf c_1$ and $\\mathbf c_2$ onto the same vector say $\\mathbf d$, then it has full rank ie. $rank(\\mathbf F)$ = $m$.\n",
    "Therefore, it is shown that $d_1,d_2,...,d_8$ determine the coeeficients $c_1,c_2,...,c_8$ uniquely.\n",
    "\n",
    "$$~~~~~~$$\n",
    "$$~~~~~~$$\n",
    "$\\textbf {(b)}$.\n",
    "$$~~~~~~$$\n",
    "The $i,j$ entry of $\\mathbf A^{-1}$ is $f_j (i)$"
   ]
  },
  {
   "cell_type": "code",
   "execution_count": null,
   "metadata": {},
   "outputs": [],
   "source": []
  }
 ],
 "metadata": {
  "kernelspec": {
   "display_name": "Python 3 (ipykernel)",
   "language": "python",
   "name": "python3"
  },
  "language_info": {
   "codemirror_mode": {
    "name": "ipython",
    "version": 3
   },
   "file_extension": ".py",
   "mimetype": "text/x-python",
   "name": "python",
   "nbconvert_exporter": "python",
   "pygments_lexer": "ipython3",
   "version": "3.9.7"
  }
 },
 "nbformat": 4,
 "nbformat_minor": 2
}
