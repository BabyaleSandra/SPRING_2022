{
 "cells": [
  {
   "cell_type": "code",
   "execution_count": 1,
   "id": "0b28d629",
   "metadata": {
    "slideshow": {
     "slide_type": "skip"
    }
   },
   "outputs": [],
   "source": [
    "import numpy as np"
   ]
  },
  {
   "cell_type": "markdown",
   "id": "2318db01",
   "metadata": {
    "slideshow": {
     "slide_type": "slide"
    }
   },
   "source": [
    "<hr style=\"border-width:4px; border-color:coral\"></hr>\n",
    "\n",
    "\n",
    "# The QR Decomposition\n",
    "<hr style=\"border-width:4px; border-color:coral\"></hr>\n",
    "\n",
    "From the SVD, we know that we can always decompose $A \\in \\mathbb C^{m \\times n}$ as \n",
    "\n",
    "\\begin{equation}\n",
    "A = U\\Sigma V^*\n",
    "\\end{equation}\n",
    "\n",
    "where $U$ and $V$ have orthonomal columns, and $\\Sigma$ is a diagonal matrix.   By convention, the columns in $U$ and $V$ are organized to correspond to a list of singular values $\\sigma_{ii}$ so that $\\sigma_{11} \\ge \\sigma_{22} \\ge \\dots \\ge \\sigma_{rr} > 0$.  We also know that $\\mbox{Col}(U) = \\mbox{Col}(A)$.  However, we have no guarantee that a the first $j$ columns of $A$ span the same space as the first $j$ columns of $U$.  \n",
    "\n",
    "In the following, assume that $A$ has full column rank $n$.   Consider a set of orthonormal vectors $\\{\\mathbf q_1, \\mathbf q_2, \\dots \\mathbf q_n\\}$ such that\n",
    "\n",
    "\\begin{equation}\n",
    "\\langle \\mathbf a_1, \\mathbf a_2, \\dots, \\mathbf a_j\\rangle = \\langle \\mathbf q_1, \\mathbf q_2, \\dots, \\mathbf q_j\\rangle, \\qquad j = 1,2,\\dots, n\n",
    "\\end{equation}\n",
    "\n",
    "where $\\langle \\dots \\rangle$ denotes the space spanned of the enclosed vectors.  We can then write\n",
    "\n",
    "\\begin{eqnarray}\n",
    "\\mathbf a_1 & = & r_{11} \\mathbf q_1 \\\\\n",
    "\\mathbf a_2 & = & r_{12} \\mathbf q_1  + r_{22} \\mathbf q_2\\\\\n",
    "& \\dots & \\\\\n",
    "\\mathbf a_n & = & r_{1n} \\mathbf q_1  + r_{2n} \\mathbf q_2 + \\dots + r_{nn} \\mathbf q_n\\\\\n",
    "\\end{eqnarray}\n"
   ]
  },
  {
   "cell_type": "markdown",
   "id": "1dc21854",
   "metadata": {
    "slideshow": {
     "slide_type": "fragment"
    }
   },
   "source": [
    "#### Question\n",
    "\n",
    "How can we write this in matrix form?  \n",
    "\n"
   ]
  },
  {
   "cell_type": "markdown",
   "id": "5084cc24",
   "metadata": {
    "slideshow": {
     "slide_type": "fragment"
    }
   },
   "source": [
    "## The QR decomposition\n",
    "\n",
    "<hr style=\"border-width:2px; border-color:black\"></hr>\n",
    "\n",
    "The matrix form suggested by the above set of equations is the $QR$ decompostion, given by \n",
    "\n",
    "\\begin{equation}\n",
    "A = QR\n",
    "\\end{equation}\n",
    "\n",
    "where $Q = [\\mathbf q_1, \\mathbf q_2, \\dots \\mathbf q_n]$ is $m \\times n$, and $R$ is an upper triangular $n \\times n$ matrix with entries $r_{ij}$. \n",
    "\n",
    "As with the SVD, we also have a *full* $QR$ decomposition in which $Q$ is a square $m \\times m$ matrix, and $R$ is $m \\times n$.  For this purposes here, however, the $QR$ decomposition will refer to a *reduced* decomposition.  "
   ]
  },
  {
   "cell_type": "markdown",
   "id": "973bec95",
   "metadata": {
    "slideshow": {
     "slide_type": "slide"
    }
   },
   "source": [
    "## Gram-Schmidt orthogonalization\n",
    "\n",
    "<hr style=\"border-width:2px; border-color:black\"></hr>\n",
    "\n",
    "How can we compute such vectors $\\mathbf q_j$ and the entries of $R$?  In our first approach, we will use a classical algorithm called the Gram-Schmidt algorithm.  "
   ]
  },
  {
   "cell_type": "markdown",
   "id": "4e274ea9",
   "metadata": {
    "slideshow": {
     "slide_type": "fragment"
    }
   },
   "source": [
    "<hr style=\"border-width:1px; border-color:black\"></hr>\n",
    "\n",
    "### Step 1:  $j = 1$\n",
    "\n",
    "We know we need $\\langle \\mathbf a_1\\rangle = \\langle \\mathbf q_1\\rangle$.  Using our above formulation, we have\n",
    "\n",
    "\\begin{equation}\n",
    "\\mathbf a_1  =  r_{11} \\mathbf q_1\n",
    "\\end{equation}\n",
    "\n",
    "#### Question\n",
    "\n",
    "What is $r_{11}$? What is $\\mathbf q_1$?\n",
    "\n",
    "\\begin{equation}\n",
    "r_{11} = \\Vert \\mathbf a_1 \\Vert \\qquad \\mathbf q_1 = \\frac{\\mathbf a_1}{r_{11}}\n",
    "\\end{equation}\n",
    "\n",
    "Note : $\\mathbf q_1^*\\mathbf a_1 = r_{11}$. "
   ]
  },
  {
   "cell_type": "markdown",
   "id": "95e4451f",
   "metadata": {
    "slideshow": {
     "slide_type": "fragment"
    }
   },
   "source": [
    "<hr style=\"border-width:1px; border-color:black\"></hr>\n",
    "\n",
    "### Step 2 : $j = 2$\n",
    "\n",
    "\n",
    "\n",
    "\\begin{equation}\n",
    "\\mathbf a_2  = r_{12} \\mathbf q_1  + r_{22} \\mathbf q_2\n",
    "\\end{equation}\n"
   ]
  },
  {
   "cell_type": "markdown",
   "id": "8a7bb1ff",
   "metadata": {
    "slideshow": {
     "slide_type": "fragment"
    }
   },
   "source": [
    "#### Question\n",
    "\n",
    "How do we find $r_{12}$, $r_{22}$ and $\\mathbf q_2$? "
   ]
  },
  {
   "cell_type": "markdown",
   "id": "890f2457",
   "metadata": {
    "slideshow": {
     "slide_type": "fragment"
    }
   },
   "source": [
    "From the above, we can write\n",
    "\n",
    "\\begin{equation}\n",
    "\\mathbf q_1^*\\mathbf a_2  =  r_{12}\n",
    "\\end{equation}\n",
    "\n",
    "where $r_{12}$ is the projection of $\\mathbf a_2$ onto $\\mathbf q_1$.  We then subtract out this component of $\\mathbf a_2$ in the direction of $\\mathbf q_1$ to define an intermediate vector \n",
    "\n",
    "\\begin{equation}\n",
    "\\mathbf  v = \\mathbf a_2 - r_{12} \\mathbf q_1 \\equiv r_{22}\\mathbf q_2\n",
    "\\end{equation}\n",
    "\n",
    "or\n",
    "\n",
    "\\begin{equation}\n",
    "\\mathbf q_2 = \\frac{\\mathbf v}{r_{22}}\n",
    "\\end{equation}\n",
    "\n",
    "where $r_{22} = \\Vert \\mathbf a_2 - r_{12}\\mathbf q_1 \\Vert$."
   ]
  },
  {
   "cell_type": "markdown",
   "id": "230e39b0",
   "metadata": {
    "slideshow": {
     "slide_type": "fragment"
    }
   },
   "source": [
    "<hr style=\"border-width:1px; border-color:black\"></hr>\n",
    "\n",
    "### Step 2 : $j = k$\n",
    "\n",
    "Define \n",
    "\n",
    "\\begin{equation}\n",
    "\\mathbf v = \\mathbf a_{k} - \\sum_{j=1}^{k-1}r_{jk}\\mathbf q_j\n",
    "\\end{equation}\n",
    "\n",
    "Then \n",
    "\\begin{equation}\n",
    "\\mathbf q_k = \\frac{\\mathbf v}{r_{kk}}\n",
    "\\end{equation}\n",
    "\n",
    "where $r_{jk} = \\mathbf q_j^* \\mathbf a_k$ for $j < k$, and \n",
    "\n",
    "\\begin{equation}\n",
    "r_{kk} = \\Vert \\mathbf  v \\Vert =  \\left\\Vert \\mathbf a_{k} - \\sum_{j=1}^{k-1}r_{jk}\\mathbf q_j \\right\\Vert\n",
    "\\end{equation}"
   ]
  },
  {
   "cell_type": "code",
   "execution_count": 2,
   "id": "1758ccdd",
   "metadata": {
    "slideshow": {
     "slide_type": "skip"
    }
   },
   "outputs": [],
   "source": [
    "def display_mat(msg,A):\n",
    "    print(msg)\n",
    "    display(A)\n",
    "    print(\"\")"
   ]
  },
  {
   "cell_type": "markdown",
   "id": "70eb01dc",
   "metadata": {
    "slideshow": {
     "slide_type": "fragment"
    }
   },
   "source": [
    "## Gram-Schmidt algorithm\n",
    "\n",
    "<hr style=\"border-width:2px; border-color:black\"></hr>\n",
    "\n",
    "Here is an outline of the classical Gram-Schmidt algorithm : \n",
    "\n",
    "* For $j = 1,2,\\dots n$\n",
    "\n",
    "    -- Set $\\mathbf v = \\mathbf a_j$, the $j^{th}$ column of $A$. \n",
    "\n",
    "    -- Orthogonalize $\\mathbf v$ against previous $\\mathbf q_i, i = 0,1,\\dots,j-1$. \n",
    "    \n",
    "    -- Set $\\mathbf q_j$ equal to normalized vector $\\mathbf v$. \n",
    "    \n",
    "The code for the Gram-Schmidt algorithm is below.      "
   ]
  },
  {
   "cell_type": "code",
   "execution_count": 3,
   "id": "8f0811ee",
   "metadata": {
    "slideshow": {
     "slide_type": "slide"
    }
   },
   "outputs": [],
   "source": [
    "# Classical Gram-Schmidt algorithm for orthogonalizing a set of column vectors. \n",
    "\n",
    "from numpy.linalg import norm\n",
    "\n",
    "def gram_schmidt_classic(A):\n",
    "    m,n = A.shape\n",
    "    assert n <= m, 'We must have n <= m'\n",
    "    R = np.zeros((n,n))\n",
    "    Q = np.zeros((m,n))\n",
    "    tol = 1e-12\n",
    "    for j in range(n):\n",
    "        # Loop over columns of A;  \n",
    "        aj = A[:,j:j+1]\n",
    "        v = aj\n",
    "        # Orthogonalize against previous qi vectors, i = 0,1,2,3,...,j-1\n",
    "        for i in range(j):\n",
    "            qi = Q[:,i:i+1]\n",
    "            R[i,j] = qi.T@aj    # m ops\n",
    "            v = v - R[i,j]*qi            \n",
    "        R[j,j] = norm(v,2)\n",
    "        assert R[j,j] > tol, \"Columns are not linearly independent\"\n",
    "        Q[:,j:j+1] = v/R[j,j]\n",
    "        \n",
    "    return Q,R"
   ]
  },
  {
   "cell_type": "markdown",
   "id": "462ba358",
   "metadata": {},
   "source": [
    "Before continuing, we set up a few matrices that we can use for examples.  We'll put them in a function so that we can easily access different choices. "
   ]
  },
  {
   "cell_type": "code",
   "execution_count": 35,
   "id": "1f09acee",
   "metadata": {},
   "outputs": [],
   "source": [
    "def matrix_example(id):\n",
    "        \n",
    "    # 3 x 1 example\n",
    "    A1 = np.array(np.mat('1; 3; 5'),dtype=float)\n",
    "\n",
    "    # A 3 x 2 example \n",
    "    A2 = np.array(np.mat('1,2; 3,4; 5,-1'),dtype=float)\n",
    "\n",
    "    # A 3x3 example.\n",
    "    A3 = np.array(np.mat('1,2,-1; 3,4,4; 5,6,5'),dtype=float)\n",
    "    \n",
    "    A_mat = (A1,A2,A3)\n",
    "    \n",
    "    assert id > 0 and id < 4, \"Assert id must be 1,2,3.\"\n",
    "    \n",
    "    return A_mat[id-1]\n"
   ]
  },
  {
   "cell_type": "code",
   "execution_count": 36,
   "id": "6c3c1842",
   "metadata": {
    "slideshow": {
     "slide_type": "fragment"
    }
   },
   "outputs": [
    {
     "name": "stdout",
     "output_type": "stream",
     "text": [
      "A = \n"
     ]
    },
    {
     "data": {
      "text/plain": [
       "array([[ 1.,  2., -1.],\n",
       "       [ 3.,  4.,  4.],\n",
       "       [ 5.,  6.,  5.]])"
      ]
     },
     "metadata": {},
     "output_type": "display_data"
    },
    {
     "name": "stdout",
     "output_type": "stream",
     "text": [
      "\n",
      "Q = \n"
     ]
    },
    {
     "data": {
      "text/plain": [
       "array([[ 0.16903085,  0.89708523, -0.40824829],\n",
       "       [ 0.50709255,  0.27602622,  0.81649658],\n",
       "       [ 0.84515425, -0.34503278, -0.40824829]])"
      ]
     },
     "metadata": {},
     "output_type": "display_data"
    },
    {
     "name": "stdout",
     "output_type": "stream",
     "text": [
      "\n",
      "R = \n"
     ]
    },
    {
     "data": {
      "text/plain": [
       "array([[ 5.91607978,  7.43735744,  6.08511063],\n",
       "       [ 0.        ,  0.82807867, -1.51814423],\n",
       "       [ 0.        ,  0.        ,  1.63299316]])"
      ]
     },
     "metadata": {},
     "output_type": "display_data"
    },
    {
     "name": "stdout",
     "output_type": "stream",
     "text": [
      "\n",
      "QR = \n"
     ]
    },
    {
     "data": {
      "text/plain": [
       "array([[ 1.,  2., -1.],\n",
       "       [ 3.,  4.,  4.],\n",
       "       [ 5.,  6.,  5.]])"
      ]
     },
     "metadata": {},
     "output_type": "display_data"
    },
    {
     "name": "stdout",
     "output_type": "stream",
     "text": [
      "\n",
      "Q^*Q\n"
     ]
    },
    {
     "data": {
      "text/plain": [
       "array([[ 1.00000000e+00,  2.77555756e-16,  0.00000000e+00],\n",
       "       [ 2.77555756e-16,  1.00000000e+00, -9.15933995e-16],\n",
       "       [ 0.00000000e+00, -9.15933995e-16,  1.00000000e+00]])"
      ]
     },
     "metadata": {},
     "output_type": "display_data"
    },
    {
     "name": "stdout",
     "output_type": "stream",
     "text": [
      "\n"
     ]
    }
   ],
   "source": [
    "A = matrix_example(3)\n",
    "\n",
    "display_mat('A = ',A)\n",
    "\n",
    "Q,R = gram_schmidt_classic(A)\n",
    "\n",
    "display_mat('Q = ', Q)\n",
    "display_mat('R = ',R)\n",
    "display_mat('QR = ',Q@R)\n",
    "display_mat('Q^*Q',Q.T@Q)"
   ]
  },
  {
   "cell_type": "markdown",
   "id": "d8c4a24b",
   "metadata": {
    "slideshow": {
     "slide_type": "slide"
    }
   },
   "source": [
    "## Using QR to solve $A\\mathbf x = \\mathbf b$. \n",
    "\n",
    "<hr style=\"border-width:2px; border-color:black\"></hr>\n",
    "\n",
    "Suppose we have a $QR$ factorization of a non-singular matrix $A$.  How can we use this factorization to solve $A\\mathbf x = \\mathbf b$?  \n"
   ]
  },
  {
   "cell_type": "markdown",
   "id": "72aeba68",
   "metadata": {
    "slideshow": {
     "slide_type": "fragment"
    }
   },
   "source": [
    "### Answer\n",
    "\n",
    "1.  $A = QR$\n",
    "\n",
    "2.  $QR\\mathbf x = \\mathbf b$\n",
    "\n",
    "3.  $R\\mathbf x  = Q^* \\mathbf b$\n",
    "\n",
    "4.  Use back substitution to solve for $\\mathbf x$. \n",
    "\n"
   ]
  },
  {
   "cell_type": "markdown",
   "id": "b1e9562a",
   "metadata": {
    "slideshow": {
     "slide_type": "slide"
    }
   },
   "source": [
    "## Modified Gram-Schmidt algorithm (more stable)\n",
    "\n",
    "<hr style=\"border-width:2px; border-color:black\"></hr>\n",
    "\n",
    "While the Gram-Schmidt algorithm used above is intuitive, it can be very sensitive to small changes in the input vectors, e.g. columns of $A$.   For this reason, we used a \"modified Gram-Schmidt\" algorithm.  \n",
    "\n",
    "Recall the the classical Gram-Schmidt (CGS) orthogonalizes a set of vectors $[\\mathbf a_1, \\mathbf a_2, \\dots, \\mathbf a_n]$ by successivly *subtracting out* projections on the previously found orthonormal set $[\\mathbf q_1, \\mathbf q_2, \\dots, \\mathbf q_j]$.  \n",
    "\n",
    "\\begin{eqnarray}\n",
    "\\mathbf q_1 & = &  \\frac{\\mathbf a_1}{r_{11}} \\\\\n",
    "\\mathbf q_2 & = &  \\frac{\\mathbf a_2 - (\\mathbf q_1^* \\mathbf a_2) \\mathbf q_1}{r_{22}} \\\\\n",
    "\\mathbf q_3 & = &  \\frac{\\mathbf a_3 - (\\mathbf q_1^* \\mathbf a_3) \\mathbf q_1 - (\\mathbf q_2^* \\mathbf a_3) \\mathbf q_2}{r_{33}} \\\\\n",
    "& \\vdots & \n",
    "\\end{eqnarray}\n",
    "\n",
    "where the $r_{ii}$ are the normalizing factors needed to ensure that $\\Vert \\mathbf q_i \\Vert = 1$. \n",
    "\n",
    "Geometrically, we can interpret the first few steps for vectors in $\\mathbb R^3$ as follows. "
   ]
  },
  {
   "cell_type": "markdown",
   "id": "ac5cef1e",
   "metadata": {},
   "source": [
    "For $\\mathbf a_1$, we have\n",
    "\n",
    "\\begin{equation}\n",
    "\\mathbf a_1 = r_{11}\\mathbf q_1\n",
    "\\end{equation}\n",
    "\n",
    "<br>\n",
    "\n",
    "<center>\n",
    "<img width=400px;  src=\"./images/gs_01.png\"></img>    \n",
    "</center>"
   ]
  },
  {
   "cell_type": "markdown",
   "id": "65713deb",
   "metadata": {},
   "source": [
    "For $\\mathbf a_2$, we have \n",
    "\n",
    "\\begin{equation}\n",
    "\\mathbf a_2 = (\\mathbf q_1^*\\mathbf a_2) \\mathbf q_1 + r_{22}\\mathbf q_2\n",
    "\\end{equation}\n",
    "\n",
    "from which it is clear that $\\mathbf a_2 \\in \\langle \\mathbf q_1, \\mathbf q_2\\rangle$, or that $\\mathbf a_2$, $\\mathbf q_1$ and $\\mathbf q_2$ are coplanar. \n",
    "\n",
    "<br>\n",
    "\n",
    "<center>\n",
    "<img width=500px src=\"./images/gs_02.png\"></img>    \n",
    "</center>    "
   ]
  },
  {
   "cell_type": "markdown",
   "id": "ac889632",
   "metadata": {},
   "source": [
    "A key observation in the above is that $\\mathbf q_2$ lies in a plane *orthogonal* to $\\mathbf a_1$.  From the expression \n",
    "\n",
    "\\begin{equation}\n",
    "\\mathbf a_2 = (\\mathbf q_1^*\\mathbf a_2) \\mathbf q_1 + r_{22}\\mathbf q_2\n",
    "\\end{equation}\n",
    "\n",
    "we see that $\\mathbf q_2$ contains all \"components\" of $\\mathbf a_2$ not available in $\\mathbf q_1$. Or,  $\\mathbf q_2$ is a *projection* onto the space *orthogonal* to $\\mathbf q_1$.  \n",
    "\n",
    "This is the idea behind the \"Modified Gram-Schmidt\" procedure.  Rather than subtract out the components we don't want, we project only onto the space of components that we *do* want.  "
   ]
  },
  {
   "cell_type": "markdown",
   "id": "597e8a34",
   "metadata": {},
   "source": [
    "Here is an outline of the Gram-Schmidt algorithm : \n",
    "\n",
    "\n",
    "* Set $\\mathbf v_i = \\mathbf a_i, i = 1,2,\\dots,n$\n",
    "\n",
    "\n",
    "* For $i = 1,2,\\dots n$\n",
    "\n",
    "    -- Set $\\mathbf q_i$ to the unit vector in direction $\\mathbf v_i$. \n",
    "\n",
    "    -- Orthogonalize remaining vectors $v_k, k = i+1,\\dots n$ against $\\mathbf q_i$. \n",
    "    \n",
    "The code for the Modified Gram-Schmidt algorithm is below.      "
   ]
  },
  {
   "cell_type": "code",
   "execution_count": 37,
   "id": "02cfd8b6",
   "metadata": {},
   "outputs": [],
   "source": [
    "def gram_schmidt(A):\n",
    "    m,n = A.shape\n",
    "    assert n <= m, 'We must have n \\le m'\n",
    "    R = np.zeros((n,n))\n",
    "    Q = np.zeros((m,n))\n",
    "    V = A.copy()\n",
    "    # Loop over all columns of V. \n",
    "    for i in range(n):\n",
    "        # Assign qi to unit vector in direction vi\n",
    "        v = V[:,i:i+1]\n",
    "        R[i,i] = np.linalg.norm(v,2)\n",
    "        assert R[i,i] > 0, \"Columns are not linearly independent.\"\n",
    "        qi = v/R[i,i]\n",
    "        Q[:,i:i+1] = qi\n",
    "        # Orthogalize remaining vectors vk, k = i+1,...,n against qi\n",
    "        for j in range(i+1,n):            \n",
    "            vj = V[:,j:j+1]\n",
    "            R[i,j] = vj.T@qi\n",
    "            vj = vj - R[i,j]*qi\n",
    "            V[:,j:j+1] = vj\n",
    "\n",
    "            vjp1 = V[:,j:j+1]\n",
    "        \n",
    "    return Q,R"
   ]
  },
  {
   "cell_type": "code",
   "execution_count": 39,
   "id": "dfe2b698",
   "metadata": {},
   "outputs": [
    {
     "name": "stdout",
     "output_type": "stream",
     "text": [
      "A = \n"
     ]
    },
    {
     "data": {
      "text/plain": [
       "array([[ 1.,  2., -1.],\n",
       "       [ 3.,  4.,  4.],\n",
       "       [ 5.,  6.,  5.]])"
      ]
     },
     "metadata": {},
     "output_type": "display_data"
    },
    {
     "name": "stdout",
     "output_type": "stream",
     "text": [
      "\n",
      "Q = \n"
     ]
    },
    {
     "data": {
      "text/plain": [
       "array([[ 0.16903085,  0.89708523, -0.40824829],\n",
       "       [ 0.50709255,  0.27602622,  0.81649658],\n",
       "       [ 0.84515425, -0.34503278, -0.40824829]])"
      ]
     },
     "metadata": {},
     "output_type": "display_data"
    },
    {
     "name": "stdout",
     "output_type": "stream",
     "text": [
      "\n",
      "R = \n"
     ]
    },
    {
     "data": {
      "text/plain": [
       "array([[ 5.91607978,  7.43735744,  6.08511063],\n",
       "       [ 0.        ,  0.82807867, -1.51814423],\n",
       "       [ 0.        ,  0.        ,  1.63299316]])"
      ]
     },
     "metadata": {},
     "output_type": "display_data"
    },
    {
     "name": "stdout",
     "output_type": "stream",
     "text": [
      "\n",
      "Q^T*Q = \n"
     ]
    },
    {
     "data": {
      "text/plain": [
       "array([[ 1.00000000e+00,  2.77555756e-16, -1.11022302e-16],\n",
       "       [ 2.77555756e-16,  1.00000000e+00, -2.22044605e-16],\n",
       "       [-1.11022302e-16, -2.22044605e-16,  1.00000000e+00]])"
      ]
     },
     "metadata": {},
     "output_type": "display_data"
    },
    {
     "name": "stdout",
     "output_type": "stream",
     "text": [
      "\n",
      "QR = \n"
     ]
    },
    {
     "data": {
      "text/plain": [
       "array([[ 1.,  2., -1.],\n",
       "       [ 3.,  4.,  4.],\n",
       "       [ 5.,  6.,  5.]])"
      ]
     },
     "metadata": {},
     "output_type": "display_data"
    },
    {
     "name": "stdout",
     "output_type": "stream",
     "text": [
      "\n"
     ]
    }
   ],
   "source": [
    "A = matrix_example(3)\n",
    "\n",
    "display_mat('A = ', A)\n",
    "\n",
    "Q,R = gram_schmidt(A)\n",
    "\n",
    "display_mat('Q = ', Q)\n",
    "display_mat('R = ',R)\n",
    "display_mat(\"Q^T*Q = \", Q.T@Q)\n",
    "display_mat(\"QR = \",Q@R)"
   ]
  },
  {
   "cell_type": "markdown",
   "id": "a6ecd27a",
   "metadata": {},
   "source": [
    "Modified Gram-Schmidt follows typical self-help advice : Don't think about what you *don't* want in your present life;  rather think about what you *do* want in your future life. \n"
   ]
  },
  {
   "cell_type": "code",
   "execution_count": null,
   "id": "6981b2c8",
   "metadata": {},
   "outputs": [],
   "source": []
  }
 ],
 "metadata": {
  "celltoolbar": "Slideshow",
  "kernelspec": {
   "display_name": "py38",
   "language": "python",
   "name": "py38"
  },
  "language_info": {
   "codemirror_mode": {
    "name": "ipython",
    "version": 3
   },
   "file_extension": ".py",
   "mimetype": "text/x-python",
   "name": "python",
   "nbconvert_exporter": "python",
   "pygments_lexer": "ipython3",
   "version": "3.8.12"
  }
 },
 "nbformat": 4,
 "nbformat_minor": 5
}
